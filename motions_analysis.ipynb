{
 "cells": [
  {
   "cell_type": "code",
   "execution_count": 2,
   "id": "45c38c1f",
   "metadata": {},
   "outputs": [],
   "source": [
    "import pandas as pd\n",
    "import plotly.express as px\n",
    "from datetime import datetime\n",
    "import os"
   ]
  },
  {
   "cell_type": "markdown",
   "id": "3d7ad7d0",
   "metadata": {},
   "source": [
    "## Load data "
   ]
  },
  {
   "cell_type": "code",
   "execution_count": 628,
   "id": "68995ed8",
   "metadata": {},
   "outputs": [
    {
     "data": {
      "text/html": [
       "<div>\n",
       "<style scoped>\n",
       "    .dataframe tbody tr th:only-of-type {\n",
       "        vertical-align: middle;\n",
       "    }\n",
       "\n",
       "    .dataframe tbody tr th {\n",
       "        vertical-align: top;\n",
       "    }\n",
       "\n",
       "    .dataframe thead th {\n",
       "        text-align: right;\n",
       "    }\n",
       "</style>\n",
       "<table border=\"1\" class=\"dataframe\">\n",
       "  <thead>\n",
       "    <tr style=\"text-align: right;\">\n",
       "      <th></th>\n",
       "      <th>Tournament</th>\n",
       "      <th>Motion</th>\n",
       "      <th>Round</th>\n",
       "      <th>Info Slide</th>\n",
       "      <th>Prop wins</th>\n",
       "      <th>Opp wins</th>\n",
       "      <th>Balance</th>\n",
       "      <th>Year</th>\n",
       "      <th>Motion Type</th>\n",
       "      <th>Motion (cleaned)</th>\n",
       "      <th>Embedding</th>\n",
       "    </tr>\n",
       "  </thead>\n",
       "  <tbody>\n",
       "    <tr>\n",
       "      <th>0</th>\n",
       "      <td>NordicSDC2025</td>\n",
       "      <td>This House Supports gentle parenting becoming the norm</td>\n",
       "      <td>Round 1</td>\n",
       "      <td>Gentle parenting is a parenting style that says that parents should be non-confrontational. The style states that parents should focus on deliberation with (young) children, have high levels of patience and avoid punishments and ultimatums.</td>\n",
       "      <td>16.0</td>\n",
       "      <td>1.0</td>\n",
       "      <td>imbalanced at 50% level</td>\n",
       "      <td>2025</td>\n",
       "      <td>supports</td>\n",
       "      <td>gentle parenting becoming the norm</td>\n",
       "      <td>[-0.07073014974594116, -0.017622996121644974, 0.023448124527931213, -0.010209158062934875, 0.006813352461904287, 0.039929646998643875, 0.02401009015738964, 0.007765816058963537, -0.023403815925121307, -0.008534936234354973, 0.008615216240286827, -0.021525176241993904, -0.004473365843296051, -0.01983877643942833, -0.03936992958188057, 0.044233355671167374, -0.007928065024316311, -0.09341483563184738, 0.006272569764405489, -0.023473497480154037]</td>\n",
       "    </tr>\n",
       "    <tr>\n",
       "      <th>1</th>\n",
       "      <td>NordicSDC2025</td>\n",
       "      <td>THR the creation of the series and film industry</td>\n",
       "      <td>Round 2</td>\n",
       "      <td>NaN</td>\n",
       "      <td>13.0</td>\n",
       "      <td>1.0</td>\n",
       "      <td>probably balanced</td>\n",
       "      <td>2025</td>\n",
       "      <td>regrets</td>\n",
       "      <td>creation of  series and film industry</td>\n",
       "      <td>[0.046621181070804596, -0.0058633433654904366, 0.008297571912407875, -0.06645385175943375, -0.03304266184568405, 0.00014940612891223282, 0.0053434525616467, 0.02122129127383232, -0.005419842898845673, -0.009445874020457268, -0.03535092622041702, -0.009264633990824223, 0.033422693610191345, -0.03075386956334114, 0.016625789925456047, 0.04602214694023132, 0.03123985044658184, -0.030950099229812622, -0.008966410532593727, 0.04880686104297638]</td>\n",
       "    </tr>\n",
       "    <tr>\n",
       "      <th>2</th>\n",
       "      <td>NordicSDC2025</td>\n",
       "      <td>This House Believes That it is in the interest of Georgian government to democratically backslide</td>\n",
       "      <td>Round 3</td>\n",
       "      <td>Democratic backsliding is a process of regime change toward autocracy in which the votes of individuals have less power and political power becomes repressive. Examples include limiting free speech/press, corruption, nepotism or gaining control over state institutions.</td>\n",
       "      <td>15.0</td>\n",
       "      <td>1.0</td>\n",
       "      <td>probably balanced</td>\n",
       "      <td>2025</td>\n",
       "      <td>believes</td>\n",
       "      <td>it is in the interest of georgian government to democratically backslide</td>\n",
       "      <td>[-0.012221300974488258, -0.029059894382953644, -0.0028698991518467665, 0.016281524673104286, 0.057276975363492966, 0.009461416862905025, 0.008052892051637173, -0.05019576475024223, 0.004408178851008415, 0.0186170544475317, -0.04507594555616379, -0.026625478640198708, 0.05502500385046005, -0.007176734507083893, -0.0031587223056703806, -0.021722041070461273, 0.07130083441734314, 0.023778816685080528, -0.0006534297135658562, 0.05382782220840454]</td>\n",
       "    </tr>\n",
       "    <tr>\n",
       "      <th>3</th>\n",
       "      <td>NordicSDC2025</td>\n",
       "      <td>This House Opposes the Globalization of the Major European Football Leagues</td>\n",
       "      <td>Round 4</td>\n",
       "      <td>“Major European Football Leagues” include the English Premier League, the German Bundesliga, the Italian Seria A, the French Ligue 1 and the Spanish La Liga.For the purpose of this debate, globalization of football leagues refers to increasing the number of international players, creating ownership franchises and actively promoting the league in foreign countries.</td>\n",
       "      <td>10.0</td>\n",
       "      <td>1.0</td>\n",
       "      <td>imbalanced at 50% level</td>\n",
       "      <td>2025</td>\n",
       "      <td>opposes</td>\n",
       "      <td>globalization of  major european football leagues</td>\n",
       "      <td>[0.04815811291337013, 0.001889492617920041, 0.03153463080525398, -0.016297733411192894, 0.016674082726240158, 0.02057991735637188, -0.02087770774960518, 0.04858285188674927, 0.022735200822353363, 0.0076142181642353535, 0.00871062558144331, -0.008508776314556599, 0.0246577151119709, 0.01915111020207405, -0.021667951717972755, 0.03133944422006607, 0.014839502982795238, -0.021487513557076454, -0.005065857898443937, 0.004158458206802607]</td>\n",
       "    </tr>\n",
       "    <tr>\n",
       "      <th>4</th>\n",
       "      <td>NordicSDC2025</td>\n",
       "      <td>This House Would implement a weekly 'blackout day'</td>\n",
       "      <td>Round 5</td>\n",
       "      <td>A 'blackout day' refers to a day where all social media sites, streaming services, TV, internet, radio, and similar technologies are inaccessible for personal, non-emergency use. For example, one would still be able to call hospitals and banks but would not be able to watch downloaded Netflix series</td>\n",
       "      <td>13.0</td>\n",
       "      <td>1.0</td>\n",
       "      <td>probably balanced</td>\n",
       "      <td>2025</td>\n",
       "      <td>would</td>\n",
       "      <td>implement a weekly 'blackout day'</td>\n",
       "      <td>[-0.058066967874765396, -0.016530131921172142, -0.0174716804176569, 0.012600692920386791, 0.018199829384684563, -0.03894367814064026, -0.026138579472899437, -0.004512433893978596, -0.0009739733650349081, -0.006850811652839184, -0.04922435060143471, -0.07136769592761993, -0.019539140164852142, -0.044131238013505936, 0.019940920174121857, 0.029648175463080406, 0.048657748848199844, -0.06078634411096573, -0.014944484457373619, -0.014256168156862259]</td>\n",
       "    </tr>\n",
       "  </tbody>\n",
       "</table>\n",
       "</div>"
      ],
      "text/plain": [
       "      Tournament  \\\n",
       "0  NordicSDC2025   \n",
       "1  NordicSDC2025   \n",
       "2  NordicSDC2025   \n",
       "3  NordicSDC2025   \n",
       "4  NordicSDC2025   \n",
       "\n",
       "                                                                                              Motion  \\\n",
       "0                                             This House Supports gentle parenting becoming the norm   \n",
       "1                                                   THR the creation of the series and film industry   \n",
       "2  This House Believes That it is in the interest of Georgian government to democratically backslide   \n",
       "3                        This House Opposes the Globalization of the Major European Football Leagues   \n",
       "4                                                 This House Would implement a weekly 'blackout day'   \n",
       "\n",
       "     Round  \\\n",
       "0  Round 1   \n",
       "1  Round 2   \n",
       "2  Round 3   \n",
       "3  Round 4   \n",
       "4  Round 5   \n",
       "\n",
       "                                                                                                                                                                                                                                                                                                                                                                       Info Slide  \\\n",
       "0                                                                                                                                Gentle parenting is a parenting style that says that parents should be non-confrontational. The style states that parents should focus on deliberation with (young) children, have high levels of patience and avoid punishments and ultimatums.   \n",
       "1                                                                                                                                                                                                                                                                                                                                                                             NaN   \n",
       "2                                                                                                   Democratic backsliding is a process of regime change toward autocracy in which the votes of individuals have less power and political power becomes repressive. Examples include limiting free speech/press, corruption, nepotism or gaining control over state institutions.   \n",
       "3  “Major European Football Leagues” include the English Premier League, the German Bundesliga, the Italian Seria A, the French Ligue 1 and the Spanish La Liga.For the purpose of this debate, globalization of football leagues refers to increasing the number of international players, creating ownership franchises and actively promoting the league in foreign countries.   \n",
       "4                                                                    A 'blackout day' refers to a day where all social media sites, streaming services, TV, internet, radio, and similar technologies are inaccessible for personal, non-emergency use. For example, one would still be able to call hospitals and banks but would not be able to watch downloaded Netflix series   \n",
       "\n",
       "   Prop wins  Opp wins                  Balance  Year Motion Type  \\\n",
       "0       16.0       1.0  imbalanced at 50% level  2025    supports   \n",
       "1       13.0       1.0        probably balanced  2025     regrets   \n",
       "2       15.0       1.0        probably balanced  2025    believes   \n",
       "3       10.0       1.0  imbalanced at 50% level  2025     opposes   \n",
       "4       13.0       1.0        probably balanced  2025       would   \n",
       "\n",
       "                                                            Motion (cleaned)  \\\n",
       "0                                         gentle parenting becoming the norm   \n",
       "1                                      creation of  series and film industry   \n",
       "2   it is in the interest of georgian government to democratically backslide   \n",
       "3                          globalization of  major european football leagues   \n",
       "4                                          implement a weekly 'blackout day'   \n",
       "\n",
       "                                                                                                                                                                                                                                                                                                                                                                                                                                                            Embedding  \n",
       "0     [-0.07073014974594116, -0.017622996121644974, 0.023448124527931213, -0.010209158062934875, 0.006813352461904287, 0.039929646998643875, 0.02401009015738964, 0.007765816058963537, -0.023403815925121307, -0.008534936234354973, 0.008615216240286827, -0.021525176241993904, -0.004473365843296051, -0.01983877643942833, -0.03936992958188057, 0.044233355671167374, -0.007928065024316311, -0.09341483563184738, 0.006272569764405489, -0.023473497480154037]  \n",
       "1         [0.046621181070804596, -0.0058633433654904366, 0.008297571912407875, -0.06645385175943375, -0.03304266184568405, 0.00014940612891223282, 0.0053434525616467, 0.02122129127383232, -0.005419842898845673, -0.009445874020457268, -0.03535092622041702, -0.009264633990824223, 0.033422693610191345, -0.03075386956334114, 0.016625789925456047, 0.04602214694023132, 0.03123985044658184, -0.030950099229812622, -0.008966410532593727, 0.04880686104297638]  \n",
       "2      [-0.012221300974488258, -0.029059894382953644, -0.0028698991518467665, 0.016281524673104286, 0.057276975363492966, 0.009461416862905025, 0.008052892051637173, -0.05019576475024223, 0.004408178851008415, 0.0186170544475317, -0.04507594555616379, -0.026625478640198708, 0.05502500385046005, -0.007176734507083893, -0.0031587223056703806, -0.021722041070461273, 0.07130083441734314, 0.023778816685080528, -0.0006534297135658562, 0.05382782220840454]  \n",
       "3               [0.04815811291337013, 0.001889492617920041, 0.03153463080525398, -0.016297733411192894, 0.016674082726240158, 0.02057991735637188, -0.02087770774960518, 0.04858285188674927, 0.022735200822353363, 0.0076142181642353535, 0.00871062558144331, -0.008508776314556599, 0.0246577151119709, 0.01915111020207405, -0.021667951717972755, 0.03133944422006607, 0.014839502982795238, -0.021487513557076454, -0.005065857898443937, 0.004158458206802607]  \n",
       "4  [-0.058066967874765396, -0.016530131921172142, -0.0174716804176569, 0.012600692920386791, 0.018199829384684563, -0.03894367814064026, -0.026138579472899437, -0.004512433893978596, -0.0009739733650349081, -0.006850811652839184, -0.04922435060143471, -0.07136769592761993, -0.019539140164852142, -0.044131238013505936, 0.019940920174121857, 0.029648175463080406, 0.048657748848199844, -0.06078634411096573, -0.014944484457373619, -0.014256168156862259]  "
      ]
     },
     "execution_count": 628,
     "metadata": {},
     "output_type": "execute_result"
    }
   ],
   "source": [
    "data_dir = 'data'\n",
    "motions_data_path = os.path.join(data_dir, 'motions_d20.csv')\n",
    "\n",
    "if not os.path.exists(motions_data_path): \n",
    "    raise FileNotFoundError('Local data file not found. Please run the data collection notebook first.')\n",
    "\n",
    "df = pd.read_csv(motions_data_path, index_col=0)\n",
    "df.head()"
   ]
  },
  {
   "cell_type": "markdown",
   "id": "19f95859",
   "metadata": {},
   "source": [
    "### Parse the embedding field as float[]"
   ]
  },
  {
   "cell_type": "code",
   "execution_count": 629,
   "id": "e6e812f7",
   "metadata": {},
   "outputs": [],
   "source": [
    "import json\n",
    "df['Embedding'] = df['Embedding'].map(json.loads)"
   ]
  },
  {
   "cell_type": "markdown",
   "id": "6cdae60e",
   "metadata": {},
   "source": [
    "## Analysis"
   ]
  },
  {
   "cell_type": "markdown",
   "id": "67bfb3a1",
   "metadata": {},
   "source": [
    "### All-time motion types"
   ]
  },
  {
   "cell_type": "code",
   "execution_count": 630,
   "id": "14ddde58",
   "metadata": {},
   "outputs": [
    {
     "name": "stdout",
     "output_type": "stream",
     "text": [
      "Motion Type\n",
      "believes       174\n",
      "would          136\n",
      "supports        26\n",
      "regrets         19\n",
      "prefers         18\n",
      "opposes         10\n",
      "condemns         2\n",
      "disapproves      1\n",
      "fears            1\n",
      "refuses          1\n",
      "Name: count, dtype: int64\n"
     ]
    },
    {
     "data": {
      "application/vnd.plotly.v1+json": {
       "config": {
        "plotlyServerURL": "https://plot.ly"
       },
       "data": [
        {
         "hovertemplate": "Motion Type=%{x}<br>count=%{y}<extra></extra>",
         "legendgroup": "",
         "marker": {
          "color": "#636efa",
          "pattern": {
           "shape": ""
          }
         },
         "name": "",
         "orientation": "v",
         "showlegend": false,
         "textposition": "auto",
         "type": "bar",
         "x": [
          "believes",
          "would",
          "supports",
          "regrets",
          "prefers",
          "opposes",
          "condemns",
          "disapproves",
          "fears",
          "refuses"
         ],
         "xaxis": "x",
         "y": {
          "bdata": "rgCIABoAEwASAAoAAgABAAEAAQA=",
          "dtype": "i2"
         },
         "yaxis": "y"
        }
       ],
       "layout": {
        "barmode": "relative",
        "legend": {
         "tracegroupgap": 0
        },
        "template": {
         "data": {
          "bar": [
           {
            "error_x": {
             "color": "#2a3f5f"
            },
            "error_y": {
             "color": "#2a3f5f"
            },
            "marker": {
             "line": {
              "color": "#E5ECF6",
              "width": 0.5
             },
             "pattern": {
              "fillmode": "overlay",
              "size": 10,
              "solidity": 0.2
             }
            },
            "type": "bar"
           }
          ],
          "barpolar": [
           {
            "marker": {
             "line": {
              "color": "#E5ECF6",
              "width": 0.5
             },
             "pattern": {
              "fillmode": "overlay",
              "size": 10,
              "solidity": 0.2
             }
            },
            "type": "barpolar"
           }
          ],
          "carpet": [
           {
            "aaxis": {
             "endlinecolor": "#2a3f5f",
             "gridcolor": "white",
             "linecolor": "white",
             "minorgridcolor": "white",
             "startlinecolor": "#2a3f5f"
            },
            "baxis": {
             "endlinecolor": "#2a3f5f",
             "gridcolor": "white",
             "linecolor": "white",
             "minorgridcolor": "white",
             "startlinecolor": "#2a3f5f"
            },
            "type": "carpet"
           }
          ],
          "choropleth": [
           {
            "colorbar": {
             "outlinewidth": 0,
             "ticks": ""
            },
            "type": "choropleth"
           }
          ],
          "contour": [
           {
            "colorbar": {
             "outlinewidth": 0,
             "ticks": ""
            },
            "colorscale": [
             [
              0,
              "#0d0887"
             ],
             [
              0.1111111111111111,
              "#46039f"
             ],
             [
              0.2222222222222222,
              "#7201a8"
             ],
             [
              0.3333333333333333,
              "#9c179e"
             ],
             [
              0.4444444444444444,
              "#bd3786"
             ],
             [
              0.5555555555555556,
              "#d8576b"
             ],
             [
              0.6666666666666666,
              "#ed7953"
             ],
             [
              0.7777777777777778,
              "#fb9f3a"
             ],
             [
              0.8888888888888888,
              "#fdca26"
             ],
             [
              1,
              "#f0f921"
             ]
            ],
            "type": "contour"
           }
          ],
          "contourcarpet": [
           {
            "colorbar": {
             "outlinewidth": 0,
             "ticks": ""
            },
            "type": "contourcarpet"
           }
          ],
          "heatmap": [
           {
            "colorbar": {
             "outlinewidth": 0,
             "ticks": ""
            },
            "colorscale": [
             [
              0,
              "#0d0887"
             ],
             [
              0.1111111111111111,
              "#46039f"
             ],
             [
              0.2222222222222222,
              "#7201a8"
             ],
             [
              0.3333333333333333,
              "#9c179e"
             ],
             [
              0.4444444444444444,
              "#bd3786"
             ],
             [
              0.5555555555555556,
              "#d8576b"
             ],
             [
              0.6666666666666666,
              "#ed7953"
             ],
             [
              0.7777777777777778,
              "#fb9f3a"
             ],
             [
              0.8888888888888888,
              "#fdca26"
             ],
             [
              1,
              "#f0f921"
             ]
            ],
            "type": "heatmap"
           }
          ],
          "histogram": [
           {
            "marker": {
             "pattern": {
              "fillmode": "overlay",
              "size": 10,
              "solidity": 0.2
             }
            },
            "type": "histogram"
           }
          ],
          "histogram2d": [
           {
            "colorbar": {
             "outlinewidth": 0,
             "ticks": ""
            },
            "colorscale": [
             [
              0,
              "#0d0887"
             ],
             [
              0.1111111111111111,
              "#46039f"
             ],
             [
              0.2222222222222222,
              "#7201a8"
             ],
             [
              0.3333333333333333,
              "#9c179e"
             ],
             [
              0.4444444444444444,
              "#bd3786"
             ],
             [
              0.5555555555555556,
              "#d8576b"
             ],
             [
              0.6666666666666666,
              "#ed7953"
             ],
             [
              0.7777777777777778,
              "#fb9f3a"
             ],
             [
              0.8888888888888888,
              "#fdca26"
             ],
             [
              1,
              "#f0f921"
             ]
            ],
            "type": "histogram2d"
           }
          ],
          "histogram2dcontour": [
           {
            "colorbar": {
             "outlinewidth": 0,
             "ticks": ""
            },
            "colorscale": [
             [
              0,
              "#0d0887"
             ],
             [
              0.1111111111111111,
              "#46039f"
             ],
             [
              0.2222222222222222,
              "#7201a8"
             ],
             [
              0.3333333333333333,
              "#9c179e"
             ],
             [
              0.4444444444444444,
              "#bd3786"
             ],
             [
              0.5555555555555556,
              "#d8576b"
             ],
             [
              0.6666666666666666,
              "#ed7953"
             ],
             [
              0.7777777777777778,
              "#fb9f3a"
             ],
             [
              0.8888888888888888,
              "#fdca26"
             ],
             [
              1,
              "#f0f921"
             ]
            ],
            "type": "histogram2dcontour"
           }
          ],
          "mesh3d": [
           {
            "colorbar": {
             "outlinewidth": 0,
             "ticks": ""
            },
            "type": "mesh3d"
           }
          ],
          "parcoords": [
           {
            "line": {
             "colorbar": {
              "outlinewidth": 0,
              "ticks": ""
             }
            },
            "type": "parcoords"
           }
          ],
          "pie": [
           {
            "automargin": true,
            "type": "pie"
           }
          ],
          "scatter": [
           {
            "fillpattern": {
             "fillmode": "overlay",
             "size": 10,
             "solidity": 0.2
            },
            "type": "scatter"
           }
          ],
          "scatter3d": [
           {
            "line": {
             "colorbar": {
              "outlinewidth": 0,
              "ticks": ""
             }
            },
            "marker": {
             "colorbar": {
              "outlinewidth": 0,
              "ticks": ""
             }
            },
            "type": "scatter3d"
           }
          ],
          "scattercarpet": [
           {
            "marker": {
             "colorbar": {
              "outlinewidth": 0,
              "ticks": ""
             }
            },
            "type": "scattercarpet"
           }
          ],
          "scattergeo": [
           {
            "marker": {
             "colorbar": {
              "outlinewidth": 0,
              "ticks": ""
             }
            },
            "type": "scattergeo"
           }
          ],
          "scattergl": [
           {
            "marker": {
             "colorbar": {
              "outlinewidth": 0,
              "ticks": ""
             }
            },
            "type": "scattergl"
           }
          ],
          "scattermap": [
           {
            "marker": {
             "colorbar": {
              "outlinewidth": 0,
              "ticks": ""
             }
            },
            "type": "scattermap"
           }
          ],
          "scattermapbox": [
           {
            "marker": {
             "colorbar": {
              "outlinewidth": 0,
              "ticks": ""
             }
            },
            "type": "scattermapbox"
           }
          ],
          "scatterpolar": [
           {
            "marker": {
             "colorbar": {
              "outlinewidth": 0,
              "ticks": ""
             }
            },
            "type": "scatterpolar"
           }
          ],
          "scatterpolargl": [
           {
            "marker": {
             "colorbar": {
              "outlinewidth": 0,
              "ticks": ""
             }
            },
            "type": "scatterpolargl"
           }
          ],
          "scatterternary": [
           {
            "marker": {
             "colorbar": {
              "outlinewidth": 0,
              "ticks": ""
             }
            },
            "type": "scatterternary"
           }
          ],
          "surface": [
           {
            "colorbar": {
             "outlinewidth": 0,
             "ticks": ""
            },
            "colorscale": [
             [
              0,
              "#0d0887"
             ],
             [
              0.1111111111111111,
              "#46039f"
             ],
             [
              0.2222222222222222,
              "#7201a8"
             ],
             [
              0.3333333333333333,
              "#9c179e"
             ],
             [
              0.4444444444444444,
              "#bd3786"
             ],
             [
              0.5555555555555556,
              "#d8576b"
             ],
             [
              0.6666666666666666,
              "#ed7953"
             ],
             [
              0.7777777777777778,
              "#fb9f3a"
             ],
             [
              0.8888888888888888,
              "#fdca26"
             ],
             [
              1,
              "#f0f921"
             ]
            ],
            "type": "surface"
           }
          ],
          "table": [
           {
            "cells": {
             "fill": {
              "color": "#EBF0F8"
             },
             "line": {
              "color": "white"
             }
            },
            "header": {
             "fill": {
              "color": "#C8D4E3"
             },
             "line": {
              "color": "white"
             }
            },
            "type": "table"
           }
          ]
         },
         "layout": {
          "annotationdefaults": {
           "arrowcolor": "#2a3f5f",
           "arrowhead": 0,
           "arrowwidth": 1
          },
          "autotypenumbers": "strict",
          "coloraxis": {
           "colorbar": {
            "outlinewidth": 0,
            "ticks": ""
           }
          },
          "colorscale": {
           "diverging": [
            [
             0,
             "#8e0152"
            ],
            [
             0.1,
             "#c51b7d"
            ],
            [
             0.2,
             "#de77ae"
            ],
            [
             0.3,
             "#f1b6da"
            ],
            [
             0.4,
             "#fde0ef"
            ],
            [
             0.5,
             "#f7f7f7"
            ],
            [
             0.6,
             "#e6f5d0"
            ],
            [
             0.7,
             "#b8e186"
            ],
            [
             0.8,
             "#7fbc41"
            ],
            [
             0.9,
             "#4d9221"
            ],
            [
             1,
             "#276419"
            ]
           ],
           "sequential": [
            [
             0,
             "#0d0887"
            ],
            [
             0.1111111111111111,
             "#46039f"
            ],
            [
             0.2222222222222222,
             "#7201a8"
            ],
            [
             0.3333333333333333,
             "#9c179e"
            ],
            [
             0.4444444444444444,
             "#bd3786"
            ],
            [
             0.5555555555555556,
             "#d8576b"
            ],
            [
             0.6666666666666666,
             "#ed7953"
            ],
            [
             0.7777777777777778,
             "#fb9f3a"
            ],
            [
             0.8888888888888888,
             "#fdca26"
            ],
            [
             1,
             "#f0f921"
            ]
           ],
           "sequentialminus": [
            [
             0,
             "#0d0887"
            ],
            [
             0.1111111111111111,
             "#46039f"
            ],
            [
             0.2222222222222222,
             "#7201a8"
            ],
            [
             0.3333333333333333,
             "#9c179e"
            ],
            [
             0.4444444444444444,
             "#bd3786"
            ],
            [
             0.5555555555555556,
             "#d8576b"
            ],
            [
             0.6666666666666666,
             "#ed7953"
            ],
            [
             0.7777777777777778,
             "#fb9f3a"
            ],
            [
             0.8888888888888888,
             "#fdca26"
            ],
            [
             1,
             "#f0f921"
            ]
           ]
          },
          "colorway": [
           "#636efa",
           "#EF553B",
           "#00cc96",
           "#ab63fa",
           "#FFA15A",
           "#19d3f3",
           "#FF6692",
           "#B6E880",
           "#FF97FF",
           "#FECB52"
          ],
          "font": {
           "color": "#2a3f5f"
          },
          "geo": {
           "bgcolor": "white",
           "lakecolor": "white",
           "landcolor": "#E5ECF6",
           "showlakes": true,
           "showland": true,
           "subunitcolor": "white"
          },
          "hoverlabel": {
           "align": "left"
          },
          "hovermode": "closest",
          "mapbox": {
           "style": "light"
          },
          "paper_bgcolor": "white",
          "plot_bgcolor": "#E5ECF6",
          "polar": {
           "angularaxis": {
            "gridcolor": "white",
            "linecolor": "white",
            "ticks": ""
           },
           "bgcolor": "#E5ECF6",
           "radialaxis": {
            "gridcolor": "white",
            "linecolor": "white",
            "ticks": ""
           }
          },
          "scene": {
           "xaxis": {
            "backgroundcolor": "#E5ECF6",
            "gridcolor": "white",
            "gridwidth": 2,
            "linecolor": "white",
            "showbackground": true,
            "ticks": "",
            "zerolinecolor": "white"
           },
           "yaxis": {
            "backgroundcolor": "#E5ECF6",
            "gridcolor": "white",
            "gridwidth": 2,
            "linecolor": "white",
            "showbackground": true,
            "ticks": "",
            "zerolinecolor": "white"
           },
           "zaxis": {
            "backgroundcolor": "#E5ECF6",
            "gridcolor": "white",
            "gridwidth": 2,
            "linecolor": "white",
            "showbackground": true,
            "ticks": "",
            "zerolinecolor": "white"
           }
          },
          "shapedefaults": {
           "line": {
            "color": "#2a3f5f"
           }
          },
          "ternary": {
           "aaxis": {
            "gridcolor": "white",
            "linecolor": "white",
            "ticks": ""
           },
           "baxis": {
            "gridcolor": "white",
            "linecolor": "white",
            "ticks": ""
           },
           "bgcolor": "#E5ECF6",
           "caxis": {
            "gridcolor": "white",
            "linecolor": "white",
            "ticks": ""
           }
          },
          "title": {
           "x": 0.05
          },
          "xaxis": {
           "automargin": true,
           "gridcolor": "white",
           "linecolor": "white",
           "ticks": "",
           "title": {
            "standoff": 15
           },
           "zerolinecolor": "white",
           "zerolinewidth": 2
          },
          "yaxis": {
           "automargin": true,
           "gridcolor": "white",
           "linecolor": "white",
           "ticks": "",
           "title": {
            "standoff": 15
           },
           "zerolinecolor": "white",
           "zerolinewidth": 2
          }
         }
        },
        "title": {
         "text": "Motion Types"
        },
        "xaxis": {
         "anchor": "y",
         "domain": [
          0,
          1
         ],
         "title": {
          "text": "Motion Type"
         }
        },
        "yaxis": {
         "anchor": "x",
         "domain": [
          0,
          1
         ],
         "title": {
          "text": "count"
         }
        }
       }
      }
     },
     "metadata": {},
     "output_type": "display_data"
    }
   ],
   "source": [
    "counts = df.value_counts('Motion Type')\n",
    "print(counts)\n",
    "\n",
    "px.bar(\n",
    "    counts, \n",
    "    y='count', \n",
    "    title='Motion Types',\n",
    "    labels={'Motion Type': 'Motion Type'},\n",
    ").show()"
   ]
  },
  {
   "cell_type": "markdown",
   "id": "3062c605",
   "metadata": {},
   "source": [
    "### This year's motion types"
   ]
  },
  {
   "cell_type": "code",
   "execution_count": 631,
   "id": "2aa9b655",
   "metadata": {},
   "outputs": [
    {
     "data": {
      "text/html": [
       "<div>\n",
       "<style scoped>\n",
       "    .dataframe tbody tr th:only-of-type {\n",
       "        vertical-align: middle;\n",
       "    }\n",
       "\n",
       "    .dataframe tbody tr th {\n",
       "        vertical-align: top;\n",
       "    }\n",
       "\n",
       "    .dataframe thead th {\n",
       "        text-align: right;\n",
       "    }\n",
       "</style>\n",
       "<table border=\"1\" class=\"dataframe\">\n",
       "  <thead>\n",
       "    <tr style=\"text-align: right;\">\n",
       "      <th></th>\n",
       "      <th>Tournament</th>\n",
       "      <th>Motion</th>\n",
       "      <th>Round</th>\n",
       "      <th>Info Slide</th>\n",
       "      <th>Prop wins</th>\n",
       "      <th>Opp wins</th>\n",
       "      <th>Balance</th>\n",
       "      <th>Year</th>\n",
       "      <th>Motion Type</th>\n",
       "      <th>Motion (cleaned)</th>\n",
       "      <th>Embedding</th>\n",
       "    </tr>\n",
       "  </thead>\n",
       "  <tbody>\n",
       "    <tr>\n",
       "      <th>26</th>\n",
       "      <td>eco2025</td>\n",
       "      <td>THS the development of genetic engineering</td>\n",
       "      <td>Round 6</td>\n",
       "      <td>Genetic engineering (also called genetic modification) is a process that uses laboratory-based technologies to alter the DNA makeup of an organism. This may involve changing a single base pair, deleting a region of DNA or adding a new segment of DNA. For example, genetic engineering may involve adding a gene from one species to an organism from a different species to produce a desired trait. Used in research and industry, genetic engineering has been applied to the production of cancer therapies, brewing yeasts, genetically modified plants and livestock, and more. Currently, genetic engineering is being worked on by scientists in order to be applied on humans in the womb.</td>\n",
       "      <td>10.0</td>\n",
       "      <td>5.0</td>\n",
       "      <td>imbalanced at 50% level</td>\n",
       "      <td>2025</td>\n",
       "      <td>supports</td>\n",
       "      <td>development of genetic engineering</td>\n",
       "      <td>[-0.0051087564788758755, -0.012383205816149712, 0.07001379132270813, -0.048676300793886185, 0.013805512338876724, 0.017069922760128975, -0.05945022031664848, 0.03229012340307236, 0.016017422080039978, 0.034026212990283966, -0.016650844365358353, -0.06639625877141953, -0.00690110120922327, -0.0016901224153116345, 0.020256318151950836, 0.012823861092329025, -0.004870959557592869, -0.011242911219596863, 0.021194642409682274, -0.02345607988536358]</td>\n",
       "    </tr>\n",
       "    <tr>\n",
       "      <th>27</th>\n",
       "      <td>eco2025</td>\n",
       "      <td>THP a world in which all people have chronic Pinocchiosis</td>\n",
       "      <td>Novice Grand Final</td>\n",
       "      <td>Chronic Pinocchiosis is a condition that causes an individual’s nose to horizontally grow by a millimetre every time they knowingly lie. Once it grows, it does not shrink back, and it is magically immune to rhinoplasty or any other attempt at artificial shrinkage. Long noses do not cause any significant health issues and nose growth caused by Chronic Pinocchiosis is not hereditary.</td>\n",
       "      <td>1.0</td>\n",
       "      <td>0.0</td>\n",
       "      <td>balance inconclusive</td>\n",
       "      <td>2025</td>\n",
       "      <td>prefers</td>\n",
       "      <td>a world in which all people have chronic pinocchiosis</td>\n",
       "      <td>[-0.03956710919737816, -0.011850863695144653, 0.05029597505927086, -0.005007102154195309, -0.0010839354945346713, 0.04243796318769455, 0.02984938956797123, -0.059253714978694916, -0.03023284487426281, -0.005569561384618282, -0.03202180936932564, -0.03771503269672394, 0.030181247740983963, 0.006252242252230644, -0.02372823841869831, 0.0013990127481520176, 0.08946572989225388, -0.03871817886829376, -0.03875712305307388, -0.01736418344080448]</td>\n",
       "    </tr>\n",
       "    <tr>\n",
       "      <th>28</th>\n",
       "      <td>eco2025</td>\n",
       "      <td>This House, as the environmental movement, would support the use of extremist tactics.</td>\n",
       "      <td>Quarterfinals</td>\n",
       "      <td>&lt;div&gt;Extremist tactics includes the destruction of property and large-scale civil disobedience i.e blocking roads and buildings&lt;/div&gt;&lt;div&gt;&lt;br&gt;&lt;/div&gt;</td>\n",
       "      <td>0.0</td>\n",
       "      <td>4.0</td>\n",
       "      <td>balance inconclusive</td>\n",
       "      <td>2025</td>\n",
       "      <td>would</td>\n",
       "      <td>support the use of extremist tactics</td>\n",
       "      <td>[-0.1085641011595726, 0.003305028425529599, 0.009076996706426144, 0.009243869222700596, 0.024098727852106094, -0.01934395730495453, -0.010543419048190117, 0.005745511502027512, 0.002622008789330721, -0.00637624179944396, -0.05909115821123123, 0.000886576424818486, -0.029527511447668076, -0.01871384307742119, 0.0033700289204716682, -0.0006114280549809337, 0.05873996764421463, -0.04958033934235573, 0.017453866079449654, -0.003998314496129751]</td>\n",
       "    </tr>\n",
       "    <tr>\n",
       "      <th>29</th>\n",
       "      <td>eco2025</td>\n",
       "      <td>THBT the heads of central banks (e.g. the Federal Reserve, the European Central Bank) should be democratically elected</td>\n",
       "      <td>Semifinals</td>\n",
       "      <td>NaN</td>\n",
       "      <td>0.0</td>\n",
       "      <td>2.0</td>\n",
       "      <td>balance inconclusive</td>\n",
       "      <td>2025</td>\n",
       "      <td>believes</td>\n",
       "      <td>heads of central banks (eg  federal reserve,  european central bank) should be democratically elected</td>\n",
       "      <td>[-0.014936745166778564, 0.030797796323895454, 0.03431565687060356, -0.001864211750216782, 0.040309611707925797, 0.056442636996507645, -0.04370389133691788, 0.054735761135816574, -0.004131869412958622, 0.013895363546907902, -0.03360489010810852, -0.07527333498001099, 0.003735985141247511, 0.013430689461529255, 0.008548382669687271, -0.008154243230819702, 0.057836730033159256, -0.01164541020989418, 0.0018745653796941042, 0.03999968245625496]</td>\n",
       "    </tr>\n",
       "    <tr>\n",
       "      <th>30</th>\n",
       "      <td>eco2025</td>\n",
       "      <td>THW ban pet ownership</td>\n",
       "      <td>Grand Final</td>\n",
       "      <td>NaN</td>\n",
       "      <td>1.0</td>\n",
       "      <td>0.0</td>\n",
       "      <td>balance inconclusive</td>\n",
       "      <td>2025</td>\n",
       "      <td>would</td>\n",
       "      <td>ban pet ownership</td>\n",
       "      <td>[-0.021138371899724007, 0.004608393646776676, 0.06737670302391052, -0.028685418888926506, 0.022726871073246002, -0.00576575705781579, 0.006046940106898546, 0.003200804116204381, -0.03038228675723076, 0.033630549907684326, -0.0052011036314070225, -0.04331322759389877, -0.09585375338792801, -0.011081529781222343, -0.034504909068346024, 0.023286692798137665, 0.026898939162492752, -0.014448635280132294, 0.02899855375289917, 0.006256431341171265]</td>\n",
       "    </tr>\n",
       "  </tbody>\n",
       "</table>\n",
       "</div>"
      ],
      "text/plain": [
       "   Tournament  \\\n",
       "26    eco2025   \n",
       "27    eco2025   \n",
       "28    eco2025   \n",
       "29    eco2025   \n",
       "30    eco2025   \n",
       "\n",
       "                                                                                                                    Motion  \\\n",
       "26                                                                              THS the development of genetic engineering   \n",
       "27                                                               THP a world in which all people have chronic Pinocchiosis   \n",
       "28                                  This House, as the environmental movement, would support the use of extremist tactics.   \n",
       "29  THBT the heads of central banks (e.g. the Federal Reserve, the European Central Bank) should be democratically elected   \n",
       "30                                                                                                   THW ban pet ownership   \n",
       "\n",
       "                 Round  \\\n",
       "26             Round 6   \n",
       "27  Novice Grand Final   \n",
       "28       Quarterfinals   \n",
       "29          Semifinals   \n",
       "30         Grand Final   \n",
       "\n",
       "                                                                                                                                                                                                                                                                                                                                                                                                                                                                                                                                                                                                                                                                                                  Info Slide  \\\n",
       "26  Genetic engineering (also called genetic modification) is a process that uses laboratory-based technologies to alter the DNA makeup of an organism. This may involve changing a single base pair, deleting a region of DNA or adding a new segment of DNA. For example, genetic engineering may involve adding a gene from one species to an organism from a different species to produce a desired trait. Used in research and industry, genetic engineering has been applied to the production of cancer therapies, brewing yeasts, genetically modified plants and livestock, and more. Currently, genetic engineering is being worked on by scientists in order to be applied on humans in the womb.   \n",
       "27                                                                                                                                                                                                                                                                                                          Chronic Pinocchiosis is a condition that causes an individual’s nose to horizontally grow by a millimetre every time they knowingly lie. Once it grows, it does not shrink back, and it is magically immune to rhinoplasty or any other attempt at artificial shrinkage. Long noses do not cause any significant health issues and nose growth caused by Chronic Pinocchiosis is not hereditary.   \n",
       "28                                                                                                                                                                                                                                                                                                                                                                                                                                                                                                                                                      <div>Extremist tactics includes the destruction of property and large-scale civil disobedience i.e blocking roads and buildings</div><div><br></div>   \n",
       "29                                                                                                                                                                                                                                                                                                                                                                                                                                                                                                                                                                                                                                                                                                       NaN   \n",
       "30                                                                                                                                                                                                                                                                                                                                                                                                                                                                                                                                                                                                                                                                                                       NaN   \n",
       "\n",
       "    Prop wins  Opp wins                  Balance  Year Motion Type  \\\n",
       "26       10.0       5.0  imbalanced at 50% level  2025    supports   \n",
       "27        1.0       0.0     balance inconclusive  2025     prefers   \n",
       "28        0.0       4.0     balance inconclusive  2025       would   \n",
       "29        0.0       2.0     balance inconclusive  2025    believes   \n",
       "30        1.0       0.0     balance inconclusive  2025       would   \n",
       "\n",
       "                                                                                          Motion (cleaned)  \\\n",
       "26                                                                      development of genetic engineering   \n",
       "27                                                   a world in which all people have chronic pinocchiosis   \n",
       "28                                                                    support the use of extremist tactics   \n",
       "29   heads of central banks (eg  federal reserve,  european central bank) should be democratically elected   \n",
       "30                                                                                       ban pet ownership   \n",
       "\n",
       "                                                                                                                                                                                                                                                                                                                                                                                                                                                          Embedding  \n",
       "26  [-0.0051087564788758755, -0.012383205816149712, 0.07001379132270813, -0.048676300793886185, 0.013805512338876724, 0.017069922760128975, -0.05945022031664848, 0.03229012340307236, 0.016017422080039978, 0.034026212990283966, -0.016650844365358353, -0.06639625877141953, -0.00690110120922327, -0.0016901224153116345, 0.020256318151950836, 0.012823861092329025, -0.004870959557592869, -0.011242911219596863, 0.021194642409682274, -0.02345607988536358]  \n",
       "27      [-0.03956710919737816, -0.011850863695144653, 0.05029597505927086, -0.005007102154195309, -0.0010839354945346713, 0.04243796318769455, 0.02984938956797123, -0.059253714978694916, -0.03023284487426281, -0.005569561384618282, -0.03202180936932564, -0.03771503269672394, 0.030181247740983963, 0.006252242252230644, -0.02372823841869831, 0.0013990127481520176, 0.08946572989225388, -0.03871817886829376, -0.03875712305307388, -0.01736418344080448]  \n",
       "28     [-0.1085641011595726, 0.003305028425529599, 0.009076996706426144, 0.009243869222700596, 0.024098727852106094, -0.01934395730495453, -0.010543419048190117, 0.005745511502027512, 0.002622008789330721, -0.00637624179944396, -0.05909115821123123, 0.000886576424818486, -0.029527511447668076, -0.01871384307742119, 0.0033700289204716682, -0.0006114280549809337, 0.05873996764421463, -0.04958033934235573, 0.017453866079449654, -0.003998314496129751]  \n",
       "29      [-0.014936745166778564, 0.030797796323895454, 0.03431565687060356, -0.001864211750216782, 0.040309611707925797, 0.056442636996507645, -0.04370389133691788, 0.054735761135816574, -0.004131869412958622, 0.013895363546907902, -0.03360489010810852, -0.07527333498001099, 0.003735985141247511, 0.013430689461529255, 0.008548382669687271, -0.008154243230819702, 0.057836730033159256, -0.01164541020989418, 0.0018745653796941042, 0.03999968245625496]  \n",
       "30    [-0.021138371899724007, 0.004608393646776676, 0.06737670302391052, -0.028685418888926506, 0.022726871073246002, -0.00576575705781579, 0.006046940106898546, 0.003200804116204381, -0.03038228675723076, 0.033630549907684326, -0.0052011036314070225, -0.04331322759389877, -0.09585375338792801, -0.011081529781222343, -0.034504909068346024, 0.023286692798137665, 0.026898939162492752, -0.014448635280132294, 0.02899855375289917, 0.006256431341171265]  "
      ]
     },
     "execution_count": 631,
     "metadata": {},
     "output_type": "execute_result"
    }
   ],
   "source": [
    "current_year = datetime.now().year\n",
    "\n",
    "df_this_year = df[df['Year'] == current_year]\n",
    "df_this_year.tail()"
   ]
  },
  {
   "cell_type": "code",
   "execution_count": 632,
   "id": "9f3cd518",
   "metadata": {},
   "outputs": [
    {
     "data": {
      "application/vnd.plotly.v1+json": {
       "config": {
        "plotlyServerURL": "https://plot.ly"
       },
       "data": [
        {
         "hovertemplate": "Motion Type=%{x}<br>count=%{y}<extra></extra>",
         "legendgroup": "",
         "marker": {
          "color": "#636efa",
          "pattern": {
           "shape": ""
          }
         },
         "name": "",
         "orientation": "v",
         "showlegend": false,
         "textposition": "auto",
         "type": "bar",
         "x": [
          "believes",
          "would",
          "regrets",
          "supports",
          "opposes",
          "prefers"
         ],
         "xaxis": "x",
         "y": {
          "bdata": "CQgEBAMD",
          "dtype": "i1"
         },
         "yaxis": "y"
        }
       ],
       "layout": {
        "barmode": "relative",
        "legend": {
         "tracegroupgap": 0
        },
        "template": {
         "data": {
          "bar": [
           {
            "error_x": {
             "color": "#2a3f5f"
            },
            "error_y": {
             "color": "#2a3f5f"
            },
            "marker": {
             "line": {
              "color": "#E5ECF6",
              "width": 0.5
             },
             "pattern": {
              "fillmode": "overlay",
              "size": 10,
              "solidity": 0.2
             }
            },
            "type": "bar"
           }
          ],
          "barpolar": [
           {
            "marker": {
             "line": {
              "color": "#E5ECF6",
              "width": 0.5
             },
             "pattern": {
              "fillmode": "overlay",
              "size": 10,
              "solidity": 0.2
             }
            },
            "type": "barpolar"
           }
          ],
          "carpet": [
           {
            "aaxis": {
             "endlinecolor": "#2a3f5f",
             "gridcolor": "white",
             "linecolor": "white",
             "minorgridcolor": "white",
             "startlinecolor": "#2a3f5f"
            },
            "baxis": {
             "endlinecolor": "#2a3f5f",
             "gridcolor": "white",
             "linecolor": "white",
             "minorgridcolor": "white",
             "startlinecolor": "#2a3f5f"
            },
            "type": "carpet"
           }
          ],
          "choropleth": [
           {
            "colorbar": {
             "outlinewidth": 0,
             "ticks": ""
            },
            "type": "choropleth"
           }
          ],
          "contour": [
           {
            "colorbar": {
             "outlinewidth": 0,
             "ticks": ""
            },
            "colorscale": [
             [
              0,
              "#0d0887"
             ],
             [
              0.1111111111111111,
              "#46039f"
             ],
             [
              0.2222222222222222,
              "#7201a8"
             ],
             [
              0.3333333333333333,
              "#9c179e"
             ],
             [
              0.4444444444444444,
              "#bd3786"
             ],
             [
              0.5555555555555556,
              "#d8576b"
             ],
             [
              0.6666666666666666,
              "#ed7953"
             ],
             [
              0.7777777777777778,
              "#fb9f3a"
             ],
             [
              0.8888888888888888,
              "#fdca26"
             ],
             [
              1,
              "#f0f921"
             ]
            ],
            "type": "contour"
           }
          ],
          "contourcarpet": [
           {
            "colorbar": {
             "outlinewidth": 0,
             "ticks": ""
            },
            "type": "contourcarpet"
           }
          ],
          "heatmap": [
           {
            "colorbar": {
             "outlinewidth": 0,
             "ticks": ""
            },
            "colorscale": [
             [
              0,
              "#0d0887"
             ],
             [
              0.1111111111111111,
              "#46039f"
             ],
             [
              0.2222222222222222,
              "#7201a8"
             ],
             [
              0.3333333333333333,
              "#9c179e"
             ],
             [
              0.4444444444444444,
              "#bd3786"
             ],
             [
              0.5555555555555556,
              "#d8576b"
             ],
             [
              0.6666666666666666,
              "#ed7953"
             ],
             [
              0.7777777777777778,
              "#fb9f3a"
             ],
             [
              0.8888888888888888,
              "#fdca26"
             ],
             [
              1,
              "#f0f921"
             ]
            ],
            "type": "heatmap"
           }
          ],
          "histogram": [
           {
            "marker": {
             "pattern": {
              "fillmode": "overlay",
              "size": 10,
              "solidity": 0.2
             }
            },
            "type": "histogram"
           }
          ],
          "histogram2d": [
           {
            "colorbar": {
             "outlinewidth": 0,
             "ticks": ""
            },
            "colorscale": [
             [
              0,
              "#0d0887"
             ],
             [
              0.1111111111111111,
              "#46039f"
             ],
             [
              0.2222222222222222,
              "#7201a8"
             ],
             [
              0.3333333333333333,
              "#9c179e"
             ],
             [
              0.4444444444444444,
              "#bd3786"
             ],
             [
              0.5555555555555556,
              "#d8576b"
             ],
             [
              0.6666666666666666,
              "#ed7953"
             ],
             [
              0.7777777777777778,
              "#fb9f3a"
             ],
             [
              0.8888888888888888,
              "#fdca26"
             ],
             [
              1,
              "#f0f921"
             ]
            ],
            "type": "histogram2d"
           }
          ],
          "histogram2dcontour": [
           {
            "colorbar": {
             "outlinewidth": 0,
             "ticks": ""
            },
            "colorscale": [
             [
              0,
              "#0d0887"
             ],
             [
              0.1111111111111111,
              "#46039f"
             ],
             [
              0.2222222222222222,
              "#7201a8"
             ],
             [
              0.3333333333333333,
              "#9c179e"
             ],
             [
              0.4444444444444444,
              "#bd3786"
             ],
             [
              0.5555555555555556,
              "#d8576b"
             ],
             [
              0.6666666666666666,
              "#ed7953"
             ],
             [
              0.7777777777777778,
              "#fb9f3a"
             ],
             [
              0.8888888888888888,
              "#fdca26"
             ],
             [
              1,
              "#f0f921"
             ]
            ],
            "type": "histogram2dcontour"
           }
          ],
          "mesh3d": [
           {
            "colorbar": {
             "outlinewidth": 0,
             "ticks": ""
            },
            "type": "mesh3d"
           }
          ],
          "parcoords": [
           {
            "line": {
             "colorbar": {
              "outlinewidth": 0,
              "ticks": ""
             }
            },
            "type": "parcoords"
           }
          ],
          "pie": [
           {
            "automargin": true,
            "type": "pie"
           }
          ],
          "scatter": [
           {
            "fillpattern": {
             "fillmode": "overlay",
             "size": 10,
             "solidity": 0.2
            },
            "type": "scatter"
           }
          ],
          "scatter3d": [
           {
            "line": {
             "colorbar": {
              "outlinewidth": 0,
              "ticks": ""
             }
            },
            "marker": {
             "colorbar": {
              "outlinewidth": 0,
              "ticks": ""
             }
            },
            "type": "scatter3d"
           }
          ],
          "scattercarpet": [
           {
            "marker": {
             "colorbar": {
              "outlinewidth": 0,
              "ticks": ""
             }
            },
            "type": "scattercarpet"
           }
          ],
          "scattergeo": [
           {
            "marker": {
             "colorbar": {
              "outlinewidth": 0,
              "ticks": ""
             }
            },
            "type": "scattergeo"
           }
          ],
          "scattergl": [
           {
            "marker": {
             "colorbar": {
              "outlinewidth": 0,
              "ticks": ""
             }
            },
            "type": "scattergl"
           }
          ],
          "scattermap": [
           {
            "marker": {
             "colorbar": {
              "outlinewidth": 0,
              "ticks": ""
             }
            },
            "type": "scattermap"
           }
          ],
          "scattermapbox": [
           {
            "marker": {
             "colorbar": {
              "outlinewidth": 0,
              "ticks": ""
             }
            },
            "type": "scattermapbox"
           }
          ],
          "scatterpolar": [
           {
            "marker": {
             "colorbar": {
              "outlinewidth": 0,
              "ticks": ""
             }
            },
            "type": "scatterpolar"
           }
          ],
          "scatterpolargl": [
           {
            "marker": {
             "colorbar": {
              "outlinewidth": 0,
              "ticks": ""
             }
            },
            "type": "scatterpolargl"
           }
          ],
          "scatterternary": [
           {
            "marker": {
             "colorbar": {
              "outlinewidth": 0,
              "ticks": ""
             }
            },
            "type": "scatterternary"
           }
          ],
          "surface": [
           {
            "colorbar": {
             "outlinewidth": 0,
             "ticks": ""
            },
            "colorscale": [
             [
              0,
              "#0d0887"
             ],
             [
              0.1111111111111111,
              "#46039f"
             ],
             [
              0.2222222222222222,
              "#7201a8"
             ],
             [
              0.3333333333333333,
              "#9c179e"
             ],
             [
              0.4444444444444444,
              "#bd3786"
             ],
             [
              0.5555555555555556,
              "#d8576b"
             ],
             [
              0.6666666666666666,
              "#ed7953"
             ],
             [
              0.7777777777777778,
              "#fb9f3a"
             ],
             [
              0.8888888888888888,
              "#fdca26"
             ],
             [
              1,
              "#f0f921"
             ]
            ],
            "type": "surface"
           }
          ],
          "table": [
           {
            "cells": {
             "fill": {
              "color": "#EBF0F8"
             },
             "line": {
              "color": "white"
             }
            },
            "header": {
             "fill": {
              "color": "#C8D4E3"
             },
             "line": {
              "color": "white"
             }
            },
            "type": "table"
           }
          ]
         },
         "layout": {
          "annotationdefaults": {
           "arrowcolor": "#2a3f5f",
           "arrowhead": 0,
           "arrowwidth": 1
          },
          "autotypenumbers": "strict",
          "coloraxis": {
           "colorbar": {
            "outlinewidth": 0,
            "ticks": ""
           }
          },
          "colorscale": {
           "diverging": [
            [
             0,
             "#8e0152"
            ],
            [
             0.1,
             "#c51b7d"
            ],
            [
             0.2,
             "#de77ae"
            ],
            [
             0.3,
             "#f1b6da"
            ],
            [
             0.4,
             "#fde0ef"
            ],
            [
             0.5,
             "#f7f7f7"
            ],
            [
             0.6,
             "#e6f5d0"
            ],
            [
             0.7,
             "#b8e186"
            ],
            [
             0.8,
             "#7fbc41"
            ],
            [
             0.9,
             "#4d9221"
            ],
            [
             1,
             "#276419"
            ]
           ],
           "sequential": [
            [
             0,
             "#0d0887"
            ],
            [
             0.1111111111111111,
             "#46039f"
            ],
            [
             0.2222222222222222,
             "#7201a8"
            ],
            [
             0.3333333333333333,
             "#9c179e"
            ],
            [
             0.4444444444444444,
             "#bd3786"
            ],
            [
             0.5555555555555556,
             "#d8576b"
            ],
            [
             0.6666666666666666,
             "#ed7953"
            ],
            [
             0.7777777777777778,
             "#fb9f3a"
            ],
            [
             0.8888888888888888,
             "#fdca26"
            ],
            [
             1,
             "#f0f921"
            ]
           ],
           "sequentialminus": [
            [
             0,
             "#0d0887"
            ],
            [
             0.1111111111111111,
             "#46039f"
            ],
            [
             0.2222222222222222,
             "#7201a8"
            ],
            [
             0.3333333333333333,
             "#9c179e"
            ],
            [
             0.4444444444444444,
             "#bd3786"
            ],
            [
             0.5555555555555556,
             "#d8576b"
            ],
            [
             0.6666666666666666,
             "#ed7953"
            ],
            [
             0.7777777777777778,
             "#fb9f3a"
            ],
            [
             0.8888888888888888,
             "#fdca26"
            ],
            [
             1,
             "#f0f921"
            ]
           ]
          },
          "colorway": [
           "#636efa",
           "#EF553B",
           "#00cc96",
           "#ab63fa",
           "#FFA15A",
           "#19d3f3",
           "#FF6692",
           "#B6E880",
           "#FF97FF",
           "#FECB52"
          ],
          "font": {
           "color": "#2a3f5f"
          },
          "geo": {
           "bgcolor": "white",
           "lakecolor": "white",
           "landcolor": "#E5ECF6",
           "showlakes": true,
           "showland": true,
           "subunitcolor": "white"
          },
          "hoverlabel": {
           "align": "left"
          },
          "hovermode": "closest",
          "mapbox": {
           "style": "light"
          },
          "paper_bgcolor": "white",
          "plot_bgcolor": "#E5ECF6",
          "polar": {
           "angularaxis": {
            "gridcolor": "white",
            "linecolor": "white",
            "ticks": ""
           },
           "bgcolor": "#E5ECF6",
           "radialaxis": {
            "gridcolor": "white",
            "linecolor": "white",
            "ticks": ""
           }
          },
          "scene": {
           "xaxis": {
            "backgroundcolor": "#E5ECF6",
            "gridcolor": "white",
            "gridwidth": 2,
            "linecolor": "white",
            "showbackground": true,
            "ticks": "",
            "zerolinecolor": "white"
           },
           "yaxis": {
            "backgroundcolor": "#E5ECF6",
            "gridcolor": "white",
            "gridwidth": 2,
            "linecolor": "white",
            "showbackground": true,
            "ticks": "",
            "zerolinecolor": "white"
           },
           "zaxis": {
            "backgroundcolor": "#E5ECF6",
            "gridcolor": "white",
            "gridwidth": 2,
            "linecolor": "white",
            "showbackground": true,
            "ticks": "",
            "zerolinecolor": "white"
           }
          },
          "shapedefaults": {
           "line": {
            "color": "#2a3f5f"
           }
          },
          "ternary": {
           "aaxis": {
            "gridcolor": "white",
            "linecolor": "white",
            "ticks": ""
           },
           "baxis": {
            "gridcolor": "white",
            "linecolor": "white",
            "ticks": ""
           },
           "bgcolor": "#E5ECF6",
           "caxis": {
            "gridcolor": "white",
            "linecolor": "white",
            "ticks": ""
           }
          },
          "title": {
           "x": 0.05
          },
          "xaxis": {
           "automargin": true,
           "gridcolor": "white",
           "linecolor": "white",
           "ticks": "",
           "title": {
            "standoff": 15
           },
           "zerolinecolor": "white",
           "zerolinewidth": 2
          },
          "yaxis": {
           "automargin": true,
           "gridcolor": "white",
           "linecolor": "white",
           "ticks": "",
           "title": {
            "standoff": 15
           },
           "zerolinecolor": "white",
           "zerolinewidth": 2
          }
         }
        },
        "title": {
         "text": "Motion Types for 2025"
        },
        "xaxis": {
         "anchor": "y",
         "domain": [
          0,
          1
         ],
         "title": {
          "text": "Motion Type"
         }
        },
        "yaxis": {
         "anchor": "x",
         "domain": [
          0,
          1
         ],
         "title": {
          "text": "count"
         }
        }
       }
      }
     },
     "metadata": {},
     "output_type": "display_data"
    }
   ],
   "source": [
    "counts = df_this_year.value_counts('Motion Type')\n",
    "\n",
    "px.bar(\n",
    "    counts, \n",
    "    y='count', \n",
    "    title=f'Motion Types for {current_year}',\n",
    "    labels={'Motion Type': 'Motion Type'},\n",
    ").show()"
   ]
  },
  {
   "cell_type": "markdown",
   "id": "a731d525",
   "metadata": {},
   "source": [
    "### Semantic analysis"
   ]
  },
  {
   "cell_type": "code",
   "execution_count": 633,
   "id": "fa6ad009",
   "metadata": {},
   "outputs": [
    {
     "name": "stdout",
     "output_type": "stream",
     "text": [
      "\n",
      "\u001b[1m[\u001b[0m\u001b[34;49mnotice\u001b[0m\u001b[1;39;49m]\u001b[0m\u001b[39;49m A new release of pip is available: \u001b[0m\u001b[31;49m25.0.1\u001b[0m\u001b[39;49m -> \u001b[0m\u001b[32;49m25.1.1\u001b[0m\n",
      "\u001b[1m[\u001b[0m\u001b[34;49mnotice\u001b[0m\u001b[1;39;49m]\u001b[0m\u001b[39;49m To update, run: \u001b[0m\u001b[32;49mpip install --upgrade pip\u001b[0m\n",
      "Note: you may need to restart the kernel to use updated packages.\n"
     ]
    }
   ],
   "source": [
    "%pip install -q scikit-learn"
   ]
  },
  {
   "cell_type": "code",
   "execution_count": 634,
   "id": "ec85c966",
   "metadata": {},
   "outputs": [
    {
     "data": {
      "text/html": [
       "<div>\n",
       "<style scoped>\n",
       "    .dataframe tbody tr th:only-of-type {\n",
       "        vertical-align: middle;\n",
       "    }\n",
       "\n",
       "    .dataframe tbody tr th {\n",
       "        vertical-align: top;\n",
       "    }\n",
       "\n",
       "    .dataframe thead th {\n",
       "        text-align: right;\n",
       "    }\n",
       "</style>\n",
       "<table border=\"1\" class=\"dataframe\">\n",
       "  <thead>\n",
       "    <tr style=\"text-align: right;\">\n",
       "      <th></th>\n",
       "      <th>0</th>\n",
       "      <th>1</th>\n",
       "      <th>2</th>\n",
       "      <th>3</th>\n",
       "      <th>4</th>\n",
       "      <th>5</th>\n",
       "      <th>6</th>\n",
       "      <th>7</th>\n",
       "      <th>8</th>\n",
       "      <th>9</th>\n",
       "      <th>10</th>\n",
       "      <th>11</th>\n",
       "      <th>12</th>\n",
       "      <th>13</th>\n",
       "      <th>14</th>\n",
       "      <th>15</th>\n",
       "      <th>16</th>\n",
       "      <th>17</th>\n",
       "      <th>18</th>\n",
       "      <th>19</th>\n",
       "    </tr>\n",
       "  </thead>\n",
       "  <tbody>\n",
       "    <tr>\n",
       "      <th>0</th>\n",
       "      <td>-0.070730</td>\n",
       "      <td>-0.017623</td>\n",
       "      <td>0.023448</td>\n",
       "      <td>-0.010209</td>\n",
       "      <td>0.006813</td>\n",
       "      <td>0.039930</td>\n",
       "      <td>0.024010</td>\n",
       "      <td>0.007766</td>\n",
       "      <td>-0.023404</td>\n",
       "      <td>-0.008535</td>\n",
       "      <td>0.008615</td>\n",
       "      <td>-0.021525</td>\n",
       "      <td>-0.004473</td>\n",
       "      <td>-0.019839</td>\n",
       "      <td>-0.039370</td>\n",
       "      <td>0.044233</td>\n",
       "      <td>-0.007928</td>\n",
       "      <td>-0.093415</td>\n",
       "      <td>0.006273</td>\n",
       "      <td>-0.023473</td>\n",
       "    </tr>\n",
       "    <tr>\n",
       "      <th>1</th>\n",
       "      <td>0.046621</td>\n",
       "      <td>-0.005863</td>\n",
       "      <td>0.008298</td>\n",
       "      <td>-0.066454</td>\n",
       "      <td>-0.033043</td>\n",
       "      <td>0.000149</td>\n",
       "      <td>0.005343</td>\n",
       "      <td>0.021221</td>\n",
       "      <td>-0.005420</td>\n",
       "      <td>-0.009446</td>\n",
       "      <td>-0.035351</td>\n",
       "      <td>-0.009265</td>\n",
       "      <td>0.033423</td>\n",
       "      <td>-0.030754</td>\n",
       "      <td>0.016626</td>\n",
       "      <td>0.046022</td>\n",
       "      <td>0.031240</td>\n",
       "      <td>-0.030950</td>\n",
       "      <td>-0.008966</td>\n",
       "      <td>0.048807</td>\n",
       "    </tr>\n",
       "    <tr>\n",
       "      <th>2</th>\n",
       "      <td>-0.012221</td>\n",
       "      <td>-0.029060</td>\n",
       "      <td>-0.002870</td>\n",
       "      <td>0.016282</td>\n",
       "      <td>0.057277</td>\n",
       "      <td>0.009461</td>\n",
       "      <td>0.008053</td>\n",
       "      <td>-0.050196</td>\n",
       "      <td>0.004408</td>\n",
       "      <td>0.018617</td>\n",
       "      <td>-0.045076</td>\n",
       "      <td>-0.026625</td>\n",
       "      <td>0.055025</td>\n",
       "      <td>-0.007177</td>\n",
       "      <td>-0.003159</td>\n",
       "      <td>-0.021722</td>\n",
       "      <td>0.071301</td>\n",
       "      <td>0.023779</td>\n",
       "      <td>-0.000653</td>\n",
       "      <td>0.053828</td>\n",
       "    </tr>\n",
       "    <tr>\n",
       "      <th>3</th>\n",
       "      <td>0.048158</td>\n",
       "      <td>0.001889</td>\n",
       "      <td>0.031535</td>\n",
       "      <td>-0.016298</td>\n",
       "      <td>0.016674</td>\n",
       "      <td>0.020580</td>\n",
       "      <td>-0.020878</td>\n",
       "      <td>0.048583</td>\n",
       "      <td>0.022735</td>\n",
       "      <td>0.007614</td>\n",
       "      <td>0.008711</td>\n",
       "      <td>-0.008509</td>\n",
       "      <td>0.024658</td>\n",
       "      <td>0.019151</td>\n",
       "      <td>-0.021668</td>\n",
       "      <td>0.031339</td>\n",
       "      <td>0.014840</td>\n",
       "      <td>-0.021488</td>\n",
       "      <td>-0.005066</td>\n",
       "      <td>0.004158</td>\n",
       "    </tr>\n",
       "    <tr>\n",
       "      <th>4</th>\n",
       "      <td>-0.058067</td>\n",
       "      <td>-0.016530</td>\n",
       "      <td>-0.017472</td>\n",
       "      <td>0.012601</td>\n",
       "      <td>0.018200</td>\n",
       "      <td>-0.038944</td>\n",
       "      <td>-0.026139</td>\n",
       "      <td>-0.004512</td>\n",
       "      <td>-0.000974</td>\n",
       "      <td>-0.006851</td>\n",
       "      <td>-0.049224</td>\n",
       "      <td>-0.071368</td>\n",
       "      <td>-0.019539</td>\n",
       "      <td>-0.044131</td>\n",
       "      <td>0.019941</td>\n",
       "      <td>0.029648</td>\n",
       "      <td>0.048658</td>\n",
       "      <td>-0.060786</td>\n",
       "      <td>-0.014944</td>\n",
       "      <td>-0.014256</td>\n",
       "    </tr>\n",
       "  </tbody>\n",
       "</table>\n",
       "</div>"
      ],
      "text/plain": [
       "         0         1         2         3         4         5         6   \\\n",
       "0 -0.070730 -0.017623  0.023448 -0.010209  0.006813  0.039930  0.024010   \n",
       "1  0.046621 -0.005863  0.008298 -0.066454 -0.033043  0.000149  0.005343   \n",
       "2 -0.012221 -0.029060 -0.002870  0.016282  0.057277  0.009461  0.008053   \n",
       "3  0.048158  0.001889  0.031535 -0.016298  0.016674  0.020580 -0.020878   \n",
       "4 -0.058067 -0.016530 -0.017472  0.012601  0.018200 -0.038944 -0.026139   \n",
       "\n",
       "         7         8         9         10        11        12        13  \\\n",
       "0  0.007766 -0.023404 -0.008535  0.008615 -0.021525 -0.004473 -0.019839   \n",
       "1  0.021221 -0.005420 -0.009446 -0.035351 -0.009265  0.033423 -0.030754   \n",
       "2 -0.050196  0.004408  0.018617 -0.045076 -0.026625  0.055025 -0.007177   \n",
       "3  0.048583  0.022735  0.007614  0.008711 -0.008509  0.024658  0.019151   \n",
       "4 -0.004512 -0.000974 -0.006851 -0.049224 -0.071368 -0.019539 -0.044131   \n",
       "\n",
       "         14        15        16        17        18        19  \n",
       "0 -0.039370  0.044233 -0.007928 -0.093415  0.006273 -0.023473  \n",
       "1  0.016626  0.046022  0.031240 -0.030950 -0.008966  0.048807  \n",
       "2 -0.003159 -0.021722  0.071301  0.023779 -0.000653  0.053828  \n",
       "3 -0.021668  0.031339  0.014840 -0.021488 -0.005066  0.004158  \n",
       "4  0.019941  0.029648  0.048658 -0.060786 -0.014944 -0.014256  "
      ]
     },
     "execution_count": 634,
     "metadata": {},
     "output_type": "execute_result"
    }
   ],
   "source": [
    "# spread embeddings across multiple columns\n",
    "\n",
    "df_embeddings = pd.DataFrame(df['Embedding'].to_list())\n",
    "df_embeddings.head()"
   ]
  },
  {
   "cell_type": "markdown",
   "id": "47e8b659",
   "metadata": {},
   "source": [
    "### Standardize features"
   ]
  },
  {
   "cell_type": "code",
   "execution_count": 637,
   "id": "0a6e2d86",
   "metadata": {},
   "outputs": [
    {
     "name": "stdout",
     "output_type": "stream",
     "text": [
      "Mean: -1.6023837468816693e-18, mse: 1.962143731799393e-33\n",
      "St.d.: 1.0, mse: 1.6670841314218946e-06\n"
     ]
    }
   ],
   "source": [
    "def check_distr(df: pd.DataFrame):\n",
    "    mse_mean = ((df.mean() - 0) ** 2).mean()\n",
    "    mse_std = ((df.std() - 1) ** 2).mean()\n",
    "\n",
    "    print(f\"Mean: {df.values.mean()}, mse: {mse_mean}\")\n",
    "    print(f\"St.d.: {df.values.std()}, mse: {mse_std}\")\n",
    "\n",
    "check_distr(df_embeddings)"
   ]
  },
  {
   "cell_type": "code",
   "execution_count": 638,
   "id": "499fe2e8",
   "metadata": {},
   "outputs": [
    {
     "name": "stdout",
     "output_type": "stream",
     "text": [
      "Mean: 1.6023837468816693e-18, mse: 2.297770133246185e-34\n",
      "St.d.: 1.0, mse: 1.6670841314220378e-06\n"
     ]
    }
   ],
   "source": [
    "from sklearn.preprocessing import StandardScaler\n",
    "\n",
    "scaled = StandardScaler().fit_transform(df_embeddings)\n",
    "df_embeddings = pd.DataFrame(scaled)\n",
    "\n",
    "check_distr(df_embeddings)"
   ]
  },
  {
   "cell_type": "markdown",
   "id": "fd14fab9",
   "metadata": {},
   "source": [
    "### KMeans"
   ]
  },
  {
   "cell_type": "code",
   "execution_count": 639,
   "id": "e86fb30a",
   "metadata": {},
   "outputs": [
    {
     "name": "stderr",
     "output_type": "stream",
     "text": [
      "/Users/alter/Documents/debates/.venv/lib/python3.12/site-packages/sklearn/base.py:1365: ConvergenceWarning:\n",
      "\n",
      "Number of distinct clusters (378) found smaller than n_clusters (379). Possibly due to duplicate points in X.\n",
      "\n",
      "/Users/alter/Documents/debates/.venv/lib/python3.12/site-packages/sklearn/base.py:1365: ConvergenceWarning:\n",
      "\n",
      "Number of distinct clusters (378) found smaller than n_clusters (380). Possibly due to duplicate points in X.\n",
      "\n",
      "/Users/alter/Documents/debates/.venv/lib/python3.12/site-packages/sklearn/base.py:1365: ConvergenceWarning:\n",
      "\n",
      "Number of distinct clusters (378) found smaller than n_clusters (381). Possibly due to duplicate points in X.\n",
      "\n",
      "/Users/alter/Documents/debates/.venv/lib/python3.12/site-packages/sklearn/base.py:1365: ConvergenceWarning:\n",
      "\n",
      "Number of distinct clusters (378) found smaller than n_clusters (382). Possibly due to duplicate points in X.\n",
      "\n",
      "/Users/alter/Documents/debates/.venv/lib/python3.12/site-packages/sklearn/base.py:1365: ConvergenceWarning:\n",
      "\n",
      "Number of distinct clusters (378) found smaller than n_clusters (383). Possibly due to duplicate points in X.\n",
      "\n",
      "/Users/alter/Documents/debates/.venv/lib/python3.12/site-packages/sklearn/base.py:1365: ConvergenceWarning:\n",
      "\n",
      "Number of distinct clusters (378) found smaller than n_clusters (384). Possibly due to duplicate points in X.\n",
      "\n",
      "/Users/alter/Documents/debates/.venv/lib/python3.12/site-packages/sklearn/base.py:1365: ConvergenceWarning:\n",
      "\n",
      "Number of distinct clusters (378) found smaller than n_clusters (385). Possibly due to duplicate points in X.\n",
      "\n",
      "/Users/alter/Documents/debates/.venv/lib/python3.12/site-packages/sklearn/base.py:1365: ConvergenceWarning:\n",
      "\n",
      "Number of distinct clusters (378) found smaller than n_clusters (386). Possibly due to duplicate points in X.\n",
      "\n",
      "/Users/alter/Documents/debates/.venv/lib/python3.12/site-packages/sklearn/base.py:1365: ConvergenceWarning:\n",
      "\n",
      "Number of distinct clusters (378) found smaller than n_clusters (387). Possibly due to duplicate points in X.\n",
      "\n"
     ]
    }
   ],
   "source": [
    "from sklearn.metrics import silhouette_score\n",
    "from sklearn.cluster import KMeans\n",
    "\n",
    "silhouettes = []\n",
    "\n",
    "def find_best_n_clusters(start: int = 2, end: int = len(df_embeddings)):\n",
    "    best_n = dict(\n",
    "        n=0.0,\n",
    "        score=-1.0\n",
    "    )\n",
    "\n",
    "    for n_clusters in range(start, end):\n",
    "        kmeans = KMeans(n_clusters=n_clusters, random_state=42)\n",
    "        kmeans.fit(df_embeddings)\n",
    "\n",
    "        df_kmeans = pd.DataFrame(kmeans.labels_, columns=['centroid'])\n",
    "\n",
    "        silhouette_avg = float(silhouette_score(df_embeddings, df_kmeans.values.ravel()))\n",
    "        silhouettes.append(silhouette_avg)\n",
    "\n",
    "        if silhouette_avg > best_n['score']:\n",
    "            best_n['score'] = silhouette_avg\n",
    "            best_n['n'] = n_clusters\n",
    "    \n",
    "    return best_n\n",
    "\n",
    "best_n_clusters = find_best_n_clusters()"
   ]
  },
  {
   "cell_type": "code",
   "execution_count": 640,
   "id": "4d804f2f",
   "metadata": {},
   "outputs": [
    {
     "name": "stdout",
     "output_type": "stream",
     "text": [
      "Best n clusters = 266 with a silhouette score of 0.10219155019522985\n"
     ]
    },
    {
     "data": {
      "application/vnd.plotly.v1+json": {
       "config": {
        "plotlyServerURL": "https://plot.ly"
       },
       "data": [
        {
         "hovertemplate": "x=%{x}<br>y=%{y}<extra></extra>",
         "legendgroup": "",
         "line": {
          "color": "#636efa",
          "dash": "solid"
         },
         "marker": {
          "symbol": "circle"
         },
         "mode": "lines",
         "name": "",
         "orientation": "v",
         "showlegend": false,
         "type": "scatter",
         "x": {
          "bdata": "AgADAAQABQAGAAcACAAJAAoACwAMAA0ADgAPABAAEQASABMAFAAVABYAFwAYABkAGgAbABwAHQAeAB8AIAAhACIAIwAkACUAJgAnACgAKQAqACsALAAtAC4ALwAwADEAMgAzADQANQA2ADcAOAA5ADoAOwA8AD0APgA/AEAAQQBCAEMARABFAEYARwBIAEkASgBLAEwATQBOAE8AUABRAFIAUwBUAFUAVgBXAFgAWQBaAFsAXABdAF4AXwBgAGEAYgBjAGQAZQBmAGcAaABpAGoAawBsAG0AbgBvAHAAcQByAHMAdAB1AHYAdwB4AHkAegB7AHwAfQB+AH8AgACBAIIAgwCEAIUAhgCHAIgAiQCKAIsAjACNAI4AjwCQAJEAkgCTAJQAlQCWAJcAmACZAJoAmwCcAJ0AngCfAKAAoQCiAKMApAClAKYApwCoAKkAqgCrAKwArQCuAK8AsACxALIAswC0ALUAtgC3ALgAuQC6ALsAvAC9AL4AvwDAAMEAwgDDAMQAxQDGAMcAyADJAMoAywDMAM0AzgDPANAA0QDSANMA1ADVANYA1wDYANkA2gDbANwA3QDeAN8A4ADhAOIA4wDkAOUA5gDnAOgA6QDqAOsA7ADtAO4A7wDwAPEA8gDzAPQA9QD2APcA+AD5APoA+wD8AP0A/gD/AAABAQECAQMBBAEFAQYBBwEIAQkBCgELAQwBDQEOAQ8BEAERARIBEwEUARUBFgEXARgBGQEaARsBHAEdAR4BHwEgASEBIgEjASQBJQEmAScBKAEpASoBKwEsAS0BLgEvATABMQEyATMBNAE1ATYBNwE4ATkBOgE7ATwBPQE+AT8BQAFBAUIBQwFEAUUBRgFHAUgBSQFKAUsBTAFNAU4BTwFQAVEBUgFTAVQBVQFWAVcBWAFZAVoBWwFcAV0BXgFfAWABYQFiAWMBZAFlAWYBZwFoAWkBagFrAWwBbQFuAW8BcAFxAXIBcwF0AXUBdgF3AXgBeQF6AXsBfAF9AX4BfwGAAYEBggGDAQ==",
          "dtype": "i2"
         },
         "xaxis": "x",
         "y": {
          "bdata": "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",
          "dtype": "f8"
         },
         "yaxis": "y"
        }
       ],
       "layout": {
        "legend": {
         "tracegroupgap": 0
        },
        "margin": {
         "t": 60
        },
        "template": {
         "data": {
          "bar": [
           {
            "error_x": {
             "color": "#2a3f5f"
            },
            "error_y": {
             "color": "#2a3f5f"
            },
            "marker": {
             "line": {
              "color": "#E5ECF6",
              "width": 0.5
             },
             "pattern": {
              "fillmode": "overlay",
              "size": 10,
              "solidity": 0.2
             }
            },
            "type": "bar"
           }
          ],
          "barpolar": [
           {
            "marker": {
             "line": {
              "color": "#E5ECF6",
              "width": 0.5
             },
             "pattern": {
              "fillmode": "overlay",
              "size": 10,
              "solidity": 0.2
             }
            },
            "type": "barpolar"
           }
          ],
          "carpet": [
           {
            "aaxis": {
             "endlinecolor": "#2a3f5f",
             "gridcolor": "white",
             "linecolor": "white",
             "minorgridcolor": "white",
             "startlinecolor": "#2a3f5f"
            },
            "baxis": {
             "endlinecolor": "#2a3f5f",
             "gridcolor": "white",
             "linecolor": "white",
             "minorgridcolor": "white",
             "startlinecolor": "#2a3f5f"
            },
            "type": "carpet"
           }
          ],
          "choropleth": [
           {
            "colorbar": {
             "outlinewidth": 0,
             "ticks": ""
            },
            "type": "choropleth"
           }
          ],
          "contour": [
           {
            "colorbar": {
             "outlinewidth": 0,
             "ticks": ""
            },
            "colorscale": [
             [
              0,
              "#0d0887"
             ],
             [
              0.1111111111111111,
              "#46039f"
             ],
             [
              0.2222222222222222,
              "#7201a8"
             ],
             [
              0.3333333333333333,
              "#9c179e"
             ],
             [
              0.4444444444444444,
              "#bd3786"
             ],
             [
              0.5555555555555556,
              "#d8576b"
             ],
             [
              0.6666666666666666,
              "#ed7953"
             ],
             [
              0.7777777777777778,
              "#fb9f3a"
             ],
             [
              0.8888888888888888,
              "#fdca26"
             ],
             [
              1,
              "#f0f921"
             ]
            ],
            "type": "contour"
           }
          ],
          "contourcarpet": [
           {
            "colorbar": {
             "outlinewidth": 0,
             "ticks": ""
            },
            "type": "contourcarpet"
           }
          ],
          "heatmap": [
           {
            "colorbar": {
             "outlinewidth": 0,
             "ticks": ""
            },
            "colorscale": [
             [
              0,
              "#0d0887"
             ],
             [
              0.1111111111111111,
              "#46039f"
             ],
             [
              0.2222222222222222,
              "#7201a8"
             ],
             [
              0.3333333333333333,
              "#9c179e"
             ],
             [
              0.4444444444444444,
              "#bd3786"
             ],
             [
              0.5555555555555556,
              "#d8576b"
             ],
             [
              0.6666666666666666,
              "#ed7953"
             ],
             [
              0.7777777777777778,
              "#fb9f3a"
             ],
             [
              0.8888888888888888,
              "#fdca26"
             ],
             [
              1,
              "#f0f921"
             ]
            ],
            "type": "heatmap"
           }
          ],
          "histogram": [
           {
            "marker": {
             "pattern": {
              "fillmode": "overlay",
              "size": 10,
              "solidity": 0.2
             }
            },
            "type": "histogram"
           }
          ],
          "histogram2d": [
           {
            "colorbar": {
             "outlinewidth": 0,
             "ticks": ""
            },
            "colorscale": [
             [
              0,
              "#0d0887"
             ],
             [
              0.1111111111111111,
              "#46039f"
             ],
             [
              0.2222222222222222,
              "#7201a8"
             ],
             [
              0.3333333333333333,
              "#9c179e"
             ],
             [
              0.4444444444444444,
              "#bd3786"
             ],
             [
              0.5555555555555556,
              "#d8576b"
             ],
             [
              0.6666666666666666,
              "#ed7953"
             ],
             [
              0.7777777777777778,
              "#fb9f3a"
             ],
             [
              0.8888888888888888,
              "#fdca26"
             ],
             [
              1,
              "#f0f921"
             ]
            ],
            "type": "histogram2d"
           }
          ],
          "histogram2dcontour": [
           {
            "colorbar": {
             "outlinewidth": 0,
             "ticks": ""
            },
            "colorscale": [
             [
              0,
              "#0d0887"
             ],
             [
              0.1111111111111111,
              "#46039f"
             ],
             [
              0.2222222222222222,
              "#7201a8"
             ],
             [
              0.3333333333333333,
              "#9c179e"
             ],
             [
              0.4444444444444444,
              "#bd3786"
             ],
             [
              0.5555555555555556,
              "#d8576b"
             ],
             [
              0.6666666666666666,
              "#ed7953"
             ],
             [
              0.7777777777777778,
              "#fb9f3a"
             ],
             [
              0.8888888888888888,
              "#fdca26"
             ],
             [
              1,
              "#f0f921"
             ]
            ],
            "type": "histogram2dcontour"
           }
          ],
          "mesh3d": [
           {
            "colorbar": {
             "outlinewidth": 0,
             "ticks": ""
            },
            "type": "mesh3d"
           }
          ],
          "parcoords": [
           {
            "line": {
             "colorbar": {
              "outlinewidth": 0,
              "ticks": ""
             }
            },
            "type": "parcoords"
           }
          ],
          "pie": [
           {
            "automargin": true,
            "type": "pie"
           }
          ],
          "scatter": [
           {
            "fillpattern": {
             "fillmode": "overlay",
             "size": 10,
             "solidity": 0.2
            },
            "type": "scatter"
           }
          ],
          "scatter3d": [
           {
            "line": {
             "colorbar": {
              "outlinewidth": 0,
              "ticks": ""
             }
            },
            "marker": {
             "colorbar": {
              "outlinewidth": 0,
              "ticks": ""
             }
            },
            "type": "scatter3d"
           }
          ],
          "scattercarpet": [
           {
            "marker": {
             "colorbar": {
              "outlinewidth": 0,
              "ticks": ""
             }
            },
            "type": "scattercarpet"
           }
          ],
          "scattergeo": [
           {
            "marker": {
             "colorbar": {
              "outlinewidth": 0,
              "ticks": ""
             }
            },
            "type": "scattergeo"
           }
          ],
          "scattergl": [
           {
            "marker": {
             "colorbar": {
              "outlinewidth": 0,
              "ticks": ""
             }
            },
            "type": "scattergl"
           }
          ],
          "scattermap": [
           {
            "marker": {
             "colorbar": {
              "outlinewidth": 0,
              "ticks": ""
             }
            },
            "type": "scattermap"
           }
          ],
          "scattermapbox": [
           {
            "marker": {
             "colorbar": {
              "outlinewidth": 0,
              "ticks": ""
             }
            },
            "type": "scattermapbox"
           }
          ],
          "scatterpolar": [
           {
            "marker": {
             "colorbar": {
              "outlinewidth": 0,
              "ticks": ""
             }
            },
            "type": "scatterpolar"
           }
          ],
          "scatterpolargl": [
           {
            "marker": {
             "colorbar": {
              "outlinewidth": 0,
              "ticks": ""
             }
            },
            "type": "scatterpolargl"
           }
          ],
          "scatterternary": [
           {
            "marker": {
             "colorbar": {
              "outlinewidth": 0,
              "ticks": ""
             }
            },
            "type": "scatterternary"
           }
          ],
          "surface": [
           {
            "colorbar": {
             "outlinewidth": 0,
             "ticks": ""
            },
            "colorscale": [
             [
              0,
              "#0d0887"
             ],
             [
              0.1111111111111111,
              "#46039f"
             ],
             [
              0.2222222222222222,
              "#7201a8"
             ],
             [
              0.3333333333333333,
              "#9c179e"
             ],
             [
              0.4444444444444444,
              "#bd3786"
             ],
             [
              0.5555555555555556,
              "#d8576b"
             ],
             [
              0.6666666666666666,
              "#ed7953"
             ],
             [
              0.7777777777777778,
              "#fb9f3a"
             ],
             [
              0.8888888888888888,
              "#fdca26"
             ],
             [
              1,
              "#f0f921"
             ]
            ],
            "type": "surface"
           }
          ],
          "table": [
           {
            "cells": {
             "fill": {
              "color": "#EBF0F8"
             },
             "line": {
              "color": "white"
             }
            },
            "header": {
             "fill": {
              "color": "#C8D4E3"
             },
             "line": {
              "color": "white"
             }
            },
            "type": "table"
           }
          ]
         },
         "layout": {
          "annotationdefaults": {
           "arrowcolor": "#2a3f5f",
           "arrowhead": 0,
           "arrowwidth": 1
          },
          "autotypenumbers": "strict",
          "coloraxis": {
           "colorbar": {
            "outlinewidth": 0,
            "ticks": ""
           }
          },
          "colorscale": {
           "diverging": [
            [
             0,
             "#8e0152"
            ],
            [
             0.1,
             "#c51b7d"
            ],
            [
             0.2,
             "#de77ae"
            ],
            [
             0.3,
             "#f1b6da"
            ],
            [
             0.4,
             "#fde0ef"
            ],
            [
             0.5,
             "#f7f7f7"
            ],
            [
             0.6,
             "#e6f5d0"
            ],
            [
             0.7,
             "#b8e186"
            ],
            [
             0.8,
             "#7fbc41"
            ],
            [
             0.9,
             "#4d9221"
            ],
            [
             1,
             "#276419"
            ]
           ],
           "sequential": [
            [
             0,
             "#0d0887"
            ],
            [
             0.1111111111111111,
             "#46039f"
            ],
            [
             0.2222222222222222,
             "#7201a8"
            ],
            [
             0.3333333333333333,
             "#9c179e"
            ],
            [
             0.4444444444444444,
             "#bd3786"
            ],
            [
             0.5555555555555556,
             "#d8576b"
            ],
            [
             0.6666666666666666,
             "#ed7953"
            ],
            [
             0.7777777777777778,
             "#fb9f3a"
            ],
            [
             0.8888888888888888,
             "#fdca26"
            ],
            [
             1,
             "#f0f921"
            ]
           ],
           "sequentialminus": [
            [
             0,
             "#0d0887"
            ],
            [
             0.1111111111111111,
             "#46039f"
            ],
            [
             0.2222222222222222,
             "#7201a8"
            ],
            [
             0.3333333333333333,
             "#9c179e"
            ],
            [
             0.4444444444444444,
             "#bd3786"
            ],
            [
             0.5555555555555556,
             "#d8576b"
            ],
            [
             0.6666666666666666,
             "#ed7953"
            ],
            [
             0.7777777777777778,
             "#fb9f3a"
            ],
            [
             0.8888888888888888,
             "#fdca26"
            ],
            [
             1,
             "#f0f921"
            ]
           ]
          },
          "colorway": [
           "#636efa",
           "#EF553B",
           "#00cc96",
           "#ab63fa",
           "#FFA15A",
           "#19d3f3",
           "#FF6692",
           "#B6E880",
           "#FF97FF",
           "#FECB52"
          ],
          "font": {
           "color": "#2a3f5f"
          },
          "geo": {
           "bgcolor": "white",
           "lakecolor": "white",
           "landcolor": "#E5ECF6",
           "showlakes": true,
           "showland": true,
           "subunitcolor": "white"
          },
          "hoverlabel": {
           "align": "left"
          },
          "hovermode": "closest",
          "mapbox": {
           "style": "light"
          },
          "paper_bgcolor": "white",
          "plot_bgcolor": "#E5ECF6",
          "polar": {
           "angularaxis": {
            "gridcolor": "white",
            "linecolor": "white",
            "ticks": ""
           },
           "bgcolor": "#E5ECF6",
           "radialaxis": {
            "gridcolor": "white",
            "linecolor": "white",
            "ticks": ""
           }
          },
          "scene": {
           "xaxis": {
            "backgroundcolor": "#E5ECF6",
            "gridcolor": "white",
            "gridwidth": 2,
            "linecolor": "white",
            "showbackground": true,
            "ticks": "",
            "zerolinecolor": "white"
           },
           "yaxis": {
            "backgroundcolor": "#E5ECF6",
            "gridcolor": "white",
            "gridwidth": 2,
            "linecolor": "white",
            "showbackground": true,
            "ticks": "",
            "zerolinecolor": "white"
           },
           "zaxis": {
            "backgroundcolor": "#E5ECF6",
            "gridcolor": "white",
            "gridwidth": 2,
            "linecolor": "white",
            "showbackground": true,
            "ticks": "",
            "zerolinecolor": "white"
           }
          },
          "shapedefaults": {
           "line": {
            "color": "#2a3f5f"
           }
          },
          "ternary": {
           "aaxis": {
            "gridcolor": "white",
            "linecolor": "white",
            "ticks": ""
           },
           "baxis": {
            "gridcolor": "white",
            "linecolor": "white",
            "ticks": ""
           },
           "bgcolor": "#E5ECF6",
           "caxis": {
            "gridcolor": "white",
            "linecolor": "white",
            "ticks": ""
           }
          },
          "title": {
           "x": 0.05
          },
          "xaxis": {
           "automargin": true,
           "gridcolor": "white",
           "linecolor": "white",
           "ticks": "",
           "title": {
            "standoff": 15
           },
           "zerolinecolor": "white",
           "zerolinewidth": 2
          },
          "yaxis": {
           "automargin": true,
           "gridcolor": "white",
           "linecolor": "white",
           "ticks": "",
           "title": {
            "standoff": 15
           },
           "zerolinecolor": "white",
           "zerolinewidth": 2
          }
         }
        },
        "xaxis": {
         "anchor": "y",
         "domain": [
          0,
          1
         ],
         "title": {
          "text": "x"
         }
        },
        "yaxis": {
         "anchor": "x",
         "domain": [
          0,
          1
         ],
         "title": {
          "text": "y"
         }
        }
       }
      }
     },
     "metadata": {},
     "output_type": "display_data"
    }
   ],
   "source": [
    "print(f\"Best n clusters = {best_n_clusters['n']} with a silhouette score of {best_n_clusters['score']}\")\n",
    "px.line(x=range(2, len(df_embeddings)), y=silhouettes)"
   ]
  },
  {
   "cell_type": "code",
   "execution_count": 648,
   "id": "e7436637",
   "metadata": {},
   "outputs": [
    {
     "data": {
      "text/html": [
       "<div>\n",
       "<style scoped>\n",
       "    .dataframe tbody tr th:only-of-type {\n",
       "        vertical-align: middle;\n",
       "    }\n",
       "\n",
       "    .dataframe tbody tr th {\n",
       "        vertical-align: top;\n",
       "    }\n",
       "\n",
       "    .dataframe thead th {\n",
       "        text-align: right;\n",
       "    }\n",
       "</style>\n",
       "<table border=\"1\" class=\"dataframe\">\n",
       "  <thead>\n",
       "    <tr style=\"text-align: right;\">\n",
       "      <th></th>\n",
       "      <th>centroid</th>\n",
       "    </tr>\n",
       "  </thead>\n",
       "  <tbody>\n",
       "    <tr>\n",
       "      <th>0</th>\n",
       "      <td>28</td>\n",
       "    </tr>\n",
       "    <tr>\n",
       "      <th>1</th>\n",
       "      <td>42</td>\n",
       "    </tr>\n",
       "    <tr>\n",
       "      <th>2</th>\n",
       "      <td>41</td>\n",
       "    </tr>\n",
       "    <tr>\n",
       "      <th>3</th>\n",
       "      <td>11</td>\n",
       "    </tr>\n",
       "    <tr>\n",
       "      <th>4</th>\n",
       "      <td>7</td>\n",
       "    </tr>\n",
       "  </tbody>\n",
       "</table>\n",
       "</div>"
      ],
      "text/plain": [
       "   centroid\n",
       "0        28\n",
       "1        42\n",
       "2        41\n",
       "3        11\n",
       "4         7"
      ]
     },
     "execution_count": 648,
     "metadata": {},
     "output_type": "execute_result"
    }
   ],
   "source": [
    "n_clusters = 45\n",
    "\n",
    "kmeans = KMeans(n_clusters=n_clusters, random_state=42)\n",
    "kmeans.fit(df_embeddings)\n",
    "\n",
    "labels = kmeans.labels_\n",
    "centroids = kmeans.cluster_centers_\n",
    "\n",
    "df_kmeans = pd.DataFrame(labels, columns=['centroid'])\n",
    "df_kmeans.head()"
   ]
  },
  {
   "cell_type": "code",
   "execution_count": 649,
   "id": "57e79609",
   "metadata": {},
   "outputs": [],
   "source": [
    "# import matplotlib.pyplot as plt\n",
    "# import matplotlib.cm as cm\n",
    "# import numpy as np\n",
    "# from sklearn.metrics import silhouette_samples\n",
    "\n",
    "# sample_silhouette_values = silhouette_samples(df_embeddings, df_kmeans.values.ravel())\n",
    "\n",
    "# ax1 = plt.subplot()\n",
    "\n",
    "# y_lower = 10\n",
    "# for i in range(n_clusters):\n",
    "#     # Aggregate the silhouette scores for samples belonging to\n",
    "#     # cluster i, and sort them\n",
    "#     ith_cluster_silhouette_values = sample_silhouette_values[df_kmeans.values.ravel() == i]\n",
    "\n",
    "#     ith_cluster_silhouette_values.sort()\n",
    "\n",
    "#     size_cluster_i = ith_cluster_silhouette_values.shape[0]\n",
    "#     y_upper = y_lower + size_cluster_i\n",
    "\n",
    "#     color = cm.nipy_spectral(float(i) / n_clusters)\n",
    "#     ax1.fill_betweenx(\n",
    "#         np.arange(y_lower, y_upper),\n",
    "#         0,\n",
    "#         ith_cluster_silhouette_values,\n",
    "#         facecolor=color,\n",
    "#         edgecolor=color,\n",
    "#         alpha=0.7,\n",
    "#     )\n",
    "\n",
    "#     # Label the silhouette plots with their cluster numbers at the middle\n",
    "#     ax1.text(-0.05, y_lower + 0.5 * size_cluster_i, str(i))\n",
    "\n",
    "#     # Compute the new y_lower for next plot\n",
    "#     y_lower = y_upper + 10  # 10 for the 0 samples\n",
    "\n",
    "# ax1.set_title(\"The silhouette plot for the various clusters.\")\n",
    "# ax1.set_xlabel(\"The silhouette coefficient values\")\n",
    "# ax1.set_ylabel(\"Cluster label\")\n",
    "\n",
    "# # The vertical line for average silhouette score of all the values\n",
    "# ax1.axvline(x=silhouette_avg, color=\"red\", linestyle=\"--\")\n",
    "\n",
    "# ax1.set_yticks([])  # Clear the yaxis labels / ticks\n",
    "# # ax1.set_xticks([-0.1, 0, 0.2, 0.4, 0.6, 0.8, 1])"
   ]
  },
  {
   "cell_type": "markdown",
   "id": "df4a24f5",
   "metadata": {},
   "source": [
    "### PCA"
   ]
  },
  {
   "cell_type": "code",
   "execution_count": 650,
   "id": "12335baf",
   "metadata": {},
   "outputs": [
    {
     "data": {
      "text/plain": [
       "(      pca_1     pca_2\n",
       " 0  0.855470  0.472238\n",
       " 1  2.526407 -0.609624\n",
       " 2  0.696321 -1.157138\n",
       " 3  2.542346  1.900799\n",
       " 4 -0.172645 -1.956667,\n",
       " (388, 2),\n",
       " array([0.11069209, 0.08704453]))"
      ]
     },
     "execution_count": 650,
     "metadata": {},
     "output_type": "execute_result"
    }
   ],
   "source": [
    "from sklearn.decomposition import PCA\n",
    "\n",
    "pca = PCA(n_components=2)\n",
    "pca_embeddings = pca.fit_transform(df_embeddings)\n",
    "df_pca = pd.DataFrame(pca_embeddings, columns=['pca_1', 'pca_2'])\n",
    "\n",
    "df_pca.head(), pca_embeddings.shape, pca.explained_variance_ratio_"
   ]
  },
  {
   "cell_type": "markdown",
   "id": "a8725a9c",
   "metadata": {},
   "source": [
    "### Visualize"
   ]
  },
  {
   "cell_type": "code",
   "execution_count": 651,
   "id": "02b89621",
   "metadata": {},
   "outputs": [
    {
     "data": {
      "text/plain": [
       "(45, 2)"
      ]
     },
     "execution_count": 651,
     "metadata": {},
     "output_type": "execute_result"
    }
   ],
   "source": [
    "# centroids through PCA\n",
    "pca_centroids = pca.transform(centroids)\n",
    "pca_centroids.shape"
   ]
  },
  {
   "cell_type": "code",
   "execution_count": 652,
   "id": "a56afa7e",
   "metadata": {},
   "outputs": [
    {
     "data": {
      "text/html": [
       "<div>\n",
       "<style scoped>\n",
       "    .dataframe tbody tr th:only-of-type {\n",
       "        vertical-align: middle;\n",
       "    }\n",
       "\n",
       "    .dataframe tbody tr th {\n",
       "        vertical-align: top;\n",
       "    }\n",
       "\n",
       "    .dataframe thead th {\n",
       "        text-align: right;\n",
       "    }\n",
       "</style>\n",
       "<table border=\"1\" class=\"dataframe\">\n",
       "  <thead>\n",
       "    <tr style=\"text-align: right;\">\n",
       "      <th></th>\n",
       "      <th>Tournament</th>\n",
       "      <th>Motion</th>\n",
       "      <th>Round</th>\n",
       "      <th>Info Slide</th>\n",
       "      <th>Prop wins</th>\n",
       "      <th>Opp wins</th>\n",
       "      <th>Balance</th>\n",
       "      <th>Year</th>\n",
       "      <th>Motion Type</th>\n",
       "      <th>Motion (cleaned)</th>\n",
       "      <th>pca_1</th>\n",
       "      <th>pca_2</th>\n",
       "      <th>centroid</th>\n",
       "    </tr>\n",
       "  </thead>\n",
       "  <tbody>\n",
       "    <tr>\n",
       "      <th>0</th>\n",
       "      <td>NordicSDC2025</td>\n",
       "      <td>This House Supports gentle parenting becoming the norm</td>\n",
       "      <td>Round 1</td>\n",
       "      <td>Gentle parenting is a parenting style that says that parents should be non-confrontational. The style states that parents should focus on deliberation with (young) children, have high levels of patience and avoid punishments and ultimatums.</td>\n",
       "      <td>16.0</td>\n",
       "      <td>1.0</td>\n",
       "      <td>imbalanced at 50% level</td>\n",
       "      <td>2025</td>\n",
       "      <td>supports</td>\n",
       "      <td>gentle parenting becoming the norm</td>\n",
       "      <td>0.855470</td>\n",
       "      <td>0.472238</td>\n",
       "      <td>28</td>\n",
       "    </tr>\n",
       "    <tr>\n",
       "      <th>1</th>\n",
       "      <td>NordicSDC2025</td>\n",
       "      <td>THR the creation of the series and film industry</td>\n",
       "      <td>Round 2</td>\n",
       "      <td>NaN</td>\n",
       "      <td>13.0</td>\n",
       "      <td>1.0</td>\n",
       "      <td>probably balanced</td>\n",
       "      <td>2025</td>\n",
       "      <td>regrets</td>\n",
       "      <td>creation of  series and film industry</td>\n",
       "      <td>2.526407</td>\n",
       "      <td>-0.609624</td>\n",
       "      <td>42</td>\n",
       "    </tr>\n",
       "    <tr>\n",
       "      <th>2</th>\n",
       "      <td>NordicSDC2025</td>\n",
       "      <td>This House Believes That it is in the interest of Georgian government to democratically backslide</td>\n",
       "      <td>Round 3</td>\n",
       "      <td>Democratic backsliding is a process of regime change toward autocracy in which the votes of individuals have less power and political power becomes repressive. Examples include limiting free speech/press, corruption, nepotism or gaining control over state institutions.</td>\n",
       "      <td>15.0</td>\n",
       "      <td>1.0</td>\n",
       "      <td>probably balanced</td>\n",
       "      <td>2025</td>\n",
       "      <td>believes</td>\n",
       "      <td>it is in the interest of georgian government to democratically backslide</td>\n",
       "      <td>0.696321</td>\n",
       "      <td>-1.157138</td>\n",
       "      <td>41</td>\n",
       "    </tr>\n",
       "    <tr>\n",
       "      <th>3</th>\n",
       "      <td>NordicSDC2025</td>\n",
       "      <td>This House Opposes the Globalization of the Major European Football Leagues</td>\n",
       "      <td>Round 4</td>\n",
       "      <td>“Major European Football Leagues” include the English Premier League, the German Bundesliga, the Italian Seria A, the French Ligue 1 and the Spanish La Liga.For the purpose of this debate, globalization of football leagues refers to increasing the number of international players, creating ownership franchises and actively promoting the league in foreign countries.</td>\n",
       "      <td>10.0</td>\n",
       "      <td>1.0</td>\n",
       "      <td>imbalanced at 50% level</td>\n",
       "      <td>2025</td>\n",
       "      <td>opposes</td>\n",
       "      <td>globalization of  major european football leagues</td>\n",
       "      <td>2.542346</td>\n",
       "      <td>1.900799</td>\n",
       "      <td>11</td>\n",
       "    </tr>\n",
       "    <tr>\n",
       "      <th>4</th>\n",
       "      <td>NordicSDC2025</td>\n",
       "      <td>This House Would implement a weekly 'blackout day'</td>\n",
       "      <td>Round 5</td>\n",
       "      <td>A 'blackout day' refers to a day where all social media sites, streaming services, TV, internet, radio, and similar technologies are inaccessible for personal, non-emergency use. For example, one would still be able to call hospitals and banks but would not be able to watch downloaded Netflix series</td>\n",
       "      <td>13.0</td>\n",
       "      <td>1.0</td>\n",
       "      <td>probably balanced</td>\n",
       "      <td>2025</td>\n",
       "      <td>would</td>\n",
       "      <td>implement a weekly 'blackout day'</td>\n",
       "      <td>-0.172645</td>\n",
       "      <td>-1.956667</td>\n",
       "      <td>7</td>\n",
       "    </tr>\n",
       "  </tbody>\n",
       "</table>\n",
       "</div>"
      ],
      "text/plain": [
       "      Tournament  \\\n",
       "0  NordicSDC2025   \n",
       "1  NordicSDC2025   \n",
       "2  NordicSDC2025   \n",
       "3  NordicSDC2025   \n",
       "4  NordicSDC2025   \n",
       "\n",
       "                                                                                              Motion  \\\n",
       "0                                             This House Supports gentle parenting becoming the norm   \n",
       "1                                                   THR the creation of the series and film industry   \n",
       "2  This House Believes That it is in the interest of Georgian government to democratically backslide   \n",
       "3                        This House Opposes the Globalization of the Major European Football Leagues   \n",
       "4                                                 This House Would implement a weekly 'blackout day'   \n",
       "\n",
       "     Round  \\\n",
       "0  Round 1   \n",
       "1  Round 2   \n",
       "2  Round 3   \n",
       "3  Round 4   \n",
       "4  Round 5   \n",
       "\n",
       "                                                                                                                                                                                                                                                                                                                                                                       Info Slide  \\\n",
       "0                                                                                                                                Gentle parenting is a parenting style that says that parents should be non-confrontational. The style states that parents should focus on deliberation with (young) children, have high levels of patience and avoid punishments and ultimatums.   \n",
       "1                                                                                                                                                                                                                                                                                                                                                                             NaN   \n",
       "2                                                                                                   Democratic backsliding is a process of regime change toward autocracy in which the votes of individuals have less power and political power becomes repressive. Examples include limiting free speech/press, corruption, nepotism or gaining control over state institutions.   \n",
       "3  “Major European Football Leagues” include the English Premier League, the German Bundesliga, the Italian Seria A, the French Ligue 1 and the Spanish La Liga.For the purpose of this debate, globalization of football leagues refers to increasing the number of international players, creating ownership franchises and actively promoting the league in foreign countries.   \n",
       "4                                                                    A 'blackout day' refers to a day where all social media sites, streaming services, TV, internet, radio, and similar technologies are inaccessible for personal, non-emergency use. For example, one would still be able to call hospitals and banks but would not be able to watch downloaded Netflix series   \n",
       "\n",
       "   Prop wins  Opp wins                  Balance  Year Motion Type  \\\n",
       "0       16.0       1.0  imbalanced at 50% level  2025    supports   \n",
       "1       13.0       1.0        probably balanced  2025     regrets   \n",
       "2       15.0       1.0        probably balanced  2025    believes   \n",
       "3       10.0       1.0  imbalanced at 50% level  2025     opposes   \n",
       "4       13.0       1.0        probably balanced  2025       would   \n",
       "\n",
       "                                                            Motion (cleaned)  \\\n",
       "0                                         gentle parenting becoming the norm   \n",
       "1                                      creation of  series and film industry   \n",
       "2   it is in the interest of georgian government to democratically backslide   \n",
       "3                          globalization of  major european football leagues   \n",
       "4                                          implement a weekly 'blackout day'   \n",
       "\n",
       "      pca_1     pca_2  centroid  \n",
       "0  0.855470  0.472238        28  \n",
       "1  2.526407 -0.609624        42  \n",
       "2  0.696321 -1.157138        41  \n",
       "3  2.542346  1.900799        11  \n",
       "4 -0.172645 -1.956667         7  "
      ]
     },
     "execution_count": 652,
     "metadata": {},
     "output_type": "execute_result"
    }
   ],
   "source": [
    "df_with_emb = pd.concat([df.drop(columns=['Embedding']), df_pca, df_kmeans], axis=1)\n",
    "df_with_emb.head()"
   ]
  },
  {
   "cell_type": "code",
   "execution_count": 653,
   "id": "6e666e12",
   "metadata": {},
   "outputs": [
    {
     "data": {
      "application/vnd.plotly.v1+json": {
       "config": {
        "plotlyServerURL": "https://plot.ly"
       },
       "data": [
        {
         "hovertext": [
          "This House Supports gentle parenting becoming the norm",
          "THR the creation of the series and film industry",
          "This House Believes That it is in the interest of Georgian government to democratically backslide",
          "This House Opposes the Globalization of the Major European Football Leagues",
          "This House Would implement a weekly 'blackout day'",
          "This House Opposes the concept of a national identity.",
          "THBT it's the interest of the feminist movement to actively oppose the popularization of calling women \"Karens\"",
          "This House Believes That gangster rap does more harm than good",
          "This House Believes That it is better to have been born morally correct than to overcome ones evilness",
          "This House Would turn yourself into a dog rather than letting your partner be turned into a dog",
          "TH, as the principal of Hogwartz, W stop using the Sorting Hat to sort new students and instead let the students choose between Gryffindor, Slytherin, Ravenclaw and Hufflepuff themselves",
          "THBT the EU-Mercosur free trade agreement would do more good than harm to the EU",
          "THBT the EU-Mercosur free trade agreement would do more good than harm to the EU",
          "THO the rise of the Mystic Arts (e.g. tarot reading, astrology calculations, witchcraft, dream interpretation)",
          "In white collar sectors, THP companies using qualitative measures rather than quantitative measures when assessing employee performance",
          "In cities with prominent car usage, THW introduce congestion pricing in central districts",
          "THS the significant use of Aritificial Intellegence to produce legal rulings",
          "THR the rise of identity politics in the 21st century",
          "THP a world where nobody holds strong beliefs",
          "THBT it is in the interest of Republic of Moldova to pursue re-unification with Romania",
          "TH, as the average 25 year old Romanian, would wait for their 'statistical soulmate'",
          "THBT businesses should not take a public position on social issues",
          "THW Ban Mail order brides",
          "THS Estonia’s proposal to revoke local voting rights from Citizens of Agressor States",
          "THR the eastern enlargement* of the European Union",
          "THR the eastern enlargement* of the European Union",
          "THS the development of genetic engineering",
          "THP a world in which all people have chronic Pinocchiosis",
          "This House, as the environmental movement, would support the use of extremist tactics.",
          "THBT the heads of central banks (e.g. the Federal Reserve, the European Central Bank) should be democratically elected",
          "THW ban pet ownership",
          "This House Opposes the European Union emphasising the need for domestic political reforms over economic reforms for member candidates (e.g., prioritising reforms of the electoral system and the judiciary rather than the economic development and the improvement of the welfare of its citizens when assessing the country's readiness to join EU)",
          "This House Opposes the European Union emphasising the need for domestic political reforms over economic reforms for member candidates (e.g., prioritising reforms of the electoral system and the judiciary rather than the economic development and the improvement of the welfare of its citizens when assessing the country's readiness to join EU)",
          "This House Believes That schools should prioritise fostering students' internal motivation rather than emphasising compliance to external motivations",
          "This House Prefers a future in which generative AI is further developed and implemented in significantly more fields, compared to a future in which the development and implementation of generative AI stays within its current confines",
          "This House Prefers a future in which generative AI is further developed and implemented in significantly more fields, compared to a future in which the development and implementation of generative AI stays within its current confines",
          "This House Opposes the stigmatisation of “neediness” in interpersonal relationships",
          "This House Would mandate the consumption of The Elixir of Truth during all proceedings of criminal trials by all participants (i.e. defendants, plaintiffs, eyewitnesses, prosecutors, judges, court reporters, testifying specialists, etc.)",
          "In public service industries, This House Believes That labour unions should engage in Italian strikes as opposed to conventional strikes",
          "This House Believes That living in a world in which the majority of people would switch the track is preferable to living in a world in which the majority of people would not switch the track",
          "This House, as the doctor, Would abandon RMS Titanic to board the last lifeboat",
          "THW establish a common currency between Brazil and Argentina",
          "In countries where professional sport is predominantly government-funded, THBT governments should prioritise funding for recreational sports over professional sports",
          "THBT social movements should use judicial review and strategic litigation as a means of garnering legislative change, at the expense of lobbying and campaigning for new protective legislation",
          "THBT universities should heavily prioritise local students over international students (e.g., higher tuition for international students, degrees in native languages, student quotas in popular programs)",
          "THBT the European Union should abolish the requirement of unanimity and make all decisions by a qualified majority",
          "THR the expectation that committed romantic relationships are long-term\r\n\r\n*don't use ChatGPT for prep!",
          "THR the aesthetisation of suffering",
          "THBT criminal justice policy should be decided by appointed technocrats rather than elected representatives",
          "THR religious faith being predominantly experienced through organised religion (e.g., communities based around religious gatherings, the Church's centralised interpretations of scripture) rather than through an individual relationship with God (e.g., personal interpretation of broad religious moral virtues, individual prayer)",
          "THBT the World Bank Group should adopt a one-country-one-vote system",
          "THS the use of the nine planetary boundaries framework",
          "THO internet gurus* selling their own products and services",
          "THBT the feminist movement should promote the maximisation of individual development and empowerment over solidarity among women",
          "THBT African countries should recognise the sovereignty of Somaliland",
          "THR the professionalisation of sports",
          "THW replace agricultural companies with farmers’ cooperatives",
          "THBT developing countries should drop local languages in favor of a world language* as the primary medium of instruction in schools.",
          "THR depictions of veganism as trendy",
          "THBT it is against the interest of organized religion to emphasize strict requirements for personal religious commitments (e.g. not being allowed to work on Sabbath, not eating during Ramadan, restraining from premarital relationships, etc.)",
          "THBT offensive art should not be commissioned for public spaces (Museums, Parks, Squares, etc.)",
          "THBT the LGBTQ+ community should actively embrace the nuclear family ideal",
          "THP a world ruled by a benevolent AI programmed to maximize utility by calculating the actions most guaranteed to reduce the greatest global suffering",
          "THBT the Quadrilateral Security Dialogue should initiate the creation of a regional defence pact (similar to the NATO) in the Asia Pacific Region",
          "THP a world where instead of charging tuition fees to students upfront, universities collect a portion of their income upon graduation",
          "THP industrial unions to workplace unions",
          "THW introduce a Global Carbon Market",
          "THW ban free-to-play games",
          "THR the decline of the family as the dominant unit of organisation in society",
          "THW implement fairness doctrines on broadcast news media with significant audience reach",
          "THP a world where a majority of political fiction is positive and optimistic (e.g. West Wing, Fahrenheit 451) to one where a majority is negative and pessimistic (e.g. House of Cards, 1984, Brave New World)",
          "THW require all elected officials to stand for a recall election if a significant minimum threshold of voters within their constituency demand it",
          "THP a world in which postcolonial African states had prioritised achieving economic and land reparations (e.g.: active land redistribution, quotas, cash transfer programmes) over enshrining civil and political rights (e.g. rights to protest, vote, free speech, form associations, etc.)",
          "THBT developing countries should privatise their State Owned Enterprises (such as airlines, utility companies like electricity, gas companies, etc.)",
          "THW allow ex-convicts to apply to join the police force",
          "THW ban gated communities",
          "THBT the LGBTQIA+ movement should centre reinterpreting religions in its public agenda",
          "THS the rise of the use of cryptocurrencies (e.g. Bitcoin, Ethereum, USDT) in financial transactions",
          "THP a world in which success and failure are seen as a consequence of random factors, rather than personal actions",
          "THW overstate the impact of minority forces (Japanese American 442nd Battalion during WW2, Russia's Women's Battalion of Death during WW1, 4th Indian Infantry Division during WW2) in wars, even at the cost of historical accuracy",
          "THP a world in which juries/judges can use a \"not proven\" verdict in criminal courts, in addition to \"guilty\" and \"not guilty\" verdicts",
          "THP  parenting models that adultify teenagers (i.e. giving them more responsibilities and autonomy, assuming higher capacity for independence) to those which emphasize their status and treatment as teenagers (i.e. refraining from giving them adult responsibilities, emphasizing they are legal minors)",
          "THO academic activism",
          "THW not allow any individual shareholders to own a controlling interest in large, publicly traded social media companies",
          "TH, as an intelligent but poor student, would pursue vocational education over a traditional college degree",
          "THW suspend labour unions for healthcare workers during times of crisis",
          "THR the rise of rainbow capitalism",
          "TH, as an Eldian child in Marley, Would volunteer to be a Warrior",
          "THBT developing countries are justified in and should pursue IP theft as a strategy for development",
          "In the event of a Chinese invasion of of Taiwan, TH, as the USA, Would intervene militarily",
          "You are in a stable relationship with a wealthy, workaholic partner but you are emotionally and physically unsatisfied, THW cheat",
          "THBT developing countries are justified in and should pursue IP theft as a strategy for development",
          "THW require partners to pay their house husbands/wives for household chores",
          "THBT developing countries are justified in and should pursue IP theft as a strategy for development",
          "Assuming feasibility, THW develop non-sentient artificial intelligence that imitates deceased loved ones in appearance, personality, and mannerisms",
          "THW designate specific non-residential areas in which drug users and dealers are legally allowed to buy, use, and sell drugs",
          "THW pay additional benefits to families on welfare according to their child’s performance in school",
          "THBT opposition political parties should boycott elections, rather than contest them, when the electoral process is believed not to be free and fair",
          "THW replace human judgment with computer algorithms in criminal sentencing decisions",
          "THW ban political parties and require all candidates for national public office to seek election as independents",
          "THBT multinational companies should be liable for human rights abuses that occur anywhere in their supply chains",
          "THP a world where all land was held in government trust and leased out on limited-term contracts",
          "THBT mainstream search engines should refuse to list results with sexist, racist or otherwise offensive content",
          "THW ban job applicants from disclosing the name of the university that issued any degrees they may hold",
          "THW ban corporate* sponsorship of research within academic or educational institutions",
          "THO the narrative of sacrifice as a description of the work performed by essential workers during a pandemic",
          "THBT large international institutions (e.g. UN & World Bank) should only accept female country delegates",
          "THW allocate the majority of government sports funding to encourage grassroots participation (e.g.: amateur community clubs, after school sports clubs, etc.) rather than invest in achieving success in prestigious competitions (e.g.: intensive coaching academies, player and personnel salaries, etc.)",
          "THP a world where each believer established their own connection to God, rather than establishing one through organised religion",
          "THBT social movements should actively use anger to mobalise support for their cause",
          "THW impose criminal liability on individuals who fail to assist a person in danger, when doing so would not place them at serious risk",
          "THW not distributed emergency and humanitarian aid through non-state groups linked to terrorism",
          "THBT the West should withdraw their military cooperation from India until they restore special privileges to Kashmiris in the J&K region",
          "THBT states should reclaim a large proportion of all donations to charities and redistribute it across charities on the basis of their effectiveness",
          "THW choose the job they are passionate about",
          "THBT governments should actively prevent gentrification.",
          "THBT the US National Security Agency should notify software manufacturers of all zero-day vulnerabilities in order for them to patch the defect.",
          "In art and popular culture, THBT creating new lead characters for minorities (eg Hancock, Black Panthar) is better than recasing them in existing roles already played by other actors/communities (eg Ghostbusters, The Little Marmaid)",
          "This House would break up Amazon Inc.",
          "In post conflict societies, THW grant amnesty to perpetrarors of crimes rather than seeking prosecutions",
          "THW ban payday loans.",
          "THW reserve seats in parliament for candidates under 30.",
          "THW ban the practice of “importing brides”",
          "TH supports the right of indigenous peoples to have publicly funded schools with autonomy over curriculum, operations & educational philosophy.",
          "TH prefers a world where adult children take in their elderly parents rather than support them to live separately.",
          "TH supports China’s attempt to become a global dominant power (eg establishing its own global financial/development institutions; increased FDI in Africa, South America, Asia; increased military spending)",
          "THBT charities and humanitarian aid organization should not use image of graphic suffering in their advertising campaigns.",
          "This House regrets the glorification of soldiers as heroes",
          "This House would require professional sports teams to be owned by their local communities instead of individuals or corporations.",
          "This House opposes the development of lethal autonomous weapons.",
          "This House regrets the widespread belief that motherhood is a rewarding experience.",
          "This House believes that states should allow all non-citizen migrant workers to vote in local and national elections.",
          "This House supports a school voucher system.",
          "THW not allow sellers and service-providers to advertise their products beyond showing information and images that reveal technical product details.",
          "This House regrets the Belt and Road Initiative.",
          "This house regrets the rise of call-out culture.",
          "This House believes that democratic states should not own or run media organisations.",
          "This House prefers a world with no belief in the afterlife.",
          "This House believes that foreigners should not be allowed to own land in developing countries",
          "This House believes that rehabilitation should be the only consideration in criminal sentencing.",
          "This House believes that the West should end all arms sales and military cooperation with Saudi Arabia.",
          "This house would ban for-profit universities and colleges. (Prepared)",
          "THW impose restrictions on opening of stores opened by large business chains to protect local businesses.",
          "This house would deny tax-exempt status to religious institutions that refuse to appoint female leaders. (Prepared)",
          "THBT states should not erect statues or memorials which commemorate or glorify military campaigns or the service of soldiers in war.",
          "THW make labour union membership compulsory in large industries. (Prepared)",
          "THBT when working to preserve rare and endangered species, private entities are more effective than the state.",
          "THBT The NATO Enhanced Forward Presence in Eastern Europe does more harm than good. (Prepared)",
          "THBT states should be able to prioritise asylum seekers on the basis of cultural similarity with the existing population.",
          "THW legalise surrogate motherhood for profit.",
          "THS military retaliation against cyber attacks.",
          "THW impose additional taxes on employers who use automation to replace human workers.",
          "TH prefers a benevolent dictatorship over a weak democracy.",
          "THS restrictions on free speech to combat the rise of right-wing populism. (Prepared)",
          "THBT, after meeting their basic needs, individuals have a moral responsibility to donate their wealth towards poverty alleviation.",
          "THBT major film and television awards shows should abolish awards categories separated by gender.",
          "THW require democratic states to hold a national referendum to ratify free trade agreements.",
          "THW televise criminal trials.",
          "THBT technology companies with significant market shares should not be eligible for patent protection.",
          "THBT it should be a criminal offence to make comments which could promote hatred against people of particular races, religions, disabilities, sexualities or gender identities.",
          "THBT Obama’s administration has done more harm than good.",
          "THW require individuals to pass a political general knowledge test in order to vote.",
          "THW abolish religious primary and secondary schools.",
          "THBT large tech companies should refuse to provide data on their customers to governments, even if it involves refusing to comply with a law which compels them to do so.",
          "THBT governments should ban their citizens from joining overseas groups fighting against terrorism which are not official military forces.",
          "THBT versions of history taught by states through the education system should not be designed to promote national pride.",
          "THBT states should be allowed to pay other states to relocate and settle refugees.",
          "THW ban the use of zero-hour contracts.",
          "THW require defendants in criminal trials to be represented exclusively by public defenders.",
          "TH supports academic tracking in primary and secondary education.",
          "THW not consume art created by people who have committed deeply immoral acts.",
          "THBT cities with significant immigrant populations should actively break up ethnic enclaves.",
          "THW ban political opinion polls.",
          "TH supports a right to die.",
          "THW forgive Greece’s debt.",
          "THW require members of the clergy to report all crimes to authorities including those made in confession.",
          "THBT affirmative action policies are counterproductive in reducing inequalities.",
          "THBT the military struggle against ISIS should be conducted solely by Middle East nations.",
          "TH regrets the media focus on the personal lives of politicians.",
          "THBT governments should provide a guaranteed universal basic income.",
          "THW Ban Children From Becoming Professional Models.",
          "THBT post-revolution states should delegate trials of former rulers and high-ranking officials to the International Criminal Court.",
          "THW allow prisoners to volunteer for drug trials in exchange for lighter sentences.",
          "THW require companies to pay their interns.",
          "THBT slum tourism does more harm than good.",
          "THW not allow unvaccinated children to attend public schools.",
          "THW lift tax exemptions from religious institutions that refuse to recognize marriage equality.",
          "THW not Prosecute Defamation.",
          "THBT labor unions are becoming obsolete.",
          "THBT drone strikes are a legitimate tool of foreign policy.",
          "THBT Asean political union is an impossible dream.",
          "THBT important decisions about children’s health should be made by medical professionals and not by their parents.",
          "THBT the media should be prevented by law from intruding the lives of public figures.",
          "THS greater US military presence in East Asia.",
          "THW allow prisoners to choose death over life sentence.",
          "THW cease the exploitation of resources in the Arctic Region.",
          "THW require government schools to teach religious studies.",
          "THS sovereign debt default as a legitimate economic strategy for countries.",
          "THW require university students to work in their country of origin for a number of years after graduation.",
          "THW cut welfare support on compulsive gamblers.",
          "THBT social movements in democratic countries should drive social change through the courts rather than the legislature.",
          "THBT the government should pay house wives and house husbands for their work.",
          "THBT Turkey is better off outside the EU.",
          "THW ban alcohol",
          "THBT newly democratised Arab nations should not allow religious parties to participate in elections",
          "THW allow single parents in prison to raise their children behind bars",
          "THBT developing nations should place limits on internal rural-urban migration",
          "THBT the police should use racial profiling when fighting crime.",
          "THBT the feminist movement should seek a ban on pornography",
          "THS Child Labour in the Developing World",
          "THBT states should enshrine legally actionable socio-economic rights",
          "THBT the govt should create special schools that teach in endangered indigenous languages",
          "THBT Gay rights organizations should out gay public figures",
          "THS 100% tax on all inherited wealth",
          "TH regrets South Africa’s decision to use the Truth and Reconciliation Commission rather than prosecuting perpetrators of crimes committed under Apartheid",
          "THBT government run broadcasting stations should give airtime to racist political parties",
          "THW offer dictators immunity in return for leaving power",
          "THW allow free distribution of music on the internet",
          "THBT universal primary education is a misallocation of resources for the developing world",
          "THW make voting in national elections mandatory",
          "THW legalize the sale of human organs",
          "THW stop sending humans into space",
          "THBT women can only achieve equality under a secular system of government",
          "THW penalize sporting teams for the behavior of their fans",
          "THW abandon nuclear energy",
          "TH supports free immigration",
          "THBT every region should have the right to independent statehood if majority of it’s members wish",
          "THBT Autocracy is doomed in the Age of Facebook",
          "This House believes that we should support Military Intervention in Somalia",
          "This House believes that we should make physical education compulsory in schools",
          "This House believes that every Country should have the right to possess Nuclear Weapons",
          "This House believes that we should support quotas for women in high government positions",
          "This House believes that Doctors should report evidence of Martial Abuse to the police",
          "This House believes that developing nations should have the right to give priority to development ahead of the environment",
          "This House believes that Terrorist suspects should have the right to a Trial in Civilian courts",
          "This House believes that we should legalise performance enhancing drugs",
          "This House believes that we should have no law restricting freedom of speech",
          "This House believes that compensation should be paid for the injustices committed by past generations",
          "This House believes that the United States should withdraw from the Middle East",
          "This House believes that Governments should Never Bail out Big Companies",
          "THBT cultural treasures should be returned to their areas of origin.",
          "THW not eat meat.",
          "THW encourage the expanded use of civilian nuclear energy.",
          "TH believes that terrorism can never be justified.",
          "THW legalise current technologies for choosing human embryos on the basis of their genetic characteristics.",
          "THW ban smoking in public places.",
          "THW ban the physical punishment of children by their parents.",
          "THBT public services are best run by private companies.",
          "THW pursue minor crimes with the same vigour as major crimes.",
          "THW require people to work in return for welfare payments.",
          "THW lower the voting age.",
          "THBT dictatorships should not receive international aid.",
          "THBT all illegal immigrants should receive amnesty.",
          "TH supports military intervention to deliver emergency aid in humanitarian crises.",
          "THW ban strikes by those working in essential state services.",
          "THW ban the use of unethically obtained data in scientific research.",
          "THBT humanities courses should be part of every undergraduate programme.",
          "THW make the directors of multinational companies personally liable for environmental abuses committed by their companies in the developing world.",
          "THW cease the use of detention without trial in the war on terror.",
          "THBT governments have a duty to bail out failing financial institutions.",
          "THW ban government funding of the arts.",
          "THBT heads of government should be required to have a parliamentary majority to govern.",
          "TH regrets the hosting of the 2008 Beijing Olympics.",
          "THW drop all US sanctions on Cuba.",
          "THW expand the permanent membership of the UN Security Council.",
          "THW make the development of clean industry a condition for receiving non-emergency aid.",
          "THW ban the use of models who are below a healthy weight.",
          "THBT Holocaust denial should be a crime.",
          "THBT governments should not place limits in the areas which scientists may research.",
          "THBT the United States should withdraw from its military bases in Asia.",
          "THW legalize all drugs.",
          "THW execute war criminals.",
          "THBT free trade harms the developing world.",
          "THW limit media reporting of terrorist atrocities.",
          "THW force organizations to place more women in senior positions.",
          "THW privatize public utilities companies.",
          "THW partition Iraq.",
          "THW abolish the Nuclear Non-Proliferation Treaty.",
          "THW place a worldwide ban on the use of civil nuclear energy.",
          "THBT full-time students should take part in compulsory charity work.",
          "THBT captured terrorists should be treated as prisoners of war.",
          "THW place a worldwide ban on tobacco advertising.",
          "TH supports the international trading of pollution quotas.",
          "THW ban abortion except in cases where the mother’s health is at risk.",
          "THBT Internet search engines should boycott China until it allows its citizens unrestricted access to the Web.",
          "THBT the War on Terror has been counter-productive.",
          "THBT governments should subsidise the traditional arts of minority cultures.",
          "THW punish sports teams whose fans misbehave.",
          "THBT first-time offenders who commit non-violent crimes should not be sent to jail.",
          "THBT democracy is the best system of government for every nation.",
          "THW ban the use of human embryos in scientific research.",
          "THBT the costs of space exploration outweigh the benefits.",
          "THBT censorship does more harm than good.",
          "THBT political parties should receive state funding.",
          "THBT civil marriage should be open to homosexual couples.",
          "THW use affirmative action in response to historical injustice.",
          "THW negotiate with terrorists.",
          "THBT education policy should be the responsibility of local authorities.",
          "THW not give development aid to non-democratic governments.",
          "THBT national security should take precedence over individual rights.",
          "THBT the first priority of criminal justice should be rehabilitation, not retribution.",
          "THB in regional trading blocs rather than global free trade.",
          "THBT the permanent members of the United Nations Security Council should not have veto power.",
          "THW do away with the Olympic Games.",
          "THBT Turkey should join the European Union.",
          "THBT fast food companies should pay people compensation for damaging their health.",
          "THBT we should make use of genetically modified crops to feed the world.",
          "THW prosecute teenagers as adults for criminal offences.",
          "THBT trade unions impede progress.",
          "THBT governments should protect their native languages.",
          "THBT religion has no place in state schools.",
          "TH condemns the influence of the music industry on youth.",
          "THBT the welfare state should be scrapped.",
          "THBT political parties have too much influence on democratic elections.",
          "THBT globalisation perpetuates social inequity.",
          "THBT the world is facing a clash of civilizations.",
          "THB in trial by jury.",
          "THW advertise prescription medicines.",
          "THBT voting in national elections should be compulsory.",
          "THBT current intellectual property laws are a brake on progress.",
          "THBT sporting boycotts are a legitimate political tool.",
          "THBT cultural treasures belong at home.",
          "TH supports voluntary euthanasia.",
          "THBT the sovereignty of nation states is an outdated concept.",
          "TH supports quotas for women in national parliaments.",
          "THW pay development aid direct to governments.",
          "THW legalise prostitution.",
          "THBT political decisions should not be dictated by religious beliefs.",
          "THW end the war on drugs.",
          "THBT professionalism has ruined the Olympic Games.",
          "THBT politicians should only be allowed to serve in office for a limited period of time.",
          "THBT low taxes are preferable to extensive government services.",
          "THW maintain United States military bases in Asia.",
          "THBT gambling of all forms should be illegal.",
          "THBT free trade is the way forward.",
          "TH supports missile defence.",
          "THW make tobacco companies pay compensation to the individual.",
          "THW ban genetic screening.",
          "TH supports the international trading of pollution permits.",
          "THW compromise civil liberties in the interests of security.",
          "THBT the media has become too powerful.",
          "THW waive patent rights for AIDS drugs for underdeveloped countries.",
          "THW ban all handguns.",
          "THBT gay couples should be allowed to adopt children.",
          "TH disapproves of cloning.",
          "THBT affluent nations should accept more refugees.",
          "THW cancel third world debt.",
          "TH supports the use of the death penalty.",
          "THBT international sport is warfare without weapons.",
          "THW impose democracy.",
          "TH refuses to negotiate with terrorists.",
          "THW give parents the final say in medical treatment of their children.",
          "THBT compensation should be paid for the injustices committed by previous generations.",
          "THBT we should further regulate the Internet.",
          "THBT it doesn’t matter whether you win or lose but how you play the game.",
          "THBT the costs of capitalism outweigh the benefits.",
          "THBT national security concerns justify the restriction of civil liberties.",
          "THW legalise performance-enhancing drugs in sport.",
          "THBT the International Criminal Court won’t work.",
          "TH regrets the influence of Hollywood.",
          "TH fears the Millenium.",
          "THW break the law to protect the rights of animals.",
          "THBT the Kyoto Summit didn’t go far enough.",
          "TH condemns the bombing of Iraq.",
          "THBT governments should never restrict freedom of speech.",
          "THBT multi-nationals are the new imperialists.",
          "TH supports the televising of criminal trials.",
          "TH believes in the nuclear deterrent.",
          "THBT the state has a duty to protect individuals from themselves.",
          "THW turn its swords into ploughshares.",
          "THW ban surrogate motherhood.",
          "THBT the cost of space exploration is justified.",
          "THBT economic sanctions against individual countries are immoral.",
          "THW continue to prosecute World War II criminals.",
          "THW support a mandatory retirement age.",
          "THW expand the use of nuclear energy.",
          "THW support a mandatory retirement age.",
          "THW expand the use of nuclear energy.",
          "THBT terrorism is justifiable in some circumstances.",
          "This House believes that technology has outstripped morality.",
          "This House believes that feminism is corrupting the family.",
          "This House believes that technology has outstripped morality.",
          "This House believes that one superpower is better than two.",
          "This House believes that feminism is corrupting the family.",
          "This House believes that Hollywood has a lot to answer for.",
          "This House believes that tourists are a global menace.",
          "This House believes that repression of civil rights justifies violent action.",
          "This House believes that the United Nations is the one best hope for the future."
         ],
         "marker": {
          "color": {
           "bdata": "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",
           "dtype": "i4"
          },
          "colorscale": [
           [
            0,
            "rgb(150,0,90)"
           ],
           [
            0.125,
            "rgb(0,0,200)"
           ],
           [
            0.25,
            "rgb(0,25,255)"
           ],
           [
            0.375,
            "rgb(0,152,255)"
           ],
           [
            0.5,
            "rgb(44,255,150)"
           ],
           [
            0.625,
            "rgb(151,255,0)"
           ],
           [
            0.75,
            "rgb(255,234,0)"
           ],
           [
            0.875,
            "rgb(255,111,0)"
           ],
           [
            1,
            "rgb(255,0,0)"
           ]
          ],
          "opacity": 0.7,
          "size": 10
         },
         "mode": "markers",
         "type": "scatter",
         "x": {
          "bdata": "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",
          "dtype": "f8"
         },
         "y": {
          "bdata": "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",
          "dtype": "f8"
         }
        }
       ],
       "layout": {
        "template": {
         "data": {
          "bar": [
           {
            "error_x": {
             "color": "#2a3f5f"
            },
            "error_y": {
             "color": "#2a3f5f"
            },
            "marker": {
             "line": {
              "color": "#E5ECF6",
              "width": 0.5
             },
             "pattern": {
              "fillmode": "overlay",
              "size": 10,
              "solidity": 0.2
             }
            },
            "type": "bar"
           }
          ],
          "barpolar": [
           {
            "marker": {
             "line": {
              "color": "#E5ECF6",
              "width": 0.5
             },
             "pattern": {
              "fillmode": "overlay",
              "size": 10,
              "solidity": 0.2
             }
            },
            "type": "barpolar"
           }
          ],
          "carpet": [
           {
            "aaxis": {
             "endlinecolor": "#2a3f5f",
             "gridcolor": "white",
             "linecolor": "white",
             "minorgridcolor": "white",
             "startlinecolor": "#2a3f5f"
            },
            "baxis": {
             "endlinecolor": "#2a3f5f",
             "gridcolor": "white",
             "linecolor": "white",
             "minorgridcolor": "white",
             "startlinecolor": "#2a3f5f"
            },
            "type": "carpet"
           }
          ],
          "choropleth": [
           {
            "colorbar": {
             "outlinewidth": 0,
             "ticks": ""
            },
            "type": "choropleth"
           }
          ],
          "contour": [
           {
            "colorbar": {
             "outlinewidth": 0,
             "ticks": ""
            },
            "colorscale": [
             [
              0,
              "#0d0887"
             ],
             [
              0.1111111111111111,
              "#46039f"
             ],
             [
              0.2222222222222222,
              "#7201a8"
             ],
             [
              0.3333333333333333,
              "#9c179e"
             ],
             [
              0.4444444444444444,
              "#bd3786"
             ],
             [
              0.5555555555555556,
              "#d8576b"
             ],
             [
              0.6666666666666666,
              "#ed7953"
             ],
             [
              0.7777777777777778,
              "#fb9f3a"
             ],
             [
              0.8888888888888888,
              "#fdca26"
             ],
             [
              1,
              "#f0f921"
             ]
            ],
            "type": "contour"
           }
          ],
          "contourcarpet": [
           {
            "colorbar": {
             "outlinewidth": 0,
             "ticks": ""
            },
            "type": "contourcarpet"
           }
          ],
          "heatmap": [
           {
            "colorbar": {
             "outlinewidth": 0,
             "ticks": ""
            },
            "colorscale": [
             [
              0,
              "#0d0887"
             ],
             [
              0.1111111111111111,
              "#46039f"
             ],
             [
              0.2222222222222222,
              "#7201a8"
             ],
             [
              0.3333333333333333,
              "#9c179e"
             ],
             [
              0.4444444444444444,
              "#bd3786"
             ],
             [
              0.5555555555555556,
              "#d8576b"
             ],
             [
              0.6666666666666666,
              "#ed7953"
             ],
             [
              0.7777777777777778,
              "#fb9f3a"
             ],
             [
              0.8888888888888888,
              "#fdca26"
             ],
             [
              1,
              "#f0f921"
             ]
            ],
            "type": "heatmap"
           }
          ],
          "histogram": [
           {
            "marker": {
             "pattern": {
              "fillmode": "overlay",
              "size": 10,
              "solidity": 0.2
             }
            },
            "type": "histogram"
           }
          ],
          "histogram2d": [
           {
            "colorbar": {
             "outlinewidth": 0,
             "ticks": ""
            },
            "colorscale": [
             [
              0,
              "#0d0887"
             ],
             [
              0.1111111111111111,
              "#46039f"
             ],
             [
              0.2222222222222222,
              "#7201a8"
             ],
             [
              0.3333333333333333,
              "#9c179e"
             ],
             [
              0.4444444444444444,
              "#bd3786"
             ],
             [
              0.5555555555555556,
              "#d8576b"
             ],
             [
              0.6666666666666666,
              "#ed7953"
             ],
             [
              0.7777777777777778,
              "#fb9f3a"
             ],
             [
              0.8888888888888888,
              "#fdca26"
             ],
             [
              1,
              "#f0f921"
             ]
            ],
            "type": "histogram2d"
           }
          ],
          "histogram2dcontour": [
           {
            "colorbar": {
             "outlinewidth": 0,
             "ticks": ""
            },
            "colorscale": [
             [
              0,
              "#0d0887"
             ],
             [
              0.1111111111111111,
              "#46039f"
             ],
             [
              0.2222222222222222,
              "#7201a8"
             ],
             [
              0.3333333333333333,
              "#9c179e"
             ],
             [
              0.4444444444444444,
              "#bd3786"
             ],
             [
              0.5555555555555556,
              "#d8576b"
             ],
             [
              0.6666666666666666,
              "#ed7953"
             ],
             [
              0.7777777777777778,
              "#fb9f3a"
             ],
             [
              0.8888888888888888,
              "#fdca26"
             ],
             [
              1,
              "#f0f921"
             ]
            ],
            "type": "histogram2dcontour"
           }
          ],
          "mesh3d": [
           {
            "colorbar": {
             "outlinewidth": 0,
             "ticks": ""
            },
            "type": "mesh3d"
           }
          ],
          "parcoords": [
           {
            "line": {
             "colorbar": {
              "outlinewidth": 0,
              "ticks": ""
             }
            },
            "type": "parcoords"
           }
          ],
          "pie": [
           {
            "automargin": true,
            "type": "pie"
           }
          ],
          "scatter": [
           {
            "fillpattern": {
             "fillmode": "overlay",
             "size": 10,
             "solidity": 0.2
            },
            "type": "scatter"
           }
          ],
          "scatter3d": [
           {
            "line": {
             "colorbar": {
              "outlinewidth": 0,
              "ticks": ""
             }
            },
            "marker": {
             "colorbar": {
              "outlinewidth": 0,
              "ticks": ""
             }
            },
            "type": "scatter3d"
           }
          ],
          "scattercarpet": [
           {
            "marker": {
             "colorbar": {
              "outlinewidth": 0,
              "ticks": ""
             }
            },
            "type": "scattercarpet"
           }
          ],
          "scattergeo": [
           {
            "marker": {
             "colorbar": {
              "outlinewidth": 0,
              "ticks": ""
             }
            },
            "type": "scattergeo"
           }
          ],
          "scattergl": [
           {
            "marker": {
             "colorbar": {
              "outlinewidth": 0,
              "ticks": ""
             }
            },
            "type": "scattergl"
           }
          ],
          "scattermap": [
           {
            "marker": {
             "colorbar": {
              "outlinewidth": 0,
              "ticks": ""
             }
            },
            "type": "scattermap"
           }
          ],
          "scattermapbox": [
           {
            "marker": {
             "colorbar": {
              "outlinewidth": 0,
              "ticks": ""
             }
            },
            "type": "scattermapbox"
           }
          ],
          "scatterpolar": [
           {
            "marker": {
             "colorbar": {
              "outlinewidth": 0,
              "ticks": ""
             }
            },
            "type": "scatterpolar"
           }
          ],
          "scatterpolargl": [
           {
            "marker": {
             "colorbar": {
              "outlinewidth": 0,
              "ticks": ""
             }
            },
            "type": "scatterpolargl"
           }
          ],
          "scatterternary": [
           {
            "marker": {
             "colorbar": {
              "outlinewidth": 0,
              "ticks": ""
             }
            },
            "type": "scatterternary"
           }
          ],
          "surface": [
           {
            "colorbar": {
             "outlinewidth": 0,
             "ticks": ""
            },
            "colorscale": [
             [
              0,
              "#0d0887"
             ],
             [
              0.1111111111111111,
              "#46039f"
             ],
             [
              0.2222222222222222,
              "#7201a8"
             ],
             [
              0.3333333333333333,
              "#9c179e"
             ],
             [
              0.4444444444444444,
              "#bd3786"
             ],
             [
              0.5555555555555556,
              "#d8576b"
             ],
             [
              0.6666666666666666,
              "#ed7953"
             ],
             [
              0.7777777777777778,
              "#fb9f3a"
             ],
             [
              0.8888888888888888,
              "#fdca26"
             ],
             [
              1,
              "#f0f921"
             ]
            ],
            "type": "surface"
           }
          ],
          "table": [
           {
            "cells": {
             "fill": {
              "color": "#EBF0F8"
             },
             "line": {
              "color": "white"
             }
            },
            "header": {
             "fill": {
              "color": "#C8D4E3"
             },
             "line": {
              "color": "white"
             }
            },
            "type": "table"
           }
          ]
         },
         "layout": {
          "annotationdefaults": {
           "arrowcolor": "#2a3f5f",
           "arrowhead": 0,
           "arrowwidth": 1
          },
          "autotypenumbers": "strict",
          "coloraxis": {
           "colorbar": {
            "outlinewidth": 0,
            "ticks": ""
           }
          },
          "colorscale": {
           "diverging": [
            [
             0,
             "#8e0152"
            ],
            [
             0.1,
             "#c51b7d"
            ],
            [
             0.2,
             "#de77ae"
            ],
            [
             0.3,
             "#f1b6da"
            ],
            [
             0.4,
             "#fde0ef"
            ],
            [
             0.5,
             "#f7f7f7"
            ],
            [
             0.6,
             "#e6f5d0"
            ],
            [
             0.7,
             "#b8e186"
            ],
            [
             0.8,
             "#7fbc41"
            ],
            [
             0.9,
             "#4d9221"
            ],
            [
             1,
             "#276419"
            ]
           ],
           "sequential": [
            [
             0,
             "#0d0887"
            ],
            [
             0.1111111111111111,
             "#46039f"
            ],
            [
             0.2222222222222222,
             "#7201a8"
            ],
            [
             0.3333333333333333,
             "#9c179e"
            ],
            [
             0.4444444444444444,
             "#bd3786"
            ],
            [
             0.5555555555555556,
             "#d8576b"
            ],
            [
             0.6666666666666666,
             "#ed7953"
            ],
            [
             0.7777777777777778,
             "#fb9f3a"
            ],
            [
             0.8888888888888888,
             "#fdca26"
            ],
            [
             1,
             "#f0f921"
            ]
           ],
           "sequentialminus": [
            [
             0,
             "#0d0887"
            ],
            [
             0.1111111111111111,
             "#46039f"
            ],
            [
             0.2222222222222222,
             "#7201a8"
            ],
            [
             0.3333333333333333,
             "#9c179e"
            ],
            [
             0.4444444444444444,
             "#bd3786"
            ],
            [
             0.5555555555555556,
             "#d8576b"
            ],
            [
             0.6666666666666666,
             "#ed7953"
            ],
            [
             0.7777777777777778,
             "#fb9f3a"
            ],
            [
             0.8888888888888888,
             "#fdca26"
            ],
            [
             1,
             "#f0f921"
            ]
           ]
          },
          "colorway": [
           "#636efa",
           "#EF553B",
           "#00cc96",
           "#ab63fa",
           "#FFA15A",
           "#19d3f3",
           "#FF6692",
           "#B6E880",
           "#FF97FF",
           "#FECB52"
          ],
          "font": {
           "color": "#2a3f5f"
          },
          "geo": {
           "bgcolor": "white",
           "lakecolor": "white",
           "landcolor": "#E5ECF6",
           "showlakes": true,
           "showland": true,
           "subunitcolor": "white"
          },
          "hoverlabel": {
           "align": "left"
          },
          "hovermode": "closest",
          "mapbox": {
           "style": "light"
          },
          "paper_bgcolor": "white",
          "plot_bgcolor": "#E5ECF6",
          "polar": {
           "angularaxis": {
            "gridcolor": "white",
            "linecolor": "white",
            "ticks": ""
           },
           "bgcolor": "#E5ECF6",
           "radialaxis": {
            "gridcolor": "white",
            "linecolor": "white",
            "ticks": ""
           }
          },
          "scene": {
           "xaxis": {
            "backgroundcolor": "#E5ECF6",
            "gridcolor": "white",
            "gridwidth": 2,
            "linecolor": "white",
            "showbackground": true,
            "ticks": "",
            "zerolinecolor": "white"
           },
           "yaxis": {
            "backgroundcolor": "#E5ECF6",
            "gridcolor": "white",
            "gridwidth": 2,
            "linecolor": "white",
            "showbackground": true,
            "ticks": "",
            "zerolinecolor": "white"
           },
           "zaxis": {
            "backgroundcolor": "#E5ECF6",
            "gridcolor": "white",
            "gridwidth": 2,
            "linecolor": "white",
            "showbackground": true,
            "ticks": "",
            "zerolinecolor": "white"
           }
          },
          "shapedefaults": {
           "line": {
            "color": "#2a3f5f"
           }
          },
          "ternary": {
           "aaxis": {
            "gridcolor": "white",
            "linecolor": "white",
            "ticks": ""
           },
           "baxis": {
            "gridcolor": "white",
            "linecolor": "white",
            "ticks": ""
           },
           "bgcolor": "#E5ECF6",
           "caxis": {
            "gridcolor": "white",
            "linecolor": "white",
            "ticks": ""
           }
          },
          "title": {
           "x": 0.05
          },
          "xaxis": {
           "automargin": true,
           "gridcolor": "white",
           "linecolor": "white",
           "ticks": "",
           "title": {
            "standoff": 15
           },
           "zerolinecolor": "white",
           "zerolinewidth": 2
          },
          "yaxis": {
           "automargin": true,
           "gridcolor": "white",
           "linecolor": "white",
           "ticks": "",
           "title": {
            "standoff": 15
           },
           "zerolinecolor": "white",
           "zerolinewidth": 2
          }
         }
        }
       }
      }
     },
     "metadata": {},
     "output_type": "display_data"
    }
   ],
   "source": [
    "import plotly.graph_objects as go\n",
    "\n",
    "fig = go.Figure()\n",
    "\n",
    "marker = go.scatter.Marker(\n",
    "    color=df_with_emb['centroid'],\n",
    "    colorscale='rainbow',\n",
    "    size=10,\n",
    "    opacity=0.7\n",
    ")\n",
    "\n",
    "centroid_marker = go.scatter.Marker(\n",
    "    symbol='x',\n",
    "    size=20,\n",
    "    opacity=0.5,\n",
    "    color='gray'\n",
    ")\n",
    "\n",
    "fig.add_trace(go.Scatter(x=df_with_emb['pca_1'], y=df_with_emb['pca_2'], mode='markers', hovertext=df_with_emb['Motion'], marker=marker))\n",
    "# fig.add_trace(go.Scatter(x=pca_centroids[:, 0], y=pca_centroids[:, 1], mode='markers', marker=centroid_marker))\n",
    "\n",
    "fig.show()"
   ]
  },
  {
   "cell_type": "code",
   "execution_count": 654,
   "id": "cbc0c959",
   "metadata": {},
   "outputs": [
    {
     "data": {
      "text/html": [
       "<div>\n",
       "<style scoped>\n",
       "    .dataframe tbody tr th:only-of-type {\n",
       "        vertical-align: middle;\n",
       "    }\n",
       "\n",
       "    .dataframe tbody tr th {\n",
       "        vertical-align: top;\n",
       "    }\n",
       "\n",
       "    .dataframe thead th {\n",
       "        text-align: right;\n",
       "    }\n",
       "</style>\n",
       "<table border=\"1\" class=\"dataframe\">\n",
       "  <thead>\n",
       "    <tr style=\"text-align: right;\">\n",
       "      <th></th>\n",
       "      <th>Motion (cleaned)</th>\n",
       "      <th>centroid</th>\n",
       "    </tr>\n",
       "  </thead>\n",
       "  <tbody>\n",
       "    <tr>\n",
       "      <th>73</th>\n",
       "      <td>developing countries should privatise their state owned enterprises (such as airlines, utility companies like electricity, gas companies, etc)</td>\n",
       "      <td>0</td>\n",
       "    </tr>\n",
       "    <tr>\n",
       "      <th>256</th>\n",
       "      <td>humanities courses should be part of every undergraduate programme</td>\n",
       "      <td>0</td>\n",
       "    </tr>\n",
       "    <tr>\n",
       "      <th>182</th>\n",
       "      <td>allow prisoners to volunteer for drug trials in exchange for lighter sentences</td>\n",
       "      <td>0</td>\n",
       "    </tr>\n",
       "    <tr>\n",
       "      <th>145</th>\n",
       "      <td>make labour union membership compulsory in large industries (prepared)</td>\n",
       "      <td>0</td>\n",
       "    </tr>\n",
       "    <tr>\n",
       "      <th>264</th>\n",
       "      <td>expand the permanent membership of the un security council</td>\n",
       "      <td>1</td>\n",
       "    </tr>\n",
       "    <tr>\n",
       "      <th>228</th>\n",
       "      <td>we should support military intervention in somalia</td>\n",
       "      <td>1</td>\n",
       "    </tr>\n",
       "    <tr>\n",
       "      <th>253</th>\n",
       "      <td>military intervention to deliver emergency aid in humanitarian crises</td>\n",
       "      <td>1</td>\n",
       "    </tr>\n",
       "    <tr>\n",
       "      <th>302</th>\n",
       "      <td>permanent members of  united nations security council should not have veto power</td>\n",
       "      <td>1</td>\n",
       "    </tr>\n",
       "    <tr>\n",
       "      <th>363</th>\n",
       "      <td>bombing of iraq</td>\n",
       "      <td>1</td>\n",
       "    </tr>\n",
       "    <tr>\n",
       "      <th>52</th>\n",
       "      <td>internet gurus* selling their own products and services</td>\n",
       "      <td>1</td>\n",
       "    </tr>\n",
       "    <tr>\n",
       "      <th>51</th>\n",
       "      <td>use of  nine planetary boundaries framework</td>\n",
       "      <td>1</td>\n",
       "    </tr>\n",
       "    <tr>\n",
       "      <th>54</th>\n",
       "      <td>african countries should recognise the sovereignty of somaliland</td>\n",
       "      <td>1</td>\n",
       "    </tr>\n",
       "    <tr>\n",
       "      <th>177</th>\n",
       "      <td>military struggle against isis should be conducted solely by middle east nations</td>\n",
       "      <td>1</td>\n",
       "    </tr>\n",
       "    <tr>\n",
       "      <th>89</th>\n",
       "      <td>intervene militarily</td>\n",
       "      <td>1</td>\n",
       "    </tr>\n",
       "    <tr>\n",
       "      <th>87</th>\n",
       "      <td>volunteer to be a warrior</td>\n",
       "      <td>1</td>\n",
       "    </tr>\n",
       "    <tr>\n",
       "      <th>9</th>\n",
       "      <td>turn yourself into a dog rather than letting your partner be turned into a dog</td>\n",
       "      <td>1</td>\n",
       "    </tr>\n",
       "    <tr>\n",
       "      <th>150</th>\n",
       "      <td>military retaliation against cyber attacks</td>\n",
       "      <td>1</td>\n",
       "    </tr>\n",
       "    <tr>\n",
       "      <th>49</th>\n",
       "      <td>religious faith being predominantly experienced through organised religion (eg, communities based around religious gatherings, the church's centralised interpretations of scripture) rather than through an individual relationship with god (eg, personal interpretation of broad religious moral virtues, individual prayer)</td>\n",
       "      <td>2</td>\n",
       "    </tr>\n",
       "    <tr>\n",
       "      <th>361</th>\n",
       "      <td>break the law to protect the rights of animals</td>\n",
       "      <td>2</td>\n",
       "    </tr>\n",
       "    <tr>\n",
       "      <th>109</th>\n",
       "      <td>social movements should actively use anger to mobalise support for their cause</td>\n",
       "      <td>2</td>\n",
       "    </tr>\n",
       "    <tr>\n",
       "      <th>82</th>\n",
       "      <td>academic activism</td>\n",
       "      <td>2</td>\n",
       "    </tr>\n",
       "    <tr>\n",
       "      <th>126</th>\n",
       "      <td>charities and humanitarian aid organization should not use image of graphic suffering in their advertising campaigns</td>\n",
       "      <td>2</td>\n",
       "    </tr>\n",
       "    <tr>\n",
       "      <th>128</th>\n",
       "      <td>require professional sports teams to be owned by their local communities instead of individuals or corporations</td>\n",
       "      <td>2</td>\n",
       "    </tr>\n",
       "    <tr>\n",
       "      <th>76</th>\n",
       "      <td>lgbtqia+ movement should centre reinterpreting religions in its public agenda</td>\n",
       "      <td>2</td>\n",
       "    </tr>\n",
       "    <tr>\n",
       "      <th>278</th>\n",
       "      <td>place a worldwide ban on the use of civil nuclear energy</td>\n",
       "      <td>2</td>\n",
       "    </tr>\n",
       "    <tr>\n",
       "      <th>195</th>\n",
       "      <td>cease the exploitation of resources in the arctic region</td>\n",
       "      <td>2</td>\n",
       "    </tr>\n",
       "    <tr>\n",
       "      <th>184</th>\n",
       "      <td>slum tourism does more harm than good</td>\n",
       "      <td>2</td>\n",
       "    </tr>\n",
       "    <tr>\n",
       "      <th>7</th>\n",
       "      <td>gangster rap does more harm than good</td>\n",
       "      <td>2</td>\n",
       "    </tr>\n",
       "    <tr>\n",
       "      <th>311</th>\n",
       "      <td>influence of  music industry on youth</td>\n",
       "      <td>2</td>\n",
       "    </tr>\n",
       "    <tr>\n",
       "      <th>364</th>\n",
       "      <td>governments should never restrict freedom of speech</td>\n",
       "      <td>3</td>\n",
       "    </tr>\n",
       "    <tr>\n",
       "      <th>156</th>\n",
       "      <td>require democratic states to hold a national referendum to ratify free trade agreements</td>\n",
       "      <td>3</td>\n",
       "    </tr>\n",
       "    <tr>\n",
       "      <th>225</th>\n",
       "      <td>free immigration</td>\n",
       "      <td>3</td>\n",
       "    </tr>\n",
       "    <tr>\n",
       "      <th>92</th>\n",
       "      <td>require partners to pay their house husbands/wives for household chores</td>\n",
       "      <td>3</td>\n",
       "    </tr>\n",
       "    <tr>\n",
       "      <th>121</th>\n",
       "      <td>reserve seats in parliament for candidates under 30</td>\n",
       "      <td>3</td>\n",
       "    </tr>\n",
       "    <tr>\n",
       "      <th>261</th>\n",
       "      <td>heads of government should be required to have a parliamentary majority to govern</td>\n",
       "      <td>3</td>\n",
       "    </tr>\n",
       "    <tr>\n",
       "      <th>153</th>\n",
       "      <td>restrictions on free speech to combat the rise of right-wing populism (prepared)</td>\n",
       "      <td>3</td>\n",
       "    </tr>\n",
       "    <tr>\n",
       "      <th>349</th>\n",
       "      <td>impose democracy</td>\n",
       "      <td>3</td>\n",
       "    </tr>\n",
       "    <tr>\n",
       "      <th>71</th>\n",
       "      <td>require all elected officials to stand for a recall election if a significant minimum threshold of voters within their constituency demand it</td>\n",
       "      <td>3</td>\n",
       "    </tr>\n",
       "    <tr>\n",
       "      <th>201</th>\n",
       "      <td>government should pay house wives and house husbands for ir work</td>\n",
       "      <td>3</td>\n",
       "    </tr>\n",
       "    <tr>\n",
       "      <th>176</th>\n",
       "      <td>affirmative action policies are counterproductive in reducing inequalities</td>\n",
       "      <td>4</td>\n",
       "    </tr>\n",
       "    <tr>\n",
       "      <th>358</th>\n",
       "      <td>international criminal court won’t work</td>\n",
       "      <td>4</td>\n",
       "    </tr>\n",
       "    <tr>\n",
       "      <th>286</th>\n",
       "      <td>governments should subsidise the traditional arts of minority cultures</td>\n",
       "      <td>4</td>\n",
       "    </tr>\n",
       "    <tr>\n",
       "      <th>353</th>\n",
       "      <td>we should further regulate the internet</td>\n",
       "      <td>4</td>\n",
       "    </tr>\n",
       "    <tr>\n",
       "      <th>95</th>\n",
       "      <td>designate specific non-residential areas in which drug users and dealers are legally allowed to buy, use, and sell drugs</td>\n",
       "      <td>4</td>\n",
       "    </tr>\n",
       "    <tr>\n",
       "      <th>204</th>\n",
       "      <td>newly democratised arab nations should not allow religious parties to participate in elections</td>\n",
       "      <td>4</td>\n",
       "    </tr>\n",
       "    <tr>\n",
       "      <th>268</th>\n",
       "      <td>governments should not place limits in the areas which scientists may research</td>\n",
       "      <td>4</td>\n",
       "    </tr>\n",
       "    <tr>\n",
       "      <th>270</th>\n",
       "      <td>legalize all drugs</td>\n",
       "      <td>4</td>\n",
       "    </tr>\n",
       "    <tr>\n",
       "      <th>144</th>\n",
       "      <td>states should not erect statues or memorials which commemorate or glorify military campaigns or the service of soldiers in war</td>\n",
       "      <td>4</td>\n",
       "    </tr>\n",
       "    <tr>\n",
       "      <th>297</th>\n",
       "      <td>education policy should be the responsibility of local authorities</td>\n",
       "      <td>4</td>\n",
       "    </tr>\n",
       "    <tr>\n",
       "      <th>115</th>\n",
       "      <td>governments should actively prevent gentrification</td>\n",
       "      <td>4</td>\n",
       "    </tr>\n",
       "    <tr>\n",
       "      <th>161</th>\n",
       "      <td>require individuals to pass a political general knowledge test in order to vote</td>\n",
       "      <td>4</td>\n",
       "    </tr>\n",
       "    <tr>\n",
       "      <th>171</th>\n",
       "      <td>cities with significant immigrant populations should actively break up ethnic enclaves</td>\n",
       "      <td>4</td>\n",
       "    </tr>\n",
       "    <tr>\n",
       "      <th>341</th>\n",
       "      <td>waive patent rights for aids drugs for underdeveloped countries</td>\n",
       "      <td>5</td>\n",
       "    </tr>\n",
       "    <tr>\n",
       "      <th>194</th>\n",
       "      <td>allow prisoners to choose death over life sentence</td>\n",
       "      <td>5</td>\n",
       "    </tr>\n",
       "    <tr>\n",
       "      <th>322</th>\n",
       "      <td>voluntary euthanasia</td>\n",
       "      <td>5</td>\n",
       "    </tr>\n",
       "    <tr>\n",
       "      <th>336</th>\n",
       "      <td>make tobacco companies pay compensation to the individual</td>\n",
       "      <td>5</td>\n",
       "    </tr>\n",
       "    <tr>\n",
       "      <th>245</th>\n",
       "      <td>ban smoking in public places</td>\n",
       "      <td>5</td>\n",
       "    </tr>\n",
       "    <tr>\n",
       "      <th>129</th>\n",
       "      <td>development of lethal autonomous weapons</td>\n",
       "      <td>5</td>\n",
       "    </tr>\n",
       "    <tr>\n",
       "      <th>281</th>\n",
       "      <td>place a worldwide ban on tobacco advertising</td>\n",
       "      <td>5</td>\n",
       "    </tr>\n",
       "    <tr>\n",
       "      <th>173</th>\n",
       "      <td>a right to die</td>\n",
       "      <td>5</td>\n",
       "    </tr>\n",
       "    <tr>\n",
       "      <th>314</th>\n",
       "      <td>globalisation perpetuates social inequity</td>\n",
       "      <td>6</td>\n",
       "    </tr>\n",
       "    <tr>\n",
       "      <th>29</th>\n",
       "      <td>heads of central banks (eg  federal reserve,  european central bank) should be democratically elected</td>\n",
       "      <td>6</td>\n",
       "    </tr>\n",
       "    <tr>\n",
       "      <th>64</th>\n",
       "      <td>a world where instead of charging tuition fees to students upfront, universities collect a portion of their income upon graduation</td>\n",
       "      <td>6</td>\n",
       "    </tr>\n",
       "    <tr>\n",
       "      <th>44</th>\n",
       "      <td>universities should heavily prioritise local students over international students (eg, higher tuition for international students, degrees in native languages, student quotas in popular programs)</td>\n",
       "      <td>6</td>\n",
       "    </tr>\n",
       "    <tr>\n",
       "      <th>114</th>\n",
       "      <td>choose the job they are passionate about</td>\n",
       "      <td>6</td>\n",
       "    </tr>\n",
       "    <tr>\n",
       "      <th>346</th>\n",
       "      <td>cancel third world debt</td>\n",
       "      <td>6</td>\n",
       "    </tr>\n",
       "    <tr>\n",
       "      <th>50</th>\n",
       "      <td>world bank group should adopt a one-country-one-vote system</td>\n",
       "      <td>6</td>\n",
       "    </tr>\n",
       "    <tr>\n",
       "      <th>154</th>\n",
       "      <td>, after meeting their basic needs, individuals have a moral responsibility to donate their wealth towards poverty alleviation</td>\n",
       "      <td>6</td>\n",
       "    </tr>\n",
       "    <tr>\n",
       "      <th>106</th>\n",
       "      <td>large international institutions (eg un &amp; world bank) should only accept female country delegates</td>\n",
       "      <td>6</td>\n",
       "    </tr>\n",
       "    <tr>\n",
       "      <th>53</th>\n",
       "      <td>feminist movement should promote  maximisation of individual development and empowerment over solidarity among women</td>\n",
       "      <td>6</td>\n",
       "    </tr>\n",
       "    <tr>\n",
       "      <th>152</th>\n",
       "      <td>a benevolent dictatorship over a weak democracy</td>\n",
       "      <td>6</td>\n",
       "    </tr>\n",
       "    <tr>\n",
       "      <th>72</th>\n",
       "      <td>a world in which postcolonial african states had prioritised achieving economic and land reparations (eg: active land redistribution, quotas, cash transfer programmes) over enshrining civil and political rights (eg rights to protest, vote, free speech, form associations, etc)</td>\n",
       "      <td>6</td>\n",
       "    </tr>\n",
       "    <tr>\n",
       "      <th>344</th>\n",
       "      <td>of cloning</td>\n",
       "      <td>7</td>\n",
       "    </tr>\n",
       "    <tr>\n",
       "      <th>94</th>\n",
       "      <td>develop non-sentient artificial intelligence that imitates deceased loved ones in appearance, personality, and mannerisms</td>\n",
       "      <td>7</td>\n",
       "    </tr>\n",
       "    <tr>\n",
       "      <th>306</th>\n",
       "      <td>we should make use of genetically modified crops to feed the world</td>\n",
       "      <td>7</td>\n",
       "    </tr>\n",
       "    <tr>\n",
       "      <th>28</th>\n",
       "      <td>support the use of extremist tactics</td>\n",
       "      <td>7</td>\n",
       "    </tr>\n",
       "    <tr>\n",
       "      <th>377</th>\n",
       "      <td>expand the use of nuclear energy</td>\n",
       "      <td>7</td>\n",
       "    </tr>\n",
       "    <tr>\n",
       "      <th>379</th>\n",
       "      <td>technology has outstripped morality</td>\n",
       "      <td>7</td>\n",
       "    </tr>\n",
       "    <tr>\n",
       "      <th>8</th>\n",
       "      <td>it is better to have been born morally correct than to overcome ones evilness</td>\n",
       "      <td>7</td>\n",
       "    </tr>\n",
       "    <tr>\n",
       "      <th>375</th>\n",
       "      <td>expand the use of nuclear energy</td>\n",
       "      <td>7</td>\n",
       "    </tr>\n",
       "    <tr>\n",
       "      <th>4</th>\n",
       "      <td>implement a weekly 'blackout day'</td>\n",
       "      <td>7</td>\n",
       "    </tr>\n",
       "    <tr>\n",
       "      <th>243</th>\n",
       "      <td>terrorism can never be justified</td>\n",
       "      <td>7</td>\n",
       "    </tr>\n",
       "    <tr>\n",
       "      <th>381</th>\n",
       "      <td>technology has outstripped morality</td>\n",
       "      <td>7</td>\n",
       "    </tr>\n",
       "    <tr>\n",
       "      <th>37</th>\n",
       "      <td>mandate the consumption of the elixir of truth during all proceedings of criminal trials by all participants (ie defendants, plaintiffs, eyewitnesses, prosecutors, judges, court reporters, testifying specialists, etc)</td>\n",
       "      <td>8</td>\n",
       "    </tr>\n",
       "    <tr>\n",
       "      <th>236</th>\n",
       "      <td>we should have no law restricting freedom of speech</td>\n",
       "      <td>8</td>\n",
       "    </tr>\n",
       "    <tr>\n",
       "      <th>168</th>\n",
       "      <td>require defendants in criminal trials to be represented exclusively by public defenders</td>\n",
       "      <td>8</td>\n",
       "    </tr>\n",
       "    <tr>\n",
       "      <th>316</th>\n",
       "      <td>in trial by jury</td>\n",
       "      <td>8</td>\n",
       "    </tr>\n",
       "    <tr>\n",
       "      <th>217</th>\n",
       "      <td>allow free distribution of music on the internet</td>\n",
       "      <td>8</td>\n",
       "    </tr>\n",
       "    <tr>\n",
       "      <th>187</th>\n",
       "      <td>not prosecute defamation</td>\n",
       "      <td>8</td>\n",
       "    </tr>\n",
       "    <tr>\n",
       "      <th>219</th>\n",
       "      <td>make voting in national elections mandatory</td>\n",
       "      <td>9</td>\n",
       "    </tr>\n",
       "    <tr>\n",
       "      <th>293</th>\n",
       "      <td>political parties should receive state funding</td>\n",
       "      <td>9</td>\n",
       "    </tr>\n",
       "    <tr>\n",
       "      <th>229</th>\n",
       "      <td>we should make physical education compulsory in schools</td>\n",
       "      <td>9</td>\n",
       "    </tr>\n",
       "    <tr>\n",
       "      <th>254</th>\n",
       "      <td>ban strikes by those working in essential state services</td>\n",
       "      <td>9</td>\n",
       "    </tr>\n",
       "    <tr>\n",
       "      <th>226</th>\n",
       "      <td>every region should have the right to independent statehood if majority of it’s members wish</td>\n",
       "      <td>9</td>\n",
       "    </tr>\n",
       "    <tr>\n",
       "      <th>294</th>\n",
       "      <td>civil marriage should be open to homosexual couples</td>\n",
       "      <td>9</td>\n",
       "    </tr>\n",
       "    <tr>\n",
       "      <th>23</th>\n",
       "      <td>estonia’s proposal to revoke local voting rights from citizens of agressor states</td>\n",
       "      <td>9</td>\n",
       "    </tr>\n",
       "    <tr>\n",
       "      <th>318</th>\n",
       "      <td>voting in national elections should be compulsory</td>\n",
       "      <td>9</td>\n",
       "    </tr>\n",
       "    <tr>\n",
       "      <th>46</th>\n",
       "      <td>expectation that committed romantic relationships are long-term\\r\\n\\r\\n*don't use chatgpt for prep!</td>\n",
       "      <td>9</td>\n",
       "    </tr>\n",
       "    <tr>\n",
       "      <th>326</th>\n",
       "      <td>legalise prostitution</td>\n",
       "      <td>9</td>\n",
       "    </tr>\n",
       "    <tr>\n",
       "      <th>97</th>\n",
       "      <td>opposition political parties should boycott elections, rather than contest them, when the electoral process is believed not to be free and fair</td>\n",
       "      <td>9</td>\n",
       "    </tr>\n",
       "    <tr>\n",
       "      <th>244</th>\n",
       "      <td>legalise current technologies for choosing human embryos on the basis of their genetic characteristics</td>\n",
       "      <td>9</td>\n",
       "    </tr>\n",
       "    <tr>\n",
       "      <th>200</th>\n",
       "      <td>social movements in democratic countries should drive social change through the courts rather than the legislature</td>\n",
       "      <td>9</td>\n",
       "    </tr>\n",
       "    <tr>\n",
       "      <th>83</th>\n",
       "      <td>not allow any individual shareholders to own a controlling interest in large, publicly traded social media companies</td>\n",
       "      <td>9</td>\n",
       "    </tr>\n",
       "    <tr>\n",
       "      <th>15</th>\n",
       "      <td>introduce congestion pricing in central districts</td>\n",
       "      <td>9</td>\n",
       "    </tr>\n",
       "    <tr>\n",
       "      <th>284</th>\n",
       "      <td>internet search engines should boycott china until it allows its citizens unrestricted access to the web</td>\n",
       "      <td>10</td>\n",
       "    </tr>\n",
       "    <tr>\n",
       "      <th>123</th>\n",
       "      <td>right of indigenous peoples to have publicly funded schools with autonomy over curriculum, operations &amp; educational philosophy</td>\n",
       "      <td>10</td>\n",
       "    </tr>\n",
       "    <tr>\n",
       "      <th>146</th>\n",
       "      <td>when working to preserve rare and endangered species, private entities are more effective than the state</td>\n",
       "      <td>10</td>\n",
       "    </tr>\n",
       "    <tr>\n",
       "      <th>230</th>\n",
       "      <td>every country should have the right to possess nuclear weapons</td>\n",
       "      <td>10</td>\n",
       "    </tr>\n",
       "    <tr>\n",
       "      <th>233</th>\n",
       "      <td>developing nations should have the right to give priority to development ahead of the environment</td>\n",
       "      <td>10</td>\n",
       "    </tr>\n",
       "    <tr>\n",
       "      <th>309</th>\n",
       "      <td>governments should protect their native languages</td>\n",
       "      <td>10</td>\n",
       "    </tr>\n",
       "    <tr>\n",
       "      <th>211</th>\n",
       "      <td>govt should create special schools that teach in endangered indigenous languages</td>\n",
       "      <td>10</td>\n",
       "    </tr>\n",
       "    <tr>\n",
       "      <th>102</th>\n",
       "      <td>mainstream search engines should refuse to list results with sexist, racist or otherwise offensive content</td>\n",
       "      <td>10</td>\n",
       "    </tr>\n",
       "    <tr>\n",
       "      <th>357</th>\n",
       "      <td>legalise performance-enhancing drugs in sport</td>\n",
       "      <td>11</td>\n",
       "    </tr>\n",
       "    <tr>\n",
       "      <th>223</th>\n",
       "      <td>penalize sporting teams for the behavior of their fans</td>\n",
       "      <td>11</td>\n",
       "    </tr>\n",
       "    <tr>\n",
       "      <th>333</th>\n",
       "      <td>gambling of all forms should be illegal</td>\n",
       "      <td>11</td>\n",
       "    </tr>\n",
       "    <tr>\n",
       "      <th>55</th>\n",
       "      <td>professionalisation of sports</td>\n",
       "      <td>11</td>\n",
       "    </tr>\n",
       "    <tr>\n",
       "      <th>3</th>\n",
       "      <td>globalization of  major european football leagues</td>\n",
       "      <td>11</td>\n",
       "    </tr>\n",
       "    <tr>\n",
       "      <th>320</th>\n",
       "      <td>sporting boycotts are a legitimate political tool</td>\n",
       "      <td>11</td>\n",
       "    </tr>\n",
       "    <tr>\n",
       "      <th>235</th>\n",
       "      <td>we should legalise performance enhancing drugs</td>\n",
       "      <td>11</td>\n",
       "    </tr>\n",
       "    <tr>\n",
       "      <th>6</th>\n",
       "      <td>'s the interest of the feminist movement to actively oppose the popularization of calling women \"karens\"</td>\n",
       "      <td>11</td>\n",
       "    </tr>\n",
       "    <tr>\n",
       "      <th>287</th>\n",
       "      <td>punish sports teams whose fans misbehave</td>\n",
       "      <td>11</td>\n",
       "    </tr>\n",
       "    <tr>\n",
       "      <th>208</th>\n",
       "      <td>feminist movement should seek a ban on pornography</td>\n",
       "      <td>11</td>\n",
       "    </tr>\n",
       "    <tr>\n",
       "      <th>329</th>\n",
       "      <td>professionalism has ruined the olympic games</td>\n",
       "      <td>11</td>\n",
       "    </tr>\n",
       "    <tr>\n",
       "      <th>327</th>\n",
       "      <td>political decisions should not be dictated by religious beliefs</td>\n",
       "      <td>12</td>\n",
       "    </tr>\n",
       "    <tr>\n",
       "      <th>48</th>\n",
       "      <td>criminal justice policy should be decided by appointed technocrats rather than elected representatives</td>\n",
       "      <td>12</td>\n",
       "    </tr>\n",
       "    <tr>\n",
       "      <th>148</th>\n",
       "      <td>states should be able to prioritise asylum seekers on the basis of cultural similarity with the existing population</td>\n",
       "      <td>12</td>\n",
       "    </tr>\n",
       "    <tr>\n",
       "      <th>172</th>\n",
       "      <td>ban political opinion polls</td>\n",
       "      <td>12</td>\n",
       "    </tr>\n",
       "    <tr>\n",
       "      <th>22</th>\n",
       "      <td>ban mail order brides</td>\n",
       "      <td>12</td>\n",
       "    </tr>\n",
       "    <tr>\n",
       "      <th>151</th>\n",
       "      <td>impose additional taxes on employers who use automation to replace human workers</td>\n",
       "      <td>12</td>\n",
       "    </tr>\n",
       "    <tr>\n",
       "      <th>118</th>\n",
       "      <td>break up amazon inc</td>\n",
       "      <td>12</td>\n",
       "    </tr>\n",
       "    <tr>\n",
       "      <th>155</th>\n",
       "      <td>major film and television awards shows should abolish awards categories separated by gender</td>\n",
       "      <td>12</td>\n",
       "    </tr>\n",
       "    <tr>\n",
       "      <th>365</th>\n",
       "      <td>multi-nationals are the new imperialists</td>\n",
       "      <td>12</td>\n",
       "    </tr>\n",
       "    <tr>\n",
       "      <th>180</th>\n",
       "      <td>ban children from becoming professional models</td>\n",
       "      <td>12</td>\n",
       "    </tr>\n",
       "    <tr>\n",
       "      <th>355</th>\n",
       "      <td>costs of capitalism outweigh  benefits</td>\n",
       "      <td>12</td>\n",
       "    </tr>\n",
       "    <tr>\n",
       "      <th>17</th>\n",
       "      <td>rise of identity politics in  21st century</td>\n",
       "      <td>12</td>\n",
       "    </tr>\n",
       "    <tr>\n",
       "      <th>149</th>\n",
       "      <td>legalise surrogate motherhood for profit</td>\n",
       "      <td>13</td>\n",
       "    </tr>\n",
       "    <tr>\n",
       "      <th>141</th>\n",
       "      <td>ban for-profit universities and colleges (prepared)</td>\n",
       "      <td>13</td>\n",
       "    </tr>\n",
       "    <tr>\n",
       "      <th>26</th>\n",
       "      <td>development of genetic engineering</td>\n",
       "      <td>13</td>\n",
       "    </tr>\n",
       "    <tr>\n",
       "      <th>143</th>\n",
       "      <td>deny tax-exempt status to religious institutions that refuse to appoint female leaders (prepared)</td>\n",
       "      <td>13</td>\n",
       "    </tr>\n",
       "    <tr>\n",
       "      <th>370</th>\n",
       "      <td>ban surrogate motherhood</td>\n",
       "      <td>13</td>\n",
       "    </tr>\n",
       "    <tr>\n",
       "      <th>242</th>\n",
       "      <td>encourage the expanded use of civilian nuclear energy</td>\n",
       "      <td>13</td>\n",
       "    </tr>\n",
       "    <tr>\n",
       "      <th>220</th>\n",
       "      <td>legalize the sale of human organs</td>\n",
       "      <td>13</td>\n",
       "    </tr>\n",
       "    <tr>\n",
       "      <th>104</th>\n",
       "      <td>ban corporate* sponsorship of research within academic or educational institutions</td>\n",
       "      <td>13</td>\n",
       "    </tr>\n",
       "    <tr>\n",
       "      <th>86</th>\n",
       "      <td>rise of rainbow capitalism</td>\n",
       "      <td>13</td>\n",
       "    </tr>\n",
       "    <tr>\n",
       "      <th>290</th>\n",
       "      <td>ban the use of human embryos in scientific research</td>\n",
       "      <td>13</td>\n",
       "    </tr>\n",
       "    <tr>\n",
       "      <th>221</th>\n",
       "      <td>stop sending humans into space</td>\n",
       "      <td>13</td>\n",
       "    </tr>\n",
       "    <tr>\n",
       "      <th>43</th>\n",
       "      <td>social movements should use judicial review and strategic litigation as a means of garnering legislative change, at the expense of lobbying and campaigning for new protective legislation</td>\n",
       "      <td>13</td>\n",
       "    </tr>\n",
       "    <tr>\n",
       "      <th>100</th>\n",
       "      <td>multinational companies should be liable for human rights abuses that occur anywhere in their supply chains</td>\n",
       "      <td>14</td>\n",
       "    </tr>\n",
       "    <tr>\n",
       "      <th>57</th>\n",
       "      <td>developing countries should drop local languages in favor of a world language* as the primary medium of instruction in schools</td>\n",
       "      <td>14</td>\n",
       "    </tr>\n",
       "    <tr>\n",
       "      <th>272</th>\n",
       "      <td>free trade harms the developing world</td>\n",
       "      <td>14</td>\n",
       "    </tr>\n",
       "    <tr>\n",
       "      <th>257</th>\n",
       "      <td>make the directors of multinational companies personally liable for environmental abuses committed by their companies in the developing world</td>\n",
       "      <td>14</td>\n",
       "    </tr>\n",
       "    <tr>\n",
       "      <th>138</th>\n",
       "      <td>foreigners should not be allowed to own land in developing countries</td>\n",
       "      <td>14</td>\n",
       "    </tr>\n",
       "    <tr>\n",
       "      <th>298</th>\n",
       "      <td>not give development aid to non-democratic governments</td>\n",
       "      <td>14</td>\n",
       "    </tr>\n",
       "    <tr>\n",
       "      <th>325</th>\n",
       "      <td>pay development aid direct to governments</td>\n",
       "      <td>14</td>\n",
       "    </tr>\n",
       "    <tr>\n",
       "      <th>289</th>\n",
       "      <td>democracy is the best system of government for every nation</td>\n",
       "      <td>14</td>\n",
       "    </tr>\n",
       "    <tr>\n",
       "      <th>251</th>\n",
       "      <td>dictatorships should not receive international aid</td>\n",
       "      <td>14</td>\n",
       "    </tr>\n",
       "    <tr>\n",
       "      <th>209</th>\n",
       "      <td>child labour in the developing world</td>\n",
       "      <td>14</td>\n",
       "    </tr>\n",
       "    <tr>\n",
       "      <th>347</th>\n",
       "      <td>use of  death penalty</td>\n",
       "      <td>15</td>\n",
       "    </tr>\n",
       "    <tr>\n",
       "      <th>277</th>\n",
       "      <td>abolish the nuclear non-proliferation treaty</td>\n",
       "      <td>15</td>\n",
       "    </tr>\n",
       "    <tr>\n",
       "      <th>186</th>\n",
       "      <td>lift tax exemptions from religious institutions that refuse to recognize marriage equality</td>\n",
       "      <td>15</td>\n",
       "    </tr>\n",
       "    <tr>\n",
       "      <th>271</th>\n",
       "      <td>execute war criminals</td>\n",
       "      <td>15</td>\n",
       "    </tr>\n",
       "    <tr>\n",
       "      <th>263</th>\n",
       "      <td>drop all us sanctions on cuba</td>\n",
       "      <td>15</td>\n",
       "    </tr>\n",
       "    <tr>\n",
       "      <th>214</th>\n",
       "      <td>south africa’s decision to use the truth and reconciliation commission rather than prosecuting perpetrators of crimes committed under apartheid</td>\n",
       "      <td>15</td>\n",
       "    </tr>\n",
       "    <tr>\n",
       "      <th>258</th>\n",
       "      <td>cease the use of detention without trial in the war on terror</td>\n",
       "      <td>15</td>\n",
       "    </tr>\n",
       "    <tr>\n",
       "      <th>373</th>\n",
       "      <td>continue to prosecute world war ii criminals</td>\n",
       "      <td>15</td>\n",
       "    </tr>\n",
       "    <tr>\n",
       "      <th>241</th>\n",
       "      <td>not eat meat</td>\n",
       "      <td>16</td>\n",
       "    </tr>\n",
       "    <tr>\n",
       "      <th>265</th>\n",
       "      <td>make the development of clean industry a condition for receiving non-emergency aid</td>\n",
       "      <td>16</td>\n",
       "    </tr>\n",
       "    <tr>\n",
       "      <th>224</th>\n",
       "      <td>abandon nuclear energy</td>\n",
       "      <td>16</td>\n",
       "    </tr>\n",
       "    <tr>\n",
       "      <th>339</th>\n",
       "      <td>compromise civil liberties in the interests of security</td>\n",
       "      <td>16</td>\n",
       "    </tr>\n",
       "    <tr>\n",
       "      <th>41</th>\n",
       "      <td>establish a common currency between brazil and argentina</td>\n",
       "      <td>16</td>\n",
       "    </tr>\n",
       "    <tr>\n",
       "      <th>40</th>\n",
       "      <td>abandon rms titanic to board the last lifeboat</td>\n",
       "      <td>16</td>\n",
       "    </tr>\n",
       "    <tr>\n",
       "      <th>167</th>\n",
       "      <td>ban the use of zero-hour contracts</td>\n",
       "      <td>17</td>\n",
       "    </tr>\n",
       "    <tr>\n",
       "      <th>198</th>\n",
       "      <td>require university students to work in their country of origin for a number of years after graduation</td>\n",
       "      <td>17</td>\n",
       "    </tr>\n",
       "    <tr>\n",
       "      <th>352</th>\n",
       "      <td>compensation should be paid for the injustices committed by previous generations</td>\n",
       "      <td>17</td>\n",
       "    </tr>\n",
       "    <tr>\n",
       "      <th>105</th>\n",
       "      <td>narrative of sacrifice as a description of  work performed by essential workers during a pandemic</td>\n",
       "      <td>17</td>\n",
       "    </tr>\n",
       "    <tr>\n",
       "      <th>238</th>\n",
       "      <td>the united states should withdraw from the middle east</td>\n",
       "      <td>17</td>\n",
       "    </tr>\n",
       "    <tr>\n",
       "      <th>237</th>\n",
       "      <td>compensation should be paid for the injustices committed by past generations</td>\n",
       "      <td>17</td>\n",
       "    </tr>\n",
       "    <tr>\n",
       "      <th>85</th>\n",
       "      <td>suspend labour unions for healthcare workers during times of crisis</td>\n",
       "      <td>17</td>\n",
       "    </tr>\n",
       "    <tr>\n",
       "      <th>295</th>\n",
       "      <td>use affirmative action in response to historical injustice</td>\n",
       "      <td>17</td>\n",
       "    </tr>\n",
       "    <tr>\n",
       "      <th>181</th>\n",
       "      <td>post-revolution states should delegate trials of former rulers and high-ranking officials to the international criminal court</td>\n",
       "      <td>17</td>\n",
       "    </tr>\n",
       "    <tr>\n",
       "      <th>323</th>\n",
       "      <td>sovereignty of nation states is an outdated concept</td>\n",
       "      <td>17</td>\n",
       "    </tr>\n",
       "    <tr>\n",
       "      <th>179</th>\n",
       "      <td>governments should provide a guaranteed universal basic income</td>\n",
       "      <td>17</td>\n",
       "    </tr>\n",
       "    <tr>\n",
       "      <th>279</th>\n",
       "      <td>full-time students should take part in compulsory charity work</td>\n",
       "      <td>17</td>\n",
       "    </tr>\n",
       "    <tr>\n",
       "      <th>249</th>\n",
       "      <td>require people to work in return for welfare payments</td>\n",
       "      <td>17</td>\n",
       "    </tr>\n",
       "    <tr>\n",
       "      <th>312</th>\n",
       "      <td>welfare state should be scrapped</td>\n",
       "      <td>17</td>\n",
       "    </tr>\n",
       "    <tr>\n",
       "      <th>301</th>\n",
       "      <td>in regional trading blocs rather than global free trade</td>\n",
       "      <td>17</td>\n",
       "    </tr>\n",
       "    <tr>\n",
       "      <th>285</th>\n",
       "      <td>war on terror has been counter-productive</td>\n",
       "      <td>17</td>\n",
       "    </tr>\n",
       "    <tr>\n",
       "      <th>334</th>\n",
       "      <td>free trade is the way forward</td>\n",
       "      <td>17</td>\n",
       "    </tr>\n",
       "    <tr>\n",
       "      <th>300</th>\n",
       "      <td>first priority of criminal justice should be rehabilitation, not retribution</td>\n",
       "      <td>18</td>\n",
       "    </tr>\n",
       "    <tr>\n",
       "      <th>280</th>\n",
       "      <td>captured terrorists should be treated as prisoners of war</td>\n",
       "      <td>18</td>\n",
       "    </tr>\n",
       "    <tr>\n",
       "      <th>205</th>\n",
       "      <td>allow single parents in prison to raise their children behind bars</td>\n",
       "      <td>18</td>\n",
       "    </tr>\n",
       "    <tr>\n",
       "      <th>275</th>\n",
       "      <td>privatize public utilities companies</td>\n",
       "      <td>18</td>\n",
       "    </tr>\n",
       "    <tr>\n",
       "      <th>234</th>\n",
       "      <td>terrorist suspects should have the right to a trial in civilian courts</td>\n",
       "      <td>18</td>\n",
       "    </tr>\n",
       "    <tr>\n",
       "      <th>139</th>\n",
       "      <td>rehabilitation should be the only consideration in criminal sentencing</td>\n",
       "      <td>18</td>\n",
       "    </tr>\n",
       "    <tr>\n",
       "      <th>136</th>\n",
       "      <td>democratic states should not own or run media organisations</td>\n",
       "      <td>18</td>\n",
       "    </tr>\n",
       "    <tr>\n",
       "      <th>74</th>\n",
       "      <td>allow ex-convicts to apply to join the police force</td>\n",
       "      <td>18</td>\n",
       "    </tr>\n",
       "    <tr>\n",
       "      <th>376</th>\n",
       "      <td>support a mandatory retirement age</td>\n",
       "      <td>18</td>\n",
       "    </tr>\n",
       "    <tr>\n",
       "      <th>386</th>\n",
       "      <td>repression of civil rights justifies violent action</td>\n",
       "      <td>18</td>\n",
       "    </tr>\n",
       "    <tr>\n",
       "      <th>374</th>\n",
       "      <td>support a mandatory retirement age</td>\n",
       "      <td>18</td>\n",
       "    </tr>\n",
       "    <tr>\n",
       "      <th>330</th>\n",
       "      <td>politicians should only be allowed to serve in office for a limited period of time</td>\n",
       "      <td>18</td>\n",
       "    </tr>\n",
       "    <tr>\n",
       "      <th>183</th>\n",
       "      <td>require companies to pay their interns</td>\n",
       "      <td>18</td>\n",
       "    </tr>\n",
       "    <tr>\n",
       "      <th>103</th>\n",
       "      <td>ban job applicants from disclosing the name of the university that issued any degrees they may hold</td>\n",
       "      <td>18</td>\n",
       "    </tr>\n",
       "    <tr>\n",
       "      <th>175</th>\n",
       "      <td>require members of the clergy to report all crimes to authorities including those made in confession</td>\n",
       "      <td>18</td>\n",
       "    </tr>\n",
       "    <tr>\n",
       "      <th>130</th>\n",
       "      <td>widespread belief that morhood is a rewarding experience</td>\n",
       "      <td>18</td>\n",
       "    </tr>\n",
       "    <tr>\n",
       "      <th>321</th>\n",
       "      <td>cultural treasures belong at home</td>\n",
       "      <td>19</td>\n",
       "    </tr>\n",
       "    <tr>\n",
       "      <th>160</th>\n",
       "      <td>obama’s administration has done more harm than good</td>\n",
       "      <td>19</td>\n",
       "    </tr>\n",
       "    <tr>\n",
       "      <th>60</th>\n",
       "      <td>offensive art should not be commissioned for public spaces (museums, parks, squares, etc)</td>\n",
       "      <td>19</td>\n",
       "    </tr>\n",
       "    <tr>\n",
       "      <th>328</th>\n",
       "      <td>end the war on drugs</td>\n",
       "      <td>19</td>\n",
       "    </tr>\n",
       "    <tr>\n",
       "      <th>267</th>\n",
       "      <td>holocaust denial should be a crime</td>\n",
       "      <td>19</td>\n",
       "    </tr>\n",
       "    <tr>\n",
       "      <th>292</th>\n",
       "      <td>censorship does more harm than good</td>\n",
       "      <td>19</td>\n",
       "    </tr>\n",
       "    <tr>\n",
       "      <th>362</th>\n",
       "      <td>kyoto summit didn’t go far enough</td>\n",
       "      <td>19</td>\n",
       "    </tr>\n",
       "    <tr>\n",
       "      <th>260</th>\n",
       "      <td>ban government funding of the arts</td>\n",
       "      <td>19</td>\n",
       "    </tr>\n",
       "    <tr>\n",
       "      <th>240</th>\n",
       "      <td>cultural treasures should be returned to their areas of origin</td>\n",
       "      <td>19</td>\n",
       "    </tr>\n",
       "    <tr>\n",
       "      <th>372</th>\n",
       "      <td>economic sanctions against individual countries are immoral</td>\n",
       "      <td>19</td>\n",
       "    </tr>\n",
       "    <tr>\n",
       "      <th>170</th>\n",
       "      <td>not consume art created by people who have committed deeply immoral acts</td>\n",
       "      <td>19</td>\n",
       "    </tr>\n",
       "    <tr>\n",
       "      <th>70</th>\n",
       "      <td>a world where a majority of political fiction is positive and optimistic (eg west wing, fahrenheit 451) to one where a majority is negative and pessimistic (eg house of cards, 1984, brave new world)</td>\n",
       "      <td>20</td>\n",
       "    </tr>\n",
       "    <tr>\n",
       "      <th>31</th>\n",
       "      <td>european union emphasising  need for domestic political reforms over economic reforms for member candidates (eg, prioritising reforms of  electoral system and  judiciary rar than  economic development and  improvement of  welfare of its citizens when assessing  country's readiness to join eu)</td>\n",
       "      <td>20</td>\n",
       "    </tr>\n",
       "    <tr>\n",
       "      <th>338</th>\n",
       "      <td>international trading of pollution permits</td>\n",
       "      <td>20</td>\n",
       "    </tr>\n",
       "    <tr>\n",
       "      <th>32</th>\n",
       "      <td>european union emphasising  need for domestic political reforms over economic reforms for member candidates (eg, prioritising reforms of  electoral system and  judiciary rar than  economic development and  improvement of  welfare of its citizens when assessing  country's readiness to join eu)</td>\n",
       "      <td>20</td>\n",
       "    </tr>\n",
       "    <tr>\n",
       "      <th>12</th>\n",
       "      <td>eu-mercosur free trade agreement would do more good than harm to  eu</td>\n",
       "      <td>20</td>\n",
       "    </tr>\n",
       "    <tr>\n",
       "      <th>11</th>\n",
       "      <td>eu-mercosur free trade agreement would do more good than harm to  eu</td>\n",
       "      <td>20</td>\n",
       "    </tr>\n",
       "    <tr>\n",
       "      <th>56</th>\n",
       "      <td>replace agricultural companies with farmers’ cooperatives</td>\n",
       "      <td>20</td>\n",
       "    </tr>\n",
       "    <tr>\n",
       "      <th>197</th>\n",
       "      <td>sovereign debt default as a legitimate economic strategy for countries</td>\n",
       "      <td>21</td>\n",
       "    </tr>\n",
       "    <tr>\n",
       "      <th>350</th>\n",
       "      <td>to negotiate with terrorists</td>\n",
       "      <td>21</td>\n",
       "    </tr>\n",
       "    <tr>\n",
       "      <th>369</th>\n",
       "      <td>turn its swords into ploughshares</td>\n",
       "      <td>21</td>\n",
       "    </tr>\n",
       "    <tr>\n",
       "      <th>111</th>\n",
       "      <td>not distributed emergency and humanitarian aid through non-state groups linked to terrorism</td>\n",
       "      <td>21</td>\n",
       "    </tr>\n",
       "    <tr>\n",
       "      <th>296</th>\n",
       "      <td>negotiate with terrorists</td>\n",
       "      <td>21</td>\n",
       "    </tr>\n",
       "    <tr>\n",
       "      <th>101</th>\n",
       "      <td>a world where all land was held in government trust and leased out on limited-term contracts</td>\n",
       "      <td>21</td>\n",
       "    </tr>\n",
       "    <tr>\n",
       "      <th>30</th>\n",
       "      <td>ban pet ownership</td>\n",
       "      <td>22</td>\n",
       "    </tr>\n",
       "    <tr>\n",
       "      <th>317</th>\n",
       "      <td>advertise prescription medicines</td>\n",
       "      <td>22</td>\n",
       "    </tr>\n",
       "    <tr>\n",
       "      <th>120</th>\n",
       "      <td>ban payday loans</td>\n",
       "      <td>22</td>\n",
       "    </tr>\n",
       "    <tr>\n",
       "      <th>303</th>\n",
       "      <td>do away with the olympic games</td>\n",
       "      <td>22</td>\n",
       "    </tr>\n",
       "    <tr>\n",
       "      <th>132</th>\n",
       "      <td>a school voucher system</td>\n",
       "      <td>23</td>\n",
       "    </tr>\n",
       "    <tr>\n",
       "      <th>331</th>\n",
       "      <td>low taxes are preferable to extensive government services</td>\n",
       "      <td>23</td>\n",
       "    </tr>\n",
       "    <tr>\n",
       "      <th>282</th>\n",
       "      <td>international trading of pollution quotas</td>\n",
       "      <td>23</td>\n",
       "    </tr>\n",
       "    <tr>\n",
       "      <th>96</th>\n",
       "      <td>pay additional benefits to families on welfare according to their child’s performance in school</td>\n",
       "      <td>23</td>\n",
       "    </tr>\n",
       "    <tr>\n",
       "      <th>199</th>\n",
       "      <td>cut welfare support on compulsive gamblers</td>\n",
       "      <td>23</td>\n",
       "    </tr>\n",
       "    <tr>\n",
       "      <th>166</th>\n",
       "      <td>states should be allowed to pay other states to relocate and settle refugees</td>\n",
       "      <td>23</td>\n",
       "    </tr>\n",
       "    <tr>\n",
       "      <th>222</th>\n",
       "      <td>women can only achieve equality under a secular system of government</td>\n",
       "      <td>23</td>\n",
       "    </tr>\n",
       "    <tr>\n",
       "      <th>239</th>\n",
       "      <td>governments should never bail out big companies</td>\n",
       "      <td>23</td>\n",
       "    </tr>\n",
       "    <tr>\n",
       "      <th>259</th>\n",
       "      <td>governments have a duty to bail out failing financial institutions</td>\n",
       "      <td>23</td>\n",
       "    </tr>\n",
       "    <tr>\n",
       "      <th>382</th>\n",
       "      <td>one superpower is better than two</td>\n",
       "      <td>23</td>\n",
       "    </tr>\n",
       "    <tr>\n",
       "      <th>276</th>\n",
       "      <td>partition iraq</td>\n",
       "      <td>23</td>\n",
       "    </tr>\n",
       "    <tr>\n",
       "      <th>227</th>\n",
       "      <td>autocracy is doomed in the age of facebook</td>\n",
       "      <td>23</td>\n",
       "    </tr>\n",
       "    <tr>\n",
       "      <th>65</th>\n",
       "      <td>industrial unions to workplace unions</td>\n",
       "      <td>24</td>\n",
       "    </tr>\n",
       "    <tr>\n",
       "      <th>45</th>\n",
       "      <td>european union should abolish  requirement of unanimity and make all decisions by a qualified majority</td>\n",
       "      <td>24</td>\n",
       "    </tr>\n",
       "    <tr>\n",
       "      <th>387</th>\n",
       "      <td>the united nations is the one best hope for the future</td>\n",
       "      <td>24</td>\n",
       "    </tr>\n",
       "    <tr>\n",
       "      <th>24</th>\n",
       "      <td>eastern enlargement* of  european union</td>\n",
       "      <td>24</td>\n",
       "    </tr>\n",
       "    <tr>\n",
       "      <th>39</th>\n",
       "      <td>living in a world in which the majority of people would switch the track is preferable to living in a world in which the majority of people would not switch the track</td>\n",
       "      <td>24</td>\n",
       "    </tr>\n",
       "    <tr>\n",
       "      <th>147</th>\n",
       "      <td>nato enhanced forward presence in eastern europe does more harm than good (prepared)</td>\n",
       "      <td>24</td>\n",
       "    </tr>\n",
       "    <tr>\n",
       "      <th>202</th>\n",
       "      <td>turkey is better off outside the eu</td>\n",
       "      <td>24</td>\n",
       "    </tr>\n",
       "    <tr>\n",
       "      <th>188</th>\n",
       "      <td>labor unions are becoming obsolete</td>\n",
       "      <td>24</td>\n",
       "    </tr>\n",
       "    <tr>\n",
       "      <th>308</th>\n",
       "      <td>trade unions impede progress</td>\n",
       "      <td>24</td>\n",
       "    </tr>\n",
       "    <tr>\n",
       "      <th>304</th>\n",
       "      <td>turkey should join the european union</td>\n",
       "      <td>24</td>\n",
       "    </tr>\n",
       "    <tr>\n",
       "      <th>25</th>\n",
       "      <td>eastern enlargement* of  european union</td>\n",
       "      <td>24</td>\n",
       "    </tr>\n",
       "    <tr>\n",
       "      <th>38</th>\n",
       "      <td>labour unions should engage in italian strikes as opposed to conventional strikes</td>\n",
       "      <td>24</td>\n",
       "    </tr>\n",
       "    <tr>\n",
       "      <th>366</th>\n",
       "      <td>televising of criminal trials</td>\n",
       "      <td>25</td>\n",
       "    </tr>\n",
       "    <tr>\n",
       "      <th>307</th>\n",
       "      <td>prosecute teenagers as adults for criminal offences</td>\n",
       "      <td>25</td>\n",
       "    </tr>\n",
       "    <tr>\n",
       "      <th>250</th>\n",
       "      <td>lower the voting age</td>\n",
       "      <td>25</td>\n",
       "    </tr>\n",
       "    <tr>\n",
       "      <th>59</th>\n",
       "      <td>is against the interest of organized religion to emphasize strict requirements for personal religious commments (eg not being allowed to work on sabbath, not eating during ramadan, restraining from premaral relationships, etc)</td>\n",
       "      <td>25</td>\n",
       "    </tr>\n",
       "    <tr>\n",
       "      <th>159</th>\n",
       "      <td>should be a criminal offence to make comments which could promote hatred against people of particular races, religions, disabilies, sexualies or gender identies</td>\n",
       "      <td>25</td>\n",
       "    </tr>\n",
       "    <tr>\n",
       "      <th>98</th>\n",
       "      <td>replace human judgment with computer algorithms in criminal sentencing decisions</td>\n",
       "      <td>25</td>\n",
       "    </tr>\n",
       "    <tr>\n",
       "      <th>157</th>\n",
       "      <td>televise criminal trials</td>\n",
       "      <td>25</td>\n",
       "    </tr>\n",
       "    <tr>\n",
       "      <th>67</th>\n",
       "      <td>ban free-to-play games</td>\n",
       "      <td>26</td>\n",
       "    </tr>\n",
       "    <tr>\n",
       "      <th>315</th>\n",
       "      <td>world is facing a clash of civilizations</td>\n",
       "      <td>26</td>\n",
       "    </tr>\n",
       "    <tr>\n",
       "      <th>348</th>\n",
       "      <td>international sport is warfare without weapons</td>\n",
       "      <td>26</td>\n",
       "    </tr>\n",
       "    <tr>\n",
       "      <th>108</th>\n",
       "      <td>a world where each believer established their own connection to god, rather than establishing one through organised religion</td>\n",
       "      <td>26</td>\n",
       "    </tr>\n",
       "    <tr>\n",
       "      <th>42</th>\n",
       "      <td>governments should prioritise funding for recreational sports over professional sports</td>\n",
       "      <td>26</td>\n",
       "    </tr>\n",
       "    <tr>\n",
       "      <th>124</th>\n",
       "      <td>a world where adult children take in their elderly parents rather than support them to live separately</td>\n",
       "      <td>26</td>\n",
       "    </tr>\n",
       "    <tr>\n",
       "      <th>137</th>\n",
       "      <td>a world with no belief in the afterlife</td>\n",
       "      <td>26</td>\n",
       "    </tr>\n",
       "    <tr>\n",
       "      <th>190</th>\n",
       "      <td>asean political union is an impossible dream</td>\n",
       "      <td>27</td>\n",
       "    </tr>\n",
       "    <tr>\n",
       "      <th>5</th>\n",
       "      <td>concept of a national identity</td>\n",
       "      <td>27</td>\n",
       "    </tr>\n",
       "    <tr>\n",
       "      <th>110</th>\n",
       "      <td>impose criminal liability on individuals who fail to assist a person in danger, when doing so would not place them at serious risk</td>\n",
       "      <td>27</td>\n",
       "    </tr>\n",
       "    <tr>\n",
       "      <th>80</th>\n",
       "      <td>a world in which juries/judges can use a \"not proven\" verdict in criminal courts, in addition to \"guilty\" and \"not guilty\" verdicts</td>\n",
       "      <td>27</td>\n",
       "    </tr>\n",
       "    <tr>\n",
       "      <th>75</th>\n",
       "      <td>ban gated communities</td>\n",
       "      <td>27</td>\n",
       "    </tr>\n",
       "    <tr>\n",
       "      <th>63</th>\n",
       "      <td>quadrilateral security dialogue should initiate  creation of a regional defence pact (similar to  nato) in  asia pacific region</td>\n",
       "      <td>27</td>\n",
       "    </tr>\n",
       "    <tr>\n",
       "      <th>18</th>\n",
       "      <td>a world where nobody holds strong beliefs</td>\n",
       "      <td>27</td>\n",
       "    </tr>\n",
       "    <tr>\n",
       "      <th>84</th>\n",
       "      <td>pursue vocational education over a traditional college degree</td>\n",
       "      <td>27</td>\n",
       "    </tr>\n",
       "    <tr>\n",
       "      <th>351</th>\n",
       "      <td>give parents the final say in medical treatment of their children</td>\n",
       "      <td>28</td>\n",
       "    </tr>\n",
       "    <tr>\n",
       "      <th>0</th>\n",
       "      <td>gentle parenting becoming the norm</td>\n",
       "      <td>28</td>\n",
       "    </tr>\n",
       "    <tr>\n",
       "      <th>191</th>\n",
       "      <td>important decisions about children’s health should be made by medical professionals and not by their parents</td>\n",
       "      <td>28</td>\n",
       "    </tr>\n",
       "    <tr>\n",
       "      <th>10</th>\n",
       "      <td>stop using the sorting hat to sort new students and instead let the students choose between gryffindor, slytherin, ravenclaw and hufflepuff themselves</td>\n",
       "      <td>28</td>\n",
       "    </tr>\n",
       "    <tr>\n",
       "      <th>93</th>\n",
       "      <td>developing countries are justified in and should pursue ip theft as a strategy for development</td>\n",
       "      <td>29</td>\n",
       "    </tr>\n",
       "    <tr>\n",
       "      <th>255</th>\n",
       "      <td>ban the use of unethically obtained data in scientific research</td>\n",
       "      <td>29</td>\n",
       "    </tr>\n",
       "    <tr>\n",
       "      <th>91</th>\n",
       "      <td>developing countries are justified in and should pursue ip theft as a strategy for development</td>\n",
       "      <td>29</td>\n",
       "    </tr>\n",
       "    <tr>\n",
       "      <th>88</th>\n",
       "      <td>developing countries are justified in and should pursue ip theft as a strategy for development</td>\n",
       "      <td>29</td>\n",
       "    </tr>\n",
       "    <tr>\n",
       "      <th>36</th>\n",
       "      <td>stigmatisation of “neediness” in interpersonal relationships</td>\n",
       "      <td>30</td>\n",
       "    </tr>\n",
       "    <tr>\n",
       "      <th>335</th>\n",
       "      <td>missile defence</td>\n",
       "      <td>30</td>\n",
       "    </tr>\n",
       "    <tr>\n",
       "      <th>27</th>\n",
       "      <td>a world in which all people have chronic pinocchiosis</td>\n",
       "      <td>30</td>\n",
       "    </tr>\n",
       "    <tr>\n",
       "      <th>62</th>\n",
       "      <td>a world ruled by a benevolent ai programmed to maximize utility by calculating the actions most guaranteed to reduce the greatest global suffering</td>\n",
       "      <td>30</td>\n",
       "    </tr>\n",
       "    <tr>\n",
       "      <th>371</th>\n",
       "      <td>cost of space exploration is justified</td>\n",
       "      <td>30</td>\n",
       "    </tr>\n",
       "    <tr>\n",
       "      <th>66</th>\n",
       "      <td>introduce a global carbon market</td>\n",
       "      <td>30</td>\n",
       "    </tr>\n",
       "    <tr>\n",
       "      <th>367</th>\n",
       "      <td>in the nuclear deterrent</td>\n",
       "      <td>30</td>\n",
       "    </tr>\n",
       "    <tr>\n",
       "      <th>20</th>\n",
       "      <td>wait for their 'statistical soulmate'</td>\n",
       "      <td>30</td>\n",
       "    </tr>\n",
       "    <tr>\n",
       "      <th>90</th>\n",
       "      <td>cheat</td>\n",
       "      <td>30</td>\n",
       "    </tr>\n",
       "    <tr>\n",
       "      <th>354</th>\n",
       "      <td>doesn’t matter whether you win or lose but how you play the game</td>\n",
       "      <td>30</td>\n",
       "    </tr>\n",
       "    <tr>\n",
       "      <th>81</th>\n",
       "      <td>parenting models that adultify teenagers (ie giving them more responsibilities and autonomy, assuming higher capacity for independence) to those which emphasize their status and treatment as teenagers (ie refraining from giving them adult responsibilities, emphasizing they are legal minors)</td>\n",
       "      <td>30</td>\n",
       "    </tr>\n",
       "    <tr>\n",
       "      <th>13</th>\n",
       "      <td>rise of  mystic arts (eg tarot reading, astrology calculations, witchcraft, dream interpretation)</td>\n",
       "      <td>30</td>\n",
       "    </tr>\n",
       "    <tr>\n",
       "      <th>78</th>\n",
       "      <td>a world in which success and failure are seen as a consequence of random factors, rather than personal actions</td>\n",
       "      <td>30</td>\n",
       "    </tr>\n",
       "    <tr>\n",
       "      <th>291</th>\n",
       "      <td>costs of space exploration outweigh  benefits</td>\n",
       "      <td>30</td>\n",
       "    </tr>\n",
       "    <tr>\n",
       "      <th>213</th>\n",
       "      <td>100% tax on all inherited wealth</td>\n",
       "      <td>31</td>\n",
       "    </tr>\n",
       "    <tr>\n",
       "      <th>68</th>\n",
       "      <td>decline of  family as  dominant unit of organisation in society</td>\n",
       "      <td>31</td>\n",
       "    </tr>\n",
       "    <tr>\n",
       "      <th>383</th>\n",
       "      <td>feminism is corrupting the family</td>\n",
       "      <td>31</td>\n",
       "    </tr>\n",
       "    <tr>\n",
       "      <th>380</th>\n",
       "      <td>feminism is corrupting the family</td>\n",
       "      <td>31</td>\n",
       "    </tr>\n",
       "    <tr>\n",
       "      <th>119</th>\n",
       "      <td>grant amnesty to perpetrarors of crimes rather than seeking prosecutions</td>\n",
       "      <td>32</td>\n",
       "    </tr>\n",
       "    <tr>\n",
       "      <th>185</th>\n",
       "      <td>not allow unvaccinated children to attend public schools</td>\n",
       "      <td>32</td>\n",
       "    </tr>\n",
       "    <tr>\n",
       "      <th>288</th>\n",
       "      <td>first-time offenders who commit non-violent crimes should not be sent to jail</td>\n",
       "      <td>32</td>\n",
       "    </tr>\n",
       "    <tr>\n",
       "      <th>203</th>\n",
       "      <td>ban alcohol</td>\n",
       "      <td>32</td>\n",
       "    </tr>\n",
       "    <tr>\n",
       "      <th>342</th>\n",
       "      <td>ban all handguns</td>\n",
       "      <td>32</td>\n",
       "    </tr>\n",
       "    <tr>\n",
       "      <th>252</th>\n",
       "      <td>all illegal immigrants should receive amnesty</td>\n",
       "      <td>32</td>\n",
       "    </tr>\n",
       "    <tr>\n",
       "      <th>359</th>\n",
       "      <td>influence of hollywood</td>\n",
       "      <td>33</td>\n",
       "    </tr>\n",
       "    <tr>\n",
       "      <th>384</th>\n",
       "      <td>hollywood has a lot to answer for</td>\n",
       "      <td>33</td>\n",
       "    </tr>\n",
       "    <tr>\n",
       "      <th>35</th>\n",
       "      <td>a future in which generative ai is further developed and implemented in significantly more fields, compared to a future in which the development and implementation of generative ai stays within its current confines</td>\n",
       "      <td>33</td>\n",
       "    </tr>\n",
       "    <tr>\n",
       "      <th>34</th>\n",
       "      <td>a future in which generative ai is further developed and implemented in significantly more fields, compared to a future in which the development and implementation of generative ai stays within its current confines</td>\n",
       "      <td>33</td>\n",
       "    </tr>\n",
       "    <tr>\n",
       "      <th>319</th>\n",
       "      <td>current intellectual property laws are a brake on progress</td>\n",
       "      <td>33</td>\n",
       "    </tr>\n",
       "    <tr>\n",
       "      <th>16</th>\n",
       "      <td>significant use of aritificial intellegence to produce legal rulings</td>\n",
       "      <td>34</td>\n",
       "    </tr>\n",
       "    <tr>\n",
       "      <th>77</th>\n",
       "      <td>rise of  use of cryptocurrencies (eg bitcoin, ereum, usdt) in financial transactions</td>\n",
       "      <td>34</td>\n",
       "    </tr>\n",
       "    <tr>\n",
       "      <th>340</th>\n",
       "      <td>media has become too powerful</td>\n",
       "      <td>35</td>\n",
       "    </tr>\n",
       "    <tr>\n",
       "      <th>58</th>\n",
       "      <td>depictions of veganism as trendy</td>\n",
       "      <td>35</td>\n",
       "    </tr>\n",
       "    <tr>\n",
       "      <th>127</th>\n",
       "      <td>glorification of soldiers as heroes</td>\n",
       "      <td>35</td>\n",
       "    </tr>\n",
       "    <tr>\n",
       "      <th>273</th>\n",
       "      <td>limit media reporting of terrorist atrocities</td>\n",
       "      <td>35</td>\n",
       "    </tr>\n",
       "    <tr>\n",
       "      <th>216</th>\n",
       "      <td>offer dictators immunity in return for leaving power</td>\n",
       "      <td>35</td>\n",
       "    </tr>\n",
       "    <tr>\n",
       "      <th>378</th>\n",
       "      <td>terrorism is justifiable in some circumstances</td>\n",
       "      <td>35</td>\n",
       "    </tr>\n",
       "    <tr>\n",
       "      <th>178</th>\n",
       "      <td>media focus on  personal lives of politicians</td>\n",
       "      <td>35</td>\n",
       "    </tr>\n",
       "    <tr>\n",
       "      <th>192</th>\n",
       "      <td>media should be prevented by law from intruding  lives of public figures</td>\n",
       "      <td>35</td>\n",
       "    </tr>\n",
       "    <tr>\n",
       "      <th>125</th>\n",
       "      <td>china’s attempt to become a global dominant power (eg establishing its own global financial/development institutions; increased fdi in africa, south america, asia; increased military spending)</td>\n",
       "      <td>36</td>\n",
       "    </tr>\n",
       "    <tr>\n",
       "      <th>262</th>\n",
       "      <td>hosting of  2008 beijing olympics</td>\n",
       "      <td>36</td>\n",
       "    </tr>\n",
       "    <tr>\n",
       "      <th>134</th>\n",
       "      <td>belt and road initiative</td>\n",
       "      <td>36</td>\n",
       "    </tr>\n",
       "    <tr>\n",
       "      <th>174</th>\n",
       "      <td>forgive greece’s debt</td>\n",
       "      <td>36</td>\n",
       "    </tr>\n",
       "    <tr>\n",
       "      <th>356</th>\n",
       "      <td>national security concerns justify the restriction of civil liberties</td>\n",
       "      <td>37</td>\n",
       "    </tr>\n",
       "    <tr>\n",
       "      <th>116</th>\n",
       "      <td>us national security agency should notify software manufacturers of all zero-day vulnerabilities in order for m to patch  defect</td>\n",
       "      <td>37</td>\n",
       "    </tr>\n",
       "    <tr>\n",
       "      <th>142</th>\n",
       "      <td>impose restrictions on opening of stores opened by large business chains to protect local businesses</td>\n",
       "      <td>37</td>\n",
       "    </tr>\n",
       "    <tr>\n",
       "      <th>299</th>\n",
       "      <td>national security should take precedence over individual rights</td>\n",
       "      <td>37</td>\n",
       "    </tr>\n",
       "    <tr>\n",
       "      <th>133</th>\n",
       "      <td>not allow sellers and service-providers to advertise their products beyond showing information and images that reveal technical product details</td>\n",
       "      <td>37</td>\n",
       "    </tr>\n",
       "    <tr>\n",
       "      <th>368</th>\n",
       "      <td>state has a duty to protect individuals from mselves</td>\n",
       "      <td>37</td>\n",
       "    </tr>\n",
       "    <tr>\n",
       "      <th>135</th>\n",
       "      <td>rise of call-out culture</td>\n",
       "      <td>37</td>\n",
       "    </tr>\n",
       "    <tr>\n",
       "      <th>305</th>\n",
       "      <td>fast food companies should pay people compensation for damaging their health</td>\n",
       "      <td>37</td>\n",
       "    </tr>\n",
       "    <tr>\n",
       "      <th>158</th>\n",
       "      <td>technology companies with significant market shares should not be eligible for patent protection</td>\n",
       "      <td>37</td>\n",
       "    </tr>\n",
       "    <tr>\n",
       "      <th>218</th>\n",
       "      <td>universal primary education is a misallocation of resources for the developing world</td>\n",
       "      <td>38</td>\n",
       "    </tr>\n",
       "    <tr>\n",
       "      <th>14</th>\n",
       "      <td>companies using qualitative measures rather than quantitative measures when assessing employee performance</td>\n",
       "      <td>38</td>\n",
       "    </tr>\n",
       "    <tr>\n",
       "      <th>210</th>\n",
       "      <td>states should enshrine legally actionable socio-economic rights</td>\n",
       "      <td>38</td>\n",
       "    </tr>\n",
       "    <tr>\n",
       "      <th>33</th>\n",
       "      <td>schools should prioritise fostering students' internal motivation rather than emphasising compliance to external motivations</td>\n",
       "      <td>38</td>\n",
       "    </tr>\n",
       "    <tr>\n",
       "      <th>206</th>\n",
       "      <td>developing nations should place limits on internal rural-urban migration</td>\n",
       "      <td>38</td>\n",
       "    </tr>\n",
       "    <tr>\n",
       "      <th>112</th>\n",
       "      <td>west should withdraw ir military cooperation from india until y restore special privileges to kashmiris in  j&amp;k region</td>\n",
       "      <td>38</td>\n",
       "    </tr>\n",
       "    <tr>\n",
       "      <th>313</th>\n",
       "      <td>political parties have too much influence on democratic elections</td>\n",
       "      <td>38</td>\n",
       "    </tr>\n",
       "    <tr>\n",
       "      <th>169</th>\n",
       "      <td>academic tracking in primary and secondary education</td>\n",
       "      <td>38</td>\n",
       "    </tr>\n",
       "    <tr>\n",
       "      <th>165</th>\n",
       "      <td>versions of history taught by states through the education system should not be designed to promote national pride</td>\n",
       "      <td>38</td>\n",
       "    </tr>\n",
       "    <tr>\n",
       "      <th>343</th>\n",
       "      <td>gay couples should be allowed to adopt children</td>\n",
       "      <td>39</td>\n",
       "    </tr>\n",
       "    <tr>\n",
       "      <th>310</th>\n",
       "      <td>religion has no place in state schools</td>\n",
       "      <td>39</td>\n",
       "    </tr>\n",
       "    <tr>\n",
       "      <th>212</th>\n",
       "      <td>gay rights organizations should out gay public figures</td>\n",
       "      <td>39</td>\n",
       "    </tr>\n",
       "    <tr>\n",
       "      <th>61</th>\n",
       "      <td>lgbtq+ community should actively embrace  nuclear family ideal</td>\n",
       "      <td>39</td>\n",
       "    </tr>\n",
       "    <tr>\n",
       "      <th>162</th>\n",
       "      <td>abolish religious primary and secondary schools</td>\n",
       "      <td>39</td>\n",
       "    </tr>\n",
       "    <tr>\n",
       "      <th>337</th>\n",
       "      <td>ban genetic screening</td>\n",
       "      <td>39</td>\n",
       "    </tr>\n",
       "    <tr>\n",
       "      <th>21</th>\n",
       "      <td>businesses should not take a public position on social issues</td>\n",
       "      <td>40</td>\n",
       "    </tr>\n",
       "    <tr>\n",
       "      <th>117</th>\n",
       "      <td>creating new lead characters for minorities (eg hancock, black panthar) is better than recasing them in existing roles already played by other actors/communities (eg ghostbusters, the little marmaid)</td>\n",
       "      <td>40</td>\n",
       "    </tr>\n",
       "    <tr>\n",
       "      <th>79</th>\n",
       "      <td>overstate the impact of minority forces (japanese american 442nd battalion during ww2, russia's women's battalion of death during ww1, 4th indian infantry division during ww2) in wars, even at the cost of historical accuracy</td>\n",
       "      <td>40</td>\n",
       "    </tr>\n",
       "    <tr>\n",
       "      <th>345</th>\n",
       "      <td>affluent nations should accept more refugees</td>\n",
       "      <td>40</td>\n",
       "    </tr>\n",
       "    <tr>\n",
       "      <th>164</th>\n",
       "      <td>governments should ban their citizens from joining overseas groups fighting against terrorism which are not official military forces</td>\n",
       "      <td>40</td>\n",
       "    </tr>\n",
       "    <tr>\n",
       "      <th>107</th>\n",
       "      <td>allocate the majority of government sports funding to encourage grassroots participation (eg: amateur community clubs, after school sports clubs, etc) rather than invest in achieving success in prestigious competitions (eg: intensive coaching academies, player and personnel salaries, etc)</td>\n",
       "      <td>40</td>\n",
       "    </tr>\n",
       "    <tr>\n",
       "      <th>113</th>\n",
       "      <td>states should reclaim a large proportion of all donations to charities and redistribute it across charities on the basis of their effectiveness</td>\n",
       "      <td>40</td>\n",
       "    </tr>\n",
       "    <tr>\n",
       "      <th>247</th>\n",
       "      <td>public services are best run by private companies</td>\n",
       "      <td>40</td>\n",
       "    </tr>\n",
       "    <tr>\n",
       "      <th>274</th>\n",
       "      <td>force organizations to place more women in senior positions</td>\n",
       "      <td>40</td>\n",
       "    </tr>\n",
       "    <tr>\n",
       "      <th>231</th>\n",
       "      <td>we should support quotas for women in high government positions</td>\n",
       "      <td>40</td>\n",
       "    </tr>\n",
       "    <tr>\n",
       "      <th>324</th>\n",
       "      <td>quotas for women in national parliaments</td>\n",
       "      <td>40</td>\n",
       "    </tr>\n",
       "    <tr>\n",
       "      <th>131</th>\n",
       "      <td>states should allow all non-citizen migrant workers to vote in local and national elections</td>\n",
       "      <td>40</td>\n",
       "    </tr>\n",
       "    <tr>\n",
       "      <th>2</th>\n",
       "      <td>it is in the interest of georgian government to democratically backslide</td>\n",
       "      <td>41</td>\n",
       "    </tr>\n",
       "    <tr>\n",
       "      <th>19</th>\n",
       "      <td>is in the interest of republic of moldova to pursue re-unification wh romania</td>\n",
       "      <td>41</td>\n",
       "    </tr>\n",
       "    <tr>\n",
       "      <th>360</th>\n",
       "      <td>millenium</td>\n",
       "      <td>42</td>\n",
       "    </tr>\n",
       "    <tr>\n",
       "      <th>385</th>\n",
       "      <td>tourists are a global menace</td>\n",
       "      <td>42</td>\n",
       "    </tr>\n",
       "    <tr>\n",
       "      <th>1</th>\n",
       "      <td>creation of  series and film industry</td>\n",
       "      <td>42</td>\n",
       "    </tr>\n",
       "    <tr>\n",
       "      <th>47</th>\n",
       "      <td>aestisation of suffering</td>\n",
       "      <td>42</td>\n",
       "    </tr>\n",
       "    <tr>\n",
       "      <th>269</th>\n",
       "      <td>united states should withdraw from its military bases in asia</td>\n",
       "      <td>43</td>\n",
       "    </tr>\n",
       "    <tr>\n",
       "      <th>193</th>\n",
       "      <td>greater us military presence in east asia</td>\n",
       "      <td>43</td>\n",
       "    </tr>\n",
       "    <tr>\n",
       "      <th>189</th>\n",
       "      <td>drone strikes are a legitimate tool of foreign policy</td>\n",
       "      <td>43</td>\n",
       "    </tr>\n",
       "    <tr>\n",
       "      <th>332</th>\n",
       "      <td>maintain united states military bases in asia</td>\n",
       "      <td>43</td>\n",
       "    </tr>\n",
       "    <tr>\n",
       "      <th>215</th>\n",
       "      <td>government run broadcasting stations should give airtime to racist political parties</td>\n",
       "      <td>44</td>\n",
       "    </tr>\n",
       "    <tr>\n",
       "      <th>69</th>\n",
       "      <td>implement fairness doctrines on broadcast news media with significant audience reach</td>\n",
       "      <td>44</td>\n",
       "    </tr>\n",
       "    <tr>\n",
       "      <th>232</th>\n",
       "      <td>doctors should report evidence of martial abuse to the police</td>\n",
       "      <td>44</td>\n",
       "    </tr>\n",
       "    <tr>\n",
       "      <th>246</th>\n",
       "      <td>ban the physical punishment of children by their parents</td>\n",
       "      <td>44</td>\n",
       "    </tr>\n",
       "    <tr>\n",
       "      <th>163</th>\n",
       "      <td>large tech companies should refuse to provide data on their customers to governments, even if it involves refusing to comply with a law which compels them to do so</td>\n",
       "      <td>44</td>\n",
       "    </tr>\n",
       "    <tr>\n",
       "      <th>248</th>\n",
       "      <td>pursue minor crimes with the same vigour as major crimes</td>\n",
       "      <td>44</td>\n",
       "    </tr>\n",
       "    <tr>\n",
       "      <th>283</th>\n",
       "      <td>ban abortion except in cases where the mother’s health is at risk</td>\n",
       "      <td>44</td>\n",
       "    </tr>\n",
       "    <tr>\n",
       "      <th>140</th>\n",
       "      <td>the west should end all arms sales and military cooperation with saudi arabia</td>\n",
       "      <td>44</td>\n",
       "    </tr>\n",
       "    <tr>\n",
       "      <th>122</th>\n",
       "      <td>ban the practice of “importing brides”</td>\n",
       "      <td>44</td>\n",
       "    </tr>\n",
       "    <tr>\n",
       "      <th>266</th>\n",
       "      <td>ban the use of models who are below a healthy weight</td>\n",
       "      <td>44</td>\n",
       "    </tr>\n",
       "    <tr>\n",
       "      <th>99</th>\n",
       "      <td>ban political parties and require all candidates for national public office to seek election as independents</td>\n",
       "      <td>44</td>\n",
       "    </tr>\n",
       "    <tr>\n",
       "      <th>207</th>\n",
       "      <td>police should use racial profiling when fighting crime</td>\n",
       "      <td>44</td>\n",
       "    </tr>\n",
       "    <tr>\n",
       "      <th>196</th>\n",
       "      <td>require government schools to teach religious studies</td>\n",
       "      <td>44</td>\n",
       "    </tr>\n",
       "  </tbody>\n",
       "</table>\n",
       "</div>"
      ],
      "text/plain": [
       "                                                                                                                                                                                                                                                                                                                    Motion (cleaned)  \\\n",
       "73                                                                                                                                                                                    developing countries should privatise their state owned enterprises (such as airlines, utility companies like electricity, gas companies, etc)   \n",
       "256                                                                                                                                                                                                                                                               humanities courses should be part of every undergraduate programme   \n",
       "182                                                                                                                                                                                                                                                   allow prisoners to volunteer for drug trials in exchange for lighter sentences   \n",
       "145                                                                                                                                                                                                                                                           make labour union membership compulsory in large industries (prepared)   \n",
       "264                                                                                                                                                                                                                                                                       expand the permanent membership of the un security council   \n",
       "228                                                                                                                                                                                                                                                                               we should support military intervention in somalia   \n",
       "253                                                                                                                                                                                                                                                            military intervention to deliver emergency aid in humanitarian crises   \n",
       "302                                                                                                                                                                                                                                                 permanent members of  united nations security council should not have veto power   \n",
       "363                                                                                                                                                                                                                                                                                                                  bombing of iraq   \n",
       "52                                                                                                                                                                                                                                                                           internet gurus* selling their own products and services   \n",
       "51                                                                                                                                                                                                                                                                                       use of  nine planetary boundaries framework   \n",
       "54                                                                                                                                                                                                                                                                  african countries should recognise the sovereignty of somaliland   \n",
       "177                                                                                                                                                                                                                                                 military struggle against isis should be conducted solely by middle east nations   \n",
       "89                                                                                                                                                                                                                                                                                                              intervene militarily   \n",
       "87                                                                                                                                                                                                                                                                                                         volunteer to be a warrior   \n",
       "9                                                                                                                                                                                                                                                     turn yourself into a dog rather than letting your partner be turned into a dog   \n",
       "150                                                                                                                                                                                                                                                                                       military retaliation against cyber attacks   \n",
       "49   religious faith being predominantly experienced through organised religion (eg, communities based around religious gatherings, the church's centralised interpretations of scripture) rather than through an individual relationship with god (eg, personal interpretation of broad religious moral virtues, individual prayer)   \n",
       "361                                                                                                                                                                                                                                                                                   break the law to protect the rights of animals   \n",
       "109                                                                                                                                                                                                                                                   social movements should actively use anger to mobalise support for their cause   \n",
       "82                                                                                                                                                                                                                                                                                                                 academic activism   \n",
       "126                                                                                                                                                                                                             charities and humanitarian aid organization should not use image of graphic suffering in their advertising campaigns   \n",
       "128                                                                                                                                                                                                                  require professional sports teams to be owned by their local communities instead of individuals or corporations   \n",
       "76                                                                                                                                                                                                                                                     lgbtqia+ movement should centre reinterpreting religions in its public agenda   \n",
       "278                                                                                                                                                                                                                                                                         place a worldwide ban on the use of civil nuclear energy   \n",
       "195                                                                                                                                                                                                                                                                         cease the exploitation of resources in the arctic region   \n",
       "184                                                                                                                                                                                                                                                                                            slum tourism does more harm than good   \n",
       "7                                                                                                                                                                                                                                                                                              gangster rap does more harm than good   \n",
       "311                                                                                                                                                                                                                                                                                            influence of  music industry on youth   \n",
       "364                                                                                                                                                                                                                                                                              governments should never restrict freedom of speech   \n",
       "156                                                                                                                                                                                                                                          require democratic states to hold a national referendum to ratify free trade agreements   \n",
       "225                                                                                                                                                                                                                                                                                                                 free immigration   \n",
       "92                                                                                                                                                                                                                                                           require partners to pay their house husbands/wives for household chores   \n",
       "121                                                                                                                                                                                                                                                                              reserve seats in parliament for candidates under 30   \n",
       "261                                                                                                                                                                                                                                                heads of government should be required to have a parliamentary majority to govern   \n",
       "153                                                                                                                                                                                                                                                 restrictions on free speech to combat the rise of right-wing populism (prepared)   \n",
       "349                                                                                                                                                                                                                                                                                                                 impose democracy   \n",
       "71                                                                                                                                                                                     require all elected officials to stand for a recall election if a significant minimum threshold of voters within their constituency demand it   \n",
       "201                                                                                                                                                                                                                                                                 government should pay house wives and house husbands for ir work   \n",
       "176                                                                                                                                                                                                                                                       affirmative action policies are counterproductive in reducing inequalities   \n",
       "358                                                                                                                                                                                                                                                                                          international criminal court won’t work   \n",
       "286                                                                                                                                                                                                                                                           governments should subsidise the traditional arts of minority cultures   \n",
       "353                                                                                                                                                                                                                                                                                          we should further regulate the internet   \n",
       "95                                                                                                                                                                                                          designate specific non-residential areas in which drug users and dealers are legally allowed to buy, use, and sell drugs   \n",
       "204                                                                                                                                                                                                                                   newly democratised arab nations should not allow religious parties to participate in elections   \n",
       "268                                                                                                                                                                                                                                                   governments should not place limits in the areas which scientists may research   \n",
       "270                                                                                                                                                                                                                                                                                                               legalize all drugs   \n",
       "144                                                                                                                                                                                                   states should not erect statues or memorials which commemorate or glorify military campaigns or the service of soldiers in war   \n",
       "297                                                                                                                                                                                                                                                               education policy should be the responsibility of local authorities   \n",
       "115                                                                                                                                                                                                                                                                               governments should actively prevent gentrification   \n",
       "161                                                                                                                                                                                                                                                  require individuals to pass a political general knowledge test in order to vote   \n",
       "171                                                                                                                                                                                                                                           cities with significant immigrant populations should actively break up ethnic enclaves   \n",
       "341                                                                                                                                                                                                                                                                  waive patent rights for aids drugs for underdeveloped countries   \n",
       "194                                                                                                                                                                                                                                                                               allow prisoners to choose death over life sentence   \n",
       "322                                                                                                                                                                                                                                                                                                             voluntary euthanasia   \n",
       "336                                                                                                                                                                                                                                                                        make tobacco companies pay compensation to the individual   \n",
       "245                                                                                                                                                                                                                                                                                                     ban smoking in public places   \n",
       "129                                                                                                                                                                                                                                                                                         development of lethal autonomous weapons   \n",
       "281                                                                                                                                                                                                                                                                                     place a worldwide ban on tobacco advertising   \n",
       "173                                                                                                                                                                                                                                                                                                                   a right to die   \n",
       "314                                                                                                                                                                                                                                                                                        globalisation perpetuates social inequity   \n",
       "29                                                                                                                                                                                                                             heads of central banks (eg  federal reserve,  european central bank) should be democratically elected   \n",
       "64                                                                                                                                                                                                a world where instead of charging tuition fees to students upfront, universities collect a portion of their income upon graduation   \n",
       "44                                                                                                                                universities should heavily prioritise local students over international students (eg, higher tuition for international students, degrees in native languages, student quotas in popular programs)   \n",
       "114                                                                                                                                                                                                                                                                                         choose the job they are passionate about   \n",
       "346                                                                                                                                                                                                                                                                                                          cancel third world debt   \n",
       "50                                                                                                                                                                                                                                                                       world bank group should adopt a one-country-one-vote system   \n",
       "154                                                                                                                                                                                                    , after meeting their basic needs, individuals have a moral responsibility to donate their wealth towards poverty alleviation   \n",
       "106                                                                                                                                                                                                                                large international institutions (eg un & world bank) should only accept female country delegates   \n",
       "53                                                                                                                                                                                                              feminist movement should promote  maximisation of individual development and empowerment over solidarity among women   \n",
       "152                                                                                                                                                                                                                                                                                  a benevolent dictatorship over a weak democracy   \n",
       "72                                              a world in which postcolonial african states had prioritised achieving economic and land reparations (eg: active land redistribution, quotas, cash transfer programmes) over enshrining civil and political rights (eg rights to protest, vote, free speech, form associations, etc)   \n",
       "344                                                                                                                                                                                                                                                                                                                       of cloning   \n",
       "94                                                                                                                                                                                                         develop non-sentient artificial intelligence that imitates deceased loved ones in appearance, personality, and mannerisms   \n",
       "306                                                                                                                                                                                                                                                               we should make use of genetically modified crops to feed the world   \n",
       "28                                                                                                                                                                                                                                                                                              support the use of extremist tactics   \n",
       "377                                                                                                                                                                                                                                                                                                 expand the use of nuclear energy   \n",
       "379                                                                                                                                                                                                                                                                                              technology has outstripped morality   \n",
       "8                                                                                                                                                                                                                                                      it is better to have been born morally correct than to overcome ones evilness   \n",
       "375                                                                                                                                                                                                                                                                                                 expand the use of nuclear energy   \n",
       "4                                                                                                                                                                                                                                                                                                  implement a weekly 'blackout day'   \n",
       "243                                                                                                                                                                                                                                                                                                 terrorism can never be justified   \n",
       "381                                                                                                                                                                                                                                                                                              technology has outstripped morality   \n",
       "37                                                                                                         mandate the consumption of the elixir of truth during all proceedings of criminal trials by all participants (ie defendants, plaintiffs, eyewitnesses, prosecutors, judges, court reporters, testifying specialists, etc)   \n",
       "236                                                                                                                                                                                                                                                                              we should have no law restricting freedom of speech   \n",
       "168                                                                                                                                                                                                                                          require defendants in criminal trials to be represented exclusively by public defenders   \n",
       "316                                                                                                                                                                                                                                                                                                                 in trial by jury   \n",
       "217                                                                                                                                                                                                                                                                                 allow free distribution of music on the internet   \n",
       "187                                                                                                                                                                                                                                                                                                         not prosecute defamation   \n",
       "219                                                                                                                                                                                                                                                                                      make voting in national elections mandatory   \n",
       "293                                                                                                                                                                                                                                                                                   political parties should receive state funding   \n",
       "229                                                                                                                                                                                                                                                                          we should make physical education compulsory in schools   \n",
       "254                                                                                                                                                                                                                                                                         ban strikes by those working in essential state services   \n",
       "226                                                                                                                                                                                                                                     every region should have the right to independent statehood if majority of it’s members wish   \n",
       "294                                                                                                                                                                                                                                                                              civil marriage should be open to homosexual couples   \n",
       "23                                                                                                                                                                                                                                                 estonia’s proposal to revoke local voting rights from citizens of agressor states   \n",
       "318                                                                                                                                                                                                                                                                                voting in national elections should be compulsory   \n",
       "46                                                                                                                                                                                                                               expectation that committed romantic relationships are long-term\\r\\n\\r\\n*don't use chatgpt for prep!   \n",
       "326                                                                                                                                                                                                                                                                                                            legalise prostitution   \n",
       "97                                                                                                                                                                                   opposition political parties should boycott elections, rather than contest them, when the electoral process is believed not to be free and fair   \n",
       "244                                                                                                                                                                                                                           legalise current technologies for choosing human embryos on the basis of their genetic characteristics   \n",
       "200                                                                                                                                                                                                               social movements in democratic countries should drive social change through the courts rather than the legislature   \n",
       "83                                                                                                                                                                                                              not allow any individual shareholders to own a controlling interest in large, publicly traded social media companies   \n",
       "15                                                                                                                                                                                                                                                                                 introduce congestion pricing in central districts   \n",
       "284                                                                                                                                                                                                                         internet search engines should boycott china until it allows its citizens unrestricted access to the web   \n",
       "123                                                                                                                                                                                                   right of indigenous peoples to have publicly funded schools with autonomy over curriculum, operations & educational philosophy   \n",
       "146                                                                                                                                                                                                                         when working to preserve rare and endangered species, private entities are more effective than the state   \n",
       "230                                                                                                                                                                                                                                                                   every country should have the right to possess nuclear weapons   \n",
       "233                                                                                                                                                                                                                                developing nations should have the right to give priority to development ahead of the environment   \n",
       "309                                                                                                                                                                                                                                                                                governments should protect their native languages   \n",
       "211                                                                                                                                                                                                                                                 govt should create special schools that teach in endangered indigenous languages   \n",
       "102                                                                                                                                                                                                                       mainstream search engines should refuse to list results with sexist, racist or otherwise offensive content   \n",
       "357                                                                                                                                                                                                                                                                                    legalise performance-enhancing drugs in sport   \n",
       "223                                                                                                                                                                                                                                                                           penalize sporting teams for the behavior of their fans   \n",
       "333                                                                                                                                                                                                                                                                                          gambling of all forms should be illegal   \n",
       "55                                                                                                                                                                                                                                                                                                     professionalisation of sports   \n",
       "3                                                                                                                                                                                                                                                                                  globalization of  major european football leagues   \n",
       "320                                                                                                                                                                                                                                                                                sporting boycotts are a legitimate political tool   \n",
       "235                                                                                                                                                                                                                                                                                   we should legalise performance enhancing drugs   \n",
       "6                                                                                                                                                                                                                           's the interest of the feminist movement to actively oppose the popularization of calling women \"karens\"   \n",
       "287                                                                                                                                                                                                                                                                                         punish sports teams whose fans misbehave   \n",
       "208                                                                                                                                                                                                                                                                               feminist movement should seek a ban on pornography   \n",
       "329                                                                                                                                                                                                                                                                                     professionalism has ruined the olympic games   \n",
       "327                                                                                                                                                                                                                                                                  political decisions should not be dictated by religious beliefs   \n",
       "48                                                                                                                                                                                                                            criminal justice policy should be decided by appointed technocrats rather than elected representatives   \n",
       "148                                                                                                                                                                                                              states should be able to prioritise asylum seekers on the basis of cultural similarity with the existing population   \n",
       "172                                                                                                                                                                                                                                                                                                      ban political opinion polls   \n",
       "22                                                                                                                                                                                                                                                                                                             ban mail order brides   \n",
       "151                                                                                                                                                                                                                                                 impose additional taxes on employers who use automation to replace human workers   \n",
       "118                                                                                                                                                                                                                                                                                                              break up amazon inc   \n",
       "155                                                                                                                                                                                                                                      major film and television awards shows should abolish awards categories separated by gender   \n",
       "365                                                                                                                                                                                                                                                                                         multi-nationals are the new imperialists   \n",
       "180                                                                                                                                                                                                                                                                                   ban children from becoming professional models   \n",
       "355                                                                                                                                                                                                                                                                                           costs of capitalism outweigh  benefits   \n",
       "17                                                                                                                                                                                                                                                                                        rise of identity politics in  21st century   \n",
       "149                                                                                                                                                                                                                                                                                         legalise surrogate motherhood for profit   \n",
       "141                                                                                                                                                                                                                                                                              ban for-profit universities and colleges (prepared)   \n",
       "26                                                                                                                                                                                                                                                                                                development of genetic engineering   \n",
       "143                                                                                                                                                                                                                                deny tax-exempt status to religious institutions that refuse to appoint female leaders (prepared)   \n",
       "370                                                                                                                                                                                                                                                                                                         ban surrogate motherhood   \n",
       "242                                                                                                                                                                                                                                                                            encourage the expanded use of civilian nuclear energy   \n",
       "220                                                                                                                                                                                                                                                                                                legalize the sale of human organs   \n",
       "104                                                                                                                                                                                                                                               ban corporate* sponsorship of research within academic or educational institutions   \n",
       "86                                                                                                                                                                                                                                                                                                        rise of rainbow capitalism   \n",
       "290                                                                                                                                                                                                                                                                              ban the use of human embryos in scientific research   \n",
       "221                                                                                                                                                                                                                                                                                                   stop sending humans into space   \n",
       "43                                                                                                                                        social movements should use judicial review and strategic litigation as a means of garnering legislative change, at the expense of lobbying and campaigning for new protective legislation   \n",
       "100                                                                                                                                                                                                                      multinational companies should be liable for human rights abuses that occur anywhere in their supply chains   \n",
       "57                                                                                                                                                                                                    developing countries should drop local languages in favor of a world language* as the primary medium of instruction in schools   \n",
       "272                                                                                                                                                                                                                                                                                            free trade harms the developing world   \n",
       "257                                                                                                                                                                                    make the directors of multinational companies personally liable for environmental abuses committed by their companies in the developing world   \n",
       "138                                                                                                                                                                                                                                                             foreigners should not be allowed to own land in developing countries   \n",
       "298                                                                                                                                                                                                                                                                           not give development aid to non-democratic governments   \n",
       "325                                                                                                                                                                                                                                                                                        pay development aid direct to governments   \n",
       "289                                                                                                                                                                                                                                                                      democracy is the best system of government for every nation   \n",
       "251                                                                                                                                                                                                                                                                               dictatorships should not receive international aid   \n",
       "209                                                                                                                                                                                                                                                                                             child labour in the developing world   \n",
       "347                                                                                                                                                                                                                                                                                                            use of  death penalty   \n",
       "277                                                                                                                                                                                                                                                                                     abolish the nuclear non-proliferation treaty   \n",
       "186                                                                                                                                                                                                                                       lift tax exemptions from religious institutions that refuse to recognize marriage equality   \n",
       "271                                                                                                                                                                                                                                                                                                            execute war criminals   \n",
       "263                                                                                                                                                                                                                                                                                                    drop all us sanctions on cuba   \n",
       "214                                                                                                                                                                                  south africa’s decision to use the truth and reconciliation commission rather than prosecuting perpetrators of crimes committed under apartheid   \n",
       "258                                                                                                                                                                                                                                                                    cease the use of detention without trial in the war on terror   \n",
       "373                                                                                                                                                                                                                                                                                     continue to prosecute world war ii criminals   \n",
       "241                                                                                                                                                                                                                                                                                                                     not eat meat   \n",
       "265                                                                                                                                                                                                                                               make the development of clean industry a condition for receiving non-emergency aid   \n",
       "224                                                                                                                                                                                                                                                                                                           abandon nuclear energy   \n",
       "339                                                                                                                                                                                                                                                                          compromise civil liberties in the interests of security   \n",
       "41                                                                                                                                                                                                                                                                          establish a common currency between brazil and argentina   \n",
       "40                                                                                                                                                                                                                                                                                    abandon rms titanic to board the last lifeboat   \n",
       "167                                                                                                                                                                                                                                                                                               ban the use of zero-hour contracts   \n",
       "198                                                                                                                                                                                                                            require university students to work in their country of origin for a number of years after graduation   \n",
       "352                                                                                                                                                                                                                                                 compensation should be paid for the injustices committed by previous generations   \n",
       "105                                                                                                                                                                                                                                narrative of sacrifice as a description of  work performed by essential workers during a pandemic   \n",
       "238                                                                                                                                                                                                                                                                           the united states should withdraw from the middle east   \n",
       "237                                                                                                                                                                                                                                                     compensation should be paid for the injustices committed by past generations   \n",
       "85                                                                                                                                                                                                                                                               suspend labour unions for healthcare workers during times of crisis   \n",
       "295                                                                                                                                                                                                                                                                       use affirmative action in response to historical injustice   \n",
       "181                                                                                                                                                                                                    post-revolution states should delegate trials of former rulers and high-ranking officials to the international criminal court   \n",
       "323                                                                                                                                                                                                                                                                              sovereignty of nation states is an outdated concept   \n",
       "179                                                                                                                                                                                                                                                                   governments should provide a guaranteed universal basic income   \n",
       "279                                                                                                                                                                                                                                                                   full-time students should take part in compulsory charity work   \n",
       "249                                                                                                                                                                                                                                                                            require people to work in return for welfare payments   \n",
       "312                                                                                                                                                                                                                                                                                                 welfare state should be scrapped   \n",
       "301                                                                                                                                                                                                                                                                          in regional trading blocs rather than global free trade   \n",
       "285                                                                                                                                                                                                                                                                                        war on terror has been counter-productive   \n",
       "334                                                                                                                                                                                                                                                                                                    free trade is the way forward   \n",
       "300                                                                                                                                                                                                                                                     first priority of criminal justice should be rehabilitation, not retribution   \n",
       "280                                                                                                                                                                                                                                                                        captured terrorists should be treated as prisoners of war   \n",
       "205                                                                                                                                                                                                                                                               allow single parents in prison to raise their children behind bars   \n",
       "275                                                                                                                                                                                                                                                                                             privatize public utilities companies   \n",
       "234                                                                                                                                                                                                                                                           terrorist suspects should have the right to a trial in civilian courts   \n",
       "139                                                                                                                                                                                                                                                           rehabilitation should be the only consideration in criminal sentencing   \n",
       "136                                                                                                                                                                                                                                                                      democratic states should not own or run media organisations   \n",
       "74                                                                                                                                                                                                                                                                               allow ex-convicts to apply to join the police force   \n",
       "376                                                                                                                                                                                                                                                                                               support a mandatory retirement age   \n",
       "386                                                                                                                                                                                                                                                                              repression of civil rights justifies violent action   \n",
       "374                                                                                                                                                                                                                                                                                               support a mandatory retirement age   \n",
       "330                                                                                                                                                                                                                                               politicians should only be allowed to serve in office for a limited period of time   \n",
       "183                                                                                                                                                                                                                                                                                           require companies to pay their interns   \n",
       "103                                                                                                                                                                                                                              ban job applicants from disclosing the name of the university that issued any degrees they may hold   \n",
       "175                                                                                                                                                                                                                             require members of the clergy to report all crimes to authorities including those made in confession   \n",
       "130                                                                                                                                                                                                                                                                         widespread belief that morhood is a rewarding experience   \n",
       "321                                                                                                                                                                                                                                                                                                cultural treasures belong at home   \n",
       "160                                                                                                                                                                                                                                                                              obama’s administration has done more harm than good   \n",
       "60                                                                                                                                                                                                                                         offensive art should not be commissioned for public spaces (museums, parks, squares, etc)   \n",
       "328                                                                                                                                                                                                                                                                                                             end the war on drugs   \n",
       "267                                                                                                                                                                                                                                                                                               holocaust denial should be a crime   \n",
       "292                                                                                                                                                                                                                                                                                              censorship does more harm than good   \n",
       "362                                                                                                                                                                                                                                                                                                kyoto summit didn’t go far enough   \n",
       "260                                                                                                                                                                                                                                                                                               ban government funding of the arts   \n",
       "240                                                                                                                                                                                                                                                                   cultural treasures should be returned to their areas of origin   \n",
       "372                                                                                                                                                                                                                                                                      economic sanctions against individual countries are immoral   \n",
       "170                                                                                                                                                                                                                                                         not consume art created by people who have committed deeply immoral acts   \n",
       "70                                                                                                                            a world where a majority of political fiction is positive and optimistic (eg west wing, fahrenheit 451) to one where a majority is negative and pessimistic (eg house of cards, 1984, brave new world)   \n",
       "31                             european union emphasising  need for domestic political reforms over economic reforms for member candidates (eg, prioritising reforms of  electoral system and  judiciary rar than  economic development and  improvement of  welfare of its citizens when assessing  country's readiness to join eu)   \n",
       "338                                                                                                                                                                                                                                                                                       international trading of pollution permits   \n",
       "32                             european union emphasising  need for domestic political reforms over economic reforms for member candidates (eg, prioritising reforms of  electoral system and  judiciary rar than  economic development and  improvement of  welfare of its citizens when assessing  country's readiness to join eu)   \n",
       "12                                                                                                                                                                                                                                                              eu-mercosur free trade agreement would do more good than harm to  eu   \n",
       "11                                                                                                                                                                                                                                                              eu-mercosur free trade agreement would do more good than harm to  eu   \n",
       "56                                                                                                                                                                                                                                                                         replace agricultural companies with farmers’ cooperatives   \n",
       "197                                                                                                                                                                                                                                                           sovereign debt default as a legitimate economic strategy for countries   \n",
       "350                                                                                                                                                                                                                                                                                                     to negotiate with terrorists   \n",
       "369                                                                                                                                                                                                                                                                                                turn its swords into ploughshares   \n",
       "111                                                                                                                                                                                                                                      not distributed emergency and humanitarian aid through non-state groups linked to terrorism   \n",
       "296                                                                                                                                                                                                                                                                                                        negotiate with terrorists   \n",
       "101                                                                                                                                                                                                                                     a world where all land was held in government trust and leased out on limited-term contracts   \n",
       "30                                                                                                                                                                                                                                                                                                                 ban pet ownership   \n",
       "317                                                                                                                                                                                                                                                                                                 advertise prescription medicines   \n",
       "120                                                                                                                                                                                                                                                                                                                 ban payday loans   \n",
       "303                                                                                                                                                                                                                                                                                                   do away with the olympic games   \n",
       "132                                                                                                                                                                                                                                                                                                          a school voucher system   \n",
       "331                                                                                                                                                                                                                                                                        low taxes are preferable to extensive government services   \n",
       "282                                                                                                                                                                                                                                                                                        international trading of pollution quotas   \n",
       "96                                                                                                                                                                                                                                   pay additional benefits to families on welfare according to their child’s performance in school   \n",
       "199                                                                                                                                                                                                                                                                                       cut welfare support on compulsive gamblers   \n",
       "166                                                                                                                                                                                                                                                     states should be allowed to pay other states to relocate and settle refugees   \n",
       "222                                                                                                                                                                                                                                                             women can only achieve equality under a secular system of government   \n",
       "239                                                                                                                                                                                                                                                                                  governments should never bail out big companies   \n",
       "259                                                                                                                                                                                                                                                               governments have a duty to bail out failing financial institutions   \n",
       "382                                                                                                                                                                                                                                                                                                one superpower is better than two   \n",
       "276                                                                                                                                                                                                                                                                                                                   partition iraq   \n",
       "227                                                                                                                                                                                                                                                                                       autocracy is doomed in the age of facebook   \n",
       "65                                                                                                                                                                                                                                                                                             industrial unions to workplace unions   \n",
       "45                                                                                                                                                                                                                            european union should abolish  requirement of unanimity and make all decisions by a qualified majority   \n",
       "387                                                                                                                                                                                                                                                                           the united nations is the one best hope for the future   \n",
       "24                                                                                                                                                                                                                                                                                           eastern enlargement* of  european union   \n",
       "39                                                                                                                                                            living in a world in which the majority of people would switch the track is preferable to living in a world in which the majority of people would not switch the track   \n",
       "147                                                                                                                                                                                                                                             nato enhanced forward presence in eastern europe does more harm than good (prepared)   \n",
       "202                                                                                                                                                                                                                                                                                              turkey is better off outside the eu   \n",
       "188                                                                                                                                                                                                                                                                                               labor unions are becoming obsolete   \n",
       "308                                                                                                                                                                                                                                                                                                     trade unions impede progress   \n",
       "304                                                                                                                                                                                                                                                                                            turkey should join the european union   \n",
       "25                                                                                                                                                                                                                                                                                           eastern enlargement* of  european union   \n",
       "38                                                                                                                                                                                                                                                 labour unions should engage in italian strikes as opposed to conventional strikes   \n",
       "366                                                                                                                                                                                                                                                                                                    televising of criminal trials   \n",
       "307                                                                                                                                                                                                                                                                              prosecute teenagers as adults for criminal offences   \n",
       "250                                                                                                                                                                                                                                                                                                             lower the voting age   \n",
       "59                                                                                                is against the interest of organized religion to emphasize strict requirements for personal religious commments (eg not being allowed to work on sabbath, not eating during ramadan, restraining from premaral relationships, etc)   \n",
       "159                                                                                                                                                                 should be a criminal offence to make comments which could promote hatred against people of particular races, religions, disabilies, sexualies or gender identies   \n",
       "98                                                                                                                                                                                                                                                  replace human judgment with computer algorithms in criminal sentencing decisions   \n",
       "157                                                                                                                                                                                                                                                                                                         televise criminal trials   \n",
       "67                                                                                                                                                                                                                                                                                                            ban free-to-play games   \n",
       "315                                                                                                                                                                                                                                                                                         world is facing a clash of civilizations   \n",
       "348                                                                                                                                                                                                                                                                                   international sport is warfare without weapons   \n",
       "108                                                                                                                                                                                                     a world where each believer established their own connection to god, rather than establishing one through organised religion   \n",
       "42                                                                                                                                                                                                                                            governments should prioritise funding for recreational sports over professional sports   \n",
       "124                                                                                                                                                                                                                           a world where adult children take in their elderly parents rather than support them to live separately   \n",
       "137                                                                                                                                                                                                                                                                                          a world with no belief in the afterlife   \n",
       "190                                                                                                                                                                                                                                                                                     asean political union is an impossible dream   \n",
       "5                                                                                                                                                                                                                                                                                                     concept of a national identity   \n",
       "110                                                                                                                                                                                               impose criminal liability on individuals who fail to assist a person in danger, when doing so would not place them at serious risk   \n",
       "80                                                                                                                                                                                               a world in which juries/judges can use a \"not proven\" verdict in criminal courts, in addition to \"guilty\" and \"not guilty\" verdicts   \n",
       "75                                                                                                                                                                                                                                                                                                             ban gated communities   \n",
       "63                                                                                                                                                                                                   quadrilateral security dialogue should initiate  creation of a regional defence pact (similar to  nato) in  asia pacific region   \n",
       "18                                                                                                                                                                                                                                                                                         a world where nobody holds strong beliefs   \n",
       "84                                                                                                                                                                                                                                                                     pursue vocational education over a traditional college degree   \n",
       "351                                                                                                                                                                                                                                                                give parents the final say in medical treatment of their children   \n",
       "0                                                                                                                                                                                                                                                                                                 gentle parenting becoming the norm   \n",
       "191                                                                                                                                                                                                                     important decisions about children’s health should be made by medical professionals and not by their parents   \n",
       "10                                                                                                                                                                            stop using the sorting hat to sort new students and instead let the students choose between gryffindor, slytherin, ravenclaw and hufflepuff themselves   \n",
       "93                                                                                                                                                                                                                                    developing countries are justified in and should pursue ip theft as a strategy for development   \n",
       "255                                                                                                                                                                                                                                                                  ban the use of unethically obtained data in scientific research   \n",
       "91                                                                                                                                                                                                                                    developing countries are justified in and should pursue ip theft as a strategy for development   \n",
       "88                                                                                                                                                                                                                                    developing countries are justified in and should pursue ip theft as a strategy for development   \n",
       "36                                                                                                                                                                                                                                                                      stigmatisation of “neediness” in interpersonal relationships   \n",
       "335                                                                                                                                                                                                                                                                                                                  missile defence   \n",
       "27                                                                                                                                                                                                                                                                             a world in which all people have chronic pinocchiosis   \n",
       "62                                                                                                                                                                                a world ruled by a benevolent ai programmed to maximize utility by calculating the actions most guaranteed to reduce the greatest global suffering   \n",
       "371                                                                                                                                                                                                                                                                                           cost of space exploration is justified   \n",
       "66                                                                                                                                                                                                                                                                                                  introduce a global carbon market   \n",
       "367                                                                                                                                                                                                                                                                                                         in the nuclear deterrent   \n",
       "20                                                                                                                                                                                                                                                                                             wait for their 'statistical soulmate'   \n",
       "90                                                                                                                                                                                                                                                                                                                             cheat   \n",
       "354                                                                                                                                                                                                                                                                 doesn’t matter whether you win or lose but how you play the game   \n",
       "81                               parenting models that adultify teenagers (ie giving them more responsibilities and autonomy, assuming higher capacity for independence) to those which emphasize their status and treatment as teenagers (ie refraining from giving them adult responsibilities, emphasizing they are legal minors)   \n",
       "13                                                                                                                                                                                                                                 rise of  mystic arts (eg tarot reading, astrology calculations, witchcraft, dream interpretation)   \n",
       "78                                                                                                                                                                                                                    a world in which success and failure are seen as a consequence of random factors, rather than personal actions   \n",
       "291                                                                                                                                                                                                                                                                                    costs of space exploration outweigh  benefits   \n",
       "213                                                                                                                                                                                                                                                                                                 100% tax on all inherited wealth   \n",
       "68                                                                                                                                                                                                                                                                   decline of  family as  dominant unit of organisation in society   \n",
       "383                                                                                                                                                                                                                                                                                                feminism is corrupting the family   \n",
       "380                                                                                                                                                                                                                                                                                                feminism is corrupting the family   \n",
       "119                                                                                                                                                                                                                                                         grant amnesty to perpetrarors of crimes rather than seeking prosecutions   \n",
       "185                                                                                                                                                                                                                                                                         not allow unvaccinated children to attend public schools   \n",
       "288                                                                                                                                                                                                                                                    first-time offenders who commit non-violent crimes should not be sent to jail   \n",
       "203                                                                                                                                                                                                                                                                                                                      ban alcohol   \n",
       "342                                                                                                                                                                                                                                                                                                                 ban all handguns   \n",
       "252                                                                                                                                                                                                                                                                                    all illegal immigrants should receive amnesty   \n",
       "359                                                                                                                                                                                                                                                                                                           influence of hollywood   \n",
       "384                                                                                                                                                                                                                                                                                                hollywood has a lot to answer for   \n",
       "35                                                                                                            a future in which generative ai is further developed and implemented in significantly more fields, compared to a future in which the development and implementation of generative ai stays within its current confines   \n",
       "34                                                                                                            a future in which generative ai is further developed and implemented in significantly more fields, compared to a future in which the development and implementation of generative ai stays within its current confines   \n",
       "319                                                                                                                                                                                                                                                                       current intellectual property laws are a brake on progress   \n",
       "16                                                                                                                                                                                                                                                              significant use of aritificial intellegence to produce legal rulings   \n",
       "77                                                                                                                                                                                                                                              rise of  use of cryptocurrencies (eg bitcoin, ereum, usdt) in financial transactions   \n",
       "340                                                                                                                                                                                                                                                                                                    media has become too powerful   \n",
       "58                                                                                                                                                                                                                                                                                                  depictions of veganism as trendy   \n",
       "127                                                                                                                                                                                                                                                                                              glorification of soldiers as heroes   \n",
       "273                                                                                                                                                                                                                                                                                    limit media reporting of terrorist atrocities   \n",
       "216                                                                                                                                                                                                                                                                             offer dictators immunity in return for leaving power   \n",
       "378                                                                                                                                                                                                                                                                                   terrorism is justifiable in some circumstances   \n",
       "178                                                                                                                                                                                                                                                                                    media focus on  personal lives of politicians   \n",
       "192                                                                                                                                                                                                                                                         media should be prevented by law from intruding  lives of public figures   \n",
       "125                                                                                                                                 china’s attempt to become a global dominant power (eg establishing its own global financial/development institutions; increased fdi in africa, south america, asia; increased military spending)   \n",
       "262                                                                                                                                                                                                                                                                                                hosting of  2008 beijing olympics   \n",
       "134                                                                                                                                                                                                                                                                                                         belt and road initiative   \n",
       "174                                                                                                                                                                                                                                                                                                            forgive greece’s debt   \n",
       "356                                                                                                                                                                                                                                                            national security concerns justify the restriction of civil liberties   \n",
       "116                                                                                                                                                                                                 us national security agency should notify software manufacturers of all zero-day vulnerabilities in order for m to patch  defect   \n",
       "142                                                                                                                                                                                                                             impose restrictions on opening of stores opened by large business chains to protect local businesses   \n",
       "299                                                                                                                                                                                                                                                                  national security should take precedence over individual rights   \n",
       "133                                                                                                                                                                                  not allow sellers and service-providers to advertise their products beyond showing information and images that reveal technical product details   \n",
       "368                                                                                                                                                                                                                                                                             state has a duty to protect individuals from mselves   \n",
       "135                                                                                                                                                                                                                                                                                                         rise of call-out culture   \n",
       "305                                                                                                                                                                                                                                                     fast food companies should pay people compensation for damaging their health   \n",
       "158                                                                                                                                                                                                                                 technology companies with significant market shares should not be eligible for patent protection   \n",
       "218                                                                                                                                                                                                                                             universal primary education is a misallocation of resources for the developing world   \n",
       "14                                                                                                                                                                                                                        companies using qualitative measures rather than quantitative measures when assessing employee performance   \n",
       "210                                                                                                                                                                                                                                                                  states should enshrine legally actionable socio-economic rights   \n",
       "33                                                                                                                                                                                                      schools should prioritise fostering students' internal motivation rather than emphasising compliance to external motivations   \n",
       "206                                                                                                                                                                                                                                                         developing nations should place limits on internal rural-urban migration   \n",
       "112                                                                                                                                                                                                           west should withdraw ir military cooperation from india until y restore special privileges to kashmiris in  j&k region   \n",
       "313                                                                                                                                                                                                                                                                political parties have too much influence on democratic elections   \n",
       "169                                                                                                                                                                                                                                                                             academic tracking in primary and secondary education   \n",
       "165                                                                                                                                                                                                               versions of history taught by states through the education system should not be designed to promote national pride   \n",
       "343                                                                                                                                                                                                                                                                                  gay couples should be allowed to adopt children   \n",
       "310                                                                                                                                                                                                                                                                                           religion has no place in state schools   \n",
       "212                                                                                                                                                                                                                                                                           gay rights organizations should out gay public figures   \n",
       "61                                                                                                                                                                                                                                                                    lgbtq+ community should actively embrace  nuclear family ideal   \n",
       "162                                                                                                                                                                                                                                                                                  abolish religious primary and secondary schools   \n",
       "337                                                                                                                                                                                                                                                                                                            ban genetic screening   \n",
       "21                                                                                                                                                                                                                                                                     businesses should not take a public position on social issues   \n",
       "117                                                                                                                          creating new lead characters for minorities (eg hancock, black panthar) is better than recasing them in existing roles already played by other actors/communities (eg ghostbusters, the little marmaid)   \n",
       "79                                                                                                  overstate the impact of minority forces (japanese american 442nd battalion during ww2, russia's women's battalion of death during ww1, 4th indian infantry division during ww2) in wars, even at the cost of historical accuracy   \n",
       "345                                                                                                                                                                                                                                                                                     affluent nations should accept more refugees   \n",
       "164                                                                                                                                                                                             governments should ban their citizens from joining overseas groups fighting against terrorism which are not official military forces   \n",
       "107                                allocate the majority of government sports funding to encourage grassroots participation (eg: amateur community clubs, after school sports clubs, etc) rather than invest in achieving success in prestigious competitions (eg: intensive coaching academies, player and personnel salaries, etc)   \n",
       "113                                                                                                                                                                                  states should reclaim a large proportion of all donations to charities and redistribute it across charities on the basis of their effectiveness   \n",
       "247                                                                                                                                                                                                                                                                                public services are best run by private companies   \n",
       "274                                                                                                                                                                                                                                                                      force organizations to place more women in senior positions   \n",
       "231                                                                                                                                                                                                                                                                  we should support quotas for women in high government positions   \n",
       "324                                                                                                                                                                                                                                                                                         quotas for women in national parliaments   \n",
       "131                                                                                                                                                                                                                                      states should allow all non-citizen migrant workers to vote in local and national elections   \n",
       "2                                                                                                                                                                                                                                                           it is in the interest of georgian government to democratically backslide   \n",
       "19                                                                                                                                                                                                                                                     is in the interest of republic of moldova to pursue re-unification wh romania   \n",
       "360                                                                                                                                                                                                                                                                                                                        millenium   \n",
       "385                                                                                                                                                                                                                                                                                                     tourists are a global menace   \n",
       "1                                                                                                                                                                                                                                                                                              creation of  series and film industry   \n",
       "47                                                                                                                                                                                                                                                                                                          aestisation of suffering   \n",
       "269                                                                                                                                                                                                                                                                    united states should withdraw from its military bases in asia   \n",
       "193                                                                                                                                                                                                                                                                                        greater us military presence in east asia   \n",
       "189                                                                                                                                                                                                                                                                            drone strikes are a legitimate tool of foreign policy   \n",
       "332                                                                                                                                                                                                                                                                                    maintain united states military bases in asia   \n",
       "215                                                                                                                                                                                                                                             government run broadcasting stations should give airtime to racist political parties   \n",
       "69                                                                                                                                                                                                                                              implement fairness doctrines on broadcast news media with significant audience reach   \n",
       "232                                                                                                                                                                                                                                                                    doctors should report evidence of martial abuse to the police   \n",
       "246                                                                                                                                                                                                                                                                         ban the physical punishment of children by their parents   \n",
       "163                                                                                                                                                              large tech companies should refuse to provide data on their customers to governments, even if it involves refusing to comply with a law which compels them to do so   \n",
       "248                                                                                                                                                                                                                                                                         pursue minor crimes with the same vigour as major crimes   \n",
       "283                                                                                                                                                                                                                                                                ban abortion except in cases where the mother’s health is at risk   \n",
       "140                                                                                                                                                                                                                                                    the west should end all arms sales and military cooperation with saudi arabia   \n",
       "122                                                                                                                                                                                                                                                                                           ban the practice of “importing brides”   \n",
       "266                                                                                                                                                                                                                                                                             ban the use of models who are below a healthy weight   \n",
       "99                                                                                                                                                                                                                      ban political parties and require all candidates for national public office to seek election as independents   \n",
       "207                                                                                                                                                                                                                                                                           police should use racial profiling when fighting crime   \n",
       "196                                                                                                                                                                                                                                                                            require government schools to teach religious studies   \n",
       "\n",
       "     centroid  \n",
       "73          0  \n",
       "256         0  \n",
       "182         0  \n",
       "145         0  \n",
       "264         1  \n",
       "228         1  \n",
       "253         1  \n",
       "302         1  \n",
       "363         1  \n",
       "52          1  \n",
       "51          1  \n",
       "54          1  \n",
       "177         1  \n",
       "89          1  \n",
       "87          1  \n",
       "9           1  \n",
       "150         1  \n",
       "49          2  \n",
       "361         2  \n",
       "109         2  \n",
       "82          2  \n",
       "126         2  \n",
       "128         2  \n",
       "76          2  \n",
       "278         2  \n",
       "195         2  \n",
       "184         2  \n",
       "7           2  \n",
       "311         2  \n",
       "364         3  \n",
       "156         3  \n",
       "225         3  \n",
       "92          3  \n",
       "121         3  \n",
       "261         3  \n",
       "153         3  \n",
       "349         3  \n",
       "71          3  \n",
       "201         3  \n",
       "176         4  \n",
       "358         4  \n",
       "286         4  \n",
       "353         4  \n",
       "95          4  \n",
       "204         4  \n",
       "268         4  \n",
       "270         4  \n",
       "144         4  \n",
       "297         4  \n",
       "115         4  \n",
       "161         4  \n",
       "171         4  \n",
       "341         5  \n",
       "194         5  \n",
       "322         5  \n",
       "336         5  \n",
       "245         5  \n",
       "129         5  \n",
       "281         5  \n",
       "173         5  \n",
       "314         6  \n",
       "29          6  \n",
       "64          6  \n",
       "44          6  \n",
       "114         6  \n",
       "346         6  \n",
       "50          6  \n",
       "154         6  \n",
       "106         6  \n",
       "53          6  \n",
       "152         6  \n",
       "72          6  \n",
       "344         7  \n",
       "94          7  \n",
       "306         7  \n",
       "28          7  \n",
       "377         7  \n",
       "379         7  \n",
       "8           7  \n",
       "375         7  \n",
       "4           7  \n",
       "243         7  \n",
       "381         7  \n",
       "37          8  \n",
       "236         8  \n",
       "168         8  \n",
       "316         8  \n",
       "217         8  \n",
       "187         8  \n",
       "219         9  \n",
       "293         9  \n",
       "229         9  \n",
       "254         9  \n",
       "226         9  \n",
       "294         9  \n",
       "23          9  \n",
       "318         9  \n",
       "46          9  \n",
       "326         9  \n",
       "97          9  \n",
       "244         9  \n",
       "200         9  \n",
       "83          9  \n",
       "15          9  \n",
       "284        10  \n",
       "123        10  \n",
       "146        10  \n",
       "230        10  \n",
       "233        10  \n",
       "309        10  \n",
       "211        10  \n",
       "102        10  \n",
       "357        11  \n",
       "223        11  \n",
       "333        11  \n",
       "55         11  \n",
       "3          11  \n",
       "320        11  \n",
       "235        11  \n",
       "6          11  \n",
       "287        11  \n",
       "208        11  \n",
       "329        11  \n",
       "327        12  \n",
       "48         12  \n",
       "148        12  \n",
       "172        12  \n",
       "22         12  \n",
       "151        12  \n",
       "118        12  \n",
       "155        12  \n",
       "365        12  \n",
       "180        12  \n",
       "355        12  \n",
       "17         12  \n",
       "149        13  \n",
       "141        13  \n",
       "26         13  \n",
       "143        13  \n",
       "370        13  \n",
       "242        13  \n",
       "220        13  \n",
       "104        13  \n",
       "86         13  \n",
       "290        13  \n",
       "221        13  \n",
       "43         13  \n",
       "100        14  \n",
       "57         14  \n",
       "272        14  \n",
       "257        14  \n",
       "138        14  \n",
       "298        14  \n",
       "325        14  \n",
       "289        14  \n",
       "251        14  \n",
       "209        14  \n",
       "347        15  \n",
       "277        15  \n",
       "186        15  \n",
       "271        15  \n",
       "263        15  \n",
       "214        15  \n",
       "258        15  \n",
       "373        15  \n",
       "241        16  \n",
       "265        16  \n",
       "224        16  \n",
       "339        16  \n",
       "41         16  \n",
       "40         16  \n",
       "167        17  \n",
       "198        17  \n",
       "352        17  \n",
       "105        17  \n",
       "238        17  \n",
       "237        17  \n",
       "85         17  \n",
       "295        17  \n",
       "181        17  \n",
       "323        17  \n",
       "179        17  \n",
       "279        17  \n",
       "249        17  \n",
       "312        17  \n",
       "301        17  \n",
       "285        17  \n",
       "334        17  \n",
       "300        18  \n",
       "280        18  \n",
       "205        18  \n",
       "275        18  \n",
       "234        18  \n",
       "139        18  \n",
       "136        18  \n",
       "74         18  \n",
       "376        18  \n",
       "386        18  \n",
       "374        18  \n",
       "330        18  \n",
       "183        18  \n",
       "103        18  \n",
       "175        18  \n",
       "130        18  \n",
       "321        19  \n",
       "160        19  \n",
       "60         19  \n",
       "328        19  \n",
       "267        19  \n",
       "292        19  \n",
       "362        19  \n",
       "260        19  \n",
       "240        19  \n",
       "372        19  \n",
       "170        19  \n",
       "70         20  \n",
       "31         20  \n",
       "338        20  \n",
       "32         20  \n",
       "12         20  \n",
       "11         20  \n",
       "56         20  \n",
       "197        21  \n",
       "350        21  \n",
       "369        21  \n",
       "111        21  \n",
       "296        21  \n",
       "101        21  \n",
       "30         22  \n",
       "317        22  \n",
       "120        22  \n",
       "303        22  \n",
       "132        23  \n",
       "331        23  \n",
       "282        23  \n",
       "96         23  \n",
       "199        23  \n",
       "166        23  \n",
       "222        23  \n",
       "239        23  \n",
       "259        23  \n",
       "382        23  \n",
       "276        23  \n",
       "227        23  \n",
       "65         24  \n",
       "45         24  \n",
       "387        24  \n",
       "24         24  \n",
       "39         24  \n",
       "147        24  \n",
       "202        24  \n",
       "188        24  \n",
       "308        24  \n",
       "304        24  \n",
       "25         24  \n",
       "38         24  \n",
       "366        25  \n",
       "307        25  \n",
       "250        25  \n",
       "59         25  \n",
       "159        25  \n",
       "98         25  \n",
       "157        25  \n",
       "67         26  \n",
       "315        26  \n",
       "348        26  \n",
       "108        26  \n",
       "42         26  \n",
       "124        26  \n",
       "137        26  \n",
       "190        27  \n",
       "5          27  \n",
       "110        27  \n",
       "80         27  \n",
       "75         27  \n",
       "63         27  \n",
       "18         27  \n",
       "84         27  \n",
       "351        28  \n",
       "0          28  \n",
       "191        28  \n",
       "10         28  \n",
       "93         29  \n",
       "255        29  \n",
       "91         29  \n",
       "88         29  \n",
       "36         30  \n",
       "335        30  \n",
       "27         30  \n",
       "62         30  \n",
       "371        30  \n",
       "66         30  \n",
       "367        30  \n",
       "20         30  \n",
       "90         30  \n",
       "354        30  \n",
       "81         30  \n",
       "13         30  \n",
       "78         30  \n",
       "291        30  \n",
       "213        31  \n",
       "68         31  \n",
       "383        31  \n",
       "380        31  \n",
       "119        32  \n",
       "185        32  \n",
       "288        32  \n",
       "203        32  \n",
       "342        32  \n",
       "252        32  \n",
       "359        33  \n",
       "384        33  \n",
       "35         33  \n",
       "34         33  \n",
       "319        33  \n",
       "16         34  \n",
       "77         34  \n",
       "340        35  \n",
       "58         35  \n",
       "127        35  \n",
       "273        35  \n",
       "216        35  \n",
       "378        35  \n",
       "178        35  \n",
       "192        35  \n",
       "125        36  \n",
       "262        36  \n",
       "134        36  \n",
       "174        36  \n",
       "356        37  \n",
       "116        37  \n",
       "142        37  \n",
       "299        37  \n",
       "133        37  \n",
       "368        37  \n",
       "135        37  \n",
       "305        37  \n",
       "158        37  \n",
       "218        38  \n",
       "14         38  \n",
       "210        38  \n",
       "33         38  \n",
       "206        38  \n",
       "112        38  \n",
       "313        38  \n",
       "169        38  \n",
       "165        38  \n",
       "343        39  \n",
       "310        39  \n",
       "212        39  \n",
       "61         39  \n",
       "162        39  \n",
       "337        39  \n",
       "21         40  \n",
       "117        40  \n",
       "79         40  \n",
       "345        40  \n",
       "164        40  \n",
       "107        40  \n",
       "113        40  \n",
       "247        40  \n",
       "274        40  \n",
       "231        40  \n",
       "324        40  \n",
       "131        40  \n",
       "2          41  \n",
       "19         41  \n",
       "360        42  \n",
       "385        42  \n",
       "1          42  \n",
       "47         42  \n",
       "269        43  \n",
       "193        43  \n",
       "189        43  \n",
       "332        43  \n",
       "215        44  \n",
       "69         44  \n",
       "232        44  \n",
       "246        44  \n",
       "163        44  \n",
       "248        44  \n",
       "283        44  \n",
       "140        44  \n",
       "122        44  \n",
       "266        44  \n",
       "99         44  \n",
       "207        44  \n",
       "196        44  "
      ]
     },
     "execution_count": 654,
     "metadata": {},
     "output_type": "execute_result"
    }
   ],
   "source": [
    "pd.set_option(\"display.max_colwidth\", None)  # after this you can print any column length\n",
    "pd.set_option(\"display.max_rows\", None)  # after this you can print any column length\n",
    "\n",
    "df_with_emb.sort_values('centroid')[['Motion (cleaned)', 'centroid']]"
   ]
  },
  {
   "cell_type": "markdown",
   "id": "cbaf9fed",
   "metadata": {},
   "source": [
    "### Team wins (balance)"
   ]
  },
  {
   "cell_type": "code",
   "execution_count": 10,
   "id": "7a33651e",
   "metadata": {},
   "outputs": [
    {
     "name": "stdout",
     "output_type": "stream",
     "text": [
      "290.0 165.0\n"
     ]
    },
    {
     "data": {
      "application/vnd.plotly.v1+json": {
       "config": {
        "plotlyServerURL": "https://plot.ly"
       },
       "data": [
        {
         "domain": {
          "x": [
           0,
           1
          ],
          "y": [
           0,
           1
          ]
         },
         "hovertemplate": "label=%{label}<br>value=%{value}<extra></extra>",
         "labels": [
          "Prop wins",
          "Opp wins"
         ],
         "legendgroup": "",
         "name": "",
         "showlegend": true,
         "type": "pie",
         "values": {
          "bdata": "AAAAAAAgckAAAAAAAKBkQA==",
          "dtype": "f8"
         }
        }
       ],
       "layout": {
        "legend": {
         "tracegroupgap": 0
        },
        "template": {
         "data": {
          "bar": [
           {
            "error_x": {
             "color": "#2a3f5f"
            },
            "error_y": {
             "color": "#2a3f5f"
            },
            "marker": {
             "line": {
              "color": "#E5ECF6",
              "width": 0.5
             },
             "pattern": {
              "fillmode": "overlay",
              "size": 10,
              "solidity": 0.2
             }
            },
            "type": "bar"
           }
          ],
          "barpolar": [
           {
            "marker": {
             "line": {
              "color": "#E5ECF6",
              "width": 0.5
             },
             "pattern": {
              "fillmode": "overlay",
              "size": 10,
              "solidity": 0.2
             }
            },
            "type": "barpolar"
           }
          ],
          "carpet": [
           {
            "aaxis": {
             "endlinecolor": "#2a3f5f",
             "gridcolor": "white",
             "linecolor": "white",
             "minorgridcolor": "white",
             "startlinecolor": "#2a3f5f"
            },
            "baxis": {
             "endlinecolor": "#2a3f5f",
             "gridcolor": "white",
             "linecolor": "white",
             "minorgridcolor": "white",
             "startlinecolor": "#2a3f5f"
            },
            "type": "carpet"
           }
          ],
          "choropleth": [
           {
            "colorbar": {
             "outlinewidth": 0,
             "ticks": ""
            },
            "type": "choropleth"
           }
          ],
          "contour": [
           {
            "colorbar": {
             "outlinewidth": 0,
             "ticks": ""
            },
            "colorscale": [
             [
              0,
              "#0d0887"
             ],
             [
              0.1111111111111111,
              "#46039f"
             ],
             [
              0.2222222222222222,
              "#7201a8"
             ],
             [
              0.3333333333333333,
              "#9c179e"
             ],
             [
              0.4444444444444444,
              "#bd3786"
             ],
             [
              0.5555555555555556,
              "#d8576b"
             ],
             [
              0.6666666666666666,
              "#ed7953"
             ],
             [
              0.7777777777777778,
              "#fb9f3a"
             ],
             [
              0.8888888888888888,
              "#fdca26"
             ],
             [
              1,
              "#f0f921"
             ]
            ],
            "type": "contour"
           }
          ],
          "contourcarpet": [
           {
            "colorbar": {
             "outlinewidth": 0,
             "ticks": ""
            },
            "type": "contourcarpet"
           }
          ],
          "heatmap": [
           {
            "colorbar": {
             "outlinewidth": 0,
             "ticks": ""
            },
            "colorscale": [
             [
              0,
              "#0d0887"
             ],
             [
              0.1111111111111111,
              "#46039f"
             ],
             [
              0.2222222222222222,
              "#7201a8"
             ],
             [
              0.3333333333333333,
              "#9c179e"
             ],
             [
              0.4444444444444444,
              "#bd3786"
             ],
             [
              0.5555555555555556,
              "#d8576b"
             ],
             [
              0.6666666666666666,
              "#ed7953"
             ],
             [
              0.7777777777777778,
              "#fb9f3a"
             ],
             [
              0.8888888888888888,
              "#fdca26"
             ],
             [
              1,
              "#f0f921"
             ]
            ],
            "type": "heatmap"
           }
          ],
          "histogram": [
           {
            "marker": {
             "pattern": {
              "fillmode": "overlay",
              "size": 10,
              "solidity": 0.2
             }
            },
            "type": "histogram"
           }
          ],
          "histogram2d": [
           {
            "colorbar": {
             "outlinewidth": 0,
             "ticks": ""
            },
            "colorscale": [
             [
              0,
              "#0d0887"
             ],
             [
              0.1111111111111111,
              "#46039f"
             ],
             [
              0.2222222222222222,
              "#7201a8"
             ],
             [
              0.3333333333333333,
              "#9c179e"
             ],
             [
              0.4444444444444444,
              "#bd3786"
             ],
             [
              0.5555555555555556,
              "#d8576b"
             ],
             [
              0.6666666666666666,
              "#ed7953"
             ],
             [
              0.7777777777777778,
              "#fb9f3a"
             ],
             [
              0.8888888888888888,
              "#fdca26"
             ],
             [
              1,
              "#f0f921"
             ]
            ],
            "type": "histogram2d"
           }
          ],
          "histogram2dcontour": [
           {
            "colorbar": {
             "outlinewidth": 0,
             "ticks": ""
            },
            "colorscale": [
             [
              0,
              "#0d0887"
             ],
             [
              0.1111111111111111,
              "#46039f"
             ],
             [
              0.2222222222222222,
              "#7201a8"
             ],
             [
              0.3333333333333333,
              "#9c179e"
             ],
             [
              0.4444444444444444,
              "#bd3786"
             ],
             [
              0.5555555555555556,
              "#d8576b"
             ],
             [
              0.6666666666666666,
              "#ed7953"
             ],
             [
              0.7777777777777778,
              "#fb9f3a"
             ],
             [
              0.8888888888888888,
              "#fdca26"
             ],
             [
              1,
              "#f0f921"
             ]
            ],
            "type": "histogram2dcontour"
           }
          ],
          "mesh3d": [
           {
            "colorbar": {
             "outlinewidth": 0,
             "ticks": ""
            },
            "type": "mesh3d"
           }
          ],
          "parcoords": [
           {
            "line": {
             "colorbar": {
              "outlinewidth": 0,
              "ticks": ""
             }
            },
            "type": "parcoords"
           }
          ],
          "pie": [
           {
            "automargin": true,
            "type": "pie"
           }
          ],
          "scatter": [
           {
            "fillpattern": {
             "fillmode": "overlay",
             "size": 10,
             "solidity": 0.2
            },
            "type": "scatter"
           }
          ],
          "scatter3d": [
           {
            "line": {
             "colorbar": {
              "outlinewidth": 0,
              "ticks": ""
             }
            },
            "marker": {
             "colorbar": {
              "outlinewidth": 0,
              "ticks": ""
             }
            },
            "type": "scatter3d"
           }
          ],
          "scattercarpet": [
           {
            "marker": {
             "colorbar": {
              "outlinewidth": 0,
              "ticks": ""
             }
            },
            "type": "scattercarpet"
           }
          ],
          "scattergeo": [
           {
            "marker": {
             "colorbar": {
              "outlinewidth": 0,
              "ticks": ""
             }
            },
            "type": "scattergeo"
           }
          ],
          "scattergl": [
           {
            "marker": {
             "colorbar": {
              "outlinewidth": 0,
              "ticks": ""
             }
            },
            "type": "scattergl"
           }
          ],
          "scattermap": [
           {
            "marker": {
             "colorbar": {
              "outlinewidth": 0,
              "ticks": ""
             }
            },
            "type": "scattermap"
           }
          ],
          "scattermapbox": [
           {
            "marker": {
             "colorbar": {
              "outlinewidth": 0,
              "ticks": ""
             }
            },
            "type": "scattermapbox"
           }
          ],
          "scatterpolar": [
           {
            "marker": {
             "colorbar": {
              "outlinewidth": 0,
              "ticks": ""
             }
            },
            "type": "scatterpolar"
           }
          ],
          "scatterpolargl": [
           {
            "marker": {
             "colorbar": {
              "outlinewidth": 0,
              "ticks": ""
             }
            },
            "type": "scatterpolargl"
           }
          ],
          "scatterternary": [
           {
            "marker": {
             "colorbar": {
              "outlinewidth": 0,
              "ticks": ""
             }
            },
            "type": "scatterternary"
           }
          ],
          "surface": [
           {
            "colorbar": {
             "outlinewidth": 0,
             "ticks": ""
            },
            "colorscale": [
             [
              0,
              "#0d0887"
             ],
             [
              0.1111111111111111,
              "#46039f"
             ],
             [
              0.2222222222222222,
              "#7201a8"
             ],
             [
              0.3333333333333333,
              "#9c179e"
             ],
             [
              0.4444444444444444,
              "#bd3786"
             ],
             [
              0.5555555555555556,
              "#d8576b"
             ],
             [
              0.6666666666666666,
              "#ed7953"
             ],
             [
              0.7777777777777778,
              "#fb9f3a"
             ],
             [
              0.8888888888888888,
              "#fdca26"
             ],
             [
              1,
              "#f0f921"
             ]
            ],
            "type": "surface"
           }
          ],
          "table": [
           {
            "cells": {
             "fill": {
              "color": "#EBF0F8"
             },
             "line": {
              "color": "white"
             }
            },
            "header": {
             "fill": {
              "color": "#C8D4E3"
             },
             "line": {
              "color": "white"
             }
            },
            "type": "table"
           }
          ]
         },
         "layout": {
          "annotationdefaults": {
           "arrowcolor": "#2a3f5f",
           "arrowhead": 0,
           "arrowwidth": 1
          },
          "autotypenumbers": "strict",
          "coloraxis": {
           "colorbar": {
            "outlinewidth": 0,
            "ticks": ""
           }
          },
          "colorscale": {
           "diverging": [
            [
             0,
             "#8e0152"
            ],
            [
             0.1,
             "#c51b7d"
            ],
            [
             0.2,
             "#de77ae"
            ],
            [
             0.3,
             "#f1b6da"
            ],
            [
             0.4,
             "#fde0ef"
            ],
            [
             0.5,
             "#f7f7f7"
            ],
            [
             0.6,
             "#e6f5d0"
            ],
            [
             0.7,
             "#b8e186"
            ],
            [
             0.8,
             "#7fbc41"
            ],
            [
             0.9,
             "#4d9221"
            ],
            [
             1,
             "#276419"
            ]
           ],
           "sequential": [
            [
             0,
             "#0d0887"
            ],
            [
             0.1111111111111111,
             "#46039f"
            ],
            [
             0.2222222222222222,
             "#7201a8"
            ],
            [
             0.3333333333333333,
             "#9c179e"
            ],
            [
             0.4444444444444444,
             "#bd3786"
            ],
            [
             0.5555555555555556,
             "#d8576b"
            ],
            [
             0.6666666666666666,
             "#ed7953"
            ],
            [
             0.7777777777777778,
             "#fb9f3a"
            ],
            [
             0.8888888888888888,
             "#fdca26"
            ],
            [
             1,
             "#f0f921"
            ]
           ],
           "sequentialminus": [
            [
             0,
             "#0d0887"
            ],
            [
             0.1111111111111111,
             "#46039f"
            ],
            [
             0.2222222222222222,
             "#7201a8"
            ],
            [
             0.3333333333333333,
             "#9c179e"
            ],
            [
             0.4444444444444444,
             "#bd3786"
            ],
            [
             0.5555555555555556,
             "#d8576b"
            ],
            [
             0.6666666666666666,
             "#ed7953"
            ],
            [
             0.7777777777777778,
             "#fb9f3a"
            ],
            [
             0.8888888888888888,
             "#fdca26"
            ],
            [
             1,
             "#f0f921"
            ]
           ]
          },
          "colorway": [
           "#636efa",
           "#EF553B",
           "#00cc96",
           "#ab63fa",
           "#FFA15A",
           "#19d3f3",
           "#FF6692",
           "#B6E880",
           "#FF97FF",
           "#FECB52"
          ],
          "font": {
           "color": "#2a3f5f"
          },
          "geo": {
           "bgcolor": "white",
           "lakecolor": "white",
           "landcolor": "#E5ECF6",
           "showlakes": true,
           "showland": true,
           "subunitcolor": "white"
          },
          "hoverlabel": {
           "align": "left"
          },
          "hovermode": "closest",
          "mapbox": {
           "style": "light"
          },
          "paper_bgcolor": "white",
          "plot_bgcolor": "#E5ECF6",
          "polar": {
           "angularaxis": {
            "gridcolor": "white",
            "linecolor": "white",
            "ticks": ""
           },
           "bgcolor": "#E5ECF6",
           "radialaxis": {
            "gridcolor": "white",
            "linecolor": "white",
            "ticks": ""
           }
          },
          "scene": {
           "xaxis": {
            "backgroundcolor": "#E5ECF6",
            "gridcolor": "white",
            "gridwidth": 2,
            "linecolor": "white",
            "showbackground": true,
            "ticks": "",
            "zerolinecolor": "white"
           },
           "yaxis": {
            "backgroundcolor": "#E5ECF6",
            "gridcolor": "white",
            "gridwidth": 2,
            "linecolor": "white",
            "showbackground": true,
            "ticks": "",
            "zerolinecolor": "white"
           },
           "zaxis": {
            "backgroundcolor": "#E5ECF6",
            "gridcolor": "white",
            "gridwidth": 2,
            "linecolor": "white",
            "showbackground": true,
            "ticks": "",
            "zerolinecolor": "white"
           }
          },
          "shapedefaults": {
           "line": {
            "color": "#2a3f5f"
           }
          },
          "ternary": {
           "aaxis": {
            "gridcolor": "white",
            "linecolor": "white",
            "ticks": ""
           },
           "baxis": {
            "gridcolor": "white",
            "linecolor": "white",
            "ticks": ""
           },
           "bgcolor": "#E5ECF6",
           "caxis": {
            "gridcolor": "white",
            "linecolor": "white",
            "ticks": ""
           }
          },
          "title": {
           "x": 0.05
          },
          "xaxis": {
           "automargin": true,
           "gridcolor": "white",
           "linecolor": "white",
           "ticks": "",
           "title": {
            "standoff": 15
           },
           "zerolinecolor": "white",
           "zerolinewidth": 2
          },
          "yaxis": {
           "automargin": true,
           "gridcolor": "white",
           "linecolor": "white",
           "ticks": "",
           "title": {
            "standoff": 15
           },
           "zerolinecolor": "white",
           "zerolinewidth": 2
          }
         }
        },
        "title": {
         "text": "Total Prop vs Opp Wins"
        }
       }
      }
     },
     "metadata": {},
     "output_type": "display_data"
    }
   ],
   "source": [
    "prop_wins = df['Prop wins'].sum()\n",
    "opp_wins = df['Opp wins'].sum()\n",
    "\n",
    "print(prop_wins, opp_wins)\n",
    "\n",
    "px.pie(\n",
    "    values=[prop_wins, opp_wins],\n",
    "    names=['Prop wins', 'Opp wins'],\n",
    "    title='Total Prop vs Opp Wins',\n",
    ").show()"
   ]
  },
  {
   "cell_type": "code",
   "execution_count": 11,
   "id": "db05bba7",
   "metadata": {},
   "outputs": [
    {
     "name": "stdout",
     "output_type": "stream",
     "text": [
      "196.0 85.0\n"
     ]
    },
    {
     "data": {
      "application/vnd.plotly.v1+json": {
       "config": {
        "plotlyServerURL": "https://plot.ly"
       },
       "data": [
        {
         "domain": {
          "x": [
           0,
           1
          ],
          "y": [
           0,
           1
          ]
         },
         "hovertemplate": "label=%{label}<br>value=%{value}<extra></extra>",
         "labels": [
          "Prop wins",
          "Opp wins"
         ],
         "legendgroup": "",
         "name": "",
         "showlegend": true,
         "type": "pie",
         "values": {
          "bdata": "AAAAAACAaEAAAAAAAEBVQA==",
          "dtype": "f8"
         }
        }
       ],
       "layout": {
        "legend": {
         "tracegroupgap": 0
        },
        "template": {
         "data": {
          "bar": [
           {
            "error_x": {
             "color": "#2a3f5f"
            },
            "error_y": {
             "color": "#2a3f5f"
            },
            "marker": {
             "line": {
              "color": "#E5ECF6",
              "width": 0.5
             },
             "pattern": {
              "fillmode": "overlay",
              "size": 10,
              "solidity": 0.2
             }
            },
            "type": "bar"
           }
          ],
          "barpolar": [
           {
            "marker": {
             "line": {
              "color": "#E5ECF6",
              "width": 0.5
             },
             "pattern": {
              "fillmode": "overlay",
              "size": 10,
              "solidity": 0.2
             }
            },
            "type": "barpolar"
           }
          ],
          "carpet": [
           {
            "aaxis": {
             "endlinecolor": "#2a3f5f",
             "gridcolor": "white",
             "linecolor": "white",
             "minorgridcolor": "white",
             "startlinecolor": "#2a3f5f"
            },
            "baxis": {
             "endlinecolor": "#2a3f5f",
             "gridcolor": "white",
             "linecolor": "white",
             "minorgridcolor": "white",
             "startlinecolor": "#2a3f5f"
            },
            "type": "carpet"
           }
          ],
          "choropleth": [
           {
            "colorbar": {
             "outlinewidth": 0,
             "ticks": ""
            },
            "type": "choropleth"
           }
          ],
          "contour": [
           {
            "colorbar": {
             "outlinewidth": 0,
             "ticks": ""
            },
            "colorscale": [
             [
              0,
              "#0d0887"
             ],
             [
              0.1111111111111111,
              "#46039f"
             ],
             [
              0.2222222222222222,
              "#7201a8"
             ],
             [
              0.3333333333333333,
              "#9c179e"
             ],
             [
              0.4444444444444444,
              "#bd3786"
             ],
             [
              0.5555555555555556,
              "#d8576b"
             ],
             [
              0.6666666666666666,
              "#ed7953"
             ],
             [
              0.7777777777777778,
              "#fb9f3a"
             ],
             [
              0.8888888888888888,
              "#fdca26"
             ],
             [
              1,
              "#f0f921"
             ]
            ],
            "type": "contour"
           }
          ],
          "contourcarpet": [
           {
            "colorbar": {
             "outlinewidth": 0,
             "ticks": ""
            },
            "type": "contourcarpet"
           }
          ],
          "heatmap": [
           {
            "colorbar": {
             "outlinewidth": 0,
             "ticks": ""
            },
            "colorscale": [
             [
              0,
              "#0d0887"
             ],
             [
              0.1111111111111111,
              "#46039f"
             ],
             [
              0.2222222222222222,
              "#7201a8"
             ],
             [
              0.3333333333333333,
              "#9c179e"
             ],
             [
              0.4444444444444444,
              "#bd3786"
             ],
             [
              0.5555555555555556,
              "#d8576b"
             ],
             [
              0.6666666666666666,
              "#ed7953"
             ],
             [
              0.7777777777777778,
              "#fb9f3a"
             ],
             [
              0.8888888888888888,
              "#fdca26"
             ],
             [
              1,
              "#f0f921"
             ]
            ],
            "type": "heatmap"
           }
          ],
          "histogram": [
           {
            "marker": {
             "pattern": {
              "fillmode": "overlay",
              "size": 10,
              "solidity": 0.2
             }
            },
            "type": "histogram"
           }
          ],
          "histogram2d": [
           {
            "colorbar": {
             "outlinewidth": 0,
             "ticks": ""
            },
            "colorscale": [
             [
              0,
              "#0d0887"
             ],
             [
              0.1111111111111111,
              "#46039f"
             ],
             [
              0.2222222222222222,
              "#7201a8"
             ],
             [
              0.3333333333333333,
              "#9c179e"
             ],
             [
              0.4444444444444444,
              "#bd3786"
             ],
             [
              0.5555555555555556,
              "#d8576b"
             ],
             [
              0.6666666666666666,
              "#ed7953"
             ],
             [
              0.7777777777777778,
              "#fb9f3a"
             ],
             [
              0.8888888888888888,
              "#fdca26"
             ],
             [
              1,
              "#f0f921"
             ]
            ],
            "type": "histogram2d"
           }
          ],
          "histogram2dcontour": [
           {
            "colorbar": {
             "outlinewidth": 0,
             "ticks": ""
            },
            "colorscale": [
             [
              0,
              "#0d0887"
             ],
             [
              0.1111111111111111,
              "#46039f"
             ],
             [
              0.2222222222222222,
              "#7201a8"
             ],
             [
              0.3333333333333333,
              "#9c179e"
             ],
             [
              0.4444444444444444,
              "#bd3786"
             ],
             [
              0.5555555555555556,
              "#d8576b"
             ],
             [
              0.6666666666666666,
              "#ed7953"
             ],
             [
              0.7777777777777778,
              "#fb9f3a"
             ],
             [
              0.8888888888888888,
              "#fdca26"
             ],
             [
              1,
              "#f0f921"
             ]
            ],
            "type": "histogram2dcontour"
           }
          ],
          "mesh3d": [
           {
            "colorbar": {
             "outlinewidth": 0,
             "ticks": ""
            },
            "type": "mesh3d"
           }
          ],
          "parcoords": [
           {
            "line": {
             "colorbar": {
              "outlinewidth": 0,
              "ticks": ""
             }
            },
            "type": "parcoords"
           }
          ],
          "pie": [
           {
            "automargin": true,
            "type": "pie"
           }
          ],
          "scatter": [
           {
            "fillpattern": {
             "fillmode": "overlay",
             "size": 10,
             "solidity": 0.2
            },
            "type": "scatter"
           }
          ],
          "scatter3d": [
           {
            "line": {
             "colorbar": {
              "outlinewidth": 0,
              "ticks": ""
             }
            },
            "marker": {
             "colorbar": {
              "outlinewidth": 0,
              "ticks": ""
             }
            },
            "type": "scatter3d"
           }
          ],
          "scattercarpet": [
           {
            "marker": {
             "colorbar": {
              "outlinewidth": 0,
              "ticks": ""
             }
            },
            "type": "scattercarpet"
           }
          ],
          "scattergeo": [
           {
            "marker": {
             "colorbar": {
              "outlinewidth": 0,
              "ticks": ""
             }
            },
            "type": "scattergeo"
           }
          ],
          "scattergl": [
           {
            "marker": {
             "colorbar": {
              "outlinewidth": 0,
              "ticks": ""
             }
            },
            "type": "scattergl"
           }
          ],
          "scattermap": [
           {
            "marker": {
             "colorbar": {
              "outlinewidth": 0,
              "ticks": ""
             }
            },
            "type": "scattermap"
           }
          ],
          "scattermapbox": [
           {
            "marker": {
             "colorbar": {
              "outlinewidth": 0,
              "ticks": ""
             }
            },
            "type": "scattermapbox"
           }
          ],
          "scatterpolar": [
           {
            "marker": {
             "colorbar": {
              "outlinewidth": 0,
              "ticks": ""
             }
            },
            "type": "scatterpolar"
           }
          ],
          "scatterpolargl": [
           {
            "marker": {
             "colorbar": {
              "outlinewidth": 0,
              "ticks": ""
             }
            },
            "type": "scatterpolargl"
           }
          ],
          "scatterternary": [
           {
            "marker": {
             "colorbar": {
              "outlinewidth": 0,
              "ticks": ""
             }
            },
            "type": "scatterternary"
           }
          ],
          "surface": [
           {
            "colorbar": {
             "outlinewidth": 0,
             "ticks": ""
            },
            "colorscale": [
             [
              0,
              "#0d0887"
             ],
             [
              0.1111111111111111,
              "#46039f"
             ],
             [
              0.2222222222222222,
              "#7201a8"
             ],
             [
              0.3333333333333333,
              "#9c179e"
             ],
             [
              0.4444444444444444,
              "#bd3786"
             ],
             [
              0.5555555555555556,
              "#d8576b"
             ],
             [
              0.6666666666666666,
              "#ed7953"
             ],
             [
              0.7777777777777778,
              "#fb9f3a"
             ],
             [
              0.8888888888888888,
              "#fdca26"
             ],
             [
              1,
              "#f0f921"
             ]
            ],
            "type": "surface"
           }
          ],
          "table": [
           {
            "cells": {
             "fill": {
              "color": "#EBF0F8"
             },
             "line": {
              "color": "white"
             }
            },
            "header": {
             "fill": {
              "color": "#C8D4E3"
             },
             "line": {
              "color": "white"
             }
            },
            "type": "table"
           }
          ]
         },
         "layout": {
          "annotationdefaults": {
           "arrowcolor": "#2a3f5f",
           "arrowhead": 0,
           "arrowwidth": 1
          },
          "autotypenumbers": "strict",
          "coloraxis": {
           "colorbar": {
            "outlinewidth": 0,
            "ticks": ""
           }
          },
          "colorscale": {
           "diverging": [
            [
             0,
             "#8e0152"
            ],
            [
             0.1,
             "#c51b7d"
            ],
            [
             0.2,
             "#de77ae"
            ],
            [
             0.3,
             "#f1b6da"
            ],
            [
             0.4,
             "#fde0ef"
            ],
            [
             0.5,
             "#f7f7f7"
            ],
            [
             0.6,
             "#e6f5d0"
            ],
            [
             0.7,
             "#b8e186"
            ],
            [
             0.8,
             "#7fbc41"
            ],
            [
             0.9,
             "#4d9221"
            ],
            [
             1,
             "#276419"
            ]
           ],
           "sequential": [
            [
             0,
             "#0d0887"
            ],
            [
             0.1111111111111111,
             "#46039f"
            ],
            [
             0.2222222222222222,
             "#7201a8"
            ],
            [
             0.3333333333333333,
             "#9c179e"
            ],
            [
             0.4444444444444444,
             "#bd3786"
            ],
            [
             0.5555555555555556,
             "#d8576b"
            ],
            [
             0.6666666666666666,
             "#ed7953"
            ],
            [
             0.7777777777777778,
             "#fb9f3a"
            ],
            [
             0.8888888888888888,
             "#fdca26"
            ],
            [
             1,
             "#f0f921"
            ]
           ],
           "sequentialminus": [
            [
             0,
             "#0d0887"
            ],
            [
             0.1111111111111111,
             "#46039f"
            ],
            [
             0.2222222222222222,
             "#7201a8"
            ],
            [
             0.3333333333333333,
             "#9c179e"
            ],
            [
             0.4444444444444444,
             "#bd3786"
            ],
            [
             0.5555555555555556,
             "#d8576b"
            ],
            [
             0.6666666666666666,
             "#ed7953"
            ],
            [
             0.7777777777777778,
             "#fb9f3a"
            ],
            [
             0.8888888888888888,
             "#fdca26"
            ],
            [
             1,
             "#f0f921"
            ]
           ]
          },
          "colorway": [
           "#636efa",
           "#EF553B",
           "#00cc96",
           "#ab63fa",
           "#FFA15A",
           "#19d3f3",
           "#FF6692",
           "#B6E880",
           "#FF97FF",
           "#FECB52"
          ],
          "font": {
           "color": "#2a3f5f"
          },
          "geo": {
           "bgcolor": "white",
           "lakecolor": "white",
           "landcolor": "#E5ECF6",
           "showlakes": true,
           "showland": true,
           "subunitcolor": "white"
          },
          "hoverlabel": {
           "align": "left"
          },
          "hovermode": "closest",
          "mapbox": {
           "style": "light"
          },
          "paper_bgcolor": "white",
          "plot_bgcolor": "#E5ECF6",
          "polar": {
           "angularaxis": {
            "gridcolor": "white",
            "linecolor": "white",
            "ticks": ""
           },
           "bgcolor": "#E5ECF6",
           "radialaxis": {
            "gridcolor": "white",
            "linecolor": "white",
            "ticks": ""
           }
          },
          "scene": {
           "xaxis": {
            "backgroundcolor": "#E5ECF6",
            "gridcolor": "white",
            "gridwidth": 2,
            "linecolor": "white",
            "showbackground": true,
            "ticks": "",
            "zerolinecolor": "white"
           },
           "yaxis": {
            "backgroundcolor": "#E5ECF6",
            "gridcolor": "white",
            "gridwidth": 2,
            "linecolor": "white",
            "showbackground": true,
            "ticks": "",
            "zerolinecolor": "white"
           },
           "zaxis": {
            "backgroundcolor": "#E5ECF6",
            "gridcolor": "white",
            "gridwidth": 2,
            "linecolor": "white",
            "showbackground": true,
            "ticks": "",
            "zerolinecolor": "white"
           }
          },
          "shapedefaults": {
           "line": {
            "color": "#2a3f5f"
           }
          },
          "ternary": {
           "aaxis": {
            "gridcolor": "white",
            "linecolor": "white",
            "ticks": ""
           },
           "baxis": {
            "gridcolor": "white",
            "linecolor": "white",
            "ticks": ""
           },
           "bgcolor": "#E5ECF6",
           "caxis": {
            "gridcolor": "white",
            "linecolor": "white",
            "ticks": ""
           }
          },
          "title": {
           "x": 0.05
          },
          "xaxis": {
           "automargin": true,
           "gridcolor": "white",
           "linecolor": "white",
           "ticks": "",
           "title": {
            "standoff": 15
           },
           "zerolinecolor": "white",
           "zerolinewidth": 2
          },
          "yaxis": {
           "automargin": true,
           "gridcolor": "white",
           "linecolor": "white",
           "ticks": "",
           "title": {
            "standoff": 15
           },
           "zerolinecolor": "white",
           "zerolinewidth": 2
          }
         }
        },
        "title": {
         "text": "Total Prop vs Opp Wins"
        }
       }
      }
     },
     "metadata": {},
     "output_type": "display_data"
    }
   ],
   "source": [
    "prop_wins = df_this_year['Prop wins'].sum()\n",
    "opp_wins = df_this_year['Opp wins'].sum()\n",
    "\n",
    "print(prop_wins, opp_wins)\n",
    "\n",
    "px.pie(\n",
    "    values=[prop_wins, opp_wins],\n",
    "    names=['Prop wins', 'Opp wins'],\n",
    "    title='Total Prop vs Opp Wins',\n",
    ").show()"
   ]
  }
 ],
 "metadata": {
  "kernelspec": {
   "display_name": ".venv",
   "language": "python",
   "name": "python3"
  },
  "language_info": {
   "codemirror_mode": {
    "name": "ipython",
    "version": 3
   },
   "file_extension": ".py",
   "mimetype": "text/x-python",
   "name": "python",
   "nbconvert_exporter": "python",
   "pygments_lexer": "ipython3",
   "version": "3.12.11"
  }
 },
 "nbformat": 4,
 "nbformat_minor": 5
}
