{
 "cells": [
  {
   "cell_type": "code",
   "execution_count": 3,
   "id": "bad89330",
   "metadata": {},
   "outputs": [],
   "source": [
    "import pandas as pd\n",
    "import math\n",
    "import plotly.express as px\n",
    "import matplotlib.pyplot as plt\n",
    "\n",
    "import numpy as np\n",
    "from scipy.stats import norm"
   ]
  },
  {
   "cell_type": "code",
   "execution_count": 4,
   "id": "04f08774",
   "metadata": {},
   "outputs": [
    {
     "data": {
      "text/html": [
       "<div>\n",
       "<style scoped>\n",
       "    .dataframe tbody tr th:only-of-type {\n",
       "        vertical-align: middle;\n",
       "    }\n",
       "\n",
       "    .dataframe tbody tr th {\n",
       "        vertical-align: top;\n",
       "    }\n",
       "\n",
       "    .dataframe thead th {\n",
       "        text-align: right;\n",
       "    }\n",
       "</style>\n",
       "<table border=\"1\" class=\"dataframe\">\n",
       "  <thead>\n",
       "    <tr style=\"text-align: right;\">\n",
       "      <th></th>\n",
       "      <th>Rank</th>\n",
       "      <th>Name</th>\n",
       "      <th>Team</th>\n",
       "      <th>R1</th>\n",
       "      <th>R2</th>\n",
       "      <th>R3</th>\n",
       "      <th>R4</th>\n",
       "      <th>R5</th>\n",
       "      <th>R6</th>\n",
       "      <th>R7</th>\n",
       "      <th>R8</th>\n",
       "      <th>Avg</th>\n",
       "      <th>Stdev</th>\n",
       "      <th>Num</th>\n",
       "    </tr>\n",
       "  </thead>\n",
       "  <tbody>\n",
       "    <tr>\n",
       "      <th>0</th>\n",
       "      <td>1</td>\n",
       "      <td>Annushka Agarwal</td>\n",
       "      <td>🇨🇦Canada</td>\n",
       "      <td>—</td>\n",
       "      <td>72</td>\n",
       "      <td>74</td>\n",
       "      <td>75.83</td>\n",
       "      <td>74</td>\n",
       "      <td>—</td>\n",
       "      <td>75</td>\n",
       "      <td>74.17</td>\n",
       "      <td>74.17</td>\n",
       "      <td>1.17</td>\n",
       "      <td>6</td>\n",
       "    </tr>\n",
       "    <tr>\n",
       "      <th>1</th>\n",
       "      <td>2</td>\n",
       "      <td>Hitishaa Goyal</td>\n",
       "      <td>🇮🇳India</td>\n",
       "      <td>73.17</td>\n",
       "      <td>73.67</td>\n",
       "      <td>73.33</td>\n",
       "      <td>72.83</td>\n",
       "      <td>72.83</td>\n",
       "      <td>74.33</td>\n",
       "      <td>75.33</td>\n",
       "      <td>77.33</td>\n",
       "      <td>74.1</td>\n",
       "      <td>1.45</td>\n",
       "      <td>8</td>\n",
       "    </tr>\n",
       "    <tr>\n",
       "      <th>2</th>\n",
       "      <td>3</td>\n",
       "      <td>Rai Daud Ali Saif</td>\n",
       "      <td>🇵🇰Pakistan</td>\n",
       "      <td>72.33</td>\n",
       "      <td>74.33</td>\n",
       "      <td>74.67</td>\n",
       "      <td>75</td>\n",
       "      <td>73.83</td>\n",
       "      <td>74</td>\n",
       "      <td>—</td>\n",
       "      <td>74.5</td>\n",
       "      <td>74.1</td>\n",
       "      <td>0.81</td>\n",
       "      <td>7</td>\n",
       "    </tr>\n",
       "    <tr>\n",
       "      <th>3</th>\n",
       "      <td>4</td>\n",
       "      <td>Shayor Ahmad Khan</td>\n",
       "      <td>🇧🇩Bangladesh</td>\n",
       "      <td>73.5</td>\n",
       "      <td>73.83</td>\n",
       "      <td>74.5</td>\n",
       "      <td>73.17</td>\n",
       "      <td>74</td>\n",
       "      <td>73.67</td>\n",
       "      <td>74.83</td>\n",
       "      <td>—</td>\n",
       "      <td>73.93</td>\n",
       "      <td>0.53</td>\n",
       "      <td>7</td>\n",
       "    </tr>\n",
       "    <tr>\n",
       "      <th>4</th>\n",
       "      <td>5</td>\n",
       "      <td>Sophie Hannigan</td>\n",
       "      <td>🦄Scotland</td>\n",
       "      <td>72.67</td>\n",
       "      <td>—</td>\n",
       "      <td>74.17</td>\n",
       "      <td>73.67</td>\n",
       "      <td>73</td>\n",
       "      <td>75.5</td>\n",
       "      <td>74</td>\n",
       "      <td>74.17</td>\n",
       "      <td>73.88</td>\n",
       "      <td>0.85</td>\n",
       "      <td>7</td>\n",
       "    </tr>\n",
       "  </tbody>\n",
       "</table>\n",
       "</div>"
      ],
      "text/plain": [
       "  Rank               Name          Team     R1     R2     R3     R4     R5  \\\n",
       "0    1   Annushka Agarwal      🇨🇦Canada      —     72     74  75.83     74   \n",
       "1    2     Hitishaa Goyal       🇮🇳India  73.17  73.67  73.33  72.83  72.83   \n",
       "2    3  Rai Daud Ali Saif    🇵🇰Pakistan  72.33  74.33  74.67     75  73.83   \n",
       "3    4  Shayor Ahmad Khan  🇧🇩Bangladesh   73.5  73.83   74.5  73.17     74   \n",
       "4    5    Sophie Hannigan     🦄Scotland  72.67      —  74.17  73.67     73   \n",
       "\n",
       "      R6     R7     R8    Avg Stdev  Num  \n",
       "0      —     75  74.17  74.17  1.17    6  \n",
       "1  74.33  75.33  77.33   74.1  1.45    8  \n",
       "2     74      —   74.5   74.1  0.81    7  \n",
       "3  73.67  74.83      —  73.93  0.53    7  \n",
       "4   75.5     74  74.17  73.88  0.85    7  "
      ]
     },
     "execution_count": 4,
     "metadata": {},
     "output_type": "execute_result"
    }
   ],
   "source": [
    "filepath = 'WSDC 2023 Tab - Speaker Rankings.csv'\n",
    "df = pd.read_csv(filepath)\n",
    "df.head()"
   ]
  },
  {
   "cell_type": "code",
   "execution_count": 5,
   "id": "c9749ed0",
   "metadata": {},
   "outputs": [
    {
     "data": {
      "text/plain": [
       "(array([0.01973684, 0.01315789, 0.02631579, 0.04605263, 0.15131579,\n",
       "        0.22368421, 0.17105263, 0.20394737, 0.31578947, 0.25657895,\n",
       "        0.22368421, 0.15131579, 0.11184211, 0.06578947, 0.01973684]),\n",
       " array([67. , 67.5, 68. , 68.5, 69. , 69.5, 70. , 70.5, 71. , 71.5, 72. ,\n",
       "        72.5, 73. , 73.5, 74. , 74.5]),\n",
       " <BarContainer object of 15 artists>)"
      ]
     },
     "execution_count": 5,
     "metadata": {},
     "output_type": "execute_result"
    },
    {
     "data": {
      "image/png": "[encoded data removed]",
      "text/plain": [
       "<Figure size 640x480 with 1 Axes>"
      ]
     },
     "metadata": {},
     "output_type": "display_data"
    }
   ],
   "source": [
    "# Convert the 'Avg' column to numeric, handling non-numeric values\n",
    "df['Avg'] = pd.to_numeric(df['Avg'], errors='coerce')\n",
    "\n",
    "min_ = math.floor(df['Avg'].min())\n",
    "max_ = math.ceil(df['Avg'].max())\n",
    "\n",
    "bins = np.arange(min_, max_, 0.5)\n",
    "plt.hist(df['Avg'].dropna(), bins=bins, edgecolor='black', density=True)    "
   ]
  },
  {
   "cell_type": "code",
   "execution_count": 7,
   "id": "83569937",
   "metadata": {},
   "outputs": [
    {
     "data": {
      "image/png": "[encoded data removed]",
      "text/plain": [
       "<Figure size 640x480 with 1 Axes>"
      ]
     },
     "metadata": {},
     "output_type": "display_data"
    }
   ],
   "source": [
    "res = 100\n",
    "x = np.linspace(min_, max_, res)\n",
    "y = norm.pdf(x, df['Avg'].mean(), df['Avg'].std())  \n",
    "\n",
    "plt.plot(x, y, color='red', label='Normal Distribution')\n",
    "plt.legend()\n",
    "plt.hist(df['Avg'].dropna(), bins=bins, edgecolor='black', density=True,  label='Histogram', align='left')\n",
    "plt.axvline(df['Avg'].mean(), color='red', linestyle='dashed', linewidth=1, label='Mean')\n",
    "plt.show()"
   ]
  },
  {
   "cell_type": "code",
   "execution_count": null,
   "id": "e105e3d7",
   "metadata": {},
   "outputs": [],
   "source": []
  },
  {
   "cell_type": "code",
   "execution_count": null,
   "id": "413cd6d1",
   "metadata": {},
   "outputs": [],
   "source": []
  }
 ],
 "metadata": {
  "kernelspec": {
   "display_name": ".venv",
   "language": "python",
   "name": "python3"
  },
  "language_info": {
   "codemirror_mode": {
    "name": "ipython",
    "version": 3
   },
   "file_extension": ".py",
   "mimetype": "text/x-python",
   "name": "python",
   "nbconvert_exporter": "python",
   "pygments_lexer": "ipython3",
   "version": "3.12.10"
  }
 },
 "nbformat": 4,
 "nbformat_minor": 5
}
