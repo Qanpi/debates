{
 "cells": [
  {
   "cell_type": "code",
   "execution_count": 214,
   "id": "d8c716a2",
   "metadata": {},
   "outputs": [],
   "source": [
    "import requests\n",
    "from bs4 import BeautifulSoup\n",
    "import re\n",
    "import pandas as pd\n",
    "from tqdm import tqdm"
   ]
  },
  {
   "cell_type": "markdown",
   "id": "7b0bc80f",
   "metadata": {},
   "source": [
    "## Load motions from calico tabs"
   ]
  },
  {
   "cell_type": "code",
   "execution_count": 215,
   "id": "3077ae44",
   "metadata": {},
   "outputs": [],
   "source": [
    "motions_suburl = f\"motions/statistics\"\n",
    "\n",
    "calico_tabs = [\n",
    "    ('nsdc25', 'NordicSDC2025'),\n",
    "    ('eurosdc25', 'eurosdc-25'),\n",
    "    # ('esdc', 'esdc2025'),\n",
    "    ('argument', 'eco2025'),\n",
    "    ('argument', 'ECO2024'),\n",
    "    ('nordics2023', 'nordics2023')\n",
    "]"
   ]
  },
  {
   "cell_type": "code",
   "execution_count": 216,
   "id": "332a9730",
   "metadata": {},
   "outputs": [],
   "source": [
    "def parse_motion(div): \n",
    "    \"\"\"\n",
    "    Given a motion top-level div, parse out the relevant details.\n",
    "    \"\"\"\n",
    "    round = div.find('span', class_=\"badge\").get_text(strip=True)\n",
    "    motion = div.find('h4').find(string=True, recursive=False).strip()\n",
    "\n",
    "    info_slide = div.find(string=re.compile(\"View Info Slide\"))\n",
    "    info_slide_text = None\n",
    "\n",
    "    if info_slide is not None:\n",
    "        info_slide_text = info_slide.find_next('div', class_='modal-body').get_text(strip=True)\n",
    "\n",
    "    # regex match the wins for prop and opp\n",
    "    text = div.get_text()\n",
    "\n",
    "    re_prop = re.compile(r\"(\\d+) (Prop|Gov) win\")\n",
    "    re_opp = re.compile(r\"(\\d+) Opp win\")\n",
    "\n",
    "    prop_wins = re.findall(re_prop, text)[0][0]\n",
    "    opp_wins = re.findall(re_opp, text)[0][0]\n",
    "\n",
    "    balance = div.find(string=re.compile('balance')).get_text(strip=True)\n",
    "\n",
    "    return motion, round, info_slide_text, prop_wins, opp_wins, balance"
   ]
  },
  {
   "cell_type": "code",
   "execution_count": 217,
   "id": "ff5ec651",
   "metadata": {},
   "outputs": [
    {
     "name": "stdout",
     "output_type": "stream",
     "text": [
      "Found 11 motions from NordicSDC2025.\n"
     ]
    },
    {
     "name": "stderr",
     "output_type": "stream",
     "text": [
      "100%|██████████| 11/11 [00:00<00:00, 4057.46it/s]\n"
     ]
    },
    {
     "name": "stdout",
     "output_type": "stream",
     "text": [
      "Found 10 motions from eurosdc-25.\n"
     ]
    },
    {
     "name": "stderr",
     "output_type": "stream",
     "text": [
      "100%|██████████| 10/10 [00:00<00:00, 4921.16it/s]\n"
     ]
    },
    {
     "name": "stdout",
     "output_type": "stream",
     "text": [
      "Found 10 motions from eco2025.\n"
     ]
    },
    {
     "name": "stderr",
     "output_type": "stream",
     "text": [
      "100%|██████████| 10/10 [00:00<00:00, 6632.36it/s]\n"
     ]
    },
    {
     "name": "stdout",
     "output_type": "stream",
     "text": [
      "Found 10 motions from ECO2024.\n"
     ]
    },
    {
     "name": "stderr",
     "output_type": "stream",
     "text": [
      "100%|██████████| 10/10 [00:00<00:00, 8628.48it/s]\n"
     ]
    },
    {
     "name": "stdout",
     "output_type": "stream",
     "text": [
      "Found 9 motions from nordics2023.\n"
     ]
    },
    {
     "name": "stderr",
     "output_type": "stream",
     "text": [
      "100%|██████████| 9/9 [00:00<00:00, 3824.59it/s]\n"
     ]
    }
   ],
   "source": [
    "data = {\n",
    "    \"Tournament\": [],\n",
    "    \"Motion\": [],\n",
    "    \"Round\": [],\n",
    "    \"Info Slide\": [],\n",
    "\n",
    "    \"Prop wins\": [],\n",
    "    \"Opp wins\": [],\n",
    "    \"Balance\": [],\n",
    "}\n",
    "\n",
    "for subdomain, slug in calico_tabs:\n",
    "    calico_url = f\"https://{subdomain}.calicotab.com/{slug}\"\n",
    "    motions_url = f\"{calico_url}/{motions_suburl}\"\n",
    "\n",
    "    response = requests.get(motions_url) \n",
    "    try: \n",
    "        assert response.status_code == 200, f\"Failed to fetch {motions_url}: {response.status_code}\"\n",
    "    except: \n",
    "        continue\n",
    "\n",
    "    html = response.text\n",
    "    soup = BeautifulSoup(html, 'html.parser')\n",
    "\n",
    "    motion_divs = soup.find_all('div', class_=\"list-group mt-3\")\n",
    "    print(f\"Found {len(motion_divs)} motions from {slug}.\")\n",
    "\n",
    "    for start in tqdm(range(len(motion_divs))):\n",
    "        div = motion_divs[start]\n",
    "        motion, round, info_slide_text, prop_wins, opp_wins, balance = parse_motion(div)\n",
    "        \n",
    "\n",
    "        data[\"Motion\"].append(motion)\n",
    "        data[\"Round\"].append(round)\n",
    "        data[\"Info Slide\"].append(info_slide_text)\n",
    "        data[\"Prop wins\"].append(int(prop_wins))\n",
    "        data[\"Opp wins\"].append(int(opp_wins))\n",
    "        data[\"Balance\"].append(balance)\n",
    "        data[\"Tournament\"].append(slug)"
   ]
  },
  {
   "cell_type": "code",
   "execution_count": 218,
   "id": "9783d60c",
   "metadata": {},
   "outputs": [
    {
     "data": {
      "text/html": [
       "<div>\n",
       "<style scoped>\n",
       "    .dataframe tbody tr th:only-of-type {\n",
       "        vertical-align: middle;\n",
       "    }\n",
       "\n",
       "    .dataframe tbody tr th {\n",
       "        vertical-align: top;\n",
       "    }\n",
       "\n",
       "    .dataframe thead th {\n",
       "        text-align: right;\n",
       "    }\n",
       "</style>\n",
       "<table border=\"1\" class=\"dataframe\">\n",
       "  <thead>\n",
       "    <tr style=\"text-align: right;\">\n",
       "      <th></th>\n",
       "      <th>Tournament</th>\n",
       "      <th>Motion</th>\n",
       "      <th>Round</th>\n",
       "      <th>Info Slide</th>\n",
       "      <th>Prop wins</th>\n",
       "      <th>Opp wins</th>\n",
       "      <th>Balance</th>\n",
       "    </tr>\n",
       "  </thead>\n",
       "  <tbody>\n",
       "    <tr>\n",
       "      <th>45</th>\n",
       "      <td>nordics2023</td>\n",
       "      <td>THBT the European Union should abolish the req...</td>\n",
       "      <td>Round 5</td>\n",
       "      <td>On issues considered sensitive to the EU (incl...</td>\n",
       "      <td>6</td>\n",
       "      <td>7</td>\n",
       "      <td>probably balanced</td>\n",
       "    </tr>\n",
       "    <tr>\n",
       "      <th>46</th>\n",
       "      <td>nordics2023</td>\n",
       "      <td>THR the expectation that committed romantic re...</td>\n",
       "      <td>Round 6</td>\n",
       "      <td>Just like a lot of you, we were very tired and...</td>\n",
       "      <td>10</td>\n",
       "      <td>3</td>\n",
       "      <td>imbalanced at 10% level</td>\n",
       "    </tr>\n",
       "    <tr>\n",
       "      <th>47</th>\n",
       "      <td>nordics2023</td>\n",
       "      <td>THR the aesthetisation of suffering</td>\n",
       "      <td>Quarterfinals</td>\n",
       "      <td>Aesthetisation is a depiction or glorification...</td>\n",
       "      <td>4</td>\n",
       "      <td>0</td>\n",
       "      <td>balance inconclusive</td>\n",
       "    </tr>\n",
       "    <tr>\n",
       "      <th>48</th>\n",
       "      <td>nordics2023</td>\n",
       "      <td>THBT criminal justice policy should be decided...</td>\n",
       "      <td>Semifinals</td>\n",
       "      <td>Technocrats are decision-makers who are select...</td>\n",
       "      <td>1</td>\n",
       "      <td>1</td>\n",
       "      <td>balance inconclusive</td>\n",
       "    </tr>\n",
       "    <tr>\n",
       "      <th>49</th>\n",
       "      <td>nordics2023</td>\n",
       "      <td>THR religious faith being predominantly experi...</td>\n",
       "      <td>Grand Final</td>\n",
       "      <td>None</td>\n",
       "      <td>1</td>\n",
       "      <td>0</td>\n",
       "      <td>balance inconclusive</td>\n",
       "    </tr>\n",
       "  </tbody>\n",
       "</table>\n",
       "</div>"
      ],
      "text/plain": [
       "     Tournament                                             Motion  \\\n",
       "45  nordics2023  THBT the European Union should abolish the req...   \n",
       "46  nordics2023  THR the expectation that committed romantic re...   \n",
       "47  nordics2023                THR the aesthetisation of suffering   \n",
       "48  nordics2023  THBT criminal justice policy should be decided...   \n",
       "49  nordics2023  THR religious faith being predominantly experi...   \n",
       "\n",
       "            Round                                         Info Slide  \\\n",
       "45        Round 5  On issues considered sensitive to the EU (incl...   \n",
       "46        Round 6  Just like a lot of you, we were very tired and...   \n",
       "47  Quarterfinals  Aesthetisation is a depiction or glorification...   \n",
       "48     Semifinals  Technocrats are decision-makers who are select...   \n",
       "49    Grand Final                                               None   \n",
       "\n",
       "    Prop wins  Opp wins                  Balance  \n",
       "45          6         7        probably balanced  \n",
       "46         10         3  imbalanced at 10% level  \n",
       "47          4         0     balance inconclusive  \n",
       "48          1         1     balance inconclusive  \n",
       "49          1         0     balance inconclusive  "
      ]
     },
     "execution_count": 218,
     "metadata": {},
     "output_type": "execute_result"
    }
   ],
   "source": [
    "df1 = pd.DataFrame(data)\n",
    "df1.tail()"
   ]
  },
  {
   "cell_type": "markdown",
   "id": "5c0a0cee",
   "metadata": {},
   "source": [
    "## Parse WSDC motions from .txt on GitHub\n",
    "https://github.com/tokyodebate/motions/blob/main/International/WSDC.txt"
   ]
  },
  {
   "cell_type": "code",
   "execution_count": 219,
   "id": "1baebf1c",
   "metadata": {},
   "outputs": [],
   "source": [
    "import requests\n",
    "\n",
    "url = 'https://raw.githubusercontent.com/tokyodebate/motions/refs/heads/main/International/WSDC.txt'\n",
    "\n",
    "response = requests.get(url)\n",
    "wsdc_motions_raw = response.text"
   ]
  },
  {
   "cell_type": "code",
   "execution_count": 220,
   "id": "c7090446",
   "metadata": {},
   "outputs": [],
   "source": [
    "def count_tabs(line: str):\n",
    "    \"\"\"\n",
    "    Count the number of tabs in a line.\n",
    "    \"\"\"\n",
    "    return line.count('\\t')"
   ]
  },
  {
   "cell_type": "code",
   "execution_count": 221,
   "id": "ff438367",
   "metadata": {},
   "outputs": [],
   "source": [
    "data2 = {\n",
    "    \"Tournament\": [],\n",
    "    \"Motion\": [],\n",
    "    \"Round\": [],\n",
    "    \"Info Slide\": [],\n",
    "\n",
    "    # \"Prop wins\": [],\n",
    "    # \"Opp wins\": [],\n",
    "    # \"Balance\": [],\n",
    "}\n",
    "\n",
    "def parse_wsdc_motions():\n",
    "    lines = wsdc_motions_raw.split('\\n')\n",
    "    lines = [line.strip('\\n') for line in lines]\n",
    "    lines = lines[1:] # Skip the header\n",
    "\n",
    "    tournament = None\n",
    "    round = None\n",
    "\n",
    "    for i in range(len(lines)):\n",
    "        curr = lines[i]\n",
    "\n",
    "        if count_tabs(curr) == 1: \n",
    "            tournament = curr.strip()\n",
    "        elif count_tabs(curr) == 2:\n",
    "            round = curr.strip()\n",
    "        elif count_tabs(curr) == 3:\n",
    "            next_line = lines[i+1] if i+1 < len(lines) else None\n",
    "            info_text = next_line.strip() if next_line and count_tabs(next_line) == 4 else None\n",
    "\n",
    "            motion = curr.strip()   \n",
    "            data2[\"Motion\"].append(motion)\n",
    "            data2[\"Round\"].append(round)\n",
    "            data2[\"Info Slide\"].append(info_text)\n",
    "            data2[\"Tournament\"].append(tournament)\n",
    "\n",
    "        else:\n",
    "            continue\n",
    "\n",
    "parse_wsdc_motions()"
   ]
  },
  {
   "cell_type": "code",
   "execution_count": 222,
   "id": "8fc6aba7",
   "metadata": {},
   "outputs": [
    {
     "data": {
      "text/plain": [
       "Tournament\n",
       "Netherlands WSDC 2022                                                           21\n",
       "WSDC Mexico 2020                                                                20\n",
       "24th World Schools Debating Championships 2012, South Africa                    13\n",
       "21st World Schools Debating Championships 2009 in Athens, Greece                13\n",
       "Vietnam WSDC 2023                                                               13\n",
       "30th World Schools Debating Championships 2018, Croatia and Slovenia            13\n",
       "29th World Schools Debating Championships 2017, Indonesia                       13\n",
       "28th World Schools Debating Championships 2016, Germany                         13\n",
       "27th World Schools Debating Championships 2015, Singapore                       13\n",
       "WSDC Thailand 2019                                                              13\n",
       "16th World Schools Debating Championships 2004 in Stuttgart, Germany            13\n",
       "15th World Schools Debating Championships 2003 in Lima, Peru                    13\n",
       "19th World Schools Debating Championships 2007 in Seoul, South Korea            13\n",
       "17th World Schools Debating Championships 2005 in Calgary, Canada               13\n",
       "18th World Schools Debating Championships 2006 in Cardiff, Wales                12\n",
       "13th World Schools Debating Championships 2001 in Johannesburg, South Africa    12\n",
       "14th World Schools Debating Championships 2002 in Singapore                     12\n",
       "20th World Schools Debating Championships 2008 in Washington DC, USA            12\n",
       "25th World Schools Debating Championships 2013, Turkey                          12\n",
       "11th World Schools Debating Championships 1999 in London, England               12\n",
       "23rd World Schools Debating Championships 2011, Dundee                          12\n",
       "22nd World Schools Debating Championships 2010, Doha                            12\n",
       "26th World Schools Debating Championships 2014, Thailand                        11\n",
       "WSDC Macau Online 2021                                                          11\n",
       "6th World Schools Debating Championships 1994 in New Zealand                     9\n",
       "9th World Schools Debating Championships 1997 in Bermuda                         5\n",
       "10th World Schools Debating Championships 1998 in Jerusalem, Israel              5\n",
       "12th World Schools Debating Championships 2000 in Pittsburgh, PA, USA            4\n",
       "Name: count, dtype: int64"
      ]
     },
     "execution_count": 222,
     "metadata": {},
     "output_type": "execute_result"
    }
   ],
   "source": [
    "df2 = pd.DataFrame(data2)\n",
    "df2.value_counts('Tournament')"
   ]
  },
  {
   "cell_type": "code",
   "execution_count": 223,
   "id": "b35b8646",
   "metadata": {},
   "outputs": [
    {
     "data": {
      "text/html": [
       "<div>\n",
       "<style scoped>\n",
       "    .dataframe tbody tr th:only-of-type {\n",
       "        vertical-align: middle;\n",
       "    }\n",
       "\n",
       "    .dataframe tbody tr th {\n",
       "        vertical-align: top;\n",
       "    }\n",
       "\n",
       "    .dataframe thead th {\n",
       "        text-align: right;\n",
       "    }\n",
       "</style>\n",
       "<table border=\"1\" class=\"dataframe\">\n",
       "  <thead>\n",
       "    <tr style=\"text-align: right;\">\n",
       "      <th></th>\n",
       "      <th>Tournament</th>\n",
       "      <th>Motion</th>\n",
       "      <th>Round</th>\n",
       "      <th>Info Slide</th>\n",
       "      <th>Prop wins</th>\n",
       "      <th>Opp wins</th>\n",
       "      <th>Balance</th>\n",
       "    </tr>\n",
       "  </thead>\n",
       "  <tbody>\n",
       "    <tr>\n",
       "      <th>0</th>\n",
       "      <td>NordicSDC2025</td>\n",
       "      <td>This House Supports gentle parenting becoming ...</td>\n",
       "      <td>Round 1</td>\n",
       "      <td>Gentle parenting is a parenting style that say...</td>\n",
       "      <td>16.0</td>\n",
       "      <td>1.0</td>\n",
       "      <td>imbalanced at 50% level</td>\n",
       "    </tr>\n",
       "    <tr>\n",
       "      <th>1</th>\n",
       "      <td>NordicSDC2025</td>\n",
       "      <td>THR the creation of the series and film industry</td>\n",
       "      <td>Round 2</td>\n",
       "      <td>None</td>\n",
       "      <td>13.0</td>\n",
       "      <td>1.0</td>\n",
       "      <td>probably balanced</td>\n",
       "    </tr>\n",
       "    <tr>\n",
       "      <th>2</th>\n",
       "      <td>NordicSDC2025</td>\n",
       "      <td>This House Believes That it is in the interest...</td>\n",
       "      <td>Round 3</td>\n",
       "      <td>Democratic backsliding is a process of regime ...</td>\n",
       "      <td>15.0</td>\n",
       "      <td>1.0</td>\n",
       "      <td>probably balanced</td>\n",
       "    </tr>\n",
       "    <tr>\n",
       "      <th>3</th>\n",
       "      <td>NordicSDC2025</td>\n",
       "      <td>This House Opposes the Globalization of the Ma...</td>\n",
       "      <td>Round 4</td>\n",
       "      <td>“Major European Football Leagues” include the ...</td>\n",
       "      <td>10.0</td>\n",
       "      <td>1.0</td>\n",
       "      <td>imbalanced at 50% level</td>\n",
       "    </tr>\n",
       "    <tr>\n",
       "      <th>4</th>\n",
       "      <td>NordicSDC2025</td>\n",
       "      <td>This House Would implement a weekly 'blackout ...</td>\n",
       "      <td>Round 5</td>\n",
       "      <td>A 'blackout day' refers to a day where all soc...</td>\n",
       "      <td>13.0</td>\n",
       "      <td>1.0</td>\n",
       "      <td>probably balanced</td>\n",
       "    </tr>\n",
       "  </tbody>\n",
       "</table>\n",
       "</div>"
      ],
      "text/plain": [
       "      Tournament                                             Motion    Round  \\\n",
       "0  NordicSDC2025  This House Supports gentle parenting becoming ...  Round 1   \n",
       "1  NordicSDC2025   THR the creation of the series and film industry  Round 2   \n",
       "2  NordicSDC2025  This House Believes That it is in the interest...  Round 3   \n",
       "3  NordicSDC2025  This House Opposes the Globalization of the Ma...  Round 4   \n",
       "4  NordicSDC2025  This House Would implement a weekly 'blackout ...  Round 5   \n",
       "\n",
       "                                          Info Slide  Prop wins  Opp wins  \\\n",
       "0  Gentle parenting is a parenting style that say...       16.0       1.0   \n",
       "1                                               None       13.0       1.0   \n",
       "2  Democratic backsliding is a process of regime ...       15.0       1.0   \n",
       "3  “Major European Football Leagues” include the ...       10.0       1.0   \n",
       "4  A 'blackout day' refers to a day where all soc...       13.0       1.0   \n",
       "\n",
       "                   Balance  \n",
       "0  imbalanced at 50% level  \n",
       "1        probably balanced  \n",
       "2        probably balanced  \n",
       "3  imbalanced at 50% level  \n",
       "4        probably balanced  "
      ]
     },
     "execution_count": 223,
     "metadata": {},
     "output_type": "execute_result"
    }
   ],
   "source": [
    "df = pd.concat([df1, df2], ignore_index=True)\n",
    "df.head()"
   ]
  },
  {
   "cell_type": "markdown",
   "id": "c02db928",
   "metadata": {},
   "source": [
    "## Data polishing "
   ]
  },
  {
   "cell_type": "code",
   "execution_count": 224,
   "id": "44a411f2",
   "metadata": {},
   "outputs": [],
   "source": [
    "df['Motion'] = df['Motion'].astype(\"string\")"
   ]
  },
  {
   "cell_type": "markdown",
   "id": "7863dc1c",
   "metadata": {},
   "source": [
    "### Duplicates"
   ]
  },
  {
   "cell_type": "code",
   "execution_count": 225,
   "id": "e1147aa9",
   "metadata": {},
   "outputs": [],
   "source": [
    "# check for duplicates on motion and round \n",
    "# motions can be duplicated (if same is used in two different rounds)\n",
    "duplicates = df[df.duplicated(subset=['Motion', 'Round'], keep=False)]\n",
    "\n",
    "if len(duplicates) > 0:\n",
    "    raise ValueError(f\"Found {len(duplicates)} duplicates in the data. Please check the data for inconsistencies.\")"
   ]
  },
  {
   "cell_type": "markdown",
   "id": "c00a1090",
   "metadata": {},
   "source": [
    "### Tournament year"
   ]
  },
  {
   "cell_type": "code",
   "execution_count": 226,
   "id": "44c8fbce",
   "metadata": {},
   "outputs": [
    {
     "data": {
      "text/plain": [
       "Year\n",
       "2025    31\n",
       "2023    22\n",
       "2022    21\n",
       "2020    20\n",
       "2012    13\n",
       "2019    13\n",
       "2018    13\n",
       "2003    13\n",
       "2004    13\n",
       "2005    13\n",
       "2017    13\n",
       "2007    13\n",
       "2016    13\n",
       "2009    13\n",
       "2015    13\n",
       "2013    12\n",
       "2011    12\n",
       "2010    12\n",
       "2008    12\n",
       "2006    12\n",
       "2002    12\n",
       "2001    12\n",
       "1999    12\n",
       "2014    11\n",
       "2021    11\n",
       "2024    10\n",
       "1994     9\n",
       "1997     5\n",
       "1998     5\n",
       "2000     4\n",
       "Name: count, dtype: int64"
      ]
     },
     "execution_count": 226,
     "metadata": {},
     "output_type": "execute_result"
    }
   ],
   "source": [
    "def get_year(tournament: str):\n",
    "    pattern = re.compile(r'\\d{4}')\n",
    "    match = pattern.search(tournament)\n",
    "\n",
    "    if tournament == 'eurosdc-25':\n",
    "        return 2025\n",
    "\n",
    "    if match:\n",
    "        return int(match.group(0))\n",
    "    else:\n",
    "        return None\n",
    "\n",
    "df['Year'] = df['Tournament'].apply(get_year)\n",
    "df.value_counts('Year')"
   ]
  },
  {
   "cell_type": "markdown",
   "id": "7a358670",
   "metadata": {},
   "source": [
    "### Motion types"
   ]
  },
  {
   "cell_type": "code",
   "execution_count": 227,
   "id": "be4271dc",
   "metadata": {},
   "outputs": [],
   "source": [
    "def fix_motions(motion: str):\n",
    "    if motion == \"This House as the environmental movement would support the use of extremist tactics\":\n",
    "        return \"This House, as the environmental movement, would support the use of extremist tactics.\"\n",
    "    \n",
    "    if motion == \"TH, as the average 25 year old Romanian, would wait for their 'statistical soulmate'(josh is sad and lonely)\":\n",
    "        return motion.replace('would', \"W\")\n",
    "\n",
    "    if motion.startswith('That'):\n",
    "        motion = 'This House believes that' + motion[4:]\n",
    "    \n",
    "    return motion\n",
    "\n",
    "df['Motion'] = df['Motion'].apply(fix_motions)"
   ]
  },
  {
   "cell_type": "code",
   "execution_count": 228,
   "id": "7ba25024",
   "metadata": {},
   "outputs": [],
   "source": [
    "def extract_motion_header(motion: str): \n",
    "    # https://regex101.com/r/XB1k1w/1\n",
    "    pattern = re.compile(r\"(?:This (h|H)ouse?|TH)[ ,]?(?:,.*?, )?(?P<type>\\w+)\\s?\")\n",
    "\n",
    "    match = re.search(pattern, motion)\n",
    "    return match"
   ]
  },
  {
   "cell_type": "code",
   "execution_count": 229,
   "id": "4b1a3021",
   "metadata": {},
   "outputs": [],
   "source": [
    "full_to_abbr = {\n",
    "    'BT': \"believes\",\n",
    "    'B': \"believes\",\n",
    "    \"S\": \"supports\",\n",
    "    \"O\": \"opposes\",\n",
    "    \"W\": \"would\",\n",
    "    \"P\": \"prefers\",\n",
    "    \"R\": \"regrets\",\n",
    "}\n",
    "\n",
    "\n",
    "def get_motion_type(motion: str): \n",
    "    match = extract_motion_header(motion)\n",
    "\n",
    "    if match: \n",
    "        motion_type = match.group('type')\n",
    "        all_caps = all(map(str.isupper, motion_type))\n",
    "\n",
    "        if all_caps:\n",
    "            return f'{full_to_abbr[motion_type]}'\n",
    "        else: \n",
    "            return f'{motion_type.lower()}'\n",
    "    else:\n",
    "        raise ValueError(f\"Could not determine motion type for: {motion}\")\n",
    "\n",
    "df[\"Motion Type\"] = df[\"Motion\"].apply(get_motion_type)"
   ]
  },
  {
   "cell_type": "markdown",
   "id": "73d5259c",
   "metadata": {},
   "source": [
    "## Vectorization\n",
    "NB! This step requires access to a Google Cloud project with billing enabled. If desired, you can sign up for a $300 free trial that will be plenty to cover the costs of vectorization.\n",
    "\n",
    "Alternatively, all vector space information is already included in the attached `motions.csv` file."
   ]
  },
  {
   "cell_type": "code",
   "execution_count": 157,
   "id": "2254af12",
   "metadata": {},
   "outputs": [
    {
     "name": "stdout",
     "output_type": "stream",
     "text": [
      "\u001b[33mWARNING: google-cloud-aiplatform 1.71.1 does not provide the extra 'all'\u001b[0m\u001b[33m\n",
      "\u001b[0m\n",
      "\u001b[1m[\u001b[0m\u001b[34;49mnotice\u001b[0m\u001b[1;39;49m]\u001b[0m\u001b[39;49m A new release of pip is available: \u001b[0m\u001b[31;49m25.0.1\u001b[0m\u001b[39;49m -> \u001b[0m\u001b[32;49m25.1.1\u001b[0m\n",
      "\u001b[1m[\u001b[0m\u001b[34;49mnotice\u001b[0m\u001b[1;39;49m]\u001b[0m\u001b[39;49m To update, run: \u001b[0m\u001b[32;49mpip install --upgrade pip\u001b[0m\n",
      "Note: you may need to restart the kernel to use updated packages.\n"
     ]
    }
   ],
   "source": [
    "%pip install --upgrade -q google-genai vertexai dotenv"
   ]
  },
  {
   "cell_type": "code",
   "execution_count": 158,
   "id": "de154ea8",
   "metadata": {},
   "outputs": [],
   "source": [
    "# only run this once\n",
    "# !gcloud auth application-default login"
   ]
  },
  {
   "cell_type": "code",
   "execution_count": 230,
   "id": "c5e8b3ab",
   "metadata": {},
   "outputs": [],
   "source": [
    "import vertexai\n",
    "from vertexai.language_models import TextEmbeddingModel\n",
    "from dotenv import load_dotenv\n",
    "import os\n",
    "\n",
    "load_dotenv()\n",
    "vertexai.init(project=os.environ['VERTEXAI_PROJECT_ID'])"
   ]
  },
  {
   "cell_type": "code",
   "execution_count": 235,
   "id": "93d24106",
   "metadata": {},
   "outputs": [],
   "source": [
    "def clean_motion(motion: str):\n",
    "    match = extract_motion_header(motion)\n",
    "\n",
    "    if match is None:\n",
    "        print(f'No header found for motion: {motion}')\n",
    "        return motion\n",
    "\n",
    "    header_end = match.span()[1]\n",
    "    chopped = motion[header_end:].lower()\n",
    "\n",
    "    filler_words = ['that', 'the', 'it', 'is']\n",
    "\n",
    "    flag = True\n",
    "    while flag: \n",
    "        flag = False\n",
    "\n",
    "        for w in filler_words: \n",
    "            if chopped.startswith(w): \n",
    "                chopped = chopped.replace(w, '')\n",
    "                flag=True\n",
    "    \n",
    "    punctuations = ['.', ',' ';']\n",
    "    for p in punctuations: \n",
    "        chopped = chopped.replace(p, '')\n",
    "\n",
    "    return chopped\n"
   ]
  },
  {
   "cell_type": "code",
   "execution_count": 236,
   "id": "f57fd01f",
   "metadata": {},
   "outputs": [
    {
     "data": {
      "text/html": [
       "<div>\n",
       "<style scoped>\n",
       "    .dataframe tbody tr th:only-of-type {\n",
       "        vertical-align: middle;\n",
       "    }\n",
       "\n",
       "    .dataframe tbody tr th {\n",
       "        vertical-align: top;\n",
       "    }\n",
       "\n",
       "    .dataframe thead th {\n",
       "        text-align: right;\n",
       "    }\n",
       "</style>\n",
       "<table border=\"1\" class=\"dataframe\">\n",
       "  <thead>\n",
       "    <tr style=\"text-align: right;\">\n",
       "      <th></th>\n",
       "      <th>Tournament</th>\n",
       "      <th>Motion</th>\n",
       "      <th>Round</th>\n",
       "      <th>Info Slide</th>\n",
       "      <th>Prop wins</th>\n",
       "      <th>Opp wins</th>\n",
       "      <th>Balance</th>\n",
       "      <th>Year</th>\n",
       "      <th>Motion Type</th>\n",
       "      <th>Motion (cleaned)</th>\n",
       "    </tr>\n",
       "  </thead>\n",
       "  <tbody>\n",
       "    <tr>\n",
       "      <th>0</th>\n",
       "      <td>NordicSDC2025</td>\n",
       "      <td>This House Supports gentle parenting becoming ...</td>\n",
       "      <td>Round 1</td>\n",
       "      <td>Gentle parenting is a parenting style that say...</td>\n",
       "      <td>16.0</td>\n",
       "      <td>1.0</td>\n",
       "      <td>imbalanced at 50% level</td>\n",
       "      <td>2025</td>\n",
       "      <td>supports</td>\n",
       "      <td>gentle parenting becoming the norm</td>\n",
       "    </tr>\n",
       "    <tr>\n",
       "      <th>1</th>\n",
       "      <td>NordicSDC2025</td>\n",
       "      <td>THR the creation of the series and film industry</td>\n",
       "      <td>Round 2</td>\n",
       "      <td>None</td>\n",
       "      <td>13.0</td>\n",
       "      <td>1.0</td>\n",
       "      <td>probably balanced</td>\n",
       "      <td>2025</td>\n",
       "      <td>regrets</td>\n",
       "      <td>creation of  series and film industry</td>\n",
       "    </tr>\n",
       "    <tr>\n",
       "      <th>2</th>\n",
       "      <td>NordicSDC2025</td>\n",
       "      <td>This House Believes That it is in the interest...</td>\n",
       "      <td>Round 3</td>\n",
       "      <td>Democratic backsliding is a process of regime ...</td>\n",
       "      <td>15.0</td>\n",
       "      <td>1.0</td>\n",
       "      <td>probably balanced</td>\n",
       "      <td>2025</td>\n",
       "      <td>believes</td>\n",
       "      <td>it is in the interest of georgian government ...</td>\n",
       "    </tr>\n",
       "    <tr>\n",
       "      <th>3</th>\n",
       "      <td>NordicSDC2025</td>\n",
       "      <td>This House Opposes the Globalization of the Ma...</td>\n",
       "      <td>Round 4</td>\n",
       "      <td>“Major European Football Leagues” include the ...</td>\n",
       "      <td>10.0</td>\n",
       "      <td>1.0</td>\n",
       "      <td>imbalanced at 50% level</td>\n",
       "      <td>2025</td>\n",
       "      <td>opposes</td>\n",
       "      <td>globalization of  major european football lea...</td>\n",
       "    </tr>\n",
       "    <tr>\n",
       "      <th>4</th>\n",
       "      <td>NordicSDC2025</td>\n",
       "      <td>This House Would implement a weekly 'blackout ...</td>\n",
       "      <td>Round 5</td>\n",
       "      <td>A 'blackout day' refers to a day where all soc...</td>\n",
       "      <td>13.0</td>\n",
       "      <td>1.0</td>\n",
       "      <td>probably balanced</td>\n",
       "      <td>2025</td>\n",
       "      <td>would</td>\n",
       "      <td>implement a weekly 'blackout day'</td>\n",
       "    </tr>\n",
       "  </tbody>\n",
       "</table>\n",
       "</div>"
      ],
      "text/plain": [
       "      Tournament                                             Motion    Round  \\\n",
       "0  NordicSDC2025  This House Supports gentle parenting becoming ...  Round 1   \n",
       "1  NordicSDC2025   THR the creation of the series and film industry  Round 2   \n",
       "2  NordicSDC2025  This House Believes That it is in the interest...  Round 3   \n",
       "3  NordicSDC2025  This House Opposes the Globalization of the Ma...  Round 4   \n",
       "4  NordicSDC2025  This House Would implement a weekly 'blackout ...  Round 5   \n",
       "\n",
       "                                          Info Slide  Prop wins  Opp wins  \\\n",
       "0  Gentle parenting is a parenting style that say...       16.0       1.0   \n",
       "1                                               None       13.0       1.0   \n",
       "2  Democratic backsliding is a process of regime ...       15.0       1.0   \n",
       "3  “Major European Football Leagues” include the ...       10.0       1.0   \n",
       "4  A 'blackout day' refers to a day where all soc...       13.0       1.0   \n",
       "\n",
       "                   Balance  Year Motion Type  \\\n",
       "0  imbalanced at 50% level  2025    supports   \n",
       "1        probably balanced  2025     regrets   \n",
       "2        probably balanced  2025    believes   \n",
       "3  imbalanced at 50% level  2025     opposes   \n",
       "4        probably balanced  2025       would   \n",
       "\n",
       "                                    Motion (cleaned)  \n",
       "0                 gentle parenting becoming the norm  \n",
       "1              creation of  series and film industry  \n",
       "2   it is in the interest of georgian government ...  \n",
       "3   globalization of  major european football lea...  \n",
       "4                  implement a weekly 'blackout day'  "
      ]
     },
     "execution_count": 236,
     "metadata": {},
     "output_type": "execute_result"
    }
   ],
   "source": [
    "df['Motion (cleaned)'] = df['Motion'].map(clean_motion)\n",
    "df.head()"
   ]
  },
  {
   "cell_type": "code",
   "execution_count": 237,
   "id": "5518b6d9",
   "metadata": {},
   "outputs": [],
   "source": [
    "from typing import Optional\n",
    "\n",
    "\n",
    "def embed(texts, output_dims: Optional[int] = None):\n",
    "  model_id = 'text-embedding-005'\n",
    "  # model_id = 'gemini-embedding-001'\n",
    "  model = TextEmbeddingModel.from_pretrained(model_id)\n",
    "  embeddings = model.get_embeddings(texts, output_dimensionality=output_dims)\n",
    "\n",
    "  return embeddings"
   ]
  },
  {
   "cell_type": "code",
   "execution_count": 243,
   "id": "8b4e06d5",
   "metadata": {},
   "outputs": [
    {
     "name": "stderr",
     "output_type": "stream",
     "text": [
      "100%|██████████| 4/4 [00:08<00:00,  2.14s/it]\n"
     ]
    }
   ],
   "source": [
    "# vertexai allows a max of 250 input elements at once\n",
    "chunk_size = 100\n",
    "\n",
    "for start in tqdm(range(0, len(df), chunk_size)):\n",
    "    end = start + chunk_size\n",
    "    motion_strings = df['Motion (cleaned)'].values[start:end]\n",
    "\n",
    "    embeddings = embed(list(motion_strings), 20)\n",
    "    df.loc[start:end-1, 'Embedding'] = embeddings #NB! pandas uses an inclusive end index (hence the end-1)\n",
    "\n",
    "    # if start > 100:\n",
    "    #     break"
   ]
  },
  {
   "cell_type": "code",
   "execution_count": 244,
   "id": "745f68c7",
   "metadata": {},
   "outputs": [
    {
     "data": {
      "text/plain": [
       "Tournament                                     WSDC Macau Online 2021\n",
       "Motion              In the event of a Chinese invasion of of Taiwa...\n",
       "Round                                               SF: Invade Taiwan\n",
       "Info Slide                                                       None\n",
       "Prop wins                                                         NaN\n",
       "Opp wins                                                          NaN\n",
       "Balance                                                           NaN\n",
       "Year                                                             2021\n",
       "Motion Type                                                     would\n",
       "Motion (cleaned)                                 intervene militarily\n",
       "Embedding           TextEmbedding(values=[-0.041190557181835175, -...\n",
       "Name: 89, dtype: object"
      ]
     },
     "execution_count": 244,
     "metadata": {},
     "output_type": "execute_result"
    }
   ],
   "source": [
    "#FIXME: the beginning is cut-off\n",
    "df.loc[89]"
   ]
  },
  {
   "cell_type": "markdown",
   "id": "81abd180",
   "metadata": {},
   "source": [
    "## Save data locally"
   ]
  },
  {
   "cell_type": "code",
   "execution_count": 245,
   "id": "9a395aaf",
   "metadata": {},
   "outputs": [],
   "source": [
    "#TODO: maybe better to store each value in its own column? or just use a diff file format specifically for floats\n",
    "from vertexai.language_models import TextEmbedding\n",
    "\n",
    "df['Embedding'] = df['Embedding'].map(lambda e: e.values if isinstance(e, TextEmbedding) else None) #get only the numbers"
   ]
  },
  {
   "cell_type": "code",
   "execution_count": 246,
   "id": "b7c1318c",
   "metadata": {},
   "outputs": [],
   "source": [
    "import os\n",
    "\n",
    "data_dir = 'data'\n",
    "\n",
    "os.makedirs(data_dir, exist_ok=True)\n",
    "df.to_csv(os.path.join(data_dir, 'motions_d20.csv'))"
   ]
  },
  {
   "cell_type": "code",
   "execution_count": null,
   "id": "951a371e",
   "metadata": {},
   "outputs": [],
   "source": []
  }
 ],
 "metadata": {
  "kernelspec": {
   "display_name": ".venv",
   "language": "python",
   "name": "python3"
  },
  "language_info": {
   "codemirror_mode": {
    "name": "ipython",
    "version": 3
   },
   "file_extension": ".py",
   "mimetype": "text/x-python",
   "name": "python",
   "nbconvert_exporter": "python",
   "pygments_lexer": "ipython3",
   "version": "3.12.11"
  }
 },
 "nbformat": 4,
 "nbformat_minor": 5
}
