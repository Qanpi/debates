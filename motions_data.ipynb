{
 "cells": [
  {
   "cell_type": "code",
   "execution_count": 214,
   "id": "d8c716a2",
   "metadata": {},
   "outputs": [],
   "source": [
    "import requests\n",
    "from bs4 import BeautifulSoup\n",
    "import re\n",
    "import pandas as pd\n",
    "from tqdm import tqdm"
   ]
  },
  {
   "cell_type": "markdown",
   "id": "7b0bc80f",
   "metadata": {},
   "source": [
    "## Load motions from calico tabs"
   ]
  },
  {
   "cell_type": "code",
   "execution_count": 273,
   "id": "e182d30d",
   "metadata": {},
   "outputs": [],
   "source": [
    "urls = \"\"\"\n",
    "https://hwsrr2025.calicotab.com/_/\n",
    "https://usudc2025.calicotab.com/_/\n",
    "https://wudc2025.calicotab.com\n",
    "https://paudc2024.calicotab.com/paudcK24/\n",
    "https://edudrift.calicotab.com/abp2024/\n",
    "https://neadc2024.calicotab.com/neadc2024/\n",
    "https://eudc2024.calicotab.com/_/\n",
    "https://naudc2024.calicotab.com/naudc2024/ \n",
    "https://wudc2024.calicotab.com/wudc/\n",
    "https://edudrift.calicotab.com/neadc2023/\n",
    "https://usudc2023.calicotab.com/usudc2023/\n",
    "https://edudrift.calicotab.com/neadc2023/tab/team/  \n",
    "https://midp.calicotab.com/mabp2023/\n",
    "https://eudc2023.calicotab.com/_/\n",
    "https://naudc2023.calicotab.com/\n",
    "https://hwsrr2023.calicotab.com/hwsrr2023/\n",
    "https://wudc2023.calicotab.com/wudc/\n",
    "https://paudc2022.calicotab.com/PAUDC2022/ \n",
    "https://edudriftbackup.calicotab.com/abp2022/\n",
    "https://usudc2022.calicotab.com/usudc2022/\n",
    "http://neadc2022.calicotab.com/2022/\n",
    "https://eudc2022.calicotab.com/eudc2022/\n",
    "http://wudc2022.calicotab.com/wudc/\n",
    "https://naudc2021.calicotab.com/_/tab/team/\n",
    "http://neadc.calicotab.com/neadc/\n",
    "https://awdc2021.herokuapp.com/sydneyAWDC/\n",
    "https://abp2021.calicotab.com/abp2021/\n",
    "https://mace.calicotab.com/sanudc2021/\n",
    "https://mace.calicotab.com/paudc2021/\n",
    "https://eudc2021.calicotab.com/eudc2021/\n",
    "https://wudckorea.calicotab.com/2021/\n",
    "https://naudc2020.herokuapp.com/naudc2020/s\n",
    "https://rrtabs.herokuapp.com/paudc2020/\n",
    "https://awdc2020.herokuapp.com/awdc/results/round/11/\n",
    "https://abp2020.calicotab.com/abp2020/\n",
    "https://eudc2020.calicotab.com/eudc2020/\n",
    "https://wudc2020.calicotab.com/wudc2020/\n",
    "https://usudc2020.calicotab.com/usudc2020/\n",
    "https://wudc2018.calicotab.com/wudc2018/\n",
    "https://wudc2014.calicotab.com/wudc2014/\n",
    "https://docs.google.com/spreadsheets/d/1ryOKiMPPW7tP-lsvkR8xM6u1r4JmrSkj4UMitseckKM/pub?gid=0#\n",
    "https://edudrift.calicotab.com/uadc2025/\n",
    "https://uadc2024.au-tab.app/uadc2024/\n",
    "http://malaysiauadc2022.calicotab.com/malaysiauadc2022/ \n",
    "https://bduadc2020.calicotab.com/uadc2020/\n",
    "https://edudrift.calicotab.com/australs2025/\n",
    "https://edudrift.calicotab.com/australs2024/\n",
    "https://krabiaustrals2023.calicotab.com/australs2023/\n",
    "https://australs2022.calicotab.com/australs2022/\n",
    "https://australs2021.calicotab.com/\n",
    "https://australs2020.calicotab.com/australs2020/\n",
    "http://easters2025.calicotab.com/easters2025/\n",
    "http://easters2024.calicotab.com/easters2024/?fbclid=IwAR0sUz8N7MtT4z_oaK1AT0ADfBs6xaN0pI8OKc7UcIcEyIzl9q3KfI8czRc_aem_AXCb6j-ifosiNs7_5os8Toueas-lu4DEPfiNtzMYdm97tPYCG9X3Z_hVbLv9gxf6fv9cCQf6odNf6HRdEJvCfJhY\n",
    "http://easters2023.calicotab.com/easters2023/motions/\n",
    "https://easters2022.calicotab.com/easters2022/\n",
    "https://onlineeasters2021.calicotab.com/onlineeasters2021/\n",
    "https://wsdc2024.calicotab.com/wsdc2024/\n",
    "https://docs.google.com/spreadsheets/u/0/d/1lralzhC-MUcXZsEOQ4i6b_Ep0nLzbU4b_kd1aIxgb1M/htmlview#\n",
    "http://tabbycat.idebate.net/\n",
    "https://docs.google.com/spreadsheets/d/1oBOCHbLLJAtekaVPP0tZldolpZjFY5-x1eoU-CDGRJU/edit?fbclid=IwAR0m9Y3hFxq0N7HUrQVws8htQRMvSLN-3iyP-GT0vy-brYZJr8mJsDSxXoI#gid=892844460\n",
    "https://tinyurl.com/tab\n",
    "\"\"\"\n",
    "\n",
    "# https://cmude2024.calicotab.com/open/\n",
    "# https://cmude2023.calicotab.com/cmude2023/\n",
    "# https://cmude2022.calicotab.com/cmude2022/\n",
    "# https://cmude2021.calicotab.com/cmudeecuador2021/\n",
    "# https://cmudemadrid2020.calicotab.com/cmude2020/\n",
    "# https://cmude2019.calicotab.com/cmude2019/\n",
    "# https://cmude2018.calicotab.com/"
   ]
  },
  {
   "cell_type": "code",
   "execution_count": 285,
   "id": "69c8f1d7",
   "metadata": {},
   "outputs": [
    {
     "name": "stdout",
     "output_type": "stream",
     "text": [
      "[WARN] Could not parse url: https://wudc2025.calicotab.com\n",
      "[WARN] Could not parse url: https://naudc2023.calicotab.com/\n",
      "[WARN] Could not parse url: https://australs2021.calicotab.com/\n"
     ]
    }
   ],
   "source": [
    "calico_tabs = []\n",
    "\n",
    "for url in urls.split('\\n'): \n",
    "    if 'calicotab' not in url:\n",
    "        continue\n",
    "\n",
    "    pattern = re.compile(r'https?:\\/\\/(\\w+)\\.calicotab\\.com\\/(\\w+)\\/')\n",
    "    match = re.match(pattern, url)\n",
    "\n",
    "    if match is None:\n",
    "        print(f'[WARN] Could not parse url: {url}')\n",
    "        continue\n",
    "\n",
    "    subdomain = match.group(1)\n",
    "    slug = match.group(2)\n",
    "\n",
    "    calico_tabs.append((subdomain, slug))\n",
    "\n",
    "    # print(subdomain, slug)"
   ]
  },
  {
   "cell_type": "code",
   "execution_count": 286,
   "id": "dfee05aa",
   "metadata": {},
   "outputs": [
    {
     "data": {
      "text/plain": [
       "[('hwsrr2025', '_'),\n",
       " ('usudc2025', '_'),\n",
       " ('paudc2024', 'paudcK24'),\n",
       " ('edudrift', 'abp2024'),\n",
       " ('neadc2024', 'neadc2024')]"
      ]
     },
     "execution_count": 286,
     "metadata": {},
     "output_type": "execute_result"
    }
   ],
   "source": [
    "calico_tabs[:5]"
   ]
  },
  {
   "cell_type": "code",
   "execution_count": 303,
   "id": "79bce555",
   "metadata": {},
   "outputs": [
    {
     "data": {
      "text/html": [
       "<div>\n",
       "<style scoped>\n",
       "    .dataframe tbody tr th:only-of-type {\n",
       "        vertical-align: middle;\n",
       "    }\n",
       "\n",
       "    .dataframe tbody tr th {\n",
       "        vertical-align: top;\n",
       "    }\n",
       "\n",
       "    .dataframe thead th {\n",
       "        text-align: right;\n",
       "    }\n",
       "</style>\n",
       "<table border=\"1\" class=\"dataframe\">\n",
       "  <thead>\n",
       "    <tr style=\"text-align: right;\">\n",
       "      <th></th>\n",
       "      <th>Motion</th>\n",
       "      <th>Info Slide</th>\n",
       "      <th>Tournament</th>\n",
       "    </tr>\n",
       "  </thead>\n",
       "  <tbody>\n",
       "    <tr>\n",
       "      <th>0</th>\n",
       "      <td>This house prefers that progressive journalist...</td>\n",
       "      <td></td>\n",
       "      <td>hwsrr2025:_</td>\n",
       "    </tr>\n",
       "    <tr>\n",
       "      <th>1</th>\n",
       "      <td>This house regrets the Indian Premier League.</td>\n",
       "      <td>The Indian Premier League (IPL) is a domestic ...</td>\n",
       "      <td>hwsrr2025:_</td>\n",
       "    </tr>\n",
       "    <tr>\n",
       "      <th>2</th>\n",
       "      <td>This house believes that breaking up large mea...</td>\n",
       "      <td></td>\n",
       "      <td>hwsrr2025:_</td>\n",
       "    </tr>\n",
       "    <tr>\n",
       "      <th>3</th>\n",
       "      <td>This house prefers a world where genius only d...</td>\n",
       "      <td></td>\n",
       "      <td>hwsrr2025:_</td>\n",
       "    </tr>\n",
       "    <tr>\n",
       "      <th>4</th>\n",
       "      <td>This house believes that East African national...</td>\n",
       "      <td></td>\n",
       "      <td>hwsrr2025:_</td>\n",
       "    </tr>\n",
       "  </tbody>\n",
       "</table>\n",
       "</div>"
      ],
      "text/plain": [
       "                                              Motion  \\\n",
       "0  This house prefers that progressive journalist...   \n",
       "1      This house regrets the Indian Premier League.   \n",
       "2  This house believes that breaking up large mea...   \n",
       "3  This house prefers a world where genius only d...   \n",
       "4  This house believes that East African national...   \n",
       "\n",
       "                                          Info Slide   Tournament  \n",
       "0                                                     hwsrr2025:_  \n",
       "1  The Indian Premier League (IPL) is a domestic ...  hwsrr2025:_  \n",
       "2                                                     hwsrr2025:_  \n",
       "3                                                     hwsrr2025:_  \n",
       "4                                                     hwsrr2025:_  "
      ]
     },
     "execution_count": 303,
     "metadata": {},
     "output_type": "execute_result"
    }
   ],
   "source": [
    "rows = []\n",
    "\n",
    "for subdomain, slug in calico_tabs: \n",
    "    api_url = f\"https://{subdomain}.calicotab.com/api/v1/tournaments/{slug}/motions\"\n",
    "\n",
    "    response = requests.get(api_url) \n",
    "    try: \n",
    "        assert response.status_code == 200, f\"Failed to fetch {api_url}: {response.status_code}\"\n",
    "    except: \n",
    "        print(f'[WARN] Failed to fetch API for url: {api_url}')\n",
    "        continue\n",
    "\n",
    "    motions = response.json()\n",
    "    for m in motions:\n",
    "\n",
    "        if len(m['rounds']) <= 0: #skip unused (test) motions\n",
    "            continue\n",
    "\n",
    "        row = {\n",
    "            'Motion': m['text'],\n",
    "            'Info Slide': m['info_slide_plain'],\n",
    "            'Tournament': subdomain + ':' + slug,\n",
    "        }\n",
    "\n",
    "        rows.append(row)\n",
    "\n",
    "\n",
    "df = pd.DataFrame(rows)\n",
    "df.tail()"
   ]
  },
  {
   "cell_type": "markdown",
   "id": "266e92a9",
   "metadata": {},
   "source": [
    "## Scraping from Tabbycat \n",
    "\n",
    "DEPRECATED!! Only works for WSDC. "
   ]
  },
  {
   "cell_type": "code",
   "execution_count": 259,
   "id": "3077ae44",
   "metadata": {},
   "outputs": [],
   "source": [
    "# calico_tabs = [\n",
    "#     ('nsdc25', 'NordicSDC2025'),\n",
    "#     ('eurosdc25', 'eurosdc-25'),\n",
    "#     # ('esdc', 'esdc2025'),\n",
    "#     ('argument', 'eco2025'),\n",
    "#     ('argument', 'ECO2024'),\n",
    "#     ('nordics2023', 'nordics2023')\n",
    "# ]"
   ]
  },
  {
   "cell_type": "code",
   "execution_count": 260,
   "id": "332a9730",
   "metadata": {},
   "outputs": [],
   "source": [
    "def parse_motion(div): \n",
    "    \"\"\"\n",
    "    Given a motion top-level div, parse out the relevant details.\n",
    "    \"\"\"\n",
    "    round = div.find('span', class_=\"badge\").get_text(strip=True)\n",
    "    motion = div.find('h4').find(string=True, recursive=False).strip()\n",
    "\n",
    "    info_slide = div.find(string=re.compile(\"View Info Slide\"))\n",
    "    info_slide_text = None\n",
    "\n",
    "    if info_slide is not None:\n",
    "        info_slide_text = info_slide.find_next('div', class_='modal-body').get_text(strip=True)\n",
    "\n",
    "    # regex match the wins for prop and opp\n",
    "    text = div.get_text()\n",
    "\n",
    "    re_prop = re.compile(r\"(\\d+) (Prop|Gov) win\")\n",
    "    re_opp = re.compile(r\"(\\d+) Opp win\")\n",
    "\n",
    "    prop_wins = re.findall(re_prop, text)[0][0]\n",
    "    opp_wins = re.findall(re_opp, text)[0][0]\n",
    "\n",
    "    balance = div.find(string=re.compile('balance')).get_text(strip=True)\n",
    "\n",
    "    return motion, round, info_slide_text, prop_wins, opp_wins, balance"
   ]
  },
  {
   "cell_type": "code",
   "execution_count": null,
   "id": "ff5ec651",
   "metadata": {},
   "outputs": [
    {
     "name": "stdout",
     "output_type": "stream",
     "text": [
      "Found 11 motions from _.\n"
     ]
    },
    {
     "name": "stderr",
     "output_type": "stream",
     "text": [
      "  0%|          | 0/11 [00:00<?, ?it/s]"
     ]
    },
    {
     "name": "stdout",
     "output_type": "stream",
     "text": [
      "[WARN] could not parse motions for url: https://hwsrr2025.calicotab.com/_\n"
     ]
    },
    {
     "name": "stderr",
     "output_type": "stream",
     "text": [
      "\n"
     ]
    },
    {
     "name": "stdout",
     "output_type": "stream",
     "text": [
      "Found 10 motions from _.\n"
     ]
    },
    {
     "name": "stderr",
     "output_type": "stream",
     "text": [
      "  0%|          | 0/10 [00:00<?, ?it/s]"
     ]
    },
    {
     "name": "stdout",
     "output_type": "stream",
     "text": [
      "[WARN] could not parse motions for url: https://usudc2025.calicotab.com/_\n"
     ]
    },
    {
     "name": "stderr",
     "output_type": "stream",
     "text": [
      "\n"
     ]
    },
    {
     "name": "stdout",
     "output_type": "stream",
     "text": [
      "Found 12 motions from paudcK24.\n"
     ]
    },
    {
     "name": "stderr",
     "output_type": "stream",
     "text": [
      "  0%|          | 0/12 [00:00<?, ?it/s]"
     ]
    },
    {
     "name": "stdout",
     "output_type": "stream",
     "text": [
      "[WARN] could not parse motions for url: https://paudc2024.calicotab.com/paudcK24\n"
     ]
    },
    {
     "name": "stderr",
     "output_type": "stream",
     "text": [
      "\n"
     ]
    },
    {
     "name": "stdout",
     "output_type": "stream",
     "text": [
      "Found 12 motions from abp2024.\n"
     ]
    },
    {
     "name": "stderr",
     "output_type": "stream",
     "text": [
      "  0%|          | 0/12 [00:00<?, ?it/s]"
     ]
    },
    {
     "name": "stdout",
     "output_type": "stream",
     "text": [
      "[WARN] could not parse motions for url: https://edudrift.calicotab.com/abp2024\n"
     ]
    },
    {
     "name": "stderr",
     "output_type": "stream",
     "text": [
      "\n"
     ]
    },
    {
     "name": "stdout",
     "output_type": "stream",
     "text": [
      "Found 11 motions from neadc2024.\n"
     ]
    },
    {
     "name": "stderr",
     "output_type": "stream",
     "text": [
      "  0%|          | 0/11 [00:00<?, ?it/s]"
     ]
    },
    {
     "name": "stdout",
     "output_type": "stream",
     "text": [
      "[WARN] could not parse motions for url: https://neadc2024.calicotab.com/neadc2024\n"
     ]
    },
    {
     "name": "stderr",
     "output_type": "stream",
     "text": [
      "\n"
     ]
    },
    {
     "name": "stdout",
     "output_type": "stream",
     "text": [
      "Found 16 motions from _.\n"
     ]
    },
    {
     "name": "stderr",
     "output_type": "stream",
     "text": [
      "  0%|          | 0/16 [00:00<?, ?it/s]"
     ]
    },
    {
     "name": "stdout",
     "output_type": "stream",
     "text": [
      "[WARN] could not parse motions for url: https://eudc2024.calicotab.com/_\n"
     ]
    },
    {
     "name": "stderr",
     "output_type": "stream",
     "text": [
      "\n"
     ]
    },
    {
     "name": "stdout",
     "output_type": "stream",
     "text": [
      "Found 14 motions from naudc2024.\n"
     ]
    },
    {
     "name": "stderr",
     "output_type": "stream",
     "text": [
      "  0%|          | 0/14 [00:00<?, ?it/s]"
     ]
    },
    {
     "name": "stdout",
     "output_type": "stream",
     "text": [
      "[WARN] could not parse motions for url: https://naudc2024.calicotab.com/naudc2024\n"
     ]
    },
    {
     "name": "stderr",
     "output_type": "stream",
     "text": [
      "\n"
     ]
    },
    {
     "name": "stdout",
     "output_type": "stream",
     "text": [
      "Found 19 motions from wudc.\n"
     ]
    },
    {
     "name": "stderr",
     "output_type": "stream",
     "text": [
      "  0%|          | 0/19 [00:00<?, ?it/s]"
     ]
    },
    {
     "name": "stdout",
     "output_type": "stream",
     "text": [
      "[WARN] could not parse motions for url: https://wudc2024.calicotab.com/wudc\n"
     ]
    },
    {
     "name": "stderr",
     "output_type": "stream",
     "text": [
      "\n"
     ]
    },
    {
     "ename": "KeyboardInterrupt",
     "evalue": "",
     "output_type": "error",
     "traceback": [
      "\u001b[31m---------------------------------------------------------------------------\u001b[39m",
      "\u001b[31mKeyboardInterrupt\u001b[39m                         Traceback (most recent call last)",
      "\u001b[36mCell\u001b[39m\u001b[36m \u001b[39m\u001b[32mIn[263]\u001b[39m\u001b[32m, line 18\u001b[39m\n\u001b[32m     15\u001b[39m motions_suburl = \u001b[33mf\u001b[39m\u001b[33m\"\u001b[39m\u001b[33mmotions/statistics\u001b[39m\u001b[33m\"\u001b[39m\n\u001b[32m     16\u001b[39m motions_url = \u001b[33mf\u001b[39m\u001b[33m\"\u001b[39m\u001b[38;5;132;01m{\u001b[39;00mcalico_url\u001b[38;5;132;01m}\u001b[39;00m\u001b[33m/\u001b[39m\u001b[38;5;132;01m{\u001b[39;00mmotions_suburl\u001b[38;5;132;01m}\u001b[39;00m\u001b[33m\"\u001b[39m\n\u001b[32m---> \u001b[39m\u001b[32m18\u001b[39m response = \u001b[43mrequests\u001b[49m\u001b[43m.\u001b[49m\u001b[43mget\u001b[49m\u001b[43m(\u001b[49m\u001b[43mmotions_url\u001b[49m\u001b[43m)\u001b[49m \n\u001b[32m     19\u001b[39m \u001b[38;5;28;01mtry\u001b[39;00m: \n\u001b[32m     20\u001b[39m     \u001b[38;5;28;01massert\u001b[39;00m response.status_code == \u001b[32m200\u001b[39m, \u001b[33mf\u001b[39m\u001b[33m\"\u001b[39m\u001b[33mFailed to fetch \u001b[39m\u001b[38;5;132;01m{\u001b[39;00mmotions_url\u001b[38;5;132;01m}\u001b[39;00m\u001b[33m: \u001b[39m\u001b[38;5;132;01m{\u001b[39;00mresponse.status_code\u001b[38;5;132;01m}\u001b[39;00m\u001b[33m\"\u001b[39m\n",
      "\u001b[36mFile \u001b[39m\u001b[32m~/Documents/debates/.venv/lib/python3.12/site-packages/requests/api.py:73\u001b[39m, in \u001b[36mget\u001b[39m\u001b[34m(url, params, **kwargs)\u001b[39m\n\u001b[32m     62\u001b[39m \u001b[38;5;28;01mdef\u001b[39;00m\u001b[38;5;250m \u001b[39m\u001b[34mget\u001b[39m(url, params=\u001b[38;5;28;01mNone\u001b[39;00m, **kwargs):\n\u001b[32m     63\u001b[39m \u001b[38;5;250m    \u001b[39m\u001b[33mr\u001b[39m\u001b[33;03m\"\"\"Sends a GET request.\u001b[39;00m\n\u001b[32m     64\u001b[39m \n\u001b[32m     65\u001b[39m \u001b[33;03m    :param url: URL for the new :class:`Request` object.\u001b[39;00m\n\u001b[32m   (...)\u001b[39m\u001b[32m     70\u001b[39m \u001b[33;03m    :rtype: requests.Response\u001b[39;00m\n\u001b[32m     71\u001b[39m \u001b[33;03m    \"\"\"\u001b[39;00m\n\u001b[32m---> \u001b[39m\u001b[32m73\u001b[39m     \u001b[38;5;28;01mreturn\u001b[39;00m \u001b[43mrequest\u001b[49m\u001b[43m(\u001b[49m\u001b[33;43m\"\u001b[39;49m\u001b[33;43mget\u001b[39;49m\u001b[33;43m\"\u001b[39;49m\u001b[43m,\u001b[49m\u001b[43m \u001b[49m\u001b[43murl\u001b[49m\u001b[43m,\u001b[49m\u001b[43m \u001b[49m\u001b[43mparams\u001b[49m\u001b[43m=\u001b[49m\u001b[43mparams\u001b[49m\u001b[43m,\u001b[49m\u001b[43m \u001b[49m\u001b[43m*\u001b[49m\u001b[43m*\u001b[49m\u001b[43mkwargs\u001b[49m\u001b[43m)\u001b[49m\n",
      "\u001b[36mFile \u001b[39m\u001b[32m~/Documents/debates/.venv/lib/python3.12/site-packages/requests/api.py:59\u001b[39m, in \u001b[36mrequest\u001b[39m\u001b[34m(method, url, **kwargs)\u001b[39m\n\u001b[32m     55\u001b[39m \u001b[38;5;66;03m# By using the 'with' statement we are sure the session is closed, thus we\u001b[39;00m\n\u001b[32m     56\u001b[39m \u001b[38;5;66;03m# avoid leaving sockets open which can trigger a ResourceWarning in some\u001b[39;00m\n\u001b[32m     57\u001b[39m \u001b[38;5;66;03m# cases, and look like a memory leak in others.\u001b[39;00m\n\u001b[32m     58\u001b[39m \u001b[38;5;28;01mwith\u001b[39;00m sessions.Session() \u001b[38;5;28;01mas\u001b[39;00m session:\n\u001b[32m---> \u001b[39m\u001b[32m59\u001b[39m     \u001b[38;5;28;01mreturn\u001b[39;00m \u001b[43msession\u001b[49m\u001b[43m.\u001b[49m\u001b[43mrequest\u001b[49m\u001b[43m(\u001b[49m\u001b[43mmethod\u001b[49m\u001b[43m=\u001b[49m\u001b[43mmethod\u001b[49m\u001b[43m,\u001b[49m\u001b[43m \u001b[49m\u001b[43murl\u001b[49m\u001b[43m=\u001b[49m\u001b[43murl\u001b[49m\u001b[43m,\u001b[49m\u001b[43m \u001b[49m\u001b[43m*\u001b[49m\u001b[43m*\u001b[49m\u001b[43mkwargs\u001b[49m\u001b[43m)\u001b[49m\n",
      "\u001b[36mFile \u001b[39m\u001b[32m~/Documents/debates/.venv/lib/python3.12/site-packages/requests/sessions.py:589\u001b[39m, in \u001b[36mSession.request\u001b[39m\u001b[34m(self, method, url, params, data, headers, cookies, files, auth, timeout, allow_redirects, proxies, hooks, stream, verify, cert, json)\u001b[39m\n\u001b[32m    584\u001b[39m send_kwargs = {\n\u001b[32m    585\u001b[39m     \u001b[33m\"\u001b[39m\u001b[33mtimeout\u001b[39m\u001b[33m\"\u001b[39m: timeout,\n\u001b[32m    586\u001b[39m     \u001b[33m\"\u001b[39m\u001b[33mallow_redirects\u001b[39m\u001b[33m\"\u001b[39m: allow_redirects,\n\u001b[32m    587\u001b[39m }\n\u001b[32m    588\u001b[39m send_kwargs.update(settings)\n\u001b[32m--> \u001b[39m\u001b[32m589\u001b[39m resp = \u001b[38;5;28;43mself\u001b[39;49m\u001b[43m.\u001b[49m\u001b[43msend\u001b[49m\u001b[43m(\u001b[49m\u001b[43mprep\u001b[49m\u001b[43m,\u001b[49m\u001b[43m \u001b[49m\u001b[43m*\u001b[49m\u001b[43m*\u001b[49m\u001b[43msend_kwargs\u001b[49m\u001b[43m)\u001b[49m\n\u001b[32m    591\u001b[39m \u001b[38;5;28;01mreturn\u001b[39;00m resp\n",
      "\u001b[36mFile \u001b[39m\u001b[32m~/Documents/debates/.venv/lib/python3.12/site-packages/requests/sessions.py:724\u001b[39m, in \u001b[36mSession.send\u001b[39m\u001b[34m(self, request, **kwargs)\u001b[39m\n\u001b[32m    721\u001b[39m \u001b[38;5;28;01mif\u001b[39;00m allow_redirects:\n\u001b[32m    722\u001b[39m     \u001b[38;5;66;03m# Redirect resolving generator.\u001b[39;00m\n\u001b[32m    723\u001b[39m     gen = \u001b[38;5;28mself\u001b[39m.resolve_redirects(r, request, **kwargs)\n\u001b[32m--> \u001b[39m\u001b[32m724\u001b[39m     history = \u001b[43m[\u001b[49m\u001b[43mresp\u001b[49m\u001b[43m \u001b[49m\u001b[38;5;28;43;01mfor\u001b[39;49;00m\u001b[43m \u001b[49m\u001b[43mresp\u001b[49m\u001b[43m \u001b[49m\u001b[38;5;129;43;01min\u001b[39;49;00m\u001b[43m \u001b[49m\u001b[43mgen\u001b[49m\u001b[43m]\u001b[49m\n\u001b[32m    725\u001b[39m \u001b[38;5;28;01melse\u001b[39;00m:\n\u001b[32m    726\u001b[39m     history = []\n",
      "\u001b[36mFile \u001b[39m\u001b[32m~/Documents/debates/.venv/lib/python3.12/site-packages/requests/sessions.py:265\u001b[39m, in \u001b[36mSessionRedirectMixin.resolve_redirects\u001b[39m\u001b[34m(self, resp, req, stream, timeout, verify, cert, proxies, yield_requests, **adapter_kwargs)\u001b[39m\n\u001b[32m    263\u001b[39m     \u001b[38;5;28;01myield\u001b[39;00m req\n\u001b[32m    264\u001b[39m \u001b[38;5;28;01melse\u001b[39;00m:\n\u001b[32m--> \u001b[39m\u001b[32m265\u001b[39m     resp = \u001b[38;5;28;43mself\u001b[39;49m\u001b[43m.\u001b[49m\u001b[43msend\u001b[49m\u001b[43m(\u001b[49m\n\u001b[32m    266\u001b[39m \u001b[43m        \u001b[49m\u001b[43mreq\u001b[49m\u001b[43m,\u001b[49m\n\u001b[32m    267\u001b[39m \u001b[43m        \u001b[49m\u001b[43mstream\u001b[49m\u001b[43m=\u001b[49m\u001b[43mstream\u001b[49m\u001b[43m,\u001b[49m\n\u001b[32m    268\u001b[39m \u001b[43m        \u001b[49m\u001b[43mtimeout\u001b[49m\u001b[43m=\u001b[49m\u001b[43mtimeout\u001b[49m\u001b[43m,\u001b[49m\n\u001b[32m    269\u001b[39m \u001b[43m        \u001b[49m\u001b[43mverify\u001b[49m\u001b[43m=\u001b[49m\u001b[43mverify\u001b[49m\u001b[43m,\u001b[49m\n\u001b[32m    270\u001b[39m \u001b[43m        \u001b[49m\u001b[43mcert\u001b[49m\u001b[43m=\u001b[49m\u001b[43mcert\u001b[49m\u001b[43m,\u001b[49m\n\u001b[32m    271\u001b[39m \u001b[43m        \u001b[49m\u001b[43mproxies\u001b[49m\u001b[43m=\u001b[49m\u001b[43mproxies\u001b[49m\u001b[43m,\u001b[49m\n\u001b[32m    272\u001b[39m \u001b[43m        \u001b[49m\u001b[43mallow_redirects\u001b[49m\u001b[43m=\u001b[49m\u001b[38;5;28;43;01mFalse\u001b[39;49;00m\u001b[43m,\u001b[49m\n\u001b[32m    273\u001b[39m \u001b[43m        \u001b[49m\u001b[43m*\u001b[49m\u001b[43m*\u001b[49m\u001b[43madapter_kwargs\u001b[49m\u001b[43m,\u001b[49m\n\u001b[32m    274\u001b[39m \u001b[43m    \u001b[49m\u001b[43m)\u001b[49m\n\u001b[32m    276\u001b[39m     extract_cookies_to_jar(\u001b[38;5;28mself\u001b[39m.cookies, prepared_request, resp.raw)\n\u001b[32m    278\u001b[39m     \u001b[38;5;66;03m# extract redirect url, if any, for the next loop\u001b[39;00m\n",
      "\u001b[36mFile \u001b[39m\u001b[32m~/Documents/debates/.venv/lib/python3.12/site-packages/requests/sessions.py:703\u001b[39m, in \u001b[36mSession.send\u001b[39m\u001b[34m(self, request, **kwargs)\u001b[39m\n\u001b[32m    700\u001b[39m start = preferred_clock()\n\u001b[32m    702\u001b[39m \u001b[38;5;66;03m# Send the request\u001b[39;00m\n\u001b[32m--> \u001b[39m\u001b[32m703\u001b[39m r = \u001b[43madapter\u001b[49m\u001b[43m.\u001b[49m\u001b[43msend\u001b[49m\u001b[43m(\u001b[49m\u001b[43mrequest\u001b[49m\u001b[43m,\u001b[49m\u001b[43m \u001b[49m\u001b[43m*\u001b[49m\u001b[43m*\u001b[49m\u001b[43mkwargs\u001b[49m\u001b[43m)\u001b[49m\n\u001b[32m    705\u001b[39m \u001b[38;5;66;03m# Total elapsed time of the request (approximately)\u001b[39;00m\n\u001b[32m    706\u001b[39m elapsed = preferred_clock() - start\n",
      "\u001b[36mFile \u001b[39m\u001b[32m~/Documents/debates/.venv/lib/python3.12/site-packages/requests/adapters.py:667\u001b[39m, in \u001b[36mHTTPAdapter.send\u001b[39m\u001b[34m(self, request, stream, timeout, verify, cert, proxies)\u001b[39m\n\u001b[32m    664\u001b[39m     timeout = TimeoutSauce(connect=timeout, read=timeout)\n\u001b[32m    666\u001b[39m \u001b[38;5;28;01mtry\u001b[39;00m:\n\u001b[32m--> \u001b[39m\u001b[32m667\u001b[39m     resp = \u001b[43mconn\u001b[49m\u001b[43m.\u001b[49m\u001b[43murlopen\u001b[49m\u001b[43m(\u001b[49m\n\u001b[32m    668\u001b[39m \u001b[43m        \u001b[49m\u001b[43mmethod\u001b[49m\u001b[43m=\u001b[49m\u001b[43mrequest\u001b[49m\u001b[43m.\u001b[49m\u001b[43mmethod\u001b[49m\u001b[43m,\u001b[49m\n\u001b[32m    669\u001b[39m \u001b[43m        \u001b[49m\u001b[43murl\u001b[49m\u001b[43m=\u001b[49m\u001b[43murl\u001b[49m\u001b[43m,\u001b[49m\n\u001b[32m    670\u001b[39m \u001b[43m        \u001b[49m\u001b[43mbody\u001b[49m\u001b[43m=\u001b[49m\u001b[43mrequest\u001b[49m\u001b[43m.\u001b[49m\u001b[43mbody\u001b[49m\u001b[43m,\u001b[49m\n\u001b[32m    671\u001b[39m \u001b[43m        \u001b[49m\u001b[43mheaders\u001b[49m\u001b[43m=\u001b[49m\u001b[43mrequest\u001b[49m\u001b[43m.\u001b[49m\u001b[43mheaders\u001b[49m\u001b[43m,\u001b[49m\n\u001b[32m    672\u001b[39m \u001b[43m        \u001b[49m\u001b[43mredirect\u001b[49m\u001b[43m=\u001b[49m\u001b[38;5;28;43;01mFalse\u001b[39;49;00m\u001b[43m,\u001b[49m\n\u001b[32m    673\u001b[39m \u001b[43m        \u001b[49m\u001b[43massert_same_host\u001b[49m\u001b[43m=\u001b[49m\u001b[38;5;28;43;01mFalse\u001b[39;49;00m\u001b[43m,\u001b[49m\n\u001b[32m    674\u001b[39m \u001b[43m        \u001b[49m\u001b[43mpreload_content\u001b[49m\u001b[43m=\u001b[49m\u001b[38;5;28;43;01mFalse\u001b[39;49;00m\u001b[43m,\u001b[49m\n\u001b[32m    675\u001b[39m \u001b[43m        \u001b[49m\u001b[43mdecode_content\u001b[49m\u001b[43m=\u001b[49m\u001b[38;5;28;43;01mFalse\u001b[39;49;00m\u001b[43m,\u001b[49m\n\u001b[32m    676\u001b[39m \u001b[43m        \u001b[49m\u001b[43mretries\u001b[49m\u001b[43m=\u001b[49m\u001b[38;5;28;43mself\u001b[39;49m\u001b[43m.\u001b[49m\u001b[43mmax_retries\u001b[49m\u001b[43m,\u001b[49m\n\u001b[32m    677\u001b[39m \u001b[43m        \u001b[49m\u001b[43mtimeout\u001b[49m\u001b[43m=\u001b[49m\u001b[43mtimeout\u001b[49m\u001b[43m,\u001b[49m\n\u001b[32m    678\u001b[39m \u001b[43m        \u001b[49m\u001b[43mchunked\u001b[49m\u001b[43m=\u001b[49m\u001b[43mchunked\u001b[49m\u001b[43m,\u001b[49m\n\u001b[32m    679\u001b[39m \u001b[43m    \u001b[49m\u001b[43m)\u001b[49m\n\u001b[32m    681\u001b[39m \u001b[38;5;28;01mexcept\u001b[39;00m (ProtocolError, \u001b[38;5;167;01mOSError\u001b[39;00m) \u001b[38;5;28;01mas\u001b[39;00m err:\n\u001b[32m    682\u001b[39m     \u001b[38;5;28;01mraise\u001b[39;00m \u001b[38;5;167;01mConnectionError\u001b[39;00m(err, request=request)\n",
      "\u001b[36mFile \u001b[39m\u001b[32m~/Documents/debates/.venv/lib/python3.12/site-packages/urllib3/connectionpool.py:787\u001b[39m, in \u001b[36mHTTPConnectionPool.urlopen\u001b[39m\u001b[34m(self, method, url, body, headers, retries, redirect, assert_same_host, timeout, pool_timeout, release_conn, chunked, body_pos, preload_content, decode_content, **response_kw)\u001b[39m\n\u001b[32m    784\u001b[39m response_conn = conn \u001b[38;5;28;01mif\u001b[39;00m \u001b[38;5;129;01mnot\u001b[39;00m release_conn \u001b[38;5;28;01melse\u001b[39;00m \u001b[38;5;28;01mNone\u001b[39;00m\n\u001b[32m    786\u001b[39m \u001b[38;5;66;03m# Make the request on the HTTPConnection object\u001b[39;00m\n\u001b[32m--> \u001b[39m\u001b[32m787\u001b[39m response = \u001b[38;5;28;43mself\u001b[39;49m\u001b[43m.\u001b[49m\u001b[43m_make_request\u001b[49m\u001b[43m(\u001b[49m\n\u001b[32m    788\u001b[39m \u001b[43m    \u001b[49m\u001b[43mconn\u001b[49m\u001b[43m,\u001b[49m\n\u001b[32m    789\u001b[39m \u001b[43m    \u001b[49m\u001b[43mmethod\u001b[49m\u001b[43m,\u001b[49m\n\u001b[32m    790\u001b[39m \u001b[43m    \u001b[49m\u001b[43murl\u001b[49m\u001b[43m,\u001b[49m\n\u001b[32m    791\u001b[39m \u001b[43m    \u001b[49m\u001b[43mtimeout\u001b[49m\u001b[43m=\u001b[49m\u001b[43mtimeout_obj\u001b[49m\u001b[43m,\u001b[49m\n\u001b[32m    792\u001b[39m \u001b[43m    \u001b[49m\u001b[43mbody\u001b[49m\u001b[43m=\u001b[49m\u001b[43mbody\u001b[49m\u001b[43m,\u001b[49m\n\u001b[32m    793\u001b[39m \u001b[43m    \u001b[49m\u001b[43mheaders\u001b[49m\u001b[43m=\u001b[49m\u001b[43mheaders\u001b[49m\u001b[43m,\u001b[49m\n\u001b[32m    794\u001b[39m \u001b[43m    \u001b[49m\u001b[43mchunked\u001b[49m\u001b[43m=\u001b[49m\u001b[43mchunked\u001b[49m\u001b[43m,\u001b[49m\n\u001b[32m    795\u001b[39m \u001b[43m    \u001b[49m\u001b[43mretries\u001b[49m\u001b[43m=\u001b[49m\u001b[43mretries\u001b[49m\u001b[43m,\u001b[49m\n\u001b[32m    796\u001b[39m \u001b[43m    \u001b[49m\u001b[43mresponse_conn\u001b[49m\u001b[43m=\u001b[49m\u001b[43mresponse_conn\u001b[49m\u001b[43m,\u001b[49m\n\u001b[32m    797\u001b[39m \u001b[43m    \u001b[49m\u001b[43mpreload_content\u001b[49m\u001b[43m=\u001b[49m\u001b[43mpreload_content\u001b[49m\u001b[43m,\u001b[49m\n\u001b[32m    798\u001b[39m \u001b[43m    \u001b[49m\u001b[43mdecode_content\u001b[49m\u001b[43m=\u001b[49m\u001b[43mdecode_content\u001b[49m\u001b[43m,\u001b[49m\n\u001b[32m    799\u001b[39m \u001b[43m    \u001b[49m\u001b[43m*\u001b[49m\u001b[43m*\u001b[49m\u001b[43mresponse_kw\u001b[49m\u001b[43m,\u001b[49m\n\u001b[32m    800\u001b[39m \u001b[43m\u001b[49m\u001b[43m)\u001b[49m\n\u001b[32m    802\u001b[39m \u001b[38;5;66;03m# Everything went great!\u001b[39;00m\n\u001b[32m    803\u001b[39m clean_exit = \u001b[38;5;28;01mTrue\u001b[39;00m\n",
      "\u001b[36mFile \u001b[39m\u001b[32m~/Documents/debates/.venv/lib/python3.12/site-packages/urllib3/connectionpool.py:534\u001b[39m, in \u001b[36mHTTPConnectionPool._make_request\u001b[39m\u001b[34m(self, conn, method, url, body, headers, retries, timeout, chunked, response_conn, preload_content, decode_content, enforce_content_length)\u001b[39m\n\u001b[32m    532\u001b[39m \u001b[38;5;66;03m# Receive the response from the server\u001b[39;00m\n\u001b[32m    533\u001b[39m \u001b[38;5;28;01mtry\u001b[39;00m:\n\u001b[32m--> \u001b[39m\u001b[32m534\u001b[39m     response = \u001b[43mconn\u001b[49m\u001b[43m.\u001b[49m\u001b[43mgetresponse\u001b[49m\u001b[43m(\u001b[49m\u001b[43m)\u001b[49m\n\u001b[32m    535\u001b[39m \u001b[38;5;28;01mexcept\u001b[39;00m (BaseSSLError, \u001b[38;5;167;01mOSError\u001b[39;00m) \u001b[38;5;28;01mas\u001b[39;00m e:\n\u001b[32m    536\u001b[39m     \u001b[38;5;28mself\u001b[39m._raise_timeout(err=e, url=url, timeout_value=read_timeout)\n",
      "\u001b[36mFile \u001b[39m\u001b[32m~/Documents/debates/.venv/lib/python3.12/site-packages/urllib3/connection.py:516\u001b[39m, in \u001b[36mHTTPConnection.getresponse\u001b[39m\u001b[34m(self)\u001b[39m\n\u001b[32m    513\u001b[39m _shutdown = \u001b[38;5;28mgetattr\u001b[39m(\u001b[38;5;28mself\u001b[39m.sock, \u001b[33m\"\u001b[39m\u001b[33mshutdown\u001b[39m\u001b[33m\"\u001b[39m, \u001b[38;5;28;01mNone\u001b[39;00m)\n\u001b[32m    515\u001b[39m \u001b[38;5;66;03m# Get the response from http.client.HTTPConnection\u001b[39;00m\n\u001b[32m--> \u001b[39m\u001b[32m516\u001b[39m httplib_response = \u001b[38;5;28;43msuper\u001b[39;49m\u001b[43m(\u001b[49m\u001b[43m)\u001b[49m\u001b[43m.\u001b[49m\u001b[43mgetresponse\u001b[49m\u001b[43m(\u001b[49m\u001b[43m)\u001b[49m\n\u001b[32m    518\u001b[39m \u001b[38;5;28;01mtry\u001b[39;00m:\n\u001b[32m    519\u001b[39m     assert_header_parsing(httplib_response.msg)\n",
      "\u001b[36mFile \u001b[39m\u001b[32m/opt/homebrew/Cellar/python@3.12/3.12.11/Frameworks/Python.framework/Versions/3.12/lib/python3.12/http/client.py:1430\u001b[39m, in \u001b[36mHTTPConnection.getresponse\u001b[39m\u001b[34m(self)\u001b[39m\n\u001b[32m   1428\u001b[39m \u001b[38;5;28;01mtry\u001b[39;00m:\n\u001b[32m   1429\u001b[39m     \u001b[38;5;28;01mtry\u001b[39;00m:\n\u001b[32m-> \u001b[39m\u001b[32m1430\u001b[39m         \u001b[43mresponse\u001b[49m\u001b[43m.\u001b[49m\u001b[43mbegin\u001b[49m\u001b[43m(\u001b[49m\u001b[43m)\u001b[49m\n\u001b[32m   1431\u001b[39m     \u001b[38;5;28;01mexcept\u001b[39;00m \u001b[38;5;167;01mConnectionError\u001b[39;00m:\n\u001b[32m   1432\u001b[39m         \u001b[38;5;28mself\u001b[39m.close()\n",
      "\u001b[36mFile \u001b[39m\u001b[32m/opt/homebrew/Cellar/python@3.12/3.12.11/Frameworks/Python.framework/Versions/3.12/lib/python3.12/http/client.py:331\u001b[39m, in \u001b[36mHTTPResponse.begin\u001b[39m\u001b[34m(self)\u001b[39m\n\u001b[32m    329\u001b[39m \u001b[38;5;66;03m# read until we get a non-100 response\u001b[39;00m\n\u001b[32m    330\u001b[39m \u001b[38;5;28;01mwhile\u001b[39;00m \u001b[38;5;28;01mTrue\u001b[39;00m:\n\u001b[32m--> \u001b[39m\u001b[32m331\u001b[39m     version, status, reason = \u001b[38;5;28;43mself\u001b[39;49m\u001b[43m.\u001b[49m\u001b[43m_read_status\u001b[49m\u001b[43m(\u001b[49m\u001b[43m)\u001b[49m\n\u001b[32m    332\u001b[39m     \u001b[38;5;28;01mif\u001b[39;00m status != CONTINUE:\n\u001b[32m    333\u001b[39m         \u001b[38;5;28;01mbreak\u001b[39;00m\n",
      "\u001b[36mFile \u001b[39m\u001b[32m/opt/homebrew/Cellar/python@3.12/3.12.11/Frameworks/Python.framework/Versions/3.12/lib/python3.12/http/client.py:292\u001b[39m, in \u001b[36mHTTPResponse._read_status\u001b[39m\u001b[34m(self)\u001b[39m\n\u001b[32m    291\u001b[39m \u001b[38;5;28;01mdef\u001b[39;00m\u001b[38;5;250m \u001b[39m\u001b[34m_read_status\u001b[39m(\u001b[38;5;28mself\u001b[39m):\n\u001b[32m--> \u001b[39m\u001b[32m292\u001b[39m     line = \u001b[38;5;28mstr\u001b[39m(\u001b[38;5;28;43mself\u001b[39;49m\u001b[43m.\u001b[49m\u001b[43mfp\u001b[49m\u001b[43m.\u001b[49m\u001b[43mreadline\u001b[49m\u001b[43m(\u001b[49m\u001b[43m_MAXLINE\u001b[49m\u001b[43m \u001b[49m\u001b[43m+\u001b[49m\u001b[43m \u001b[49m\u001b[32;43m1\u001b[39;49m\u001b[43m)\u001b[49m, \u001b[33m\"\u001b[39m\u001b[33miso-8859-1\u001b[39m\u001b[33m\"\u001b[39m)\n\u001b[32m    293\u001b[39m     \u001b[38;5;28;01mif\u001b[39;00m \u001b[38;5;28mlen\u001b[39m(line) > _MAXLINE:\n\u001b[32m    294\u001b[39m         \u001b[38;5;28;01mraise\u001b[39;00m LineTooLong(\u001b[33m\"\u001b[39m\u001b[33mstatus line\u001b[39m\u001b[33m\"\u001b[39m)\n",
      "\u001b[36mFile \u001b[39m\u001b[32m/opt/homebrew/Cellar/python@3.12/3.12.11/Frameworks/Python.framework/Versions/3.12/lib/python3.12/socket.py:720\u001b[39m, in \u001b[36mSocketIO.readinto\u001b[39m\u001b[34m(self, b)\u001b[39m\n\u001b[32m    718\u001b[39m \u001b[38;5;28;01mwhile\u001b[39;00m \u001b[38;5;28;01mTrue\u001b[39;00m:\n\u001b[32m    719\u001b[39m     \u001b[38;5;28;01mtry\u001b[39;00m:\n\u001b[32m--> \u001b[39m\u001b[32m720\u001b[39m         \u001b[38;5;28;01mreturn\u001b[39;00m \u001b[38;5;28;43mself\u001b[39;49m\u001b[43m.\u001b[49m\u001b[43m_sock\u001b[49m\u001b[43m.\u001b[49m\u001b[43mrecv_into\u001b[49m\u001b[43m(\u001b[49m\u001b[43mb\u001b[49m\u001b[43m)\u001b[49m\n\u001b[32m    721\u001b[39m     \u001b[38;5;28;01mexcept\u001b[39;00m timeout:\n\u001b[32m    722\u001b[39m         \u001b[38;5;28mself\u001b[39m._timeout_occurred = \u001b[38;5;28;01mTrue\u001b[39;00m\n",
      "\u001b[36mFile \u001b[39m\u001b[32m/opt/homebrew/Cellar/python@3.12/3.12.11/Frameworks/Python.framework/Versions/3.12/lib/python3.12/ssl.py:1251\u001b[39m, in \u001b[36mSSLSocket.recv_into\u001b[39m\u001b[34m(self, buffer, nbytes, flags)\u001b[39m\n\u001b[32m   1247\u001b[39m     \u001b[38;5;28;01mif\u001b[39;00m flags != \u001b[32m0\u001b[39m:\n\u001b[32m   1248\u001b[39m         \u001b[38;5;28;01mraise\u001b[39;00m \u001b[38;5;167;01mValueError\u001b[39;00m(\n\u001b[32m   1249\u001b[39m           \u001b[33m\"\u001b[39m\u001b[33mnon-zero flags not allowed in calls to recv_into() on \u001b[39m\u001b[38;5;132;01m%s\u001b[39;00m\u001b[33m\"\u001b[39m %\n\u001b[32m   1250\u001b[39m           \u001b[38;5;28mself\u001b[39m.\u001b[34m__class__\u001b[39m)\n\u001b[32m-> \u001b[39m\u001b[32m1251\u001b[39m     \u001b[38;5;28;01mreturn\u001b[39;00m \u001b[38;5;28;43mself\u001b[39;49m\u001b[43m.\u001b[49m\u001b[43mread\u001b[49m\u001b[43m(\u001b[49m\u001b[43mnbytes\u001b[49m\u001b[43m,\u001b[49m\u001b[43m \u001b[49m\u001b[43mbuffer\u001b[49m\u001b[43m)\u001b[49m\n\u001b[32m   1252\u001b[39m \u001b[38;5;28;01melse\u001b[39;00m:\n\u001b[32m   1253\u001b[39m     \u001b[38;5;28;01mreturn\u001b[39;00m \u001b[38;5;28msuper\u001b[39m().recv_into(buffer, nbytes, flags)\n",
      "\u001b[36mFile \u001b[39m\u001b[32m/opt/homebrew/Cellar/python@3.12/3.12.11/Frameworks/Python.framework/Versions/3.12/lib/python3.12/ssl.py:1103\u001b[39m, in \u001b[36mSSLSocket.read\u001b[39m\u001b[34m(self, len, buffer)\u001b[39m\n\u001b[32m   1101\u001b[39m \u001b[38;5;28;01mtry\u001b[39;00m:\n\u001b[32m   1102\u001b[39m     \u001b[38;5;28;01mif\u001b[39;00m buffer \u001b[38;5;129;01mis\u001b[39;00m \u001b[38;5;129;01mnot\u001b[39;00m \u001b[38;5;28;01mNone\u001b[39;00m:\n\u001b[32m-> \u001b[39m\u001b[32m1103\u001b[39m         \u001b[38;5;28;01mreturn\u001b[39;00m \u001b[38;5;28;43mself\u001b[39;49m\u001b[43m.\u001b[49m\u001b[43m_sslobj\u001b[49m\u001b[43m.\u001b[49m\u001b[43mread\u001b[49m\u001b[43m(\u001b[49m\u001b[38;5;28;43mlen\u001b[39;49m\u001b[43m,\u001b[49m\u001b[43m \u001b[49m\u001b[43mbuffer\u001b[49m\u001b[43m)\u001b[49m\n\u001b[32m   1104\u001b[39m     \u001b[38;5;28;01melse\u001b[39;00m:\n\u001b[32m   1105\u001b[39m         \u001b[38;5;28;01mreturn\u001b[39;00m \u001b[38;5;28mself\u001b[39m._sslobj.read(\u001b[38;5;28mlen\u001b[39m)\n",
      "\u001b[31mKeyboardInterrupt\u001b[39m: "
     ]
    }
   ],
   "source": [
    "data = {\n",
    "    \"Tournament\": [],\n",
    "    \"Motion\": [],\n",
    "    \"Round\": [],\n",
    "    \"Info Slide\": [],\n",
    "\n",
    "    \"Prop wins\": [],\n",
    "    \"Opp wins\": [],\n",
    "    \"Balance\": [],\n",
    "}\n",
    "\n",
    "for subdomain, slug in calico_tabs:\n",
    "    calico_url = f\"https://{subdomain}.calicotab.com/{slug}\"\n",
    "\n",
    "    motions_suburl = f\"motions/statistics\"\n",
    "    motions_url = f\"{calico_url}/{motions_suburl}\"\n",
    "\n",
    "    response = requests.get(motions_url) \n",
    "    try: \n",
    "        assert response.status_code == 200, f\"Failed to fetch {motions_url}: {response.status_code}\"\n",
    "    except: \n",
    "        continue\n",
    "\n",
    "    html = response.text\n",
    "    soup = BeautifulSoup(html, 'html.parser')\n",
    "\n",
    "    try:\n",
    "        motion_divs = soup.find_all('div', class_=\"list-group mt-3\")\n",
    "        print(f\"Found {len(motion_divs)} motions from {slug}.\")\n",
    "\n",
    "        for start in tqdm(range(len(motion_divs))):\n",
    "            div = motion_divs[start]\n",
    "            motion, round, info_slide_text, prop_wins, opp_wins, balance = parse_motion(div)\n",
    "            \n",
    "\n",
    "            data[\"Motion\"].append(motion)\n",
    "            data[\"Round\"].append(round)\n",
    "            data[\"Info Slide\"].append(info_slide_text)\n",
    "            data[\"Prop wins\"].append(int(prop_wins))\n",
    "            data[\"Opp wins\"].append(int(opp_wins))\n",
    "            data[\"Balance\"].append(balance)\n",
    "            data[\"Tournament\"].append(slug)\n",
    "    except: \n",
    "        print(f'[WARN] could not parse motions for url: {calico_url}')"
   ]
  },
  {
   "cell_type": "code",
   "execution_count": 218,
   "id": "9783d60c",
   "metadata": {},
   "outputs": [
    {
     "data": {
      "text/html": [
       "<div>\n",
       "<style scoped>\n",
       "    .dataframe tbody tr th:only-of-type {\n",
       "        vertical-align: middle;\n",
       "    }\n",
       "\n",
       "    .dataframe tbody tr th {\n",
       "        vertical-align: top;\n",
       "    }\n",
       "\n",
       "    .dataframe thead th {\n",
       "        text-align: right;\n",
       "    }\n",
       "</style>\n",
       "<table border=\"1\" class=\"dataframe\">\n",
       "  <thead>\n",
       "    <tr style=\"text-align: right;\">\n",
       "      <th></th>\n",
       "      <th>Tournament</th>\n",
       "      <th>Motion</th>\n",
       "      <th>Round</th>\n",
       "      <th>Info Slide</th>\n",
       "      <th>Prop wins</th>\n",
       "      <th>Opp wins</th>\n",
       "      <th>Balance</th>\n",
       "    </tr>\n",
       "  </thead>\n",
       "  <tbody>\n",
       "    <tr>\n",
       "      <th>45</th>\n",
       "      <td>nordics2023</td>\n",
       "      <td>THBT the European Union should abolish the req...</td>\n",
       "      <td>Round 5</td>\n",
       "      <td>On issues considered sensitive to the EU (incl...</td>\n",
       "      <td>6</td>\n",
       "      <td>7</td>\n",
       "      <td>probably balanced</td>\n",
       "    </tr>\n",
       "    <tr>\n",
       "      <th>46</th>\n",
       "      <td>nordics2023</td>\n",
       "      <td>THR the expectation that committed romantic re...</td>\n",
       "      <td>Round 6</td>\n",
       "      <td>Just like a lot of you, we were very tired and...</td>\n",
       "      <td>10</td>\n",
       "      <td>3</td>\n",
       "      <td>imbalanced at 10% level</td>\n",
       "    </tr>\n",
       "    <tr>\n",
       "      <th>47</th>\n",
       "      <td>nordics2023</td>\n",
       "      <td>THR the aesthetisation of suffering</td>\n",
       "      <td>Quarterfinals</td>\n",
       "      <td>Aesthetisation is a depiction or glorification...</td>\n",
       "      <td>4</td>\n",
       "      <td>0</td>\n",
       "      <td>balance inconclusive</td>\n",
       "    </tr>\n",
       "    <tr>\n",
       "      <th>48</th>\n",
       "      <td>nordics2023</td>\n",
       "      <td>THBT criminal justice policy should be decided...</td>\n",
       "      <td>Semifinals</td>\n",
       "      <td>Technocrats are decision-makers who are select...</td>\n",
       "      <td>1</td>\n",
       "      <td>1</td>\n",
       "      <td>balance inconclusive</td>\n",
       "    </tr>\n",
       "    <tr>\n",
       "      <th>49</th>\n",
       "      <td>nordics2023</td>\n",
       "      <td>THR religious faith being predominantly experi...</td>\n",
       "      <td>Grand Final</td>\n",
       "      <td>None</td>\n",
       "      <td>1</td>\n",
       "      <td>0</td>\n",
       "      <td>balance inconclusive</td>\n",
       "    </tr>\n",
       "  </tbody>\n",
       "</table>\n",
       "</div>"
      ],
      "text/plain": [
       "     Tournament                                             Motion  \\\n",
       "45  nordics2023  THBT the European Union should abolish the req...   \n",
       "46  nordics2023  THR the expectation that committed romantic re...   \n",
       "47  nordics2023                THR the aesthetisation of suffering   \n",
       "48  nordics2023  THBT criminal justice policy should be decided...   \n",
       "49  nordics2023  THR religious faith being predominantly experi...   \n",
       "\n",
       "            Round                                         Info Slide  \\\n",
       "45        Round 5  On issues considered sensitive to the EU (incl...   \n",
       "46        Round 6  Just like a lot of you, we were very tired and...   \n",
       "47  Quarterfinals  Aesthetisation is a depiction or glorification...   \n",
       "48     Semifinals  Technocrats are decision-makers who are select...   \n",
       "49    Grand Final                                               None   \n",
       "\n",
       "    Prop wins  Opp wins                  Balance  \n",
       "45          6         7        probably balanced  \n",
       "46         10         3  imbalanced at 10% level  \n",
       "47          4         0     balance inconclusive  \n",
       "48          1         1     balance inconclusive  \n",
       "49          1         0     balance inconclusive  "
      ]
     },
     "execution_count": 218,
     "metadata": {},
     "output_type": "execute_result"
    }
   ],
   "source": [
    "df1 = pd.DataFrame(data)\n",
    "df1.tail()"
   ]
  },
  {
   "cell_type": "markdown",
   "id": "5c0a0cee",
   "metadata": {},
   "source": [
    "## Parse WSDC motions from .txt on GitHub\n",
    "https://github.com/tokyodebate/motions/blob/main/International/WSDC.txt"
   ]
  },
  {
   "cell_type": "code",
   "execution_count": 219,
   "id": "1baebf1c",
   "metadata": {},
   "outputs": [],
   "source": [
    "import requests\n",
    "\n",
    "url = 'https://raw.githubusercontent.com/tokyodebate/motions/refs/heads/main/International/WSDC.txt'\n",
    "\n",
    "response = requests.get(url)\n",
    "wsdc_motions_raw = response.text"
   ]
  },
  {
   "cell_type": "code",
   "execution_count": 220,
   "id": "c7090446",
   "metadata": {},
   "outputs": [],
   "source": [
    "def count_tabs(line: str):\n",
    "    \"\"\"\n",
    "    Count the number of tabs in a line.\n",
    "    \"\"\"\n",
    "    return line.count('\\t')"
   ]
  },
  {
   "cell_type": "code",
   "execution_count": 221,
   "id": "ff438367",
   "metadata": {},
   "outputs": [],
   "source": [
    "data2 = {\n",
    "    \"Tournament\": [],\n",
    "    \"Motion\": [],\n",
    "    \"Round\": [],\n",
    "    \"Info Slide\": [],\n",
    "\n",
    "    # \"Prop wins\": [],\n",
    "    # \"Opp wins\": [],\n",
    "    # \"Balance\": [],\n",
    "}\n",
    "\n",
    "def parse_wsdc_motions():\n",
    "    lines = wsdc_motions_raw.split('\\n')\n",
    "    lines = [line.strip('\\n') for line in lines]\n",
    "    lines = lines[1:] # Skip the header\n",
    "\n",
    "    tournament = None\n",
    "    round = None\n",
    "\n",
    "    for i in range(len(lines)):\n",
    "        curr = lines[i]\n",
    "\n",
    "        if count_tabs(curr) == 1: \n",
    "            tournament = curr.strip()\n",
    "        elif count_tabs(curr) == 2:\n",
    "            round = curr.strip()\n",
    "        elif count_tabs(curr) == 3:\n",
    "            next_line = lines[i+1] if i+1 < len(lines) else None\n",
    "            info_text = next_line.strip() if next_line and count_tabs(next_line) == 4 else None\n",
    "\n",
    "            motion = curr.strip()   \n",
    "            data2[\"Motion\"].append(motion)\n",
    "            data2[\"Round\"].append(round)\n",
    "            data2[\"Info Slide\"].append(info_text)\n",
    "            data2[\"Tournament\"].append(tournament)\n",
    "\n",
    "        else:\n",
    "            continue\n",
    "\n",
    "parse_wsdc_motions()"
   ]
  },
  {
   "cell_type": "code",
   "execution_count": 222,
   "id": "8fc6aba7",
   "metadata": {},
   "outputs": [
    {
     "data": {
      "text/plain": [
       "Tournament\n",
       "Netherlands WSDC 2022                                                           21\n",
       "WSDC Mexico 2020                                                                20\n",
       "24th World Schools Debating Championships 2012, South Africa                    13\n",
       "21st World Schools Debating Championships 2009 in Athens, Greece                13\n",
       "Vietnam WSDC 2023                                                               13\n",
       "30th World Schools Debating Championships 2018, Croatia and Slovenia            13\n",
       "29th World Schools Debating Championships 2017, Indonesia                       13\n",
       "28th World Schools Debating Championships 2016, Germany                         13\n",
       "27th World Schools Debating Championships 2015, Singapore                       13\n",
       "WSDC Thailand 2019                                                              13\n",
       "16th World Schools Debating Championships 2004 in Stuttgart, Germany            13\n",
       "15th World Schools Debating Championships 2003 in Lima, Peru                    13\n",
       "19th World Schools Debating Championships 2007 in Seoul, South Korea            13\n",
       "17th World Schools Debating Championships 2005 in Calgary, Canada               13\n",
       "18th World Schools Debating Championships 2006 in Cardiff, Wales                12\n",
       "13th World Schools Debating Championships 2001 in Johannesburg, South Africa    12\n",
       "14th World Schools Debating Championships 2002 in Singapore                     12\n",
       "20th World Schools Debating Championships 2008 in Washington DC, USA            12\n",
       "25th World Schools Debating Championships 2013, Turkey                          12\n",
       "11th World Schools Debating Championships 1999 in London, England               12\n",
       "23rd World Schools Debating Championships 2011, Dundee                          12\n",
       "22nd World Schools Debating Championships 2010, Doha                            12\n",
       "26th World Schools Debating Championships 2014, Thailand                        11\n",
       "WSDC Macau Online 2021                                                          11\n",
       "6th World Schools Debating Championships 1994 in New Zealand                     9\n",
       "9th World Schools Debating Championships 1997 in Bermuda                         5\n",
       "10th World Schools Debating Championships 1998 in Jerusalem, Israel              5\n",
       "12th World Schools Debating Championships 2000 in Pittsburgh, PA, USA            4\n",
       "Name: count, dtype: int64"
      ]
     },
     "execution_count": 222,
     "metadata": {},
     "output_type": "execute_result"
    }
   ],
   "source": [
    "df2 = pd.DataFrame(data2)\n",
    "df2.value_counts('Tournament')"
   ]
  },
  {
   "cell_type": "code",
   "execution_count": 223,
   "id": "b35b8646",
   "metadata": {},
   "outputs": [
    {
     "data": {
      "text/html": [
       "<div>\n",
       "<style scoped>\n",
       "    .dataframe tbody tr th:only-of-type {\n",
       "        vertical-align: middle;\n",
       "    }\n",
       "\n",
       "    .dataframe tbody tr th {\n",
       "        vertical-align: top;\n",
       "    }\n",
       "\n",
       "    .dataframe thead th {\n",
       "        text-align: right;\n",
       "    }\n",
       "</style>\n",
       "<table border=\"1\" class=\"dataframe\">\n",
       "  <thead>\n",
       "    <tr style=\"text-align: right;\">\n",
       "      <th></th>\n",
       "      <th>Tournament</th>\n",
       "      <th>Motion</th>\n",
       "      <th>Round</th>\n",
       "      <th>Info Slide</th>\n",
       "      <th>Prop wins</th>\n",
       "      <th>Opp wins</th>\n",
       "      <th>Balance</th>\n",
       "    </tr>\n",
       "  </thead>\n",
       "  <tbody>\n",
       "    <tr>\n",
       "      <th>0</th>\n",
       "      <td>NordicSDC2025</td>\n",
       "      <td>This House Supports gentle parenting becoming ...</td>\n",
       "      <td>Round 1</td>\n",
       "      <td>Gentle parenting is a parenting style that say...</td>\n",
       "      <td>16.0</td>\n",
       "      <td>1.0</td>\n",
       "      <td>imbalanced at 50% level</td>\n",
       "    </tr>\n",
       "    <tr>\n",
       "      <th>1</th>\n",
       "      <td>NordicSDC2025</td>\n",
       "      <td>THR the creation of the series and film industry</td>\n",
       "      <td>Round 2</td>\n",
       "      <td>None</td>\n",
       "      <td>13.0</td>\n",
       "      <td>1.0</td>\n",
       "      <td>probably balanced</td>\n",
       "    </tr>\n",
       "    <tr>\n",
       "      <th>2</th>\n",
       "      <td>NordicSDC2025</td>\n",
       "      <td>This House Believes That it is in the interest...</td>\n",
       "      <td>Round 3</td>\n",
       "      <td>Democratic backsliding is a process of regime ...</td>\n",
       "      <td>15.0</td>\n",
       "      <td>1.0</td>\n",
       "      <td>probably balanced</td>\n",
       "    </tr>\n",
       "    <tr>\n",
       "      <th>3</th>\n",
       "      <td>NordicSDC2025</td>\n",
       "      <td>This House Opposes the Globalization of the Ma...</td>\n",
       "      <td>Round 4</td>\n",
       "      <td>“Major European Football Leagues” include the ...</td>\n",
       "      <td>10.0</td>\n",
       "      <td>1.0</td>\n",
       "      <td>imbalanced at 50% level</td>\n",
       "    </tr>\n",
       "    <tr>\n",
       "      <th>4</th>\n",
       "      <td>NordicSDC2025</td>\n",
       "      <td>This House Would implement a weekly 'blackout ...</td>\n",
       "      <td>Round 5</td>\n",
       "      <td>A 'blackout day' refers to a day where all soc...</td>\n",
       "      <td>13.0</td>\n",
       "      <td>1.0</td>\n",
       "      <td>probably balanced</td>\n",
       "    </tr>\n",
       "  </tbody>\n",
       "</table>\n",
       "</div>"
      ],
      "text/plain": [
       "      Tournament                                             Motion    Round  \\\n",
       "0  NordicSDC2025  This House Supports gentle parenting becoming ...  Round 1   \n",
       "1  NordicSDC2025   THR the creation of the series and film industry  Round 2   \n",
       "2  NordicSDC2025  This House Believes That it is in the interest...  Round 3   \n",
       "3  NordicSDC2025  This House Opposes the Globalization of the Ma...  Round 4   \n",
       "4  NordicSDC2025  This House Would implement a weekly 'blackout ...  Round 5   \n",
       "\n",
       "                                          Info Slide  Prop wins  Opp wins  \\\n",
       "0  Gentle parenting is a parenting style that say...       16.0       1.0   \n",
       "1                                               None       13.0       1.0   \n",
       "2  Democratic backsliding is a process of regime ...       15.0       1.0   \n",
       "3  “Major European Football Leagues” include the ...       10.0       1.0   \n",
       "4  A 'blackout day' refers to a day where all soc...       13.0       1.0   \n",
       "\n",
       "                   Balance  \n",
       "0  imbalanced at 50% level  \n",
       "1        probably balanced  \n",
       "2        probably balanced  \n",
       "3  imbalanced at 50% level  \n",
       "4        probably balanced  "
      ]
     },
     "execution_count": 223,
     "metadata": {},
     "output_type": "execute_result"
    }
   ],
   "source": [
    "df = pd.concat([df1, df2], ignore_index=True)\n",
    "df.head()"
   ]
  },
  {
   "cell_type": "markdown",
   "id": "c02db928",
   "metadata": {},
   "source": [
    "## Data polishing "
   ]
  },
  {
   "cell_type": "code",
   "execution_count": 304,
   "id": "44a411f2",
   "metadata": {},
   "outputs": [],
   "source": [
    "df['Motion'] = df['Motion'].astype(\"string\")"
   ]
  },
  {
   "cell_type": "markdown",
   "id": "7863dc1c",
   "metadata": {},
   "source": [
    "### Duplicates"
   ]
  },
  {
   "cell_type": "code",
   "execution_count": 305,
   "id": "e1147aa9",
   "metadata": {},
   "outputs": [
    {
     "ename": "ValueError",
     "evalue": "Found 66 duplicates in the data. Please check the data for inconsistencies.",
     "output_type": "error",
     "traceback": [
      "\u001b[31m---------------------------------------------------------------------------\u001b[39m",
      "\u001b[31mValueError\u001b[39m                                Traceback (most recent call last)",
      "\u001b[36mCell\u001b[39m\u001b[36m \u001b[39m\u001b[32mIn[305]\u001b[39m\u001b[32m, line 6\u001b[39m\n\u001b[32m      3\u001b[39m duplicates = df[df.duplicated(subset=[\u001b[33m'\u001b[39m\u001b[33mMotion\u001b[39m\u001b[33m'\u001b[39m], keep=\u001b[38;5;28;01mFalse\u001b[39;00m)]\n\u001b[32m      5\u001b[39m \u001b[38;5;28;01mif\u001b[39;00m \u001b[38;5;28mlen\u001b[39m(duplicates) > \u001b[32m0\u001b[39m:\n\u001b[32m----> \u001b[39m\u001b[32m6\u001b[39m     \u001b[38;5;28;01mraise\u001b[39;00m \u001b[38;5;167;01mValueError\u001b[39;00m(\u001b[33mf\u001b[39m\u001b[33m\"\u001b[39m\u001b[33mFound \u001b[39m\u001b[38;5;132;01m{\u001b[39;00m\u001b[38;5;28mlen\u001b[39m(duplicates)\u001b[38;5;132;01m}\u001b[39;00m\u001b[33m duplicates in the data. Please check the data for inconsistencies.\u001b[39m\u001b[33m\"\u001b[39m)\n",
      "\u001b[31mValueError\u001b[39m: Found 66 duplicates in the data. Please check the data for inconsistencies."
     ]
    }
   ],
   "source": [
    "# check for duplicates on motion and round \n",
    "# motions can be duplicated (if same is used in two different rounds)\n",
    "duplicates = df[df.duplicated(subset=['Motion'], keep=False)]\n",
    "\n",
    "if len(duplicates) > 0:\n",
    "    raise ValueError(f\"Found {len(duplicates)} duplicates in the data. Please check the data for inconsistencies.\")"
   ]
  },
  {
   "cell_type": "markdown",
   "id": "c00a1090",
   "metadata": {},
   "source": [
    "### Tournament year"
   ]
  },
  {
   "cell_type": "code",
   "execution_count": 307,
   "id": "44c8fbce",
   "metadata": {},
   "outputs": [
    {
     "data": {
      "text/plain": [
       "Year\n",
       "2022.0    207\n",
       "2024.0    173\n",
       "2020.0    170\n",
       "2023.0    165\n",
       "2025.0    127\n",
       "2021.0    111\n",
       "2018.0     26\n",
       "2014.0     19\n",
       "Name: count, dtype: int64"
      ]
     },
     "execution_count": 307,
     "metadata": {},
     "output_type": "execute_result"
    }
   ],
   "source": [
    "def get_year(tournament: str):\n",
    "    pattern = re.compile(r'\\d{4}')\n",
    "    match = pattern.search(tournament)\n",
    "\n",
    "    if tournament == 'eurosdc-25':\n",
    "        return 2025\n",
    "\n",
    "    if match:\n",
    "        return int(match.group(0))\n",
    "    else:\n",
    "        return None\n",
    "\n",
    "df['Year'] = df['Tournament'].apply(get_year)\n",
    "df.value_counts('Year')"
   ]
  },
  {
   "cell_type": "markdown",
   "id": "7a358670",
   "metadata": {},
   "source": [
    "### Motion types"
   ]
  },
  {
   "cell_type": "code",
   "execution_count": 318,
   "id": "be4271dc",
   "metadata": {},
   "outputs": [],
   "source": [
    "def fix_motions(motion: str):\n",
    "    pattern = re.compile(r'(A|B|C)\\W ') #australs bs that adds A, B, C motion types\n",
    "\n",
    "    if match := re.match(pattern, motion): \n",
    "        motion = motion[match.span()[1]:]\n",
    "    \n",
    "\n",
    "    if motion == \"This House as the environmental movement would support the use of extremist tactics\":\n",
    "        return \"This House, as the environmental movement, would support the use of extremist tactics.\"\n",
    "    \n",
    "    if motion == \"TH, as the average 25 year old Romanian, would wait for their 'statistical soulmate'(josh is sad and lonely)\":\n",
    "        return motion.replace('would', \"W\")\n",
    "\n",
    "    if motion.startswith('That'):\n",
    "        motion = 'This House believes that' + motion[4:]\n",
    "    \n",
    "    return motion\n",
    "\n",
    "df['Motion'] = df['Motion'].apply(fix_motions)"
   ]
  },
  {
   "cell_type": "code",
   "execution_count": 319,
   "id": "7ba25024",
   "metadata": {},
   "outputs": [],
   "source": [
    "def extract_motion_header(motion: str): \n",
    "    # https://regex101.com/r/XB1k1w/1\n",
    "    pattern = re.compile(r\"(?:(T|t)his (h|H)ouse?|TH)[ ,]?(?:,.*?, )?(?P<type>\\w+)\\s?\")\n",
    "\n",
    "    match = re.search(pattern, motion)\n",
    "    return match"
   ]
  },
  {
   "cell_type": "code",
   "execution_count": 320,
   "id": "4b1a3021",
   "metadata": {},
   "outputs": [
    {
     "name": "stdout",
     "output_type": "stream",
     "text": [
      "Could not determine motion type for: Assuming an initial agreement is possible, that it is the interest of DA to include EFF in its (DA's) coalition for the 2024 election. [coalition]\n",
      "Could not determine motion type for:  That the US should attempt to aggressively contain China's capacity to build AI systems (e.g. by limiting China's ability to skill and retain computer scientists, attract US capital into Chinese AI companies, or access parts needed to build AI systems where the US has significant market share, such as semiconductors).\n",
      "Could not determine motion type for: Assuming the technology exists, that it is immoral to create simulated high-fidelity alternate universes.\n",
      "Could not determine motion type for:  That we support memory laws\n"
     ]
    }
   ],
   "source": [
    "full_to_abbr = {\n",
    "    'BT': \"believes\",\n",
    "    'B': \"believes\",\n",
    "    \"S\": \"supports\",\n",
    "    \"O\": \"opposes\",\n",
    "    \"W\": \"would\",\n",
    "    \"P\": \"prefers\",\n",
    "    \"R\": \"regrets\",\n",
    "}\n",
    "\n",
    "\n",
    "def get_motion_type(motion: str): \n",
    "    match = extract_motion_header(motion)\n",
    "\n",
    "    if match: \n",
    "        motion_type = match.group('type')\n",
    "        all_caps = all(map(str.isupper, motion_type))\n",
    "\n",
    "        if all_caps:\n",
    "            return f'{full_to_abbr[motion_type]}'\n",
    "        else: \n",
    "            return f'{motion_type.lower()}'\n",
    "    else:\n",
    "        print(f\"Could not determine motion type for: {motion}\")\n",
    "\n",
    "df[\"Motion Type\"] = df[\"Motion\"].apply(get_motion_type)"
   ]
  },
  {
   "cell_type": "markdown",
   "id": "73d5259c",
   "metadata": {},
   "source": [
    "## Vectorization\n",
    "NB! This step requires access to a Google Cloud project with billing enabled. If desired, you can sign up for a $300 free trial that will be plenty to cover the costs of vectorization.\n",
    "\n",
    "Alternatively, all vector space information is already included in the attached `motions.csv` file."
   ]
  },
  {
   "cell_type": "code",
   "execution_count": 157,
   "id": "2254af12",
   "metadata": {},
   "outputs": [
    {
     "name": "stdout",
     "output_type": "stream",
     "text": [
      "\u001b[33mWARNING: google-cloud-aiplatform 1.71.1 does not provide the extra 'all'\u001b[0m\u001b[33m\n",
      "\u001b[0m\n",
      "\u001b[1m[\u001b[0m\u001b[34;49mnotice\u001b[0m\u001b[1;39;49m]\u001b[0m\u001b[39;49m A new release of pip is available: \u001b[0m\u001b[31;49m25.0.1\u001b[0m\u001b[39;49m -> \u001b[0m\u001b[32;49m25.1.1\u001b[0m\n",
      "\u001b[1m[\u001b[0m\u001b[34;49mnotice\u001b[0m\u001b[1;39;49m]\u001b[0m\u001b[39;49m To update, run: \u001b[0m\u001b[32;49mpip install --upgrade pip\u001b[0m\n",
      "Note: you may need to restart the kernel to use updated packages.\n"
     ]
    }
   ],
   "source": [
    "%pip install --upgrade -q google-genai vertexai dotenv"
   ]
  },
  {
   "cell_type": "code",
   "execution_count": 158,
   "id": "de154ea8",
   "metadata": {},
   "outputs": [],
   "source": [
    "# only run this once\n",
    "# !gcloud auth application-default login"
   ]
  },
  {
   "cell_type": "code",
   "execution_count": 330,
   "id": "c5e8b3ab",
   "metadata": {},
   "outputs": [],
   "source": [
    "import vertexai\n",
    "from vertexai.language_models import TextEmbeddingModel\n",
    "from dotenv import load_dotenv\n",
    "import os\n",
    "\n",
    "load_dotenv()\n",
    "vertexai.init(project=os.environ['VERTEXAI_PROJECT_ID'])"
   ]
  },
  {
   "cell_type": "code",
   "execution_count": 333,
   "id": "93d24106",
   "metadata": {},
   "outputs": [],
   "source": [
    "def clean_motion(motion: str):\n",
    "    match = extract_motion_header(motion)\n",
    "\n",
    "    if match is None:\n",
    "        print(f'[WARN] No header found for motion: {motion}')\n",
    "        return motion\n",
    "\n",
    "    header_end = match.span()[1]\n",
    "    chopped = motion[header_end:].lower()\n",
    "\n",
    "    filler_words = ['that', 'the', 'it', 'is']\n",
    "\n",
    "    flag = True\n",
    "    while flag: \n",
    "        flag = False\n",
    "\n",
    "        for w in filler_words: \n",
    "            if chopped.startswith(w): \n",
    "                chopped = chopped.replace(w, '')\n",
    "                flag=True\n",
    "    \n",
    "    punctuations = ['.', ',' ';']\n",
    "    for p in punctuations: \n",
    "        chopped = chopped.replace(p, '')\n",
    "    return chopped\n"
   ]
  },
  {
   "cell_type": "code",
   "execution_count": 334,
   "id": "f57fd01f",
   "metadata": {},
   "outputs": [
    {
     "name": "stdout",
     "output_type": "stream",
     "text": [
      "[WARN] No header found for motion: Assuming an initial agreement is possible, that it is the interest of DA to include EFF in its (DA's) coalition for the 2024 election. [coalition]\n",
      "[WARN] No header found for motion:  That the US should attempt to aggressively contain China's capacity to build AI systems (e.g. by limiting China's ability to skill and retain computer scientists, attract US capital into Chinese AI companies, or access parts needed to build AI systems where the US has significant market share, such as semiconductors).\n",
      "[WARN] No header found for motion: Assuming the technology exists, that it is immoral to create simulated high-fidelity alternate universes.\n",
      "[WARN] No header found for motion:  That we support memory laws\n"
     ]
    },
    {
     "data": {
      "text/html": [
       "<div>\n",
       "<style scoped>\n",
       "    .dataframe tbody tr th:only-of-type {\n",
       "        vertical-align: middle;\n",
       "    }\n",
       "\n",
       "    .dataframe tbody tr th {\n",
       "        vertical-align: top;\n",
       "    }\n",
       "\n",
       "    .dataframe thead th {\n",
       "        text-align: right;\n",
       "    }\n",
       "</style>\n",
       "<table border=\"1\" class=\"dataframe\">\n",
       "  <thead>\n",
       "    <tr style=\"text-align: right;\">\n",
       "      <th></th>\n",
       "      <th>Motion</th>\n",
       "      <th>Info Slide</th>\n",
       "      <th>Tournament</th>\n",
       "      <th>Year</th>\n",
       "      <th>Motion Type</th>\n",
       "      <th>Motion (cleaned)</th>\n",
       "    </tr>\n",
       "  </thead>\n",
       "  <tbody>\n",
       "    <tr>\n",
       "      <th>0</th>\n",
       "      <td>This house prefers that progressive journalist...</td>\n",
       "      <td></td>\n",
       "      <td>hwsrr2025:_</td>\n",
       "      <td>2025.0</td>\n",
       "      <td>prefers</td>\n",
       "      <td>progressive journalists focus their efforts o...</td>\n",
       "    </tr>\n",
       "    <tr>\n",
       "      <th>1</th>\n",
       "      <td>This house regrets the Indian Premier League.</td>\n",
       "      <td>The Indian Premier League (IPL) is a domestic ...</td>\n",
       "      <td>hwsrr2025:_</td>\n",
       "      <td>2025.0</td>\n",
       "      <td>regrets</td>\n",
       "      <td>indian premier league</td>\n",
       "    </tr>\n",
       "    <tr>\n",
       "      <th>2</th>\n",
       "      <td>This house believes that breaking up large mea...</td>\n",
       "      <td></td>\n",
       "      <td>hwsrr2025:_</td>\n",
       "      <td>2025.0</td>\n",
       "      <td>believes</td>\n",
       "      <td>breaking up large meat companies is in the in...</td>\n",
       "    </tr>\n",
       "    <tr>\n",
       "      <th>3</th>\n",
       "      <td>This house prefers a world where genius only d...</td>\n",
       "      <td></td>\n",
       "      <td>hwsrr2025:_</td>\n",
       "      <td>2025.0</td>\n",
       "      <td>prefers</td>\n",
       "      <td>a world where genius only develops after adult...</td>\n",
       "    </tr>\n",
       "    <tr>\n",
       "      <th>4</th>\n",
       "      <td>This house believes that East African national...</td>\n",
       "      <td></td>\n",
       "      <td>hwsrr2025:_</td>\n",
       "      <td>2025.0</td>\n",
       "      <td>believes</td>\n",
       "      <td>east african national governments should prio...</td>\n",
       "    </tr>\n",
       "  </tbody>\n",
       "</table>\n",
       "</div>"
      ],
      "text/plain": [
       "                                              Motion  \\\n",
       "0  This house prefers that progressive journalist...   \n",
       "1      This house regrets the Indian Premier League.   \n",
       "2  This house believes that breaking up large mea...   \n",
       "3  This house prefers a world where genius only d...   \n",
       "4  This house believes that East African national...   \n",
       "\n",
       "                                          Info Slide   Tournament    Year  \\\n",
       "0                                                     hwsrr2025:_  2025.0   \n",
       "1  The Indian Premier League (IPL) is a domestic ...  hwsrr2025:_  2025.0   \n",
       "2                                                     hwsrr2025:_  2025.0   \n",
       "3                                                     hwsrr2025:_  2025.0   \n",
       "4                                                     hwsrr2025:_  2025.0   \n",
       "\n",
       "  Motion Type                                   Motion (cleaned)  \n",
       "0     prefers   progressive journalists focus their efforts o...  \n",
       "1     regrets                              indian premier league  \n",
       "2    believes   breaking up large meat companies is in the in...  \n",
       "3     prefers  a world where genius only develops after adult...  \n",
       "4    believes   east african national governments should prio...  "
      ]
     },
     "execution_count": 334,
     "metadata": {},
     "output_type": "execute_result"
    }
   ],
   "source": [
    "df['Motion (cleaned)'] = df['Motion'].map(clean_motion)\n",
    "df.head()"
   ]
  },
  {
   "cell_type": "code",
   "execution_count": null,
   "id": "5518b6d9",
   "metadata": {},
   "outputs": [],
   "source": [
    "from typing import Optional\n",
    "\n",
    "def embed(texts, output_dims: Optional[int] = None):\n",
    "  model_id = 'text-embedding-005'\n",
    "  # model_id = 'gemini-embedding-001'\n",
    "  model = TextEmbeddingModel.from_pretrained(model_id)\n",
    "  embeddings = model.get_embeddings(texts, output_dimensionality=output_dims)\n",
    "\n",
    "  return embeddings"
   ]
  },
  {
   "cell_type": "code",
   "execution_count": 340,
   "id": "8b4e06d5",
   "metadata": {},
   "outputs": [
    {
     "name": "stderr",
     "output_type": "stream",
     "text": [
      "100%|██████████| 11/11 [00:35<00:00,  3.18s/it]\n"
     ]
    }
   ],
   "source": [
    "# vertexai allows a max of 250 input elements at once\n",
    "chunk_size = 100\n",
    "\n",
    "for start in tqdm(range(0, len(df), chunk_size)):\n",
    "    end = start + chunk_size\n",
    "    motion_strings = df['Motion (cleaned)'].values[start:end]\n",
    "\n",
    "    embeddings = embed(list(motion_strings))\n",
    "    df.loc[start:end-1, 'Embedding'] = embeddings #NB! pandas uses an inclusive end index (hence the end-1)\n",
    "\n",
    "    # if start > 100:\n",
    "    #     break"
   ]
  },
  {
   "cell_type": "markdown",
   "id": "81abd180",
   "metadata": {},
   "source": [
    "## Save data locally"
   ]
  },
  {
   "cell_type": "code",
   "execution_count": 342,
   "id": "9a395aaf",
   "metadata": {},
   "outputs": [],
   "source": [
    "#TODO: maybe better to store each value in its own column? or just use a diff file format specifically for floats\n",
    "from vertexai.language_models import TextEmbedding\n",
    "\n",
    "df['Embedding'] = df['Embedding'].map(lambda e: e.values if isinstance(e, TextEmbedding) else None) #get only the numbers"
   ]
  },
  {
   "cell_type": "code",
   "execution_count": 344,
   "id": "b7c1318c",
   "metadata": {},
   "outputs": [],
   "source": [
    "import os\n",
    "\n",
    "data_dir = 'data'\n",
    "\n",
    "os.makedirs(data_dir, exist_ok=True)\n",
    "df.to_csv(os.path.join(data_dir, 'motions_bp.csv'))"
   ]
  },
  {
   "cell_type": "code",
   "execution_count": null,
   "id": "438dee3a",
   "metadata": {},
   "outputs": [],
   "source": []
  }
 ],
 "metadata": {
  "kernelspec": {
   "display_name": ".venv",
   "language": "python",
   "name": "python3"
  },
  "language_info": {
   "codemirror_mode": {
    "name": "ipython",
    "version": 3
   },
   "file_extension": ".py",
   "mimetype": "text/x-python",
   "name": "python",
   "nbconvert_exporter": "python",
   "pygments_lexer": "ipython3",
   "version": "3.12.11"
  }
 },
 "nbformat": 4,
 "nbformat_minor": 5
}
